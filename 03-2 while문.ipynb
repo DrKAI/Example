{
  "nbformat": 4,
  "nbformat_minor": 0,
  "metadata": {
    "colab": {
      "name": "03-2 while문.ipynb",
      "version": "0.3.2",
      "provenance": [],
      "collapsed_sections": [],
      "include_colab_link": true
    },
    "kernelspec": {
      "name": "python3",
      "display_name": "Python 3"
    }
  },
  "cells": [
    {
      "cell_type": "markdown",
      "metadata": {
        "id": "view-in-github",
        "colab_type": "text"
      },
      "source": [
        "<a href=\"https://colab.research.google.com/github/DrKAI/Example/blob/master/03-2%20while%EB%AC%B8.ipynb\" target=\"_parent\"><img src=\"https://colab.research.google.com/assets/colab-badge.svg\" alt=\"Open In Colab\"/></a>"
      ]
    },
    {
      "metadata": {
        "id": "xmoBmC7PfjNP",
        "colab_type": "text"
      },
      "cell_type": "markdown",
      "source": [
        "# while문의 기본 구조\n",
        "\n",
        "while <조건문>:\n",
        "\n",
        "     <수행할 문장1>\n",
        "     \n",
        "     <수행할 문장2>\n",
        "     \n",
        "     ..."
      ]
    },
    {
      "metadata": {
        "id": "rhmzWdhafmPM",
        "colab_type": "text"
      },
      "cell_type": "markdown",
      "source": [
        "while문은 조건문이 참인 동안, while문 아래에 속하는 문장들이 반복해서 수행된다.\n",
        "\n",
        " 10층짜리 건물의 꼭대기에 오르는 걸 while문으로 만들면 이럴 것이다."
      ]
    },
    {
      "metadata": {
        "id": "2ar9Bh4OfmSO",
        "colab_type": "code",
        "colab": {
          "base_uri": "https://localhost:8080/",
          "height": 215
        },
        "outputId": "fee3b5d5-2574-4fd7-a828-8120a95541f7"
      },
      "cell_type": "code",
      "source": [
        "floor = 0\n",
        "\n",
        "while floor < 10:\n",
        "  floor = floor+1\n",
        "  print (\"건물 %d층에 올라왔습니다.\" % floor)\n",
        "  \n",
        "  if floor == 10:\n",
        "    print (\"건물 옥상에 올라왔습니다.\")"
      ],
      "execution_count": 4,
      "outputs": [
        {
          "output_type": "stream",
          "text": [
            "건물 1층에 올라왔습니다.\n",
            "건물 2층에 올라왔습니다.\n",
            "건물 3층에 올라왔습니다.\n",
            "건물 4층에 올라왔습니다.\n",
            "건물 5층에 올라왔습니다.\n",
            "건물 6층에 올라왔습니다.\n",
            "건물 7층에 올라왔습니다.\n",
            "건물 8층에 올라왔습니다.\n",
            "건물 9층에 올라왔습니다.\n",
            "건물 10층에 올라왔습니다.\n",
            "건물 옥상에 올라왔습니다.\n"
          ],
          "name": "stdout"
        }
      ]
    },
    {
      "metadata": {
        "id": "z6jbCGtHfmU7",
        "colab_type": "text"
      },
      "cell_type": "markdown",
      "source": [
        "floor = floor+1 기법은 많이 사용된다. floor += 1로도 쓸 수 있다."
      ]
    },
    {
      "metadata": {
        "id": "3t6WP9ubhIeM",
        "colab_type": "text"
      },
      "cell_type": "markdown",
      "source": [
        "# while문 직접 만들기\n",
        "\n"
      ]
    },
    {
      "metadata": {
        "id": "RBLZP-0DfmXy",
        "colab_type": "code",
        "colab": {}
      },
      "cell_type": "code",
      "source": [
        "prompt = \"\"\"\n",
        "1. Add\n",
        "2. Del\n",
        "3. List\n",
        "4. Quit\n",
        "\n",
        "Enter Number : \"\"\""
      ],
      "execution_count": 0,
      "outputs": []
    },
    {
      "metadata": {
        "id": "gdcNgz82fmaz",
        "colab_type": "code",
        "colab": {
          "base_uri": "https://localhost:8080/",
          "height": 593
        },
        "outputId": "443a5889-9daf-4792-dc9f-17d6f8cb9fa1"
      },
      "cell_type": "code",
      "source": [
        "number = 0\n",
        "\n",
        "while number != 4:\n",
        "  print(prompt)\n",
        "  number = int(input())"
      ],
      "execution_count": 9,
      "outputs": [
        {
          "output_type": "stream",
          "text": [
            "\n",
            "1. Add\n",
            "2. Del\n",
            "3. List\n",
            "4. Quit\n",
            "\n",
            "Enter Number : \n",
            "3\n",
            "\n",
            "1. Add\n",
            "2. Del\n",
            "3. List\n",
            "4. Quit\n",
            "\n",
            "Enter Number : \n",
            "2\n",
            "\n",
            "1. Add\n",
            "2. Del\n",
            "3. List\n",
            "4. Quit\n",
            "\n",
            "Enter Number : \n",
            "1\n",
            "\n",
            "1. Add\n",
            "2. Del\n",
            "3. List\n",
            "4. Quit\n",
            "\n",
            "Enter Number : \n",
            "4\n"
          ],
          "name": "stdout"
        }
      ]
    },
    {
      "metadata": {
        "id": "cgbyd3Abfmdm",
        "colab_type": "text"
      },
      "cell_type": "markdown",
      "source": [
        "위의 코드는 number 값이 4가 아닌 동안에 prompt를 출력하고 사용자로부터 번호를 입력받는다.\n",
        "\n",
        "실행해서 값 4를 입력하지 않는다면, 계속해서 prompt를 출력한다."
      ]
    },
    {
      "metadata": {
        "id": "KbUzxHsxfmgM",
        "colab_type": "text"
      },
      "cell_type": "markdown",
      "source": [
        "# while문 강제로 빠져나가기\n",
        "\n",
        "break문"
      ]
    },
    {
      "metadata": {
        "id": "fwO5HLCofmjA",
        "colab_type": "code",
        "colab": {
          "base_uri": "https://localhost:8080/",
          "height": 395
        },
        "outputId": "1aa0907c-703b-4d61-84d7-9e523276e886"
      },
      "cell_type": "code",
      "source": [
        "coffee = 10\n",
        "money = 500\n",
        "\n",
        "while money:\n",
        "  print (\"돈을 넣었으니 커피를 드립니다.\")\n",
        "  \n",
        "  coffee -= 1\n",
        "  print (\"커피 잔여량은 %d개입니다.\" % coffee)\n",
        "  \n",
        "  if not coffee:\n",
        "    print (\"커피가 음서요. 장비를 정지합니다.\")\n",
        "    break"
      ],
      "execution_count": 10,
      "outputs": [
        {
          "output_type": "stream",
          "text": [
            "돈을 넣었으니 커피를 드립니다.\n",
            "커피 잔여량은 9개입니다.\n",
            "돈을 넣었으니 커피를 드립니다.\n",
            "커피 잔여량은 8개입니다.\n",
            "돈을 넣었으니 커피를 드립니다.\n",
            "커피 잔여량은 7개입니다.\n",
            "돈을 넣었으니 커피를 드립니다.\n",
            "커피 잔여량은 6개입니다.\n",
            "돈을 넣었으니 커피를 드립니다.\n",
            "커피 잔여량은 5개입니다.\n",
            "돈을 넣었으니 커피를 드립니다.\n",
            "커피 잔여량은 4개입니다.\n",
            "돈을 넣었으니 커피를 드립니다.\n",
            "커피 잔여량은 3개입니다.\n",
            "돈을 넣었으니 커피를 드립니다.\n",
            "커피 잔여량은 2개입니다.\n",
            "돈을 넣었으니 커피를 드립니다.\n",
            "커피 잔여량은 1개입니다.\n",
            "돈을 넣었으니 커피를 드립니다.\n",
            "커피 잔여량은 0개입니다.\n",
            "커피가 음서요. 장비를 정지합니다.\n"
          ],
          "name": "stdout"
        }
      ]
    },
    {
      "metadata": {
        "id": "TImU1hvafmlm",
        "colab_type": "text"
      },
      "cell_type": "markdown",
      "source": [
        "위의 코드에서 money는 300으로 고정되어 있다. 0이 아니기 때문에 while money:는 항상 참이게 된다.\n",
        "\n",
        "무한 루프를 돌게 되는 것을 coffee -= 1이 방지해 준다.\n",
        "\n",
        "coffee가 0이 되면, if not coffee: 라는 조건문에 의해 판매 중지 및 break문이 호출되어 while문을 빠져나온다."
      ]
    },
    {
      "metadata": {
        "id": "-eWXpf9RfmoM",
        "colab_type": "text"
      },
      "cell_type": "markdown",
      "source": [
        "## break문을 이용해 자판기 작동 과정을 상세하게 만들어보자\n",
        "\n",
        "실제 자판기는 위의 예처럼 간단하게 작동하지는 않을 것이다. 조금 더 상세하게 만들어보자."
      ]
    },
    {
      "metadata": {
        "id": "NSud7jUYfmrM",
        "colab_type": "code",
        "colab": {
          "base_uri": "https://localhost:8080/",
          "height": 503
        },
        "outputId": "688ac7d8-bbee-4505-fe4e-fdabb23039fe"
      },
      "cell_type": "code",
      "source": [
        "coffee = 10\n",
        "\n",
        "while True:\n",
        "  money = int(input(\"코인을 넣으세요 : \"))\n",
        "  \n",
        "  if money == 500:\n",
        "    print(\"싸구려 커피 한 캔 받으세요\")\n",
        "    coffee -= 1\n",
        "    \n",
        "  elif money > 500:\n",
        "    #print(\"싸구려 커피 한 캔하고 잔돈 %d 받으세영\" % money-500)\n",
        "    print(\"싸구려 커피 한 캔하고 잔돈 %d 받으세영\" % (money-500))\n",
        "    coffee -= 1\n",
        "    \n",
        "  else:\n",
        "    print(\"이 기계는 구려서 한 큐에 500원 이상 안 넣으면 돈 뱉습니당. 돈이나 가져가쇼\")\n",
        "    print(\"싸구려 커피는 현재 %d개 남아 있어요\" % coffee)\n",
        "    \n",
        "  if not coffee:\n",
        "    print(\"애석하게도 다 팔렸네요. 장비를 정지합니다 오홍홍\")\n",
        "    break"
      ],
      "execution_count": 20,
      "outputs": [
        {
          "output_type": "stream",
          "text": [
            "코인을 넣으세요 : 400\n",
            "이 기계는 구려서 한 큐에 500원 이상 안 넣으면 돈 뱉습니당. 돈이나 가져가쇼\n",
            "싸구려 커피는 현재 10개 남아 있어요\n",
            "코인을 넣으세요 : 500\n",
            "싸구려 커피 한 캔 받으세요\n",
            "코인을 넣으세요 : 600\n",
            "싸구려 커피 한 캔하고 잔돈 100 받으세영\n",
            "코인을 넣으세요 : 800\n",
            "싸구려 커피 한 캔하고 잔돈 300 받으세영\n",
            "코인을 넣으세요 : 400\n",
            "이 기계는 구려서 한 큐에 500원 이상 안 넣으면 돈 뱉습니당. 돈이나 가져가쇼\n",
            "싸구려 커피는 현재 7개 남아 있어요\n",
            "코인을 넣으세요 : 600\n",
            "싸구려 커피 한 캔하고 잔돈 100 받으세영\n",
            "코인을 넣으세요 : 15000000000\n",
            "싸구려 커피 한 캔하고 잔돈 14999999500 받으세영\n",
            "코인을 넣으세요 : 500\n",
            "싸구려 커피 한 캔 받으세요\n",
            "코인을 넣으세요 : 500\n",
            "싸구려 커피 한 캔 받으세요\n",
            "코인을 넣으세요 : 600\n",
            "싸구려 커피 한 캔하고 잔돈 100 받으세영\n",
            "코인을 넣으세요 : 800\n",
            "싸구려 커피 한 캔하고 잔돈 300 받으세영\n",
            "코인을 넣으세요 : 700\n",
            "싸구려 커피 한 캔하고 잔돈 200 받으세영\n",
            "애석하게도 다 팔렸네요. 장비를 정지합니다 오홍홍\n"
          ],
          "name": "stdout"
        }
      ]
    },
    {
      "metadata": {
        "id": "rhHake4Afmus",
        "colab_type": "text"
      },
      "cell_type": "markdown",
      "source": [
        "# 에디터에서 만든 프로그램 실행할 때 오류 발생한다면?\n",
        "\n",
        "파이썬 2.7 버전 사용 시, 소스 코드 가장 첫 번째 줄에 아래 코드 셀에서 사용한 문장을 넣어야 한다.\n",
        "\n",
        "파이썬 3 이상 버전 사용할 때의 오류라면 파일 인코딩 타입을 utf-8로 변경하라."
      ]
    },
    {
      "metadata": {
        "id": "EKiL14aqoWnu",
        "colab_type": "code",
        "colab": {}
      },
      "cell_type": "code",
      "source": [
        "# -*- coding: utf-8 -*-"
      ],
      "execution_count": 0,
      "outputs": []
    },
    {
      "metadata": {
        "id": "X4Z5Vw9TomXo",
        "colab_type": "text"
      },
      "cell_type": "markdown",
      "source": [
        "# while문의 처음으로 돌아가기\n",
        "\n",
        "continue문"
      ]
    },
    {
      "metadata": {
        "id": "XK2qUuN0oma0",
        "colab_type": "code",
        "colab": {}
      },
      "cell_type": "code",
      "source": [
        ""
      ],
      "execution_count": 0,
      "outputs": []
    },
    {
      "metadata": {
        "id": "fmY8xMklomdo",
        "colab_type": "text"
      },
      "cell_type": "markdown",
      "source": [
        "# 무한 루프\n",
        "\n",
        "파이썬에서의 무한 루프는 while문으로 구현할 수 있다."
      ]
    },
    {
      "metadata": {
        "id": "vt646O3momgZ",
        "colab_type": "code",
        "colab": {}
      },
      "cell_type": "code",
      "source": [
        ""
      ],
      "execution_count": 0,
      "outputs": []
    },
    {
      "metadata": {
        "id": "GS6LmvW2omjS",
        "colab_type": "text"
      },
      "cell_type": "markdown",
      "source": [
        "# 연습 문제"
      ]
    },
    {
      "metadata": {
        "id": "eDx-wZhioml2",
        "colab_type": "code",
        "colab": {}
      },
      "cell_type": "code",
      "source": [
        ""
      ],
      "execution_count": 0,
      "outputs": []
    }
  ]
}