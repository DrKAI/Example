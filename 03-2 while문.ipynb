{
  "nbformat": 4,
  "nbformat_minor": 0,
  "metadata": {
    "colab": {
      "name": "03-2 while문.ipynb",
      "version": "0.3.2",
      "provenance": [],
      "collapsed_sections": [],
      "include_colab_link": true
    },
    "kernelspec": {
      "name": "python3",
      "display_name": "Python 3"
    }
  },
  "cells": [
    {
      "cell_type": "markdown",
      "metadata": {
        "id": "view-in-github",
        "colab_type": "text"
      },
      "source": [
        "<a href=\"https://colab.research.google.com/github/DrKAI/Example/blob/master/03-2%20while%EB%AC%B8.ipynb\" target=\"_parent\"><img src=\"https://colab.research.google.com/assets/colab-badge.svg\" alt=\"Open In Colab\"/></a>"
      ]
    },
    {
      "metadata": {
        "id": "xmoBmC7PfjNP",
        "colab_type": "text"
      },
      "cell_type": "markdown",
      "source": [
        "# while문의 기본 구조\n",
        "\n",
        "while <조건문>:\n",
        "\n",
        "     <수행할 문장1>\n",
        "     \n",
        "     <수행할 문장2>\n",
        "     \n",
        "     ..."
      ]
    },
    {
      "metadata": {
        "id": "rhmzWdhafmPM",
        "colab_type": "text"
      },
      "cell_type": "markdown",
      "source": [
        "while문은 조건문이 참인 동안, while문 아래에 속하는 문장들이 반복해서 수행된다.\n",
        "\n",
        " 10층짜리 건물의 꼭대기에 오르는 걸 while문으로 만들면 이럴 것이다."
      ]
    },
    {
      "metadata": {
        "id": "2ar9Bh4OfmSO",
        "colab_type": "code",
        "outputId": "fee3b5d5-2574-4fd7-a828-8120a95541f7",
        "colab": {
          "base_uri": "https://localhost:8080/",
          "height": 215
        }
      },
      "cell_type": "code",
      "source": [
        "floor = 0\n",
        "\n",
        "while floor < 10:\n",
        "  floor = floor+1\n",
        "  print (\"건물 %d층에 올라왔습니다.\" % floor)\n",
        "  \n",
        "  if floor == 10:\n",
        "    print (\"건물 옥상에 올라왔습니다.\")"
      ],
      "execution_count": 0,
      "outputs": [
        {
          "output_type": "stream",
          "text": [
            "건물 1층에 올라왔습니다.\n",
            "건물 2층에 올라왔습니다.\n",
            "건물 3층에 올라왔습니다.\n",
            "건물 4층에 올라왔습니다.\n",
            "건물 5층에 올라왔습니다.\n",
            "건물 6층에 올라왔습니다.\n",
            "건물 7층에 올라왔습니다.\n",
            "건물 8층에 올라왔습니다.\n",
            "건물 9층에 올라왔습니다.\n",
            "건물 10층에 올라왔습니다.\n",
            "건물 옥상에 올라왔습니다.\n"
          ],
          "name": "stdout"
        }
      ]
    },
    {
      "metadata": {
        "id": "z6jbCGtHfmU7",
        "colab_type": "text"
      },
      "cell_type": "markdown",
      "source": [
        "floor = floor+1 기법은 많이 사용된다. floor += 1로도 쓸 수 있다."
      ]
    },
    {
      "metadata": {
        "id": "3t6WP9ubhIeM",
        "colab_type": "text"
      },
      "cell_type": "markdown",
      "source": [
        "# while문 직접 만들기\n",
        "\n"
      ]
    },
    {
      "metadata": {
        "id": "RBLZP-0DfmXy",
        "colab_type": "code",
        "colab": {}
      },
      "cell_type": "code",
      "source": [
        "prompt = \"\"\"\n",
        "1. Add\n",
        "2. Del\n",
        "3. List\n",
        "4. Quit\n",
        "\n",
        "Enter Number : \"\"\""
      ],
      "execution_count": 0,
      "outputs": []
    },
    {
      "metadata": {
        "id": "gdcNgz82fmaz",
        "colab_type": "code",
        "outputId": "443a5889-9daf-4792-dc9f-17d6f8cb9fa1",
        "colab": {
          "base_uri": "https://localhost:8080/",
          "height": 593
        }
      },
      "cell_type": "code",
      "source": [
        "number = 0\n",
        "\n",
        "while number != 4:\n",
        "  print(prompt)\n",
        "  number = int(input())"
      ],
      "execution_count": 0,
      "outputs": [
        {
          "output_type": "stream",
          "text": [
            "\n",
            "1. Add\n",
            "2. Del\n",
            "3. List\n",
            "4. Quit\n",
            "\n",
            "Enter Number : \n",
            "3\n",
            "\n",
            "1. Add\n",
            "2. Del\n",
            "3. List\n",
            "4. Quit\n",
            "\n",
            "Enter Number : \n",
            "2\n",
            "\n",
            "1. Add\n",
            "2. Del\n",
            "3. List\n",
            "4. Quit\n",
            "\n",
            "Enter Number : \n",
            "1\n",
            "\n",
            "1. Add\n",
            "2. Del\n",
            "3. List\n",
            "4. Quit\n",
            "\n",
            "Enter Number : \n",
            "4\n"
          ],
          "name": "stdout"
        }
      ]
    },
    {
      "metadata": {
        "id": "cgbyd3Abfmdm",
        "colab_type": "text"
      },
      "cell_type": "markdown",
      "source": [
        "위의 코드는 number 값이 4가 아닌 동안에 prompt를 출력하고 사용자로부터 번호를 입력받는다.\n",
        "\n",
        "실행해서 값 4를 입력하지 않는다면, 계속해서 prompt를 출력한다."
      ]
    },
    {
      "metadata": {
        "id": "KbUzxHsxfmgM",
        "colab_type": "text"
      },
      "cell_type": "markdown",
      "source": [
        "# while문 강제로 빠져나가기\n",
        "\n",
        "break문"
      ]
    },
    {
      "metadata": {
        "id": "fwO5HLCofmjA",
        "colab_type": "code",
        "outputId": "1aa0907c-703b-4d61-84d7-9e523276e886",
        "colab": {
          "base_uri": "https://localhost:8080/",
          "height": 395
        }
      },
      "cell_type": "code",
      "source": [
        "coffee = 10\n",
        "money = 500\n",
        "\n",
        "while money:\n",
        "  print (\"돈을 넣었으니 커피를 드립니다.\")\n",
        "  \n",
        "  coffee -= 1\n",
        "  print (\"커피 잔여량은 %d개입니다.\" % coffee)\n",
        "  \n",
        "  if not coffee:\n",
        "    print (\"커피가 음서요. 장비를 정지합니다.\")\n",
        "    break"
      ],
      "execution_count": 0,
      "outputs": [
        {
          "output_type": "stream",
          "text": [
            "돈을 넣었으니 커피를 드립니다.\n",
            "커피 잔여량은 9개입니다.\n",
            "돈을 넣었으니 커피를 드립니다.\n",
            "커피 잔여량은 8개입니다.\n",
            "돈을 넣었으니 커피를 드립니다.\n",
            "커피 잔여량은 7개입니다.\n",
            "돈을 넣었으니 커피를 드립니다.\n",
            "커피 잔여량은 6개입니다.\n",
            "돈을 넣었으니 커피를 드립니다.\n",
            "커피 잔여량은 5개입니다.\n",
            "돈을 넣었으니 커피를 드립니다.\n",
            "커피 잔여량은 4개입니다.\n",
            "돈을 넣었으니 커피를 드립니다.\n",
            "커피 잔여량은 3개입니다.\n",
            "돈을 넣었으니 커피를 드립니다.\n",
            "커피 잔여량은 2개입니다.\n",
            "돈을 넣었으니 커피를 드립니다.\n",
            "커피 잔여량은 1개입니다.\n",
            "돈을 넣었으니 커피를 드립니다.\n",
            "커피 잔여량은 0개입니다.\n",
            "커피가 음서요. 장비를 정지합니다.\n"
          ],
          "name": "stdout"
        }
      ]
    },
    {
      "metadata": {
        "id": "TImU1hvafmlm",
        "colab_type": "text"
      },
      "cell_type": "markdown",
      "source": [
        "위의 코드에서 money는 300으로 고정되어 있다. 0이 아니기 때문에 while money:는 항상 참이게 된다.\n",
        "\n",
        "무한 루프를 돌게 되는 것을 coffee -= 1이 방지해 준다.\n",
        "\n",
        "coffee가 0이 되면, if not coffee: 라는 조건문에 의해 판매 중지 및 break문이 호출되어 while문을 빠져나온다."
      ]
    },
    {
      "metadata": {
        "id": "-eWXpf9RfmoM",
        "colab_type": "text"
      },
      "cell_type": "markdown",
      "source": [
        "## break문을 이용해 자판기 작동 과정을 상세하게 만들어보자\n",
        "\n",
        "실제 자판기는 위의 예처럼 간단하게 작동하지는 않을 것이다. 조금 더 상세하게 만들어보자."
      ]
    },
    {
      "metadata": {
        "id": "NSud7jUYfmrM",
        "colab_type": "code",
        "outputId": "688ac7d8-bbee-4505-fe4e-fdabb23039fe",
        "colab": {
          "base_uri": "https://localhost:8080/",
          "height": 503
        }
      },
      "cell_type": "code",
      "source": [
        "coffee = 10\n",
        "\n",
        "while True:\n",
        "  money = int(input(\"코인을 넣으세요 : \"))\n",
        "  \n",
        "  if money == 500:\n",
        "    print(\"싸구려 커피 한 캔 받으세요\")\n",
        "    coffee -= 1\n",
        "    \n",
        "  elif money > 500:\n",
        "    #print(\"싸구려 커피 한 캔하고 잔돈 %d 받으세영\" % money-500)\n",
        "    print(\"싸구려 커피 한 캔하고 잔돈 %d 받으세영\" % (money-500))\n",
        "    coffee -= 1\n",
        "    \n",
        "  else:\n",
        "    print(\"이 기계는 구려서 한 큐에 500원 이상 안 넣으면 돈 뱉습니당. 돈이나 가져가쇼\")\n",
        "    print(\"싸구려 커피는 현재 %d개 남아 있어요\" % coffee)\n",
        "    \n",
        "  if not coffee:\n",
        "    print(\"애석하게도 다 팔렸네요. 장비를 정지합니다 오홍홍\")\n",
        "    break"
      ],
      "execution_count": 0,
      "outputs": [
        {
          "output_type": "stream",
          "text": [
            "코인을 넣으세요 : 400\n",
            "이 기계는 구려서 한 큐에 500원 이상 안 넣으면 돈 뱉습니당. 돈이나 가져가쇼\n",
            "싸구려 커피는 현재 10개 남아 있어요\n",
            "코인을 넣으세요 : 500\n",
            "싸구려 커피 한 캔 받으세요\n",
            "코인을 넣으세요 : 600\n",
            "싸구려 커피 한 캔하고 잔돈 100 받으세영\n",
            "코인을 넣으세요 : 800\n",
            "싸구려 커피 한 캔하고 잔돈 300 받으세영\n",
            "코인을 넣으세요 : 400\n",
            "이 기계는 구려서 한 큐에 500원 이상 안 넣으면 돈 뱉습니당. 돈이나 가져가쇼\n",
            "싸구려 커피는 현재 7개 남아 있어요\n",
            "코인을 넣으세요 : 600\n",
            "싸구려 커피 한 캔하고 잔돈 100 받으세영\n",
            "코인을 넣으세요 : 15000000000\n",
            "싸구려 커피 한 캔하고 잔돈 14999999500 받으세영\n",
            "코인을 넣으세요 : 500\n",
            "싸구려 커피 한 캔 받으세요\n",
            "코인을 넣으세요 : 500\n",
            "싸구려 커피 한 캔 받으세요\n",
            "코인을 넣으세요 : 600\n",
            "싸구려 커피 한 캔하고 잔돈 100 받으세영\n",
            "코인을 넣으세요 : 800\n",
            "싸구려 커피 한 캔하고 잔돈 300 받으세영\n",
            "코인을 넣으세요 : 700\n",
            "싸구려 커피 한 캔하고 잔돈 200 받으세영\n",
            "애석하게도 다 팔렸네요. 장비를 정지합니다 오홍홍\n"
          ],
          "name": "stdout"
        }
      ]
    },
    {
      "metadata": {
        "id": "rhHake4Afmus",
        "colab_type": "text"
      },
      "cell_type": "markdown",
      "source": [
        "# 에디터에서 만든 프로그램 실행할 때 오류 발생한다면?\n",
        "\n",
        "파이썬 2.7 버전 사용 시, 소스 코드 가장 첫 번째 줄에 아래 코드 셀에서 사용한 문장을 넣어야 한다.\n",
        "\n",
        "파이썬 3 이상 버전 사용할 때의 오류라면 파일 인코딩 타입을 utf-8로 변경하라."
      ]
    },
    {
      "metadata": {
        "id": "EKiL14aqoWnu",
        "colab_type": "code",
        "colab": {}
      },
      "cell_type": "code",
      "source": [
        "# -*- coding: utf-8 -*-"
      ],
      "execution_count": 0,
      "outputs": []
    },
    {
      "metadata": {
        "id": "X4Z5Vw9TomXo",
        "colab_type": "text"
      },
      "cell_type": "markdown",
      "source": [
        "# while문의 처음으로 돌아가기\n",
        "\n",
        "continue문 : 코딩을 하다보면 while문을 빠져나가지 않고 맨 처음으로 다시 돌아가게 만들고 싶은 경우가 발생한다. 이 때 사용한다."
      ]
    },
    {
      "metadata": {
        "id": "XK2qUuN0oma0",
        "colab_type": "code",
        "colab": {
          "base_uri": "https://localhost:8080/",
          "height": 107
        },
        "outputId": "68b41ccf-8360-44e1-cb4b-fee396cfde6e"
      },
      "cell_type": "code",
      "source": [
        "number = 0\n",
        "\n",
        "while number < 10:\n",
        "  number += 1\n",
        "  if number % 2 == 0: continue\n",
        "  print (number)"
      ],
      "execution_count": 1,
      "outputs": [
        {
          "output_type": "stream",
          "text": [
            "1\n",
            "3\n",
            "5\n",
            "7\n",
            "9\n"
          ],
          "name": "stdout"
        }
      ]
    },
    {
      "metadata": {
        "id": "JgAwx03MB1-i",
        "colab_type": "text"
      },
      "cell_type": "markdown",
      "source": [
        "위의 예시는 1에서 10까지의 숫자에서 홀수만 출력하는 코드이다.\n",
        "\n",
        "5번째 줄의 코드를 살펴보라. 2로 나누었을 때 나머지가 0인 것은 짝수일 때다. 짝수이면 continue문을 수행한다."
      ]
    },
    {
      "metadata": {
        "id": "fmY8xMklomdo",
        "colab_type": "text"
      },
      "cell_type": "markdown",
      "source": [
        "# 무한 루프\n",
        "\n",
        "파이썬에서의 무한 루프는 while문으로 구현할 수 있다. 아래의 예시를 보자."
      ]
    },
    {
      "metadata": {
        "id": "vt646O3momgZ",
        "colab_type": "code",
        "colab": {}
      },
      "cell_type": "code",
      "source": [
        "while True:\n",
        "  print (\"콜랍에서는 Ctrl+M+I를 눌러야 while문을 빠져나갈 수 있다!\")"
      ],
      "execution_count": 0,
      "outputs": []
    },
    {
      "metadata": {
        "id": "GS6LmvW2omjS",
        "colab_type": "text"
      },
      "cell_type": "markdown",
      "source": [
        "# 연습 문제"
      ]
    },
    {
      "metadata": {
        "id": "eDx-wZhioml2",
        "colab_type": "text"
      },
      "cell_type": "markdown",
      "source": [
        "## Q1. 1부터 100까지 더하기\n",
        "\n",
        "1부터 100까지의 자연수를 모두 더하고 그 결과를 출력하라."
      ]
    },
    {
      "metadata": {
        "id": "aKzNapLuDMls",
        "colab_type": "code",
        "colab": {
          "base_uri": "https://localhost:8080/",
          "height": 35
        },
        "outputId": "80d147e7-a11c-48c2-de6b-aaad95ecec58"
      },
      "cell_type": "code",
      "source": [
        "number1 = 0\n",
        "number2 = 0\n",
        "\n",
        "while number1 < 100:\n",
        "  number1 += 1\n",
        "  number2 += number1\n",
        "  \n",
        "  if number1 == 100:\n",
        "    print (number2)\n",
        "    break"
      ],
      "execution_count": 9,
      "outputs": [
        {
          "output_type": "stream",
          "text": [
            "5050\n"
          ],
          "name": "stdout"
        }
      ]
    },
    {
      "metadata": {
        "id": "-Oa-kzuIDMov",
        "colab_type": "text"
      },
      "cell_type": "markdown",
      "source": [
        "## Q2. 3의 배수의 합\n",
        "\n",
        "1부터 1000까지의 자연수 중 3의 배수의 합을 구하라."
      ]
    },
    {
      "metadata": {
        "id": "IyK2a2EADMre",
        "colab_type": "code",
        "colab": {
          "base_uri": "https://localhost:8080/",
          "height": 35
        },
        "outputId": "80faf448-0a3b-48d3-cee1-cc3ee5d34725"
      },
      "cell_type": "code",
      "source": [
        "num1 = 0\n",
        "num2 = 0\n",
        "\n",
        "while num1 < 1000:  \n",
        "  if num1 % 3 == 0:\n",
        "    num2 = num2 + num1\n",
        "  \n",
        "  num1 += 1\n",
        "  \n",
        "  if num1 == 1000:\n",
        "    print(num2)\n",
        "    break\n",
        "    "
      ],
      "execution_count": 22,
      "outputs": [
        {
          "output_type": "stream",
          "text": [
            "166833\n"
          ],
          "name": "stdout"
        }
      ]
    },
    {
      "metadata": {
        "id": "1WJQ_gTQE-MS",
        "colab_type": "text"
      },
      "cell_type": "markdown",
      "source": [
        "## Q3. 50점 이상의 총합\n",
        "\n",
        "A반 학생의 점수를 나타내는 리스트이다. 다음 리스트에서 50점 이상의 점수들의 총합을 구하라."
      ]
    },
    {
      "metadata": {
        "id": "1VJpQ4U0E-PE",
        "colab_type": "code",
        "colab": {}
      },
      "cell_type": "code",
      "source": [
        "A = [20, 55, 67, 82, 45, 33, 90, 87, 100, 25]\n",
        "\n",
        "while 50 < in A:\n",
        "  "
      ],
      "execution_count": 0,
      "outputs": []
    },
    {
      "metadata": {
        "id": "V8F3umM9E-Rq",
        "colab_type": "text"
      },
      "cell_type": "markdown",
      "source": [
        "## Q4. 별 표시하기 1\n",
        "\n",
        "while문을 이용하여 한 줄 당 하나씩 추가하는 방식으로 별을 표시하라."
      ]
    },
    {
      "metadata": {
        "id": "3ZlE6AvpE-Uf",
        "colab_type": "code",
        "colab": {
          "base_uri": "https://localhost:8080/",
          "height": 107
        },
        "outputId": "89535c9d-3fe2-407e-cdf8-e52c46d35768"
      },
      "cell_type": "code",
      "source": [
        "num1 = 1\n",
        "\n",
        "while num1 < 6:\n",
        "  print(\"*\" * num1)\n",
        "  num1 += 1"
      ],
      "execution_count": 24,
      "outputs": [
        {
          "output_type": "stream",
          "text": [
            "*\n",
            "**\n",
            "***\n",
            "****\n",
            "*****\n"
          ],
          "name": "stdout"
        }
      ]
    },
    {
      "metadata": {
        "id": "dnDegf1KDMuD",
        "colab_type": "text"
      },
      "cell_type": "markdown",
      "source": [
        "## Q5. 별 표시하기 2\n",
        "\n",
        "while문을 이용하여 역삼각형 꼴로 별을 표시하라."
      ]
    },
    {
      "metadata": {
        "id": "iAai5AW_L20W",
        "colab_type": "code",
        "colab": {
          "base_uri": "https://localhost:8080/",
          "height": 107
        },
        "outputId": "0c3ea03a-e402-4470-c517-ce1acb571f97"
      },
      "cell_type": "code",
      "source": [
        "star = 5\n",
        "space = \" \"\n",
        "\n",
        "while star > 0:\n",
        "  print(space + \"*\" * star + space)\n",
        "  star -= 1\n",
        "  space += \" \"\n",
        "  \n",
        "# 문제 잘못 봄. 홀수로 해야 짝이 맞을거 아냐ㅡㅡ;"
      ],
      "execution_count": 42,
      "outputs": [
        {
          "output_type": "stream",
          "text": [
            " ***** \n",
            "  ****  \n",
            "   ***   \n",
            "    **    \n",
            "     *     \n"
          ],
          "name": "stdout"
        }
      ]
    },
    {
      "metadata": {
        "id": "2hLSmT1qMWX2",
        "colab_type": "code",
        "colab": {
          "base_uri": "https://localhost:8080/",
          "height": 107
        },
        "outputId": "2146ad4c-3f51-4e4d-f3da-cefa1f5a9a06"
      },
      "cell_type": "code",
      "source": [
        "star = \"*\"\n",
        "space = \" \"\n",
        "num = 9\n",
        "\n",
        "while num > 0:\n",
        "  print(space + star * num)\n",
        "  space += \" \"\n",
        "  num -= 2\n",
        "  \n",
        "# space *= 2 했다간 아래로 갈수록 공백이 2배 됨."
      ],
      "execution_count": 43,
      "outputs": [
        {
          "output_type": "stream",
          "text": [
            " *********\n",
            "  *******\n",
            "   *****\n",
            "    ***\n",
            "     *\n"
          ],
          "name": "stdout"
        }
      ]
    }
  ]
}