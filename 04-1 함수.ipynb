{
  "nbformat": 4,
  "nbformat_minor": 0,
  "metadata": {
    "colab": {
      "name": "04-1 함수.ipynb",
      "version": "0.3.2",
      "provenance": [],
      "collapsed_sections": [],
      "include_colab_link": true
    },
    "kernelspec": {
      "name": "python3",
      "display_name": "Python 3"
    }
  },
  "cells": [
    {
      "cell_type": "markdown",
      "metadata": {
        "id": "view-in-github",
        "colab_type": "text"
      },
      "source": [
        "<a href=\"https://colab.research.google.com/github/DrKAI/Python-Basic/blob/master/04-1%20%ED%95%A8%EC%88%98.ipynb\" target=\"_parent\"><img src=\"https://colab.research.google.com/assets/colab-badge.svg\" alt=\"Open In Colab\"/></a>"
      ]
    },
    {
      "metadata": {
        "id": "qOWL47tZggb9",
        "colab_type": "text"
      },
      "cell_type": "markdown",
      "source": [
        "# 프로그램의 입력과 출력은 어떻게 해야 할까?\n",
        "\n",
        "입출력은 프로그래밍 설계와 관련이 있다. 프로그래머는 프로그램을 만들기 전에 어떤 식으로 동작할 것인지 설계부터 하게되는데 그 때 가장 중요한 부분이 바로 입출력의 설계이다.\n",
        "\n",
        "특정 프로그램만이 사용하는 함수를 만들 것인지 아니면 모든 프로그램이 공통으로 사용하는 함수를 만들 것인지, 더 나아가 오픈 API로 공개하여 외부 프로그램들도 사용할 수 있게 만들 것인지 그 모든 것이 입출력과 관련이 있다."
      ]
    },
    {
      "metadata": {
        "id": "PdsSl-IIiq4g",
        "colab_type": "text"
      },
      "cell_type": "markdown",
      "source": [
        "# 함수란 무엇인가?\n",
        "\n",
        "믹서기를 생각해 보자. 우리는 믹서기에 과일을 넣는다. 그리고 믹서기를 이용해서 과일을 갈아 주스를 만든다.\n",
        "\n",
        "우리가 배우려는 함수가 바로 믹서기와 비슷하다. 우리가 믹서기에 넣는 과일은 \"입력\"이 되고, 주스는 \"출력(결과값)\"이 된다. 입력값을 가지고 어떤 일을 수행한 다음에 그 결과물을 내어놓는 것, 이것이 바로 함수가 하는 일이다.\n",
        "\n",
        "y = 2x + 3라는 함수를 우리는 수학 시간에 직선 그래프로만 알고 있지, x에 어떤 값을 넣었을 때 어떤 변화에 의해서 y값이 나오는지 그 과정에 대해서는 별로 관심을 두지 않았을 것이다.\n",
        "\n",
        "이제 우리는 함수에 대해서 좀 더 생각해보는 시간을 가져야 한다."
      ]
    },
    {
      "metadata": {
        "id": "oQjdFewonSk6",
        "colab_type": "text"
      },
      "cell_type": "markdown",
      "source": [
        "# 함수를 사용하는 이유는 무엇일까?\n",
        "\n",
        "프로그래밍을 하다 보면 똑같은 내용을 반복해서 작성할 때가 있다. 이럴 때가 바로 함수가 필요한 때이다. **\"반복적으로 사용되는 가치있는 부분\"을 한 뭉치로 묶어서 \"어떤 입력값을 넣었을 때 어떤 결과값을 돌려준다\"라 작성하는 것이 현명하다.**\n",
        "\n",
        "함수를 사용해야 하는 다른 이유는 **프로그램을 함수화하면 프로그램의 흐름을 일목요연하게 볼 수 있기 때문**이다. 공장에서 원재료가 여러 공정을 거쳐 하나의 상품이 되는 것처럼 프로그램에서도 입력한 값이 여러 함수들을 거치면서 원하는 결과값을 내는 것을 볼 수 있다.\n",
        "\n",
        "함수를 잘 이용하고 함수를 적절하게 만들 줄 아는 사람이 능력 있는 프로그래머이다."
      ]
    },
    {
      "metadata": {
        "id": "KpFT2nyjpWlR",
        "colab_type": "text"
      },
      "cell_type": "markdown",
      "source": [
        "# 파이썬 함수의 구조"
      ]
    },
    {
      "metadata": {
        "id": "IzK60J2uirKy",
        "colab_type": "code",
        "colab": {}
      },
      "cell_type": "code",
      "source": [
        "def 함수명(매개변수):\n",
        "  <수행 문장1>\n",
        "  <수행 문장2>\n",
        "  <수행 문장n>"
      ],
      "execution_count": 0,
      "outputs": []
    },
    {
      "metadata": {
        "id": "-acELaIKirQN",
        "colab_type": "text"
      },
      "cell_type": "markdown",
      "source": [
        "def는 함수를 만들 때 사용하는 예약어이며, 함수명은 함수를 만드는 사람이 임의로 만들 수 있다.\n",
        "\n",
        "함수명 뒤 괄호 안의 **매개변수는 이 함수에 입력으로 전달되는 값을 받는 변수**이다.\n",
        "\n",
        "이렇게 함수를 정의한 다음 if, while, for문 등과 마찬가지로 함수에서 수행할 문장들을 입력한다. 아래의 예를 보자."
      ]
    },
    {
      "metadata": {
        "id": "4nhVSS_2p_3x",
        "colab_type": "code",
        "colab": {}
      },
      "cell_type": "code",
      "source": [
        "def add(a, b):\n",
        "  return a+b"
      ],
      "execution_count": 0,
      "outputs": []
    },
    {
      "metadata": {
        "id": "S2u5lDd0p_0r",
        "colab_type": "text"
      },
      "cell_type": "markdown",
      "source": [
        "위 함수는 다음과 같이 풀이된다.\n",
        "\n",
        "*\"이 함수의 이름(함수명)은 add이고 입력으로 2개의 값을 받으며, 결과값은 2개의 입력값을 더한 값이다.\"*\n",
        "\n",
        "여기서 return은 함수의 결과값을 돌려주는 명령어이다. add 함수를 만들고, 사용해보자."
      ]
    },
    {
      "metadata": {
        "id": "_zdn21cEp_xW",
        "colab_type": "code",
        "outputId": "ecdddeef-cfd9-4313-fab0-5b07a8ca50a3",
        "colab": {
          "base_uri": "https://localhost:8080/",
          "height": 34
        }
      },
      "cell_type": "code",
      "source": [
        "def add(a, b):\n",
        "  return a+b\n",
        "\n",
        "a = 3\n",
        "b = 4\n",
        "c = add(a, b)\n",
        "\n",
        "print (c)"
      ],
      "execution_count": 0,
      "outputs": [
        {
          "output_type": "stream",
          "text": [
            "7\n"
          ],
          "name": "stdout"
        }
      ]
    },
    {
      "metadata": {
        "id": "S4_h8n2OrovT",
        "colab_type": "text"
      },
      "cell_type": "markdown",
      "source": [
        "변수 a에 3, b에 4를 대입한 다음 앞서 만든 add함수에 a와 b를 입력값으로 넣어준다.\n",
        "\n",
        "그리고 변수 c에 add함수의 결과값을 대입하면 print(c)로 c의 값을 확인할 수 있다."
      ]
    },
    {
      "metadata": {
        "id": "o4P_0srTrNBo",
        "colab_type": "text"
      },
      "cell_type": "markdown",
      "source": [
        "# 매개변수와 인수\n",
        "\n",
        "매개변수(parameter)와 인수(arguments)는 혼용해서 사용되는 헷갈리는 용어이므로 잘 기억하자.\n",
        "\n",
        "**매개변수 : 함수에 입력으로 전달된 값을 받는 변수**\n",
        "\n",
        "**인수 : 함수를 호출할 때 전달하는 입력값**"
      ]
    },
    {
      "metadata": {
        "id": "9kWHzRoEp_t0",
        "colab_type": "code",
        "colab": {}
      },
      "cell_type": "code",
      "source": [
        "def add(a, b): # a, b는 매개변수\n",
        "  return a+b\n",
        "\n",
        "print (add(3,4)) # 3, 4는 인수"
      ],
      "execution_count": 0,
      "outputs": []
    },
    {
      "metadata": {
        "id": "3uTd8Aevp_qs",
        "colab_type": "text"
      },
      "cell_type": "markdown",
      "source": [
        "## 같은 의미를 가진 여러 용어들에 주의하라\n",
        "\n",
        "프로그래밍 공부할 때 힘든 부분 중 하나가 용어 혼용이다. 원서를 보기도 하고, 누군가의 번역본을 보기도 하면서 의미는 같지만 표현이 다른 용어를 접하게 될 것이다.\n",
        "\n",
        "입력값을 함수의 인수, 입력 인수 등으로 말하기도 하고, 결과값을 출력값, 리턴값, 돌려주는 값 등으로 말하기도 한다.\n",
        "\n",
        "이렇듯 각기 다른 말로 표현되지만 의미가 동일한 경우가 많다. 주의하자!"
      ]
    },
    {
      "metadata": {
        "id": "M3F8YeQHxUXm",
        "colab_type": "text"
      },
      "cell_type": "markdown",
      "source": [
        "# 입력값과 결과값에 따른 함수의 형태\n",
        "\n",
        "함수는 들어온 입력값을 받아 어떤 처리를 하여 적절한 결과값을 돌려준다.\n",
        "\n",
        "입력값 -> 함수 -> 결과값\n",
        "\n",
        "함수의 형태는 입력값과 결과값의 존재 유무에 따라 4가지 유형으로 나뉜다."
      ]
    },
    {
      "metadata": {
        "id": "tdLGggCZp_m0",
        "colab_type": "text"
      },
      "cell_type": "markdown",
      "source": [
        "## 일반적인 함수\n",
        "\n",
        "입력값이 있고 결과값이 있는 함수가 일반적인 함수이다. 형태와 예시를 보자."
      ]
    },
    {
      "metadata": {
        "id": "wSal9CpAx4z3",
        "colab_type": "code",
        "colab": {}
      },
      "cell_type": "code",
      "source": [
        "def 함수이름(매개변수):\n",
        "  <수행 문장1>\n",
        "  <수행 문장2>\n",
        "  ...\n",
        "  return 결과값"
      ],
      "execution_count": 0,
      "outputs": []
    },
    {
      "metadata": {
        "id": "0aJDEnmNyC3p",
        "colab_type": "code",
        "colab": {}
      },
      "cell_type": "code",
      "source": [
        "def add(a,b):\n",
        "  result = a+b\n",
        "  return result"
      ],
      "execution_count": 0,
      "outputs": []
    },
    {
      "metadata": {
        "id": "GXlOUifNyWdF",
        "colab_type": "text"
      },
      "cell_type": "markdown",
      "source": [
        "add 함수는 2개의 입력값을 받아서 서로 더한 결과값을 돌려준다.\n",
        "\n",
        "입력값으로 3과 4를 주고 결과값을 돌려받아 보자."
      ]
    },
    {
      "metadata": {
        "id": "Xg79khNeyqZ_",
        "colab_type": "code",
        "outputId": "8ce3d15b-74ff-4745-ee56-a58c1ee92dd3",
        "colab": {
          "base_uri": "https://localhost:8080/",
          "height": 34
        }
      },
      "cell_type": "code",
      "source": [
        "def add(a,b):\n",
        "  result = a+b\n",
        "  return result\n",
        "\n",
        "a = add(3, 4)\n",
        "print (a)"
      ],
      "execution_count": 0,
      "outputs": [
        {
          "output_type": "stream",
          "text": [
            "7\n"
          ],
          "name": "stdout"
        }
      ]
    },
    {
      "metadata": {
        "id": "xvsoZ3SjirU8",
        "colab_type": "text"
      },
      "cell_type": "markdown",
      "source": [
        "이처럼 입력값과 결과값이 있는 함수의 사용법을 정리하면 다음과 같다.\n",
        "\n",
        "**결과값을 받을 변수 = 함수명(입력 인수1, 입력 인수2, ...)**"
      ]
    },
    {
      "metadata": {
        "id": "9VvhM3w3zL2c",
        "colab_type": "text"
      },
      "cell_type": "markdown",
      "source": [
        "## 입력값이 없는 함수\n",
        "\n",
        "입력값이 없는 함수가 존재한다. 다음을 보자."
      ]
    },
    {
      "metadata": {
        "id": "9fQUH7JTzMBN",
        "colab_type": "code",
        "colab": {}
      },
      "cell_type": "code",
      "source": [
        "def say():\n",
        "  return 'Hi'"
      ],
      "execution_count": 0,
      "outputs": []
    },
    {
      "metadata": {
        "id": "p1incNqZ0Qd4",
        "colab_type": "text"
      },
      "cell_type": "markdown",
      "source": [
        "say라는 이름의 함수를 만들었다. 그런데 **매개변수 부분을 나타내는 함수명 뒤의 괄호 안이 비어있다.**\n",
        "\n",
        "다음을 직접 입력해보자."
      ]
    },
    {
      "metadata": {
        "id": "0aUgulPuzMd2",
        "colab_type": "code",
        "outputId": "51254792-740c-4cfc-e5cb-01041129ef02",
        "colab": {
          "base_uri": "https://localhost:8080/",
          "height": 34
        }
      },
      "cell_type": "code",
      "source": [
        "def say():\n",
        "  return 'Hi'\n",
        "\n",
        "a = say()\n",
        "print (a)"
      ],
      "execution_count": 0,
      "outputs": [
        {
          "output_type": "stream",
          "text": [
            "Hi\n"
          ],
          "name": "stdout"
        }
      ]
    },
    {
      "metadata": {
        "id": "vyBJrEqTzMj0",
        "colab_type": "text"
      },
      "cell_type": "markdown",
      "source": [
        "위의 함수를 사용하기 위해서는 say()처럼 괄호 안에 아무런 값도 넣지 않아야 한다.\n",
        "\n",
        "이 함수는 입력값은 없지만, 결과값으로 Hi라는 문자열을 돌려준다.\n",
        "\n",
        "a = say()처럼 작성하면 a에 Hi라는 문자열이 대입되는 것이다."
      ]
    },
    {
      "metadata": {
        "id": "TJ5m6-dZ1HY8",
        "colab_type": "text"
      },
      "cell_type": "markdown",
      "source": [
        "이처럼 입력값이 없고 결과값만 있는 함수는 다음과 같이 사용된다.\n",
        "\n",
        "**결과값을 받을 변수 = 함수명()**"
      ]
    },
    {
      "metadata": {
        "id": "WuYy5RqA1E1d",
        "colab_type": "text"
      },
      "cell_type": "markdown",
      "source": [
        "## 결과값이 없는 함수\n",
        "\n",
        "결과값이 없는 함수 역시 존재한다. 다음을 보자."
      ]
    },
    {
      "metadata": {
        "id": "0rSFn2lk1E-d",
        "colab_type": "code",
        "colab": {}
      },
      "cell_type": "code",
      "source": [
        "def add(a,b):\n",
        "  print(\"%d, %d의 합은 %d이에오.\" % (a,b,a+b))"
      ],
      "execution_count": 0,
      "outputs": []
    },
    {
      "metadata": {
        "id": "KZM_iMho1FQa",
        "colab_type": "text"
      },
      "cell_type": "markdown",
      "source": [
        "결과값이 없는 함수는 호출해도 돌려주는 값이 없기 때문에 다음과 같이 사용한다."
      ]
    },
    {
      "metadata": {
        "id": "oAfWj2hr1FNQ",
        "colab_type": "code",
        "outputId": "0c7df44c-3dfc-4815-c157-50456b86307e",
        "colab": {
          "base_uri": "https://localhost:8080/",
          "height": 34
        }
      },
      "cell_type": "code",
      "source": [
        "def add(a,b):\n",
        "  print(\"%d, %d의 합은 %d이에오.\" % (a,b,a+b))\n",
        "  \n",
        "add (10, 100)"
      ],
      "execution_count": 0,
      "outputs": [
        {
          "output_type": "stream",
          "text": [
            "10, 100의 합은 110이에오.\n"
          ],
          "name": "stdout"
        }
      ]
    },
    {
      "metadata": {
        "id": "PbymdohQ1FI1",
        "colab_type": "text"
      },
      "cell_type": "markdown",
      "source": [
        "즉, 결과값이 없는 함수는 다음과 같이 사용된다.\n",
        "\n",
        "**함수명(입력 인수1, 입력 인수2, ...)**"
      ]
    },
    {
      "metadata": {
        "id": "NiRJnM2T1FFe",
        "colab_type": "text"
      },
      "cell_type": "markdown",
      "source": [
        "아마도 \"10, 100의 합은 110이에오.\"라는 문장을 출력했는데, 어째서 결과값이 없다는 것인지 의아할 것이다. 이 부분이 초보자들이 혼란스러워하는 부분이다.\n",
        "\n",
        "print문은 함수 구성 요소에서 <수행 문장>에 해당되는 부분일 뿐이다. 결과값은 당연히 없다.\n",
        "\n",
        "**결과값은 오로지 return 명령어로만 돌려받을 수 있다.** 확인해보자."
      ]
    },
    {
      "metadata": {
        "id": "zXZMRrTU1E7h",
        "colab_type": "code",
        "outputId": "df9096af-34ab-407f-e9f9-21c3b5a433b2",
        "colab": {
          "base_uri": "https://localhost:8080/",
          "height": 51
        }
      },
      "cell_type": "code",
      "source": [
        "b = add(10, 100)\n",
        "print(b)\n",
        "\n",
        "# 왜 None만 출력되는게 아니라 수행문장 print도 같이 출력되는지???"
      ],
      "execution_count": 0,
      "outputs": [
        {
          "output_type": "stream",
          "text": [
            "10, 100의 합은 110이에오.\n",
            "None\n"
          ],
          "name": "stdout"
        }
      ]
    },
    {
      "metadata": {
        "id": "Ry2ym54WzL83",
        "colab_type": "text"
      },
      "cell_type": "markdown",
      "source": [
        "b의 값은 None이다. **None이란 거짓을 나타내는 자료형**이라고 설명했었다.\n",
        "\n",
        "add 함수처럼 결과값이 없을 때 *a = add(3,4)*처럼 쓰게 되면 함수는 add 리턴값으로 a 변수에 None을 돌려준다.\n",
        "\n",
        "이를 결과값이 있다고 생각하면 곤란하다."
      ]
    },
    {
      "metadata": {
        "id": "si6QUX5y6OzB",
        "colab_type": "text"
      },
      "cell_type": "markdown",
      "source": [
        "## 입력값도 결과값도 없는 함수"
      ]
    },
    {
      "metadata": {
        "id": "spQhqjjC6OZ7",
        "colab_type": "code",
        "colab": {}
      },
      "cell_type": "code",
      "source": [
        "def say():\n",
        "  print('Hi')"
      ],
      "execution_count": 0,
      "outputs": []
    },
    {
      "metadata": {
        "id": "1mQ9ZQ6k6OV9",
        "colab_type": "text"
      },
      "cell_type": "markdown",
      "source": [
        " 입력 인수를 받는 매개변수도 없고 return문도 없으니 입력값도 결과값도 없는 함수이다.\n",
        " \n",
        " 이 함수를 사용하는 방법은 단 하나이다."
      ]
    },
    {
      "metadata": {
        "id": "RKgNcQyw6OSu",
        "colab_type": "code",
        "outputId": "8fd29c1f-7f43-4c1a-a6cc-9a42ffd917d5",
        "colab": {
          "base_uri": "https://localhost:8080/",
          "height": 34
        }
      },
      "cell_type": "code",
      "source": [
        "def say():\n",
        "  print('Hi')\n",
        "  \n",
        "say()"
      ],
      "execution_count": 0,
      "outputs": [
        {
          "output_type": "stream",
          "text": [
            "Hi\n"
          ],
          "name": "stdout"
        }
      ]
    },
    {
      "metadata": {
        "id": "I76jLHrp6OPL",
        "colab_type": "text"
      },
      "cell_type": "markdown",
      "source": [
        "즉, 입력값도 결과값도 없는 함수는 **함수명()**으로 사용한다."
      ]
    },
    {
      "metadata": {
        "id": "sxvpCWO96OLP",
        "colab_type": "text"
      },
      "cell_type": "markdown",
      "source": [
        "# 매개변수 지정하여 호출하기\n",
        "\n",
        "함수를 호출할 때 매개변수를 지정하여 호출할 수도 있다. 다음의 예를 보자."
      ]
    },
    {
      "metadata": {
        "id": "zVt2Qje38xTw",
        "colab_type": "code",
        "colab": {}
      },
      "cell_type": "code",
      "source": [
        "def add(a,b):\n",
        "  return a+b"
      ],
      "execution_count": 0,
      "outputs": []
    },
    {
      "metadata": {
        "id": "ci8OFtIS8xQf",
        "colab_type": "text"
      },
      "cell_type": "markdown",
      "source": [
        "앞서 알아보았던 add 함수이다. 이 함수를 다음과 같이 매개변수를 지정하여 사용할 수 있다."
      ]
    },
    {
      "metadata": {
        "id": "SzJlCu-98xNb",
        "colab_type": "code",
        "outputId": "be1cb72a-5a40-483f-a869-bd1216db583a",
        "colab": {
          "base_uri": "https://localhost:8080/",
          "height": 51
        }
      },
      "cell_type": "code",
      "source": [
        "def add(a,b):\n",
        "  return a+b\n",
        "\n",
        "result = add(a=3, b=7) # a에 3, b에 7을 전달\n",
        "print(result)\n",
        "\n",
        "result2 = add(b=10, a=1000) # b에 10, a에 1000\n",
        "print(result2)"
      ],
      "execution_count": 0,
      "outputs": [
        {
          "output_type": "stream",
          "text": [
            "10\n",
            "1010\n"
          ],
          "name": "stdout"
        }
      ]
    },
    {
      "metadata": {
        "id": "V_Xp_YdJ8xKJ",
        "colab_type": "text"
      },
      "cell_type": "markdown",
      "source": [
        "result2는 좀 특이하지 않나?\n",
        "\n",
        "매개변수를 지정하면 result2처럼 순서에 상관없이 사용할 수 있다는 장점이 있다."
      ]
    },
    {
      "metadata": {
        "id": "XLKfe8bM-cLr",
        "colab_type": "text"
      },
      "cell_type": "markdown",
      "source": [
        "# 입력값이 몇 개가 될 지 모를 때는 어떻게 해야 할까?\n",
        "\n",
        "입력값이 여러 개일 때 그 입력값들을 모두 더해주는 함수를 생각해보자.\n",
        "\n",
        "하지만, **몇 개가 입력될 지 모를 때는 어떻게 해야할까?**\n",
        "\n",
        "파이썬은 이런 문제를 해결하기 위해 다음과 같은 방법을 제공한다."
      ]
    },
    {
      "metadata": {
        "id": "HJ1lwU3x8xHA",
        "colab_type": "code",
        "outputId": "004c420d-d143-4a01-9528-2a88ecf5efe3",
        "colab": {
          "base_uri": "https://localhost:8080/",
          "height": 131
        }
      },
      "cell_type": "code",
      "source": [
        "def 함수이름(*매개변수):\n",
        "  <수행 문장1>\n",
        "  <수행 문장2>\n",
        "  ..."
      ],
      "execution_count": 0,
      "outputs": [
        {
          "output_type": "error",
          "ename": "SyntaxError",
          "evalue": "ignored",
          "traceback": [
            "\u001b[0;36m  File \u001b[0;32m\"<ipython-input-28-2f048c1756cb>\"\u001b[0;36m, line \u001b[0;32m2\u001b[0m\n\u001b[0;31m    <수행 문장1>\u001b[0m\n\u001b[0m    ^\u001b[0m\n\u001b[0;31mSyntaxError\u001b[0m\u001b[0;31m:\u001b[0m invalid syntax\n"
          ]
        }
      ]
    },
    {
      "metadata": {
        "id": "617qW9U8_Wzq",
        "colab_type": "text"
      },
      "cell_type": "markdown",
      "source": [
        "일반적으로 볼 수 있는 함수 형태에서 괄호 안의 매개변수 부분이 **매개변수*로 바뀌었다.\n",
        "\n",
        "아래의 예를 통해 여러 개의 입력값을 모두 더하는 함수를 직접 만들어보자.\n",
        "\n",
        "add_many(1, 2)면 3을, add_many(1, 10, 100)면 111을, add_many(1, 2, 3, 4)면 10을 돌려주는 함수를 만들어보자."
      ]
    },
    {
      "metadata": {
        "id": "UpyRvEO68xDK",
        "colab_type": "code",
        "colab": {}
      },
      "cell_type": "code",
      "source": [
        "def add_many(*args):\n",
        "  result = 0 \n",
        "  for i in args:\n",
        "    result += i\n",
        "  return result"
      ],
      "execution_count": 0,
      "outputs": []
    },
    {
      "metadata": {
        "id": "X-6ZWkT48oRl",
        "colab_type": "text"
      },
      "cell_type": "markdown",
      "source": [
        "위에서 만든 add_many 함수는 입력값이 몇 개이든 상관이 없다.\n",
        "\n",
        "**args*처럼  매개변수 앞에 * 을 붙이면 입력값들을 전부 모아서 튜플로 만들어 주기 때문이다.\n",
        "\n",
        "만약 add_many(1, 2, 3)처럼 이 함수를 쓰면 args는 (1, 2, 3)이 되고, add_many(1, 10, 100)처럼 쓰면 args는 (1, 10, 100)이 된다."
      ]
    },
    {
      "metadata": {
        "id": "2W4rkw2HBJc0",
        "colab_type": "text"
      },
      "cell_type": "markdown",
      "source": [
        "여기서 ** *args는 arguments의 약자이며 관례적으로 자주 사용되기에 임의로 정한 변수명이다. 아무 이름이나 써도 된다!**\n",
        "\n",
        "실제로 이 함수를 직접 입력해보자."
      ]
    },
    {
      "metadata": {
        "id": "MrEQraFIBJZZ",
        "colab_type": "code",
        "outputId": "bc76b5d6-5c4c-4333-c07f-df0a4086ebb0",
        "colab": {
          "base_uri": "https://localhost:8080/",
          "height": 51
        }
      },
      "cell_type": "code",
      "source": [
        "def add_many(*args):\n",
        "  result = 0 \n",
        "  for i in args:\n",
        "    result += i\n",
        "  return result\n",
        "\n",
        "result1 = add_many(1, 2, 3)\n",
        "print(result1)\n",
        "\n",
        "result2 = add_many(1, 10, 100)\n",
        "print(result2)"
      ],
      "execution_count": 0,
      "outputs": [
        {
          "output_type": "stream",
          "text": [
            "6\n",
            "111\n"
          ],
          "name": "stdout"
        }
      ]
    },
    {
      "metadata": {
        "id": "w-9zY7DiBJV9",
        "colab_type": "text"
      },
      "cell_type": "markdown",
      "source": [
        "각각 호출하면 리턴값이 다른 걸 볼 수 있다.\n",
        "\n",
        "여러 개 입력을 처리할 때 def add_many(**args*) 처럼 함수의 매개변수로 * * *args만 단독으로 사용할 수 있는 것은 아니다. 아래의 예를 보자."
      ]
    },
    {
      "metadata": {
        "id": "g_aYcWUnBJSH",
        "colab_type": "code",
        "colab": {}
      },
      "cell_type": "code",
      "source": [
        "def add_mul(choice, *args):\n",
        "  if chocie == \"add\":\n",
        "    result = 0\n",
        "    for i in args:\n",
        "      result += i\n",
        "      \n",
        "  elif choice == \"mul\":\n",
        "    result = 1\n",
        "    for i in args:\n",
        "      result += i\n",
        "      \n",
        "  return result"
      ],
      "execution_count": 0,
      "outputs": []
    },
    {
      "metadata": {
        "id": "Kzfx-NHPBJOH",
        "colab_type": "text"
      },
      "cell_type": "markdown",
      "source": [
        "add_mul 함수는 여러 개의 입력값을 의미하는 **args* 매개변수 앞에 choice 매개변수가 추가되어있다.\n",
        "\n",
        "이 함수는 아래와 같이 사용할 수 있다."
      ]
    },
    {
      "metadata": {
        "id": "xFLka3-HBJKW",
        "colab_type": "code",
        "outputId": "1932703f-65ba-43ba-d58f-8d225168dcc4",
        "colab": {
          "base_uri": "https://localhost:8080/",
          "height": 51
        }
      },
      "cell_type": "code",
      "source": [
        "def add_mul(choice, *args):\n",
        "  if choice == \"add\":\n",
        "    result = 0\n",
        "    for i in args:\n",
        "      result += i\n",
        "      \n",
        "  elif choice == \"mul\":\n",
        "    result = 1\n",
        "    for i in args:\n",
        "      result *= i\n",
        "      \n",
        "  return result\n",
        "\n",
        "result1 = add_mul('add', 1, 10, 100)\n",
        "print(result1)\n",
        "\n",
        "result2 = add_mul('mul', 1, 10, 100)\n",
        "print(result2)"
      ],
      "execution_count": 0,
      "outputs": [
        {
          "output_type": "stream",
          "text": [
            "111\n",
            "1000\n"
          ],
          "name": "stdout"
        }
      ]
    },
    {
      "metadata": {
        "id": "qGmUTtzUBJFk",
        "colab_type": "text"
      },
      "cell_type": "markdown",
      "source": [
        "매개변수 choice에 'add'가 입력된 경우 **args*에 입력되는 모든 값을 더해서 111을 돌려준다.\n",
        "\n",
        "'mul'이 입력된 경우, **args*에 입력되는 모든 값을 곱해서 1000을 돌려준다."
      ]
    },
    {
      "metadata": {
        "id": "7zSMM1xbI2Ch",
        "colab_type": "text"
      },
      "cell_type": "markdown",
      "source": [
        "## 키워드 파라미터 kwargs\n",
        "\n",
        "***kwargs*에 대해 알아보자. keyword arguments의 약어이다. 이것은 별 표시(*)가 두 개 사용된다."
      ]
    },
    {
      "metadata": {
        "id": "e36fnmVgI1-f",
        "colab_type": "code",
        "colab": {}
      },
      "cell_type": "code",
      "source": [
        "def print_kwargs(**kwargs):\n",
        "  print(kwargs)"
      ],
      "execution_count": 0,
      "outputs": []
    },
    {
      "metadata": {
        "id": "Vqm5zct4I16y",
        "colab_type": "text"
      },
      "cell_type": "markdown",
      "source": [
        "위의 함수는 매개변수 kwargs를 출력하는 함수이다. 그리고 이 함수를 아래와 같이 사용해보자."
      ]
    },
    {
      "metadata": {
        "id": "9TdFYhX0I13D",
        "colab_type": "code",
        "outputId": "49539496-e665-4d34-b473-52883b4b4ee3",
        "colab": {
          "base_uri": "https://localhost:8080/",
          "height": 51
        }
      },
      "cell_type": "code",
      "source": [
        "def print_kwargs(**kwargs):\n",
        "  print(kwargs)\n",
        "  \n",
        "print_kwargs(a=1)\n",
        "\n",
        "print_kwargs(name='foo', age=3)"
      ],
      "execution_count": 0,
      "outputs": [
        {
          "output_type": "stream",
          "text": [
            "{'a': 1}\n",
            "{'name': 'foo', 'age': 3}\n"
          ],
          "name": "stdout"
        }
      ]
    },
    {
      "metadata": {
        "id": "bMs_eGGFI1yq",
        "colab_type": "text"
      },
      "cell_type": "markdown",
      "source": [
        "a=1, name='foo', age=3 이라는 입력이 모두 딕셔너리로 만드러져 출력된다는 것을 확인할 수 있다.\n",
        "\n",
        "즉, ***kwargs*처럼 매개변수명 앞에 별 표시를 두 개 붙이면 매개변수 kwargs는 딕셔너리가 되고, 모든 key=value 형태의 입력인수가 그 딕셔너리에 저장된다."
      ]
    },
    {
      "metadata": {
        "id": "RAZ8DStpI1uU",
        "colab_type": "text"
      },
      "cell_type": "markdown",
      "source": [
        "# 함수의 결과값은 언제나 하나이다 "
      ]
    },
    {
      "metadata": {
        "id": "wvOcUMSxI1qw",
        "colab_type": "code",
        "colab": {}
      },
      "cell_type": "code",
      "source": [
        "def add_and_mul(a,b):\n",
        "  return a+b, a*b"
      ],
      "execution_count": 0,
      "outputs": []
    },
    {
      "metadata": {
        "id": "wnSJS3NoJ_vv",
        "colab_type": "text"
      },
      "cell_type": "markdown",
      "source": [
        "위의 add_and_mul 함수는 2개의 입력 인수를 받아 더한 값과 곱한 값을 돌려주는 함수이다. 호출해보자."
      ]
    },
    {
      "metadata": {
        "id": "t3tS6R-FI1nM",
        "colab_type": "code",
        "outputId": "9343c03e-e7b7-41b0-c6c1-377c9cf2799e",
        "colab": {
          "base_uri": "https://localhost:8080/",
          "height": 34
        }
      },
      "cell_type": "code",
      "source": [
        "def add_and_mul(a,b):\n",
        "  return a+b, a*b\n",
        "\n",
        "result = add_and_mul(3, 5)\n",
        "print(result)"
      ],
      "execution_count": 0,
      "outputs": [
        {
          "output_type": "stream",
          "text": [
            "(8, 15)\n"
          ],
          "name": "stdout"
        }
      ]
    },
    {
      "metadata": {
        "id": "oybDEjvtI1jq",
        "colab_type": "text"
      },
      "cell_type": "markdown",
      "source": [
        "결과값은 a+b, aXb 2개인데 결과값을 받아들이는 변수는 result 하나만 쓰였으니 오류가 발생하지 않을까?\n",
        "\n",
        "하지만 오류는 발생하지 않는다. 그 이유는 함수의 결과값은 2개가 아니라 언제나 1개여서이다.\n",
        "\n",
        "add_and_mul 함수의 결과값 a+b와 aXb는 튜플값 하나인 (a+b, aXb)로 돌려준다.\n",
        "\n",
        "따라서 result 변수는 위처럼 결과값으로 (8, 15)라는 튜플 갖게 된다."
      ]
    },
    {
      "metadata": {
        "id": "qZ0AFoHcI1e7",
        "colab_type": "text"
      },
      "cell_type": "markdown",
      "source": [
        "만약 이 하나의 튜플값을 2개의 결과값처럼 받고 싶다면 아래와 같이 함수를 호출하면 된다."
      ]
    },
    {
      "metadata": {
        "id": "2nC5wJguMcRv",
        "colab_type": "code",
        "outputId": "a454cf51-b055-48e6-ea8e-14afe16028aa",
        "colab": {
          "base_uri": "https://localhost:8080/",
          "height": 51
        }
      },
      "cell_type": "code",
      "source": [
        "def add_and_mul(a,b):\n",
        "  return a+b, a*b\n",
        "\n",
        "result1, result2 = add_and_mul(3, 5)\n",
        "print(result1)\n",
        "print(result2)"
      ],
      "execution_count": 0,
      "outputs": [
        {
          "output_type": "stream",
          "text": [
            "8\n",
            "15\n"
          ],
          "name": "stdout"
        }
      ]
    },
    {
      "metadata": {
        "id": "nPyKnyXWMkTI",
        "colab_type": "text"
      },
      "cell_type": "markdown",
      "source": [
        "또 다른 의문이 발생할 수 있다. 아래의 예시를 보자."
      ]
    },
    {
      "metadata": {
        "id": "sds-by8HMraD",
        "colab_type": "code",
        "colab": {}
      },
      "cell_type": "code",
      "source": [
        "def add_and_mul(a,b):\n",
        "  return a+b\n",
        "  return a*b"
      ],
      "execution_count": 0,
      "outputs": []
    },
    {
      "metadata": {
        "id": "G0WRChToMrWR",
        "colab_type": "text"
      },
      "cell_type": "markdown",
      "source": [
        "위와 같이 return문을 2번 사용하면 2개의 결과값을 돌려주지 않을까?\n",
        "\n",
        "하지만 우리가 사용하는 파이썬에서 이같은 함수는 참 어리석은 것이다. 호출해보자."
      ]
    },
    {
      "metadata": {
        "id": "4H4maTCTMrSU",
        "colab_type": "code",
        "outputId": "718ee241-680f-4582-c84e-dcf9a4b07c83",
        "colab": {
          "base_uri": "https://localhost:8080/",
          "height": 34
        }
      },
      "cell_type": "code",
      "source": [
        "def add_and_mul(a,b):\n",
        "  return a+b\n",
        "  return a*b\n",
        "\n",
        "result = add_and_mul(3,6)\n",
        "print(result)"
      ],
      "execution_count": 0,
      "outputs": [
        {
          "output_type": "stream",
          "text": [
            "9\n"
          ],
          "name": "stdout"
        }
      ]
    },
    {
      "metadata": {
        "id": "-ZDgMocXMrOi",
        "colab_type": "code",
        "outputId": "1d688f3e-0cb5-4671-c322-996dea987b15",
        "colab": {
          "base_uri": "https://localhost:8080/",
          "height": 34
        }
      },
      "cell_type": "code",
      "source": [
        "def add_and_mul(a,b):\n",
        "  return a*b\n",
        "  return a+b\n",
        "\n",
        "result = add_and_mul(3,6)\n",
        "print(result)"
      ],
      "execution_count": 0,
      "outputs": [
        {
          "output_type": "stream",
          "text": [
            "18\n"
          ],
          "name": "stdout"
        }
      ]
    },
    {
      "metadata": {
        "id": "NfBT74JDMrKg",
        "colab_type": "text"
      },
      "cell_type": "markdown",
      "source": [
        "두 번의 실행 결과에서 확인할 수 있듯, 두 번째 return문은 실행되지 않는다.\n",
        "\n",
        "따라서 위의 두 함수는 다음과 완전히 동일하다."
      ]
    },
    {
      "metadata": {
        "id": "ox8ZDFMEMrF2",
        "colab_type": "code",
        "outputId": "44c43575-5549-4b0d-d590-b8dd13e3b8ab",
        "colab": {
          "base_uri": "https://localhost:8080/",
          "height": 34
        }
      },
      "cell_type": "code",
      "source": [
        "def add_and_mul(a,b):\n",
        "  return a+b\n",
        "\n",
        "result = add_and_mul(3,6)\n",
        "print(result)"
      ],
      "execution_count": 0,
      "outputs": [
        {
          "output_type": "stream",
          "text": [
            "9\n"
          ],
          "name": "stdout"
        }
      ]
    },
    {
      "metadata": {
        "id": "DfuC473bMrCB",
        "colab_type": "code",
        "outputId": "d77d8c85-d039-49c7-c330-4134ff74fa7b",
        "colab": {
          "base_uri": "https://localhost:8080/",
          "height": 34
        }
      },
      "cell_type": "code",
      "source": [
        "def add_and_mul(a,b):\n",
        "  return a*b\n",
        "\n",
        "result = add_and_mul(3,6)\n",
        "print(result)"
      ],
      "execution_count": 0,
      "outputs": [
        {
          "output_type": "stream",
          "text": [
            "18\n"
          ],
          "name": "stdout"
        }
      ]
    },
    {
      "metadata": {
        "id": "oG3pAEInMq9i",
        "colab_type": "text"
      },
      "cell_type": "markdown",
      "source": [
        "**함수는 return문을 만나는 순간 결과값을 돌려준 다음 함수를 빠져나가게 된다!**"
      ]
    },
    {
      "metadata": {
        "id": "9K8KL9H7OKmU",
        "colab_type": "text"
      },
      "cell_type": "markdown",
      "source": [
        "## return의 또 다른 쓰임새\n",
        "\n",
        "어떤 특별한 상황이 되어 함수를 빠져나가고자 할 때, return을 단독으로 써서 함수를 즉시 빠져나올수 있다."
      ]
    },
    {
      "metadata": {
        "id": "Q3hwNb_qMq4o",
        "colab_type": "code",
        "colab": {}
      },
      "cell_type": "code",
      "source": [
        "def say_dick(dick):\n",
        "  if dick == '바보':\n",
        "    return\n",
        "  \n",
        "  print(\"나의 별명은 %s란다.\" % dick)"
      ],
      "execution_count": 0,
      "outputs": []
    },
    {
      "metadata": {
        "id": "l7icIZvlOV6o",
        "colab_type": "text"
      },
      "cell_type": "markdown",
      "source": [
        "위의 함수는 \"별명\"을 입력으로 전달받아 출력하는 함수이다. 이 함수 역시 리턴값은 없다.\n",
        "\n",
        "*문자열을 출력한다는 것과 리턴값이 있다는 것은 전혀 다른 말이니 혼동하지 말자!*\n",
        "\n",
        "**함수의 리턴값은 오로지 return문에 의해서만 생성된다.**"
      ]
    },
    {
      "metadata": {
        "id": "0ei5kVjuPS1o",
        "colab_type": "text"
      },
      "cell_type": "markdown",
      "source": [
        "만약에 입력값으로 '바보'라는 값이 들어오면 문자열을 출력하지 않고 함수를 즉시 빠져나간다.\n",
        "\n",
        "return으로 함수를 빠져나가는 방법은 실제로 자주 사용된다."
      ]
    },
    {
      "metadata": {
        "id": "2DsL9qfTOV2Z",
        "colab_type": "code",
        "outputId": "48dd77e0-a64e-4c0a-a36d-4b6dd634ab3b",
        "colab": {
          "base_uri": "https://localhost:8080/",
          "height": 34
        }
      },
      "cell_type": "code",
      "source": [
        "def say_dick(dick):\n",
        "  if dick == '바보':\n",
        "    return\n",
        "  \n",
        "  print(\"나의 별명은 %s란다.\" % dick)\n",
        "\n",
        "say_dick(\"임마!\")\n",
        "say_dick('바보')"
      ],
      "execution_count": 0,
      "outputs": [
        {
          "output_type": "stream",
          "text": [
            "나의 별명은 임마!란다.\n"
          ],
          "name": "stdout"
        }
      ]
    },
    {
      "metadata": {
        "id": "E1wbCcTGOVyR",
        "colab_type": "text"
      },
      "cell_type": "markdown",
      "source": [
        "# 매개변수에 초깃값 미리 설정하기\n",
        "\n",
        "지금까지와 조금 다른 형태로 함수에 인수를 전달하는 방법을 알아보자.\n",
        "\n",
        "매개변수에 초깃값을 미리 설정해주는 경우다."
      ]
    },
    {
      "metadata": {
        "id": "4vucRX2tP5iK",
        "colab_type": "code",
        "colab": {}
      },
      "cell_type": "code",
      "source": [
        "def say_myself(name, old, man=True):\n",
        "  print(\"나의 이름은 %s다.\" % name)\n",
        "  print(\"내 나이는 %d살이다.\" % old)\n",
        "  \n",
        "  if man:\n",
        "    print(\"수컷입니다.\")\n",
        "  else:\n",
        "    print(\"수컷이 아닙니다.\")"
      ],
      "execution_count": 0,
      "outputs": []
    },
    {
      "metadata": {
        "id": "rqLNOobwOVuE",
        "colab_type": "text"
      },
      "cell_type": "markdown",
      "source": [
        "위의 say_myself 함수는 3개의 입력 인수를 받아서 \n",
        "\n",
        "마지막 인수인 man이 True면 \"수컷입니다.\", False면 \"수컷이 아닙니다.\"를 출력한다."
      ]
    },
    {
      "metadata": {
        "id": "Uvbb0xaSOVpx",
        "colab_type": "text"
      },
      "cell_type": "markdown",
      "source": [
        "위의 함수는 매개변수가 name, old, man=True 이렇게 3개다. 좀 낯선 부분이 있지 않나? \n",
        "\n",
        "man=True 처럼 매개변수에 미리 값을 넣어놓은 것이다. 이것이 매개변수 초깃값을 설정해놓은 것이다.\n",
        "\n",
        "함수의 매개변수에 전달되는 값이 항상 변하는 것이 아닐 경우에는 초깃값을 미리 설정해두면 유용하다."
      ]
    },
    {
      "metadata": {
        "id": "3WM9wZqxR5TP",
        "colab_type": "code",
        "outputId": "18e717d2-e7af-4094-fecb-feeb39119846",
        "colab": {
          "base_uri": "https://localhost:8080/",
          "height": 120
        }
      },
      "cell_type": "code",
      "source": [
        "def say_myself(name, old, man=True):\n",
        "  print(\"나의 이름은 %s다.\" % name)\n",
        "  print(\"내 나이는 %d살이다.\" % old)\n",
        "  \n",
        "  if man:\n",
        "    print(\"수컷입니다.\")\n",
        "  else:\n",
        "    print(\"수컷이 아닙니다.\")\n",
        "    \n",
        "    \n",
        "say_myself(\"이희성\", 42)\n",
        "say_myself(\"이희성\", 42, True)"
      ],
      "execution_count": 0,
      "outputs": [
        {
          "output_type": "stream",
          "text": [
            "나의 이름은 이희성다.\n",
            "내 나이는 42살이다.\n",
            "수컷입니다.\n",
            "나의 이름은 이희성다.\n",
            "내 나이는 42살이다.\n",
            "수컷입니다.\n"
          ],
          "name": "stdout"
        }
      ]
    },
    {
      "metadata": {
        "id": "WGiEYyNeR6mQ",
        "colab_type": "text"
      },
      "cell_type": "markdown",
      "source": [
        "처음 함수를 실행할 때 입력값으로 \"이희성1\", 42를 주면 name에는 \"이희성1\", old에는 42가 전달된다.\n",
        "\n",
        "그리고 man이라는 변수에 입력값을 따로 주지 않았지만 초깃값인 True를 갖게 된다.\n",
        "\n",
        "따라서, 위의 예에서 함수를 사용한 두 방법은 모두 동일한 결과를 출력한다.\n",
        "\n",
        "이번엔 초깃값 설정 부분을 False로 바꿔보자. 결과가 다르게 나올 것이다."
      ]
    },
    {
      "metadata": {
        "id": "Hmj74dhMR5Oq",
        "colab_type": "code",
        "outputId": "90e04999-d639-4e51-9936-c7b15e494661",
        "colab": {
          "base_uri": "https://localhost:8080/",
          "height": 68
        }
      },
      "cell_type": "code",
      "source": [
        "def say_myself(name, old, man=True):\n",
        "  print(\"나의 이름은 %s다.\" % name)\n",
        "  print(\"내 나이는 %d살이다.\" % old)\n",
        "  \n",
        "  if man:\n",
        "    print(\"수컷입니다.\")\n",
        "  else:\n",
        "    print(\"수컷이 아닙니다.\")\n",
        "    \n",
        "    \n",
        "say_myself(\"이희성\", 42, False)"
      ],
      "execution_count": 0,
      "outputs": [
        {
          "output_type": "stream",
          "text": [
            "나의 이름은 이희성다.\n",
            "내 나이는 42살이다.\n",
            "수컷이 아닙니다.\n"
          ],
          "name": "stdout"
        }
      ]
    },
    {
      "metadata": {
        "id": "M9qUH3Y9R5Iw",
        "colab_type": "text"
      },
      "cell_type": "markdown",
      "source": [
        "**함수의 매개변수에 초깃값을 설정할 때 주의할 것이 하나 있다!**"
      ]
    },
    {
      "metadata": {
        "id": "i-z0w107R5Ec",
        "colab_type": "code",
        "outputId": "1c125fba-1de1-451e-efb4-9df58587d392",
        "colab": {
          "base_uri": "https://localhost:8080/",
          "height": 131
        }
      },
      "cell_type": "code",
      "source": [
        "def say_myself(name, man=True, old):\n",
        "  print(\"나의 이름은 %s다.\" % name)\n",
        "  print(\"내 나이는 %d살이다.\" % old)\n",
        "  \n",
        "  if man:\n",
        "    print(\"수컷입니다.\")\n",
        "  else:\n",
        "    print(\"수컷이 아닙니다.\")\n",
        "    \n",
        "say_myself(\"이희성\", 42)"
      ],
      "execution_count": 0,
      "outputs": [
        {
          "output_type": "error",
          "ename": "SyntaxError",
          "evalue": "ignored",
          "traceback": [
            "\u001b[0;36m  File \u001b[0;32m\"<ipython-input-61-b874ff8dc7cf>\"\u001b[0;36m, line \u001b[0;32m1\u001b[0m\n\u001b[0;31m    def say_myself(name, man=True, old):\u001b[0m\n\u001b[0m                  ^\u001b[0m\n\u001b[0;31mSyntaxError\u001b[0m\u001b[0;31m:\u001b[0m non-default argument follows default argument\n"
          ]
        }
      ]
    },
    {
      "metadata": {
        "id": "JPtuHrEaR5AL",
        "colab_type": "text"
      },
      "cell_type": "markdown",
      "source": [
        "처음의 예시와 바뀐 부분은 초깃값을 설정한 매개변수의 위치 뿐이다. 그러나 이는 오류가 발생된다.\n",
        "\n",
        "위와 같이 함수를 호출한다면 name 변수에는 \"이희성\"이 들어갈 것이다.\n",
        "\n",
        "**하지만 그 다음 42는 파이썬이 man과 old 둘 중 어느 변수에 전달할 지 알 수 없다!**"
      ]
    },
    {
      "metadata": {
        "id": "mMwc9bSrR47t",
        "colab_type": "text"
      },
      "cell_type": "markdown",
      "source": [
        "*SyntaxError: non-default argument follows default argument*\n",
        "\n",
        "이 오류 메세지는 초깃값을 설정해놓은 매개변수 뒤에 초깃값을 설정해놓지 않은 매개변수는 사용할 수 없다는 말이다.\n",
        "\n",
        "즉, 매개변수로 (name, old, man=True)는 가능하지만, (name, man=True, old)는 안 된다는 것이다\n",
        "\n",
        "**초기화 시키고 싶은 매개변수를 항상 뒤쪽에 놓아야하는 것을 잊지 말자**"
      ]
    },
    {
      "metadata": {
        "id": "071mR6hRR43X",
        "colab_type": "text"
      },
      "cell_type": "markdown",
      "source": [
        "# 함수 안에서 선언된 변수의 효력 범위\n",
        "\n",
        "함수 안에서 사용할 변수의 이름을 함수 밖에서도 동일하게 사용한다면 어떻게 될까?"
      ]
    },
    {
      "metadata": {
        "id": "IXc3wsN2R4zK",
        "colab_type": "code",
        "outputId": "b0451d3a-7c93-4f95-a836-a2c4c4a814a7",
        "colab": {
          "base_uri": "https://localhost:8080/",
          "height": 34
        }
      },
      "cell_type": "code",
      "source": [
        "# vartest.py\n",
        "\n",
        "a = 1\n",
        "def vartest(a):\n",
        "  a += 1\n",
        "  \n",
        "vartest(a)\n",
        "print(a)"
      ],
      "execution_count": 0,
      "outputs": [
        {
          "output_type": "stream",
          "text": [
            "1\n"
          ],
          "name": "stdout"
        }
      ]
    },
    {
      "metadata": {
        "id": "3_fNC4UdR4uz",
        "colab_type": "text"
      },
      "cell_type": "markdown",
      "source": [
        "a라는 변수에 1을 대입하였고, 그 다음 vartest 함수에서는 입력값에 1을 더하고 결과값은 돌려주지 않게 선언하였다.\n",
        "\n",
        "그리고 vartest 함수에 입력값으로 a를 주었다. 마지막으로 a의 값을 출력하는 print(a)를 입력하였다."
      ]
    },
    {
      "metadata": {
        "id": "AKhuj-YOR4qa",
        "colab_type": "text"
      },
      "cell_type": "markdown",
      "source": [
        "vartest 함수에서 매개변수 a의 값에 1을 더했으니 2가 출력되어야 할 것 같지만 출력값은 1이다.\n",
        "\n",
        "그 이유는 함수 안에서 새로 만들어진 매개변수는 함수 안에서만 사용되는 \"함수의 변수\"이기 때문이다.\n",
        "\n",
        "**즉, def vartest(a)에서 입력값을 전달받는 매개변수 a는 함수 안에서만 사용되는 변수이지 함수 밖의 변수 a가 아니라는 뜻이다.**\n",
        "\n",
        "따라서 vartest 함수는 다음처럼 변수 이름을 hello로 한 vartest 함수와 완전히 동일하다."
      ]
    },
    {
      "metadata": {
        "id": "2hA1DhhRR4mE",
        "colab_type": "code",
        "colab": {}
      },
      "cell_type": "code",
      "source": [
        "def vartest(hello):\n",
        "  hello += 1"
      ],
      "execution_count": 0,
      "outputs": []
    },
    {
      "metadata": {
        "id": "H_ep8cwqR4hv",
        "colab_type": "text"
      },
      "cell_type": "markdown",
      "source": [
        "상술하였듯, 함수 안에서 사용되는 매개변수는 함수 밖의 변수 이름들과는 전혀 상관이 없다.\n",
        "\n",
        "아래의 예를 보면 더욱 분명하게 알 수 있다."
      ]
    },
    {
      "metadata": {
        "id": "zUKV-tYHR4dn",
        "colab_type": "code",
        "outputId": "60fc5a62-8611-483f-940b-1c34bc92407f",
        "colab": {
          "base_uri": "https://localhost:8080/",
          "height": 51
        }
      },
      "cell_type": "code",
      "source": [
        "# vartest_error.py\n",
        "\n",
        "def vartest(a):\n",
        "  a += 1\n",
        "  \n",
        "print(vartest(3))\n",
        "print(a) #왜 되는거냐..."
      ],
      "execution_count": 0,
      "outputs": [
        {
          "output_type": "stream",
          "text": [
            "None\n",
            "1\n"
          ],
          "name": "stdout"
        }
      ]
    },
    {
      "metadata": {
        "id": "BeWwy4u_R4ZN",
        "colab_type": "text"
      },
      "cell_type": "markdown",
      "source": [
        "위의 프로그램 소스를 에디터로 작성해서 실행시키면 어떻게 될까?\n",
        "\n",
        "vartest(3)을 수행하면 vartest라는 함수 내에서 a는 4가 되지만 함수를 호출하고 난 뒤에 print(a)라는 문장은 에러가 발생한다. print(a)에서 사용된 변수 a는 어디에서도 찾을 수 없기 때문이다.\n",
        "\n",
        "함수 안에서 선언된 매개변수는 함수 안에서만 사용될 뿐 함수 밖에서는 사용되지 않는다!"
      ]
    },
    {
      "metadata": {
        "id": "ksIWo72LR4VD",
        "colab_type": "text"
      },
      "cell_type": "markdown",
      "source": [
        "# 함수 안에서 함수 밖의 변수를 변경하는 방법\n",
        "\n",
        "그렇다면 위의 vartest라는 함수를 이용하여 함수 밖의 변수 a의 값을 증가시킬 방법은 없을까?\n",
        "\n",
        "2가지 방법이 있다."
      ]
    },
    {
      "metadata": {
        "id": "KUbqg97YR4QR",
        "colab_type": "text"
      },
      "cell_type": "markdown",
      "source": [
        "## 1. return 이용"
      ]
    },
    {
      "metadata": {
        "id": "rggKgSNBfzUt",
        "colab_type": "code",
        "outputId": "113d1775-001f-49be-a020-42f1db1376ba",
        "colab": {
          "base_uri": "https://localhost:8080/",
          "height": 34
        }
      },
      "cell_type": "code",
      "source": [
        "# vartest_return.py\n",
        "\n",
        "a = 1\n",
        "\n",
        "def vartest(a):\n",
        "  a += 1\n",
        "  return a\n",
        "\n",
        "a = vartest(a)\n",
        "print(a)"
      ],
      "execution_count": 0,
      "outputs": [
        {
          "output_type": "stream",
          "text": [
            "2\n"
          ],
          "name": "stdout"
        }
      ]
    },
    {
      "metadata": {
        "id": "I6tGW_HWfzP4",
        "colab_type": "text"
      },
      "cell_type": "markdown",
      "source": [
        "return을 이용하면 vartest 함수는 입력으로 들어온 값에 1을 더한 값을 **돌려준다.** \n",
        "\n",
        "따라서 a = vartest(a)라 대입하면 a가 vartest 함수의 결과값으로 바뀐다.\n",
        "\n",
        "**물론 여기서도 vartest 함수 안의 매개변수 a는 함수 밖의 a와는 다른 것이다**"
      ]
    },
    {
      "metadata": {
        "id": "VufJ9WcmfzKv",
        "colab_type": "text"
      },
      "cell_type": "markdown",
      "source": [
        "## 2. global 명령어 이용하기"
      ]
    },
    {
      "metadata": {
        "id": "oroTqvHffzF9",
        "colab_type": "code",
        "outputId": "77147435-0265-4d6f-a90f-8be40d4d87b8",
        "colab": {
          "base_uri": "https://localhost:8080/",
          "height": 34
        }
      },
      "cell_type": "code",
      "source": [
        "# vartest_global.py\n",
        "\n",
        "a = 1\n",
        "\n",
        "def vartest():\n",
        "  global a\n",
        "  a += 1\n",
        "  \n",
        "vartest()\n",
        "print(a)"
      ],
      "execution_count": 0,
      "outputs": [
        {
          "output_type": "stream",
          "text": [
            "2\n"
          ],
          "name": "stdout"
        }
      ]
    },
    {
      "metadata": {
        "id": "bHGoRcQlfzBM",
        "colab_type": "text"
      },
      "cell_type": "markdown",
      "source": [
        "위의 예시에서 볼 수 있듯, vartest 함수 안의 global a라는 문장은 함수 안에서 함수 밖의 a 변수를 직접 사용하겠다는 뜻이다.\n",
        "\n",
        "**하지만 프로그래밍을 할 때 global 명령어는 사용하지 않는 것이 좋다.**\n",
        "\n",
        "함수는 독립적으로 존재하는 것이 좋기 때문이다. 외부 변수에 종속적인 함수는 그닥 좋은 함수가 아니다.\n",
        "\n",
        "그렇기에 가급적 return 방법을 사용하기를 권한다."
      ]
    },
    {
      "metadata": {
        "id": "JexzuCFdfy8i",
        "colab_type": "text"
      },
      "cell_type": "markdown",
      "source": [
        "# Lambda\n",
        "\n",
        "lambda는 함수를 생성할 때 사용하는 예약어로 def와 동일한 역할을 한다.\n",
        "\n",
        "보통 함수를 한 줄로 간결하게 만들 때 사용한다.\n",
        "\n",
        "def를 사용해야 할 정도로 복잡하지 않거나, 사용할 수 없는 곳에 주로 쓰인다.\n",
        "\n",
        "**lambda 매개변수1, 매개변수2, ... : 매개변수를 이용한 표현식**"
      ]
    },
    {
      "metadata": {
        "id": "sYrxokWbfy30",
        "colab_type": "code",
        "outputId": "9b8be3f1-1ccc-4eff-fd89-79f70cba24ad",
        "colab": {
          "base_uri": "https://localhost:8080/",
          "height": 34
        }
      },
      "cell_type": "code",
      "source": [
        "add = lambda a,b: a+b\n",
        "\n",
        "result = add(3,4)\n",
        "print(result)"
      ],
      "execution_count": 0,
      "outputs": [
        {
          "output_type": "stream",
          "text": [
            "7\n"
          ],
          "name": "stdout"
        }
      ]
    },
    {
      "metadata": {
        "id": "qw7XTrjlfyzE",
        "colab_type": "text"
      },
      "cell_type": "markdown",
      "source": [
        "add는 두개의 인수를 받아 서로 더한 값을 리턴하는 lambda 함수이다.\n",
        "\n",
        "위의 예제는 def를 사용한 아래 함수와 하는 일이 완저히 동일하다."
      ]
    },
    {
      "metadata": {
        "id": "NBdSrqlvfyuM",
        "colab_type": "code",
        "outputId": "b90705bc-77f9-476e-b14a-9287e2165025",
        "colab": {
          "base_uri": "https://localhost:8080/",
          "height": 34
        }
      },
      "cell_type": "code",
      "source": [
        "def add(a,b):\n",
        "  return a+b\n",
        "\n",
        "result = add(3, 5)\n",
        "\n",
        "print(result)"
      ],
      "execution_count": 0,
      "outputs": [
        {
          "output_type": "stream",
          "text": [
            "8\n"
          ],
          "name": "stdout"
        }
      ]
    },
    {
      "metadata": {
        "id": "khaJSkPxtPzk",
        "colab_type": "text"
      },
      "cell_type": "markdown",
      "source": [
        "# 연습문제"
      ]
    },
    {
      "metadata": {
        "id": "xYWDquHJtPun",
        "colab_type": "text"
      },
      "cell_type": "markdown",
      "source": [
        "## Q1. 홀수 짝수 판별\n",
        "\n",
        "주어진 자연수가 홀수인지 짝수인지 판별해주는 함수 (is_odd)를 작성하시오."
      ]
    },
    {
      "metadata": {
        "id": "wF9WWzMMtPpl",
        "colab_type": "code",
        "colab": {}
      },
      "cell_type": "code",
      "source": [
        ""
      ],
      "execution_count": 0,
      "outputs": []
    },
    {
      "metadata": {
        "id": "khLtIbyrtPkK",
        "colab_type": "text"
      },
      "cell_type": "markdown",
      "source": [
        "## Q2. 평균값 계산\n",
        "\n",
        "입력으로 들어오는 모든 수의 평균 값을 계산해주는 함수를 작성해보자.\n",
        "\n",
        "(단, 입력을 들어오는 수의 갯수는 정해져 있지 않다.)"
      ]
    },
    {
      "metadata": {
        "id": "P7FueSmGtvCY",
        "colab_type": "code",
        "colab": {}
      },
      "cell_type": "code",
      "source": [
        ""
      ],
      "execution_count": 0,
      "outputs": []
    }
  ]
}