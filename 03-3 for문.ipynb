{
  "nbformat": 4,
  "nbformat_minor": 0,
  "metadata": {
    "colab": {
      "name": "03-3 for문.ipynb",
      "version": "0.3.2",
      "provenance": [],
      "collapsed_sections": [],
      "include_colab_link": true
    },
    "kernelspec": {
      "name": "python3",
      "display_name": "Python 3"
    }
  },
  "cells": [
    {
      "cell_type": "markdown",
      "metadata": {
        "id": "view-in-github",
        "colab_type": "text"
      },
      "source": [
        "<a href=\"https://colab.research.google.com/github/DrKAI/Example/blob/master/03-3%20for%EB%AC%B8.ipynb\" target=\"_parent\"><img src=\"https://colab.research.google.com/assets/colab-badge.svg\" alt=\"Open In Colab\"/></a>"
      ]
    },
    {
      "metadata": {
        "id": "e-MStiMb2fai",
        "colab_type": "text"
      },
      "cell_type": "markdown",
      "source": [
        "# for문의 기본 구조\n",
        "\n",
        "while문과 비슷한 반복문인 for문은 문장 구조가 한 눈에 쏙 들어온다는 장점이 있다. 기본 구조는 아래와 같다.\n",
        "\n",
        "for 변수 in 리스트(or 튜플 or 문자열):\n",
        "\n",
        "    수행문장1\n",
        "    수행문장2"
      ]
    },
    {
      "metadata": {
        "id": "D-3ICelY2PQ6",
        "colab_type": "text"
      },
      "cell_type": "markdown",
      "source": [
        "## 1. 전형적 for문"
      ]
    },
    {
      "metadata": {
        "id": "nYB54Hx12PTu",
        "colab_type": "code",
        "outputId": "e8a4dd1a-9cfe-4c5c-d5e3-559679df7423",
        "colab": {
          "base_uri": "https://localhost:8080/",
          "height": 71
        }
      },
      "cell_type": "code",
      "source": [
        "test_list = ['one', 'two', 'three']\n",
        "\n",
        "for i in test_list:\n",
        "  print (i)"
      ],
      "execution_count": 0,
      "outputs": [
        {
          "output_type": "stream",
          "text": [
            "one\n",
            "two\n",
            "three\n"
          ],
          "name": "stdout"
        }
      ]
    },
    {
      "metadata": {
        "id": "eU4sf5kd2PWS",
        "colab_type": "text"
      },
      "cell_type": "markdown",
      "source": [
        "## 2. 다양한 for문 사용"
      ]
    },
    {
      "metadata": {
        "id": "ziOIDKuR2PY0",
        "colab_type": "code",
        "outputId": "9e5dfe1b-fc38-4111-9d21-929928d25c37",
        "colab": {
          "base_uri": "https://localhost:8080/",
          "height": 71
        }
      },
      "cell_type": "code",
      "source": [
        "a = [(1,2), (3,4), (5,6)]\n",
        "\n",
        "for (first, last) in a:\n",
        "  print (first + last)"
      ],
      "execution_count": 0,
      "outputs": [
        {
          "output_type": "stream",
          "text": [
            "3\n",
            "7\n",
            "11\n"
          ],
          "name": "stdout"
        }
      ]
    },
    {
      "metadata": {
        "id": "UyW39rBU2Pbf",
        "colab_type": "text"
      },
      "cell_type": "markdown",
      "source": [
        "위의 예는 리스트 a의 요소값이 튜플이기 때문에 각각의 요소들이 자동으로 (first, last)라는 변수에 대입된다."
      ]
    },
    {
      "metadata": {
        "id": "_Snv4fCN2PeI",
        "colab_type": "text"
      },
      "cell_type": "markdown",
      "source": [
        "## 3. for문의 응용\n",
        "\n",
        "\"총 5명의 학생이 시험을 보았는데 점수가 60점 이상일 때 합격이고, 그렇지 않으면 불합격이다. 합격, 불합격 결과를 보여주시오\"\n",
        "\n",
        "점수 예시) score = [90, 25, 67, 45, 80]"
      ]
    },
    {
      "metadata": {
        "id": "L0EontXx2Pg9",
        "colab_type": "code",
        "outputId": "0ba3a975-f6a5-4b91-f4d8-0734f3fe010a",
        "colab": {
          "base_uri": "https://localhost:8080/",
          "height": 107
        }
      },
      "cell_type": "code",
      "source": [
        "score = [90, 25, 67, 45, 80]\n",
        "\n",
        "number = 0\n",
        "\n",
        "for i in score:\n",
        "  number += 1\n",
        "  \n",
        "  if i >= 60:\n",
        "    print (\"%d번, 합격!\" % number)\n",
        "  else:\n",
        "    print (\"%d번, 불합격! 낙오자!\" % number)"
      ],
      "execution_count": 0,
      "outputs": [
        {
          "output_type": "stream",
          "text": [
            "1번, 합격!\n",
            "2번, 불합격! 낙오자!\n",
            "3번, 합격!\n",
            "4번, 불합격! 낙오자!\n",
            "5번, 합격!\n"
          ],
          "name": "stdout"
        }
      ]
    },
    {
      "metadata": {
        "id": "I_fKtUAx2Pjl",
        "colab_type": "text"
      },
      "cell_type": "markdown",
      "source": [
        "각각의 학생에게 번호를 부여하기 위해 number라는 변수를 이용하였다.\n",
        "\n",
        "점수 리스트인 score에서 차례로 점수를 꺼내여 i라는 변수에 대입하고 for문의 문장을 수행한다.\n",
        "\n",
        "for문이 한 번씩 수행될 때 마다 number는 1씩 증가한다."
      ]
    },
    {
      "metadata": {
        "id": "R_EQr5lF2PmS",
        "colab_type": "text"
      },
      "cell_type": "markdown",
      "source": [
        "# for문과 continue\n",
        "\n",
        "continue는 for문에서도 사용할 수 있다.\n",
        "\n",
        "for문 안의 문장을 수행하던 와중에 continue문을 만나면 for문의 처음으로 돌아간다."
      ]
    },
    {
      "metadata": {
        "id": "QQ13B16f2PpH",
        "colab_type": "code",
        "outputId": "30e251fd-b74b-4488-e5cc-f87a893c4fcf",
        "colab": {
          "base_uri": "https://localhost:8080/",
          "height": 71
        }
      },
      "cell_type": "code",
      "source": [
        "score = [90, 25, 67, 45, 80]\n",
        "\n",
        "number = 0\n",
        "\n",
        "for i in score:\n",
        "  number += 1\n",
        "  \n",
        "  if i < 60: continue\n",
        "  print (\"%d번, 축하한다. 합격!\" % number)"
      ],
      "execution_count": 3,
      "outputs": [
        {
          "output_type": "stream",
          "text": [
            "1번, 축하한다. 합격!\n",
            "3번, 축하한다. 합격!\n",
            "5번, 축하한다. 합격!\n"
          ],
          "name": "stdout"
        }
      ]
    },
    {
      "metadata": {
        "id": "w8azD9rC2Pr3",
        "colab_type": "text"
      },
      "cell_type": "markdown",
      "source": [
        "상기 코드는 점수가 60점 아래인 학생인 경우에 한해서 continue문이 작동된다.\n",
        "\n",
        "따라서 print문이 출력되지 않고, for문의 처음으로 돌아간다."
      ]
    },
    {
      "metadata": {
        "id": "WgBAAaf-2Pud",
        "colab_type": "text"
      },
      "cell_type": "markdown",
      "source": [
        "# for와 자주 사용되는 range 함수"
      ]
    },
    {
      "metadata": {
        "id": "6FDDY4yb2Pw9",
        "colab_type": "code",
        "colab": {
          "base_uri": "https://localhost:8080/",
          "height": 53
        },
        "outputId": "fcaea0ea-d48e-425c-b0d3-096ca9d6d35b"
      },
      "cell_type": "code",
      "source": [
        "a = range(20)\n",
        "print (a)\n",
        "\n",
        "b = range(10, 100)\n",
        "print (b)"
      ],
      "execution_count": 6,
      "outputs": [
        {
          "output_type": "stream",
          "text": [
            "range(0, 20)\n",
            "range(10, 100)\n"
          ],
          "name": "stdout"
        }
      ]
    },
    {
      "metadata": {
        "id": "eq6wTG4ECM9r",
        "colab_type": "text"
      },
      "cell_type": "markdown",
      "source": [
        "range(20)은 0부터 20미만의 숫자를 포함하는 range 객체를 만들어준다.\n",
        "\n",
        "range(10, 100)은 10부터 100미만의 숫자를 데이터로 갖는 객체이다."
      ]
    },
    {
      "metadata": {
        "id": "C3VNF0A9CNAl",
        "colab_type": "text"
      },
      "cell_type": "markdown",
      "source": [
        "## range 함수 예시"
      ]
    },
    {
      "metadata": {
        "id": "LFTUKqi6CNDf",
        "colab_type": "code",
        "colab": {
          "base_uri": "https://localhost:8080/",
          "height": 35
        },
        "outputId": "6fc5aa47-cc6a-47fe-cd10-e0f20f2e255e"
      },
      "cell_type": "code",
      "source": [
        "sum = 0\n",
        "\n",
        "for i in range(1, 5):\n",
        "  sum += i\n",
        "  \n",
        "print(sum)"
      ],
      "execution_count": 12,
      "outputs": [
        {
          "output_type": "stream",
          "text": [
            "10\n"
          ],
          "name": "stdout"
        }
      ]
    },
    {
      "metadata": {
        "id": "rcXyg68vCNGO",
        "colab_type": "text"
      },
      "cell_type": "markdown",
      "source": [
        "1에서 4까지 더한 값을 보여준다.\n",
        "\n",
        "우리가 위에서 60점 이상일 떄 합격 문장을 출력하는 예제도 range 함수를 이용해 바꿀 수 있다."
      ]
    },
    {
      "metadata": {
        "id": "q2_Qgk_vCNJJ",
        "colab_type": "code",
        "colab": {
          "base_uri": "https://localhost:8080/",
          "height": 71
        },
        "outputId": "440f85dd-05fd-45da-e09c-b5bbd5f3bae0"
      },
      "cell_type": "code",
      "source": [
        "marks = [90, 25, 67, 45, 80]\n",
        "\n",
        "for number in range(len(marks)):\n",
        "  if marks[number] < 60: continue\n",
        "    \n",
        "  print (\"%d번, 합격!\" % (number+1))"
      ],
      "execution_count": 13,
      "outputs": [
        {
          "output_type": "stream",
          "text": [
            "1번, 합격!\n",
            "3번, 합격!\n",
            "5번, 합격!\n"
          ],
          "name": "stdout"
        }
      ]
    },
    {
      "metadata": {
        "id": "1SHKQ12XCNL6",
        "colab_type": "text"
      },
      "cell_type": "markdown",
      "source": [
        "len 함수는 리스트 내 요소의 개수를 돌려주는 함수이다. len(marks)는 5로 나올 것이고, 고로 range(5)가 될 것이다.\n",
        "\n",
        "number 변수에는 차례로 0부터 4까지의 숫자가 대입될 것이고, marks[number]는 차례대로 90, 25, 67, 45, 80의 값을 갖게 된다."
      ]
    },
    {
      "metadata": {
        "id": "kGPxECa3JMs0",
        "colab_type": "text"
      },
      "cell_type": "markdown",
      "source": [
        "## for과 range를 이용한 구구단\n",
        "\n",
        "for문에 range 함수를 이용하면 코드 4 줄만으로 구구단을 만들 수 있다."
      ]
    },
    {
      "metadata": {
        "id": "sHlRyhzXJMym",
        "colab_type": "code",
        "colab": {
          "base_uri": "https://localhost:8080/",
          "height": 1637
        },
        "outputId": "d84c0d27-e823-45ae-af39-e3a7f684b204"
      },
      "cell_type": "code",
      "source": [
        "for x in range(1, 10):\n",
        "  for y in range(1, 10):\n",
        "    #print (\"%d * %d = %d\" % (x, y, x*y), end=\" \")\n",
        "    print(\"%d * %d = %d\" % (x, y, x*y))\n",
        "  \n",
        "  print(' ')"
      ],
      "execution_count": 23,
      "outputs": [
        {
          "output_type": "stream",
          "text": [
            "1 * 1 = 1\n",
            "1 * 2 = 2\n",
            "1 * 3 = 3\n",
            "1 * 4 = 4\n",
            "1 * 5 = 5\n",
            "1 * 6 = 6\n",
            "1 * 7 = 7\n",
            "1 * 8 = 8\n",
            "1 * 9 = 9\n",
            " \n",
            "2 * 1 = 2\n",
            "2 * 2 = 4\n",
            "2 * 3 = 6\n",
            "2 * 4 = 8\n",
            "2 * 5 = 10\n",
            "2 * 6 = 12\n",
            "2 * 7 = 14\n",
            "2 * 8 = 16\n",
            "2 * 9 = 18\n",
            " \n",
            "3 * 1 = 3\n",
            "3 * 2 = 6\n",
            "3 * 3 = 9\n",
            "3 * 4 = 12\n",
            "3 * 5 = 15\n",
            "3 * 6 = 18\n",
            "3 * 7 = 21\n",
            "3 * 8 = 24\n",
            "3 * 9 = 27\n",
            " \n",
            "4 * 1 = 4\n",
            "4 * 2 = 8\n",
            "4 * 3 = 12\n",
            "4 * 4 = 16\n",
            "4 * 5 = 20\n",
            "4 * 6 = 24\n",
            "4 * 7 = 28\n",
            "4 * 8 = 32\n",
            "4 * 9 = 36\n",
            " \n",
            "5 * 1 = 5\n",
            "5 * 2 = 10\n",
            "5 * 3 = 15\n",
            "5 * 4 = 20\n",
            "5 * 5 = 25\n",
            "5 * 6 = 30\n",
            "5 * 7 = 35\n",
            "5 * 8 = 40\n",
            "5 * 9 = 45\n",
            " \n",
            "6 * 1 = 6\n",
            "6 * 2 = 12\n",
            "6 * 3 = 18\n",
            "6 * 4 = 24\n",
            "6 * 5 = 30\n",
            "6 * 6 = 36\n",
            "6 * 7 = 42\n",
            "6 * 8 = 48\n",
            "6 * 9 = 54\n",
            " \n",
            "7 * 1 = 7\n",
            "7 * 2 = 14\n",
            "7 * 3 = 21\n",
            "7 * 4 = 28\n",
            "7 * 5 = 35\n",
            "7 * 6 = 42\n",
            "7 * 7 = 49\n",
            "7 * 8 = 56\n",
            "7 * 9 = 63\n",
            " \n",
            "8 * 1 = 8\n",
            "8 * 2 = 16\n",
            "8 * 3 = 24\n",
            "8 * 4 = 32\n",
            "8 * 5 = 40\n",
            "8 * 6 = 48\n",
            "8 * 7 = 56\n",
            "8 * 8 = 64\n",
            "8 * 9 = 72\n",
            " \n",
            "9 * 1 = 9\n",
            "9 * 2 = 18\n",
            "9 * 3 = 27\n",
            "9 * 4 = 36\n",
            "9 * 5 = 45\n",
            "9 * 6 = 54\n",
            "9 * 7 = 63\n",
            "9 * 8 = 72\n",
            "9 * 9 = 81\n",
            " \n"
          ],
          "name": "stdout"
        }
      ]
    },
    {
      "metadata": {
        "id": "qMsdr0JwJM2J",
        "colab_type": "text"
      },
      "cell_type": "markdown",
      "source": [
        "### 입력 인수 end를 넣은 이유는 무엇인가?\n",
        "\n",
        "위의 코드에서 주석처리 한 print문을 보면 **end=\" \"**가 있다. 이것은 결과값을 출력할 때 다음 줄로 넘기지 않고 그 줄에 계속해서 출력하기 위해서다.\n",
        "\n",
        "**print(' ')** 부분은 각 단을 구분하기 위해 두번째 for문이 끝나면 결과값을 다음 줄부터 출력하게 해주는 문장이다."
      ]
    },
    {
      "metadata": {
        "id": "Xkk0ylqPJM4y",
        "colab_type": "text"
      },
      "cell_type": "markdown",
      "source": [
        "## 리스트 안에 for문 포함하기\n",
        "\n",
        "리스트 안에 for문을 포함하는 리스트 내포(List comprehension)를 이용하면 좀 더 편리하고 직관적인 프로그램을 만들 수 있다."
      ]
    },
    {
      "metadata": {
        "id": "wGhXwKaIJM7V",
        "colab_type": "code",
        "colab": {
          "base_uri": "https://localhost:8080/",
          "height": 35
        },
        "outputId": "cb4f19cb-12d3-4cee-ae87-96cb8c3fbab3"
      },
      "cell_type": "code",
      "source": [
        "a = [1, 2, 3, 4]\n",
        "result = []\n",
        "\n",
        "for num in a:\n",
        "  result.append(num * 3)\n",
        "  \n",
        "print(result)"
      ],
      "execution_count": 25,
      "outputs": [
        {
          "output_type": "stream",
          "text": [
            "[3, 6, 9, 12]\n"
          ],
          "name": "stdout"
        }
      ]
    },
    {
      "metadata": {
        "id": "tQIrYn3UP4wm",
        "colab_type": "text"
      },
      "cell_type": "markdown",
      "source": [
        "위의 예제는 a라는 리스트의 각 항목에 3을 곱한 결과를 리스트 result에 담는 예제이다.\n",
        "\n",
        "리스트 내포를 이용하면 아래와 같이 간단하게 표현할 수 있다."
      ]
    }
  ]
}