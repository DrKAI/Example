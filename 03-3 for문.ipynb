{
  "nbformat": 4,
  "nbformat_minor": 0,
  "metadata": {
    "colab": {
      "name": "03-3 for문.ipynb",
      "version": "0.3.2",
      "provenance": [],
      "collapsed_sections": [],
      "include_colab_link": true
    },
    "kernelspec": {
      "name": "python3",
      "display_name": "Python 3"
    }
  },
  "cells": [
    {
      "cell_type": "markdown",
      "metadata": {
        "id": "view-in-github",
        "colab_type": "text"
      },
      "source": [
        "<a href=\"https://colab.research.google.com/github/DrKAI/Example/blob/master/03-3%20for%EB%AC%B8.ipynb\" target=\"_parent\"><img src=\"https://colab.research.google.com/assets/colab-badge.svg\" alt=\"Open In Colab\"/></a>"
      ]
    },
    {
      "metadata": {
        "id": "e-MStiMb2fai",
        "colab_type": "text"
      },
      "cell_type": "markdown",
      "source": [
        "# for문의 기본 구조\n",
        "\n",
        "while문과 비슷한 반복문인 for문은 문장 구조가 한 눈에 쏙 들어온다는 장점이 있다. 기본 구조는 아래와 같다.\n",
        "\n",
        "for 변수 in 리스트(or 튜플 or 문자열):\n",
        "\n",
        "    수행문장1\n",
        "    수행문장2"
      ]
    },
    {
      "metadata": {
        "id": "D-3ICelY2PQ6",
        "colab_type": "text"
      },
      "cell_type": "markdown",
      "source": [
        "## 1. 전형적 for문"
      ]
    },
    {
      "metadata": {
        "id": "nYB54Hx12PTu",
        "colab_type": "code",
        "colab": {
          "base_uri": "https://localhost:8080/",
          "height": 71
        },
        "outputId": "e8a4dd1a-9cfe-4c5c-d5e3-559679df7423"
      },
      "cell_type": "code",
      "source": [
        "test_list = ['one', 'two', 'three']\n",
        "\n",
        "for i in test_list:\n",
        "  print (i)"
      ],
      "execution_count": 1,
      "outputs": [
        {
          "output_type": "stream",
          "text": [
            "one\n",
            "two\n",
            "three\n"
          ],
          "name": "stdout"
        }
      ]
    },
    {
      "metadata": {
        "id": "eU4sf5kd2PWS",
        "colab_type": "text"
      },
      "cell_type": "markdown",
      "source": [
        "## 2. 다양한 for문 사용"
      ]
    },
    {
      "metadata": {
        "id": "ziOIDKuR2PY0",
        "colab_type": "code",
        "colab": {
          "base_uri": "https://localhost:8080/",
          "height": 71
        },
        "outputId": "9e5dfe1b-fc38-4111-9d21-929928d25c37"
      },
      "cell_type": "code",
      "source": [
        "a = [(1,2), (3,4), (5,6)]\n",
        "\n",
        "for (first, last) in a:\n",
        "  print (first + last)"
      ],
      "execution_count": 2,
      "outputs": [
        {
          "output_type": "stream",
          "text": [
            "3\n",
            "7\n",
            "11\n"
          ],
          "name": "stdout"
        }
      ]
    },
    {
      "metadata": {
        "id": "UyW39rBU2Pbf",
        "colab_type": "text"
      },
      "cell_type": "markdown",
      "source": [
        "위의 예는 리스트 a의 요소값이 튜플이기 때문에 각각의 요소들이 자동으로 (first, last)라는 변수에 대입된다."
      ]
    },
    {
      "metadata": {
        "id": "_Snv4fCN2PeI",
        "colab_type": "text"
      },
      "cell_type": "markdown",
      "source": [
        "## 3. for문의 응용\n",
        "\n",
        "\"총 5명의 학생이 시험을 보았는데 점수가 60점 이상일 때 합격이고, 그렇지 않으면 불합격이다. 합격, 불합격 결과를 보여주시오\"\n",
        "\n",
        "점수 예시) score = [90, 25, 67, 45, 80]"
      ]
    },
    {
      "metadata": {
        "id": "L0EontXx2Pg9",
        "colab_type": "code",
        "colab": {
          "base_uri": "https://localhost:8080/",
          "height": 107
        },
        "outputId": "0ba3a975-f6a5-4b91-f4d8-0734f3fe010a"
      },
      "cell_type": "code",
      "source": [
        "score = [90, 25, 67, 45, 80]\n",
        "\n",
        "number = 0\n",
        "\n",
        "for i in score:\n",
        "  number += 1\n",
        "  \n",
        "  if i >= 60:\n",
        "    print (\"%d번, 합격!\" % number)\n",
        "  else:\n",
        "    print (\"%d번, 불합격! 낙오자!\" % number)"
      ],
      "execution_count": 4,
      "outputs": [
        {
          "output_type": "stream",
          "text": [
            "1번, 합격!\n",
            "2번, 불합격! 낙오자!\n",
            "3번, 합격!\n",
            "4번, 불합격! 낙오자!\n",
            "5번, 합격!\n"
          ],
          "name": "stdout"
        }
      ]
    },
    {
      "metadata": {
        "id": "I_fKtUAx2Pjl",
        "colab_type": "text"
      },
      "cell_type": "markdown",
      "source": [
        "각각의 학생에게 번호를 부여하기 위해 number라는 변수를 이용하였다.\n",
        "\n",
        "점수 리스트인 score에서 차례로 점수를 꺼내여 i라는 변수에 대입하고 for문의 문장을 수행한다.\n",
        "\n",
        "for문이 한 번씩 수행될 때 마다 number는 1씩 증가한다."
      ]
    },
    {
      "metadata": {
        "id": "R_EQr5lF2PmS",
        "colab_type": "code",
        "colab": {}
      },
      "cell_type": "code",
      "source": [
        ""
      ],
      "execution_count": 0,
      "outputs": []
    },
    {
      "metadata": {
        "id": "QQ13B16f2PpH",
        "colab_type": "code",
        "colab": {}
      },
      "cell_type": "code",
      "source": [
        ""
      ],
      "execution_count": 0,
      "outputs": []
    },
    {
      "metadata": {
        "id": "w8azD9rC2Pr3",
        "colab_type": "code",
        "colab": {}
      },
      "cell_type": "code",
      "source": [
        ""
      ],
      "execution_count": 0,
      "outputs": []
    },
    {
      "metadata": {
        "id": "WgBAAaf-2Pud",
        "colab_type": "code",
        "colab": {}
      },
      "cell_type": "code",
      "source": [
        ""
      ],
      "execution_count": 0,
      "outputs": []
    },
    {
      "metadata": {
        "id": "6FDDY4yb2Pw9",
        "colab_type": "code",
        "colab": {}
      },
      "cell_type": "code",
      "source": [
        ""
      ],
      "execution_count": 0,
      "outputs": []
    }
  ]
}