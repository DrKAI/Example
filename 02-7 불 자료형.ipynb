{
  "nbformat": 4,
  "nbformat_minor": 0,
  "metadata": {
    "colab": {
      "name": "02-7 불 자료형.ipynb",
      "version": "0.3.2",
      "provenance": [],
      "collapsed_sections": [],
      "include_colab_link": true
    },
    "kernelspec": {
      "name": "python3",
      "display_name": "Python 3"
    }
  },
  "cells": [
    {
      "cell_type": "markdown",
      "metadata": {
        "id": "view-in-github",
        "colab_type": "text"
      },
      "source": [
        "<a href=\"https://colab.research.google.com/github/DrKAI/Example/blob/master/02-7%20%EB%B6%88%20%EC%9E%90%EB%A3%8C%ED%98%95.ipynb\" target=\"_parent\"><img src=\"https://colab.research.google.com/assets/colab-badge.svg\" alt=\"Open In Colab\"/></a>"
      ]
    },
    {
      "metadata": {
        "id": "0EHwUPbUCmWx",
        "colab_type": "text"
      },
      "cell_type": "markdown",
      "source": [
        "# 불(Bool) 자료형이란?\n",
        "\n",
        "참(True)과 거짓(False)을 나타내는 자료형"
      ]
    },
    {
      "metadata": {
        "id": "6qeowtcMC6mc",
        "colab_type": "text"
      },
      "cell_type": "markdown",
      "source": [
        "불 자료형은 True / False 2가지 값만을 가질 수 있다.\n",
        "\n",
        "**True나 False는 파이썬의 예약어로 true, false와 같이 사용하지 말고 첫 문자를 항상 대문자로 사용해야 한다.**"
      ]
    },
    {
      "metadata": {
        "id": "mCFQjH2qC6qS",
        "colab_type": "code",
        "colab": {
          "base_uri": "https://localhost:8080/",
          "height": 53
        },
        "outputId": "0961a97f-3706-4755-c5d7-21977a1f87cb"
      },
      "cell_type": "code",
      "source": [
        "t = True\n",
        "f = False\n",
        "\n",
        "print (t)\n",
        "print (f)"
      ],
      "execution_count": 1,
      "outputs": [
        {
          "output_type": "stream",
          "text": [
            "True\n",
            "False\n"
          ],
          "name": "stdout"
        }
      ]
    },
    {
      "metadata": {
        "id": "cVD_U8ezC6tH",
        "colab_type": "text"
      },
      "cell_type": "markdown",
      "source": [
        "위의 예시는 t와 f라는 변수에 각각 True, False 불 자료형을 대입하였다.\n",
        "\n",
        "불 자료형은 조건문의 리턴 값으로도 사용된다."
      ]
    },
    {
      "metadata": {
        "id": "DrX_1oJ9C6v8",
        "colab_type": "code",
        "colab": {
          "base_uri": "https://localhost:8080/",
          "height": 35
        },
        "outputId": "0fb94f60-b531-4432-eff3-6013ee0c1155"
      },
      "cell_type": "code",
      "source": [
        "1 == 1"
      ],
      "execution_count": 13,
      "outputs": [
        {
          "output_type": "execute_result",
          "data": {
            "text/plain": [
              "True"
            ]
          },
          "metadata": {
            "tags": []
          },
          "execution_count": 13
        }
      ]
    },
    {
      "metadata": {
        "id": "wx_j2JuwC6ys",
        "colab_type": "code",
        "colab": {
          "base_uri": "https://localhost:8080/",
          "height": 35
        },
        "outputId": "ecbcb518-b8de-40ca-8bc8-6d2e5023fe39"
      },
      "cell_type": "code",
      "source": [
        "2 > 1"
      ],
      "execution_count": 14,
      "outputs": [
        {
          "output_type": "execute_result",
          "data": {
            "text/plain": [
              "True"
            ]
          },
          "metadata": {
            "tags": []
          },
          "execution_count": 14
        }
      ]
    },
    {
      "metadata": {
        "id": "HOZg3kKKC61c",
        "colab_type": "code",
        "colab": {
          "base_uri": "https://localhost:8080/",
          "height": 35
        },
        "outputId": "91c9c84d-c21a-4bae-d2e4-929bd09d5826"
      },
      "cell_type": "code",
      "source": [
        "2 < 1"
      ],
      "execution_count": 15,
      "outputs": [
        {
          "output_type": "execute_result",
          "data": {
            "text/plain": [
              "False"
            ]
          },
          "metadata": {
            "tags": []
          },
          "execution_count": 15
        }
      ]
    },
    {
      "metadata": {
        "id": "5WM64PeaEDmK",
        "colab_type": "text"
      },
      "cell_type": "markdown",
      "source": [
        "보다시피 1은 1과 동일하기에 True, 2는 1보다 크기에 True, 2는 1보다 작지 않기에 False가 리턴되었다."
      ]
    },
    {
      "metadata": {
        "id": "1BqEMTA6EGTo",
        "colab_type": "text"
      },
      "cell_type": "markdown",
      "source": [
        "# 자료형의 참과 거짓\n",
        "\n",
        "문자열, 리스트, 튜플, 딕셔너리 등의 값이 비어있을 경우, **( \" \", [ ], ( ), { } )** 거짓이 된다. 당연히 비어있지 않으면 참이 된다.\n",
        "\n",
        "숫자는 그 값이 0일 때 거짓이 된다. **None 역시 거짓이 된다.**"
      ]
    },
    {
      "metadata": {
        "id": "mpAqNuoeE-j2",
        "colab_type": "code",
        "colab": {
          "base_uri": "https://localhost:8080/",
          "height": 53
        },
        "outputId": "8a1afcdf-a315-4eee-c5f0-871c170260d7"
      },
      "cell_type": "code",
      "source": [
        "a = [1, 2, 3, 4]\n",
        "print(a.pop())\n",
        "print(a)"
      ],
      "execution_count": 23,
      "outputs": [
        {
          "output_type": "stream",
          "text": [
            "4\n",
            "[1, 2, 3]\n"
          ],
          "name": "stdout"
        }
      ]
    },
    {
      "metadata": {
        "id": "ftBWodBfEGXD",
        "colab_type": "code",
        "colab": {
          "base_uri": "https://localhost:8080/",
          "height": 161
        },
        "outputId": "17fc9140-bf96-4a2a-84bb-84874d332962"
      },
      "cell_type": "code",
      "source": [
        "a = [1, 2, 3, 4]\n",
        "\n",
        "while a:\n",
        "  print(a.pop())\n",
        "  print(a)"
      ],
      "execution_count": 27,
      "outputs": [
        {
          "output_type": "stream",
          "text": [
            "4\n",
            "[1, 2, 3]\n",
            "3\n",
            "[1, 2]\n",
            "2\n",
            "[1]\n",
            "1\n",
            "[]\n"
          ],
          "name": "stdout"
        }
      ]
    },
    {
      "metadata": {
        "id": "coQZ9WinEGaO",
        "colab_type": "text"
      },
      "cell_type": "markdown",
      "source": [
        "while 조건문:\n",
        "          \n",
        "     수행할 문장\n",
        "    \n",
        "          \n",
        "          "
      ]
    },
    {
      "metadata": {
        "id": "hjgMGRC1EGdP",
        "colab_type": "text"
      },
      "cell_type": "markdown",
      "source": [
        "**while 조건문은 위처럼 사용한다. 코드 셀에서 실행한 예시는 a가 참인 경우 a.pop()를 계속 실행하라는 의미이다.**\n",
        "\n",
        "**a.pop() 함수는 리스트 a의 마지막 요소를 끄집어낸다. 그렇기에 a가 참일 동안에 마지막 요소를 계속 끄집어낼 것이다.**\n",
        "\n",
        "**그리고 끄집어낼 것을 다 끄집어낸 최후에는 빈 리스트( [ ] )가 되어 거짓이 된다. while문의 조건도 거짓이 되므로 중지된다.**\n",
        "\n",
        "좀 더 간단하게 if문으로 예시를 들어보자."
      ]
    },
    {
      "metadata": {
        "id": "ypHiyECXEGgG",
        "colab_type": "code",
        "colab": {
          "base_uri": "https://localhost:8080/",
          "height": 53
        },
        "outputId": "8f9e6dcf-6bb1-456b-a203-167b75abfba6"
      },
      "cell_type": "code",
      "source": [
        "a = []\n",
        "b = [1, 2, 3]\n",
        "\n",
        "if a:\n",
        "  print(\"참\")\n",
        "else:\n",
        "  print(\"거짓\")\n",
        "  \n",
        "if b:\n",
        "  print(\"참\")\n",
        "else:\n",
        "  print(\"거짓\")"
      ],
      "execution_count": 33,
      "outputs": [
        {
          "output_type": "stream",
          "text": [
            "거짓\n",
            "참\n"
          ],
          "name": "stdout"
        }
      ]
    },
    {
      "metadata": {
        "id": "zFOZnJfVEGi4",
        "colab_type": "text"
      },
      "cell_type": "markdown",
      "source": [
        "위의 코드 a를 해석하면 아래와 같다.\n",
        "\n",
        "**만약 리스트 a가 참이라면 문자열 \"참\"을 출력하고, 그렇지 않다면 문자열 \"거짓\"을 출력하라.**\n",
        "\n",
        "그리고 리스트 a는 비어있기 대문에 \"거짓\"이 출력되었고, 반대로 b는 리스트 내 요소들이 있었기에 \"참\"이 출력되었다."
      ]
    },
    {
      "metadata": {
        "id": "07z3ueMzIEQP",
        "colab_type": "text"
      },
      "cell_type": "markdown",
      "source": [
        "# 불 연산\n",
        "\n",
        "bool( )이라는 내장 함수를 이용하여 자료형의 참 / 거짓을 식별해보자."
      ]
    },
    {
      "metadata": {
        "id": "HKJkGv_CIEX4",
        "colab_type": "code",
        "colab": {
          "base_uri": "https://localhost:8080/",
          "height": 71
        },
        "outputId": "56ddf2df-d235-4b12-8036-2454c535df63"
      },
      "cell_type": "code",
      "source": [
        "a = \"python\"\n",
        "b = \" \"\n",
        "c = \"\"\n",
        "\n",
        "print(bool(a))\n",
        "print(bool(b))\n",
        "print(bool(c))"
      ],
      "execution_count": 37,
      "outputs": [
        {
          "output_type": "stream",
          "text": [
            "True\n",
            "True\n",
            "False\n"
          ],
          "name": "stdout"
        }
      ]
    },
    {
      "metadata": {
        "id": "msmzp1NpIEbI",
        "colab_type": "text"
      },
      "cell_type": "markdown",
      "source": [
        "**b와 c를 주목하세요. 여백은 값이 없는게 아닙니다.**"
      ]
    },
    {
      "metadata": {
        "id": "Da5cHsYRIEd-",
        "colab_type": "code",
        "colab": {
          "base_uri": "https://localhost:8080/",
          "height": 125
        },
        "outputId": "d7cbe620-f8a8-444d-b8ce-3f2ca4836b79"
      },
      "cell_type": "code",
      "source": [
        "a = [1, 2, 3]\n",
        "b = [ ]\n",
        "c = []\n",
        "\n",
        "print(bool(a))\n",
        "print(bool(b))\n",
        "print(bool(c))\n",
        "\n",
        "d = 10\n",
        "e = 0\n",
        "f\n",
        "\n",
        "print(bool(d))\n",
        "print(bool(e))\n",
        "print(bool(f))"
      ],
      "execution_count": 44,
      "outputs": [
        {
          "output_type": "stream",
          "text": [
            "True\n",
            "False\n",
            "False\n",
            "True\n",
            "False\n",
            "False\n"
          ],
          "name": "stdout"
        }
      ]
    },
    {
      "metadata": {
        "id": "wvAnW2AzJcqP",
        "colab_type": "text"
      },
      "cell_type": "markdown",
      "source": [
        "위에서 설명하였듯, 비어있는 경우에는 False 값이 리턴되는 걸 확인할 수 있다."
      ]
    },
    {
      "metadata": {
        "id": "bGDYLiYoJcts",
        "colab_type": "text"
      },
      "cell_type": "markdown",
      "source": [
        "# 연습문제"
      ]
    },
    {
      "metadata": {
        "id": "jGgiKPCAKSnt",
        "colab_type": "text"
      },
      "cell_type": "markdown",
      "source": [
        "## Q1. 불 자료형과 조건문\n",
        "\n",
        "아래의 조건문들의 결과를 예상하고, 실행 후 비교해보라.\n",
        "\n",
        "1 != 1\n",
        "\n",
        "3 > 1\n",
        "\n",
        "'a' in 'abc'\n",
        "\n",
        "'a' not in [1, 2, 3]"
      ]
    },
    {
      "metadata": {
        "id": "7_L7-drSKSq5",
        "colab_type": "code",
        "colab": {
          "base_uri": "https://localhost:8080/",
          "height": 125
        },
        "outputId": "3548dd51-370e-4724-da4b-7de6960c9cbf"
      },
      "cell_type": "code",
      "source": [
        "a = 1 != 1\n",
        "b = 3 > 1\n",
        "c1 = 'a' in 'abcd'\n",
        "c2 = 'a' not in 'abcd'\n",
        "d1 = 'a' in [1, 2, 3]\n",
        "d2 = 'a' not in [1, 2, 3]\n",
        "\n",
        "print(a)\n",
        "print(b)\n",
        "print(c1)\n",
        "print(c2)\n",
        "print(d1)\n",
        "print(d2)"
      ],
      "execution_count": 49,
      "outputs": [
        {
          "output_type": "stream",
          "text": [
            "False\n",
            "True\n",
            "True\n",
            "False\n",
            "False\n",
            "True\n"
          ],
          "name": "stdout"
        }
      ]
    },
    {
      "metadata": {
        "id": "eFD_b_4oKStm",
        "colab_type": "text"
      },
      "cell_type": "markdown",
      "source": [
        "## Q2. bool 연산자\n",
        "\n",
        "bool 연산자를 이용하여 다음 자료형들의 참 / 거짓을 판별하시오.\n",
        "\n",
        "a = \"python\"\n",
        "\n",
        "b = \"\"\n",
        "\n",
        "c = (1, 2, 3)\n",
        "\n",
        "d = 0"
      ]
    },
    {
      "metadata": {
        "id": "nsyCCTEbKSwf",
        "colab_type": "code",
        "colab": {
          "base_uri": "https://localhost:8080/",
          "height": 89
        },
        "outputId": "80114167-ca54-4f38-a05d-3854e268665f"
      },
      "cell_type": "code",
      "source": [
        "a = \"python\"\n",
        "b = \"\"\n",
        "c = (1, 2, 3)\n",
        "d = 0\n",
        "\n",
        "print(bool(a))\n",
        "print(bool(b))\n",
        "print(bool(c))\n",
        "print(bool(d))"
      ],
      "execution_count": 50,
      "outputs": [
        {
          "output_type": "stream",
          "text": [
            "True\n",
            "False\n",
            "True\n",
            "False\n"
          ],
          "name": "stdout"
        }
      ]
    }
  ]
}