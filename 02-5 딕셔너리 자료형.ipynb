{
  "nbformat": 4,
  "nbformat_minor": 0,
  "metadata": {
    "colab": {
      "name": "02-5 딕셔너리 자료형.ipynb",
      "version": "0.3.2",
      "provenance": [],
      "collapsed_sections": [],
      "include_colab_link": true
    },
    "kernelspec": {
      "name": "python3",
      "display_name": "Python 3"
    }
  },
  "cells": [
    {
      "cell_type": "markdown",
      "metadata": {
        "id": "view-in-github",
        "colab_type": "text"
      },
      "source": [
        "<a href=\"https://colab.research.google.com/github/DrKAI/Example/blob/master/02-5%20%EB%94%95%EC%85%94%EB%84%88%EB%A6%AC%20%EC%9E%90%EB%A3%8C%ED%98%95.ipynb\" target=\"_parent\"><img src=\"https://colab.research.google.com/assets/colab-badge.svg\" alt=\"Open In Colab\"/></a>"
      ]
    },
    {
      "metadata": {
        "id": "1UTDdTi-j7QF",
        "colab_type": "text"
      },
      "cell_type": "markdown",
      "source": [
        "# 딕셔너리란?\n",
        "\n",
        "\"이름\" = \"이희성\"\n",
        "\n",
        "\"생일\" = \"12월 11일\""
      ]
    },
    {
      "metadata": {
        "id": "8G9_SofikMr5",
        "colab_type": "text"
      },
      "cell_type": "markdown",
      "source": [
        "대부분의 언어는 위의 예시와 같은 대응 관계를 가지고 있다. 이를 연관 배열(Associative array) or 해시(Hash)라 한다.\n",
        "\n",
        "파이썬에서는 이러한 자료형을 딕셔너리(Dictionary)라 부른다.\n",
        "\n",
        "people란 단어에 \"사람\", football란 단어에는 \"축구\"라는 뜻이 부합되듯, 딕셔너리는 Key와 Value를 한 쌍으로 갖는 자료형이다.\n",
        "\n",
        "Key가 \"football\"이라면, Value는 \"축구\"가 된다."
      ]
    },
    {
      "metadata": {
        "id": "SFl66PJPkM2G",
        "colab_type": "text"
      },
      "cell_type": "markdown",
      "source": [
        "딕셔너리는 리스트, 튜플처럼 순차적으로(sequential) 해당 요소값을 구하지 않고, Key값을 통해 Value값을 구한다.\n",
        "\n",
        "football이라는 단어의 뜻을 찾기 위해 사전의 처음 a, b, c부터 순차적으로 검색하는 것이 아니라 football이라는 단어가 있는 페이지를 펼쳐보는 것이다."
      ]
    },
    {
      "metadata": {
        "id": "QKlOe9l8kNCt",
        "colab_type": "text"
      },
      "cell_type": "markdown",
      "source": [
        "# 딕셔너리는 어떻게 만들까?\n",
        "\n",
        "**{Key1:Value1, Key2:Value2, Key3:Value}**"
      ]
    },
    {
      "metadata": {
        "id": "2QcoUUfKkNtr",
        "colab_type": "text"
      },
      "cell_type": "markdown",
      "source": [
        "기본적인 딕셔너리의 형태는 위와 같다. Key와 Value의 쌍 여러개가 { }에 둘러쌓인다.\n",
        "\n",
        "각각의 요소는 Key : Value의 형태로 이루어지고, 쉼표(**,**)로 구분된다.\n",
        "\n",
        "**Key에는 불변값을 사용해야 하고, Value에는 불변값과 가변값을 모두 사용할 수 있다.**"
      ]
    },
    {
      "metadata": {
        "id": "liK0QtQWkN7_",
        "colab_type": "code",
        "colab": {
          "base_uri": "https://localhost:8080/",
          "height": 34
        },
        "outputId": "f45ff709-837a-4bb5-8c2b-a79836a646f6"
      },
      "cell_type": "code",
      "source": [
        "dic = {'name':'이희성', 'phone':'01012345678', 'birth':'19901211'}"
      ],
      "execution_count": 2,
      "outputs": [
        {
          "output_type": "stream",
          "text": [
            "name\n"
          ],
          "name": "stdout"
        }
      ]
    },
    {
      "metadata": {
        "id": "QUNxM-t-kOBO",
        "colab_type": "text"
      },
      "cell_type": "markdown",
      "source": [
        "위의 예시에서 Key값은 'name', 'phone', 'birth'이고, Value값은 '이희성', '01012345678', '19901211'이다."
      ]
    },
    {
      "metadata": {
        "id": "dkwBY-M6kVG4",
        "colab_type": "code",
        "colab": {
          "base_uri": "https://localhost:8080/",
          "height": 34
        },
        "outputId": "73c2cda2-52b9-4f7e-f5ec-3cc8cab27fc6"
      },
      "cell_type": "code",
      "source": [
        "hell = {666:'Hell'}\n",
        "list_dictionary = {'test':[1,2,3,4,5]}"
      ],
      "execution_count": 3,
      "outputs": [
        {
          "output_type": "stream",
          "text": [
            "\n"
          ],
          "name": "stdout"
        }
      ]
    },
    {
      "metadata": {
        "id": "-c19sm-vkNq0",
        "colab_type": "text"
      },
      "cell_type": "markdown",
      "source": [
        "Key값으로 정수 666, Value값으로 'Hell'이라는 문자열을 사용하였고,\n",
        "\n",
        "Key값으로 문자열 'test', Value값으로 [1,2,3,4,5] 리스트를 사용하였다."
      ]
    },
    {
      "metadata": {
        "id": "iPQwu8KLkNoN",
        "colab_type": "text"
      },
      "cell_type": "markdown",
      "source": [
        "# 딕셔너리 쌍 추가, 삭제하기"
      ]
    },
    {
      "metadata": {
        "id": "fy8sy0szkNlj",
        "colab_type": "text"
      },
      "cell_type": "markdown",
      "source": [
        "## 1. 딕셔너리 쌍 추가하기"
      ]
    },
    {
      "metadata": {
        "id": "7rPYkoc_kM_j",
        "colab_type": "code",
        "colab": {
          "base_uri": "https://localhost:8080/",
          "height": 85
        },
        "outputId": "50021a90-2845-463d-cd71-30654db04482"
      },
      "cell_type": "code",
      "source": [
        "a = {1:'a'}\n",
        "print (a)\n",
        "\n",
        "a[2] = 'ab'\n",
        "print (a)\n",
        "\n",
        "a[4] = [1,666,10]\n",
        "print (a)\n",
        "\n",
        "a['name'] = '이희성'\n",
        "print (a)"
      ],
      "execution_count": 10,
      "outputs": [
        {
          "output_type": "stream",
          "text": [
            "{1: 'a'}\n",
            "{1: 'a', 2: 'ab'}\n",
            "{1: 'a', 2: 'ab', 4: [1, 666, 10]}\n",
            "{1: 'a', 2: 'ab', 4: [1, 666, 10], 'name': '이희성'}\n"
          ],
          "name": "stdout"
        }
      ]
    },
    {
      "metadata": {
        "id": "ihzu9cNEkM8_",
        "colab_type": "text"
      },
      "cell_type": "markdown",
      "source": [
        "## 2. 딕셔너리 요소 삭제하기\n",
        "\n",
        "**del a[Key값]**과 같이 입력시 지정한 Key값에 해당하는 {Key : Value} 쌍이 삭제된다."
      ]
    },
    {
      "metadata": {
        "id": "1J__s-P2kM6m",
        "colab_type": "code",
        "colab": {
          "base_uri": "https://localhost:8080/",
          "height": 68
        },
        "outputId": "4df546ed-770b-49f0-a8c2-8275ff9e3715"
      },
      "cell_type": "code",
      "source": [
        "a = {1:'a'}\n",
        "a[2] = 'ab'\n",
        "a[4] = [1,666,10]\n",
        "a['name'] = '이희성'\n",
        "print (a)\n",
        "\n",
        "del a['name']\n",
        "print (a)\n",
        "\n",
        "del a[4]\n",
        "print (a)"
      ],
      "execution_count": 13,
      "outputs": [
        {
          "output_type": "stream",
          "text": [
            "{1: 'a', 2: 'ab', 4: [1, 666, 10], 'name': '이희성'}\n",
            "{1: 'a', 2: 'ab', 4: [1, 666, 10]}\n",
            "{1: 'a', 2: 'ab'}\n"
          ],
          "name": "stdout"
        }
      ]
    },
    {
      "metadata": {
        "id": "Cz1ykYwykMzZ",
        "colab_type": "text"
      },
      "cell_type": "markdown",
      "source": [
        "# 딕셔너리 사용법\n",
        "\n",
        "\"딕셔너리는 주로 어떤 것을 표현하는데 사용할까?\""
      ]
    },
    {
      "metadata": {
        "id": "R1zeAoxikMxK",
        "colab_type": "text"
      },
      "cell_type": "markdown",
      "source": [
        "사람 3명의 특기를 표현하는 좋은 방법을 생각해보자. 리스트나 문자열로는 표현하기가 좀 까다롭지 않을까?\n",
        "\n",
        "하지만 딕셔너리를 이용한다면 표현이 정말 간단해진다.\n",
        "\n",
        "{\"김건영\" : 망상, \"이희성\" : \"게임\", \"김정훈\" : \"데이터분석\"}"
      ]
    },
    {
      "metadata": {
        "id": "ZLpJgxxs3be3",
        "colab_type": "text"
      },
      "cell_type": "markdown",
      "source": [
        "## 딕셔너리에서 Key값 사용하여 Value값 얻기"
      ]
    },
    {
      "metadata": {
        "id": "2Nda9nrp4Dkj",
        "colab_type": "code",
        "colab": {
          "base_uri": "https://localhost:8080/",
          "height": 68
        },
        "outputId": "38b83971-2fcb-49e0-8544-7247bd5ccc3b"
      },
      "cell_type": "code",
      "source": [
        "age = {'이희성' : 999, '김건영' : 666}\n",
        "\n",
        "print (age)\n",
        "print (age['이희성'])\n",
        "print (age['김건영'])"
      ],
      "execution_count": 15,
      "outputs": [
        {
          "output_type": "stream",
          "text": [
            "{'이희성': 999, '김건영': 666}\n",
            "999\n",
            "666\n"
          ],
          "name": "stdout"
        }
      ]
    },
    {
      "metadata": {
        "id": "8OWokzTN483S",
        "colab_type": "code",
        "colab": {}
      },
      "cell_type": "code",
      "source": [
        "# 당연하게도 Value값으로 접근하려면 오류가 난다.\n",
        "\n",
        "print (age[666])"
      ],
      "execution_count": 0,
      "outputs": []
    },
    {
      "metadata": {
        "id": "xs7MATWq3byX",
        "colab_type": "text"
      },
      "cell_type": "markdown",
      "source": [
        "리스트, 튜플, 문자열은 요소값을 얻고자 할 때 인덱싱이나 슬라이싱 기법 중 하나를 이용한다.\n",
        "\n",
        "그러나 딕셔너리는 Key값을 사용하여 Value값을 얻어내는 하나의 방법만을 이용한다.\n",
        "\n",
        "**\"딕셔너리 변수[Key값]\"**"
      ]
    },
    {
      "metadata": {
        "id": "HsNWHPUj3b9_",
        "colab_type": "code",
        "colab": {
          "base_uri": "https://localhost:8080/",
          "height": 119
        },
        "outputId": "2e929275-31c0-4ec1-cb6a-ac3607810ea1"
      },
      "cell_type": "code",
      "source": [
        "dic01 = {1:'Hell', 2:'Yeah'}\n",
        "list01 = [0,1,2]\n",
        "tuple01 = (0,1,2)\n",
        "\n",
        "print (dic01)\n",
        "print (list01)\n",
        "print (tuple01)\n",
        "\n",
        "print (dic01[1])\n",
        "print (list01[1])\n",
        "print (tuple01[1])"
      ],
      "execution_count": 19,
      "outputs": [
        {
          "output_type": "stream",
          "text": [
            "{1: 'Hell', 2: 'Yeah'}\n",
            "[0, 1, 2]\n",
            "(0, 1, 2)\n",
            "Hell\n",
            "1\n",
            "1\n"
          ],
          "name": "stdout"
        }
      ]
    },
    {
      "metadata": {
        "id": "F2P4-5733b7G",
        "colab_type": "text"
      },
      "cell_type": "markdown",
      "source": [
        "위의 예시에서 확연하게 알 수 있다.\n",
        "\n",
        "리스트 변수 list01, 튜플 변수 tuple01에서 [ ]안의 숫자 1은 두번째 요소를 가리킨다.\n",
        "\n",
        "그러나 딕셔너리 변수 dic01에서 [ ]안의 숫자 1은 두번째 요소가 아니라 Key값 1을 나타낸다.\n",
        "\n",
        "**딕셔너리는 인덱싱이 불가하다!**\n",
        "\n",
        "**또한, 인덱싱은 어드레스가 아니다!! 혼동하지 말자**"
      ]
    },
    {
      "metadata": {
        "id": "h5U-Uikz3b4C",
        "colab_type": "text"
      },
      "cell_type": "markdown",
      "source": [
        "## 딕셔너리 만들 때 주의사항\n",
        "\n",
        "**중복되는 Key값 설정 시 하나를 제외한 나머지 Key값은 모두 무시된다.**"
      ]
    },
    {
      "metadata": {
        "id": "ORYYEYQ3-G-3",
        "colab_type": "code",
        "colab": {
          "base_uri": "https://localhost:8080/",
          "height": 51
        },
        "outputId": "8189ab05-2557-4d37-8f14-e109bee5610e"
      },
      "cell_type": "code",
      "source": [
        "dic_test01 = {1:'이희성', 1:'바보'}\n",
        "dic_test02 = {'이희성':666, '이희성':777}\n",
        "\n",
        "print (dic_test01)\n",
        "print (dic_test02)"
      ],
      "execution_count": 22,
      "outputs": [
        {
          "output_type": "stream",
          "text": [
            "{1: '바보'}\n",
            "{'이희성': 777}\n"
          ],
          "name": "stdout"
        }
      ]
    },
    {
      "metadata": {
        "id": "c_H0auRe-HFM",
        "colab_type": "text"
      },
      "cell_type": "markdown",
      "source": [
        "**Key값에 리스트는 사용할 수 없다. 그러나 튜플은 사용할 수 있다!**\n",
        "\n",
        "리스트는 그 값이 변할 수 있기 때문에 사용 불가이다. 아래의 예시를 보자."
      ]
    },
    {
      "metadata": {
        "id": "dHMoaw6a-HWm",
        "colab_type": "code",
        "colab": {
          "base_uri": "https://localhost:8080/",
          "height": 282
        },
        "outputId": "b11533d9-0cd2-4188-8a9a-76250e5d1817"
      },
      "cell_type": "code",
      "source": [
        "dic_listTest = {[1,2,3]:'Hell'}\n",
        "\n",
        "print (dic_listTest[1,2,3])"
      ],
      "execution_count": 30,
      "outputs": [
        {
          "output_type": "error",
          "ename": "TypeError",
          "evalue": "ignored",
          "traceback": [
            "\u001b[0;31m---------------------------------------------------------------------------\u001b[0m",
            "\u001b[0;31mTypeError\u001b[0m                                 Traceback (most recent call last)",
            "\u001b[0;32m<ipython-input-30-87b6995de1c7>\u001b[0m in \u001b[0;36m<module>\u001b[0;34m()\u001b[0m\n\u001b[0;32m----> 1\u001b[0;31m \u001b[0mdic_listTest\u001b[0m \u001b[0;34m=\u001b[0m \u001b[0;34m{\u001b[0m\u001b[0;34m[\u001b[0m\u001b[0;36m1\u001b[0m\u001b[0;34m,\u001b[0m\u001b[0;36m2\u001b[0m\u001b[0;34m,\u001b[0m\u001b[0;36m3\u001b[0m\u001b[0;34m]\u001b[0m\u001b[0;34m:\u001b[0m\u001b[0;34m'Hell'\u001b[0m\u001b[0;34m}\u001b[0m\u001b[0;34m\u001b[0m\u001b[0m\n\u001b[0m\u001b[1;32m      2\u001b[0m \u001b[0;34m\u001b[0m\u001b[0m\n\u001b[1;32m      3\u001b[0m \u001b[0mprint\u001b[0m \u001b[0;34m(\u001b[0m\u001b[0mdic_listTest\u001b[0m\u001b[0;34m[\u001b[0m\u001b[0;36m1\u001b[0m\u001b[0;34m,\u001b[0m\u001b[0;36m2\u001b[0m\u001b[0;34m,\u001b[0m\u001b[0;36m3\u001b[0m\u001b[0;34m]\u001b[0m\u001b[0;34m)\u001b[0m\u001b[0;34m\u001b[0m\u001b[0m\n",
            "\u001b[0;31mTypeError\u001b[0m: unhashable type: 'list'"
          ]
        }
      ]
    },
    {
      "metadata": {
        "id": "zpPTiJ6n-HUB",
        "colab_type": "text"
      },
      "cell_type": "markdown",
      "source": [
        "반대로, Value값엔 리스트 사용이 가능하다."
      ]
    },
    {
      "metadata": {
        "id": "81Q5uY1q-HRV",
        "colab_type": "code",
        "colab": {
          "base_uri": "https://localhost:8080/",
          "height": 51
        },
        "outputId": "8800f49c-c18d-4746-8108-7233a2cb6e9d"
      },
      "cell_type": "code",
      "source": [
        "dic_listTest = {'Hell':[1,2,3]}\n",
        "\n",
        "print (dic_listTest)\n",
        "print (dic_listTest['Hell'])"
      ],
      "execution_count": 31,
      "outputs": [
        {
          "output_type": "stream",
          "text": [
            "{'Hell': [1, 2, 3]}\n",
            "[1, 2, 3]\n"
          ],
          "name": "stdout"
        }
      ]
    },
    {
      "metadata": {
        "id": "NM7OdaOJ-HOt",
        "colab_type": "text"
      },
      "cell_type": "markdown",
      "source": [
        "# 딕셔너리 관련 함수들"
      ]
    },
    {
      "metadata": {
        "id": "0XeN_3uoFNLZ",
        "colab_type": "text"
      },
      "cell_type": "markdown",
      "source": [
        "파이썬 2.7까지는 딕셔너리.keys() 호출 시 리턴값으로 dict_keys가 아닌 리스트를 리턴했다.\n",
        "\n",
        "파이썬 3.0 이후에서는 메모리 낭비를 줄이기 위해 dict_keys라는 객체를 리턴한다.\n",
        "\n",
        "**3.0 이후 버전에서 리턴값으로 리스트가 필요한 경우 \"list(딕셔너리.keys())\"를 사용하시오.**\n",
        "\n",
        "dict_keys, dict_values, dict_items 등은 리스트로 변환하지 않더라도 기본적 반복성 구문을 실행할 수 있다. for문 같은거요."
      ]
    },
    {
      "metadata": {
        "id": "kf4BBBqOCIuJ",
        "colab_type": "code",
        "colab": {
          "base_uri": "https://localhost:8080/",
          "height": 85
        },
        "outputId": "1c790862-ec80-4b82-936a-fc57c686c709"
      },
      "cell_type": "code",
      "source": [
        "dic01 = {'name':'이희성', 'phone':'01012345678', 'birth':'19901211'}\n",
        "\n",
        "print (dic01)\n",
        "print (dic01.keys())\n",
        "print (dic01.values())\n",
        "print (dic01.items())"
      ],
      "execution_count": 35,
      "outputs": [
        {
          "output_type": "stream",
          "text": [
            "{'name': '이희성', 'phone': '01012345678', 'birth': '19901211'}\n",
            "dict_keys(['name', 'phone', 'birth'])\n",
            "dict_values(['이희성', '01012345678', '19901211'])\n",
            "dict_items([('name', '이희성'), ('phone', '01012345678'), ('birth', '19901211')])\n"
          ],
          "name": "stdout"
        }
      ]
    },
    {
      "metadata": {
        "id": "zjot1pRqCI9n",
        "colab_type": "text"
      },
      "cell_type": "markdown",
      "source": [
        "dict_keys() 객체는 리스트를 사용하는 것과 큰 차이는 없지만,\n",
        "\n",
        "리스트 고유의 함수 append, insert, pop, remove, sort 등을 수행할 수는 없다."
      ]
    },
    {
      "metadata": {
        "id": "eZywL6_uCI6u",
        "colab_type": "code",
        "colab": {
          "base_uri": "https://localhost:8080/",
          "height": 170
        },
        "outputId": "3bdf295d-b86f-4e2d-beda-20952eab43a5"
      },
      "cell_type": "code",
      "source": [
        "list (dic01.keys())dic01 = {'name':'이희성', 'phone':'01012345678', 'birth':'19901211'}\n",
        "\n",
        "for a in dic01.keys():\n",
        "  print(a)\n",
        "  \n",
        "for b in dic01.values():\n",
        "  print(b)\n",
        "  \n",
        "for c in dic01.items():\n",
        "  print(c)"
      ],
      "execution_count": 39,
      "outputs": [
        {
          "output_type": "stream",
          "text": [
            "name\n",
            "phone\n",
            "birth\n",
            "이희성\n",
            "01012345678\n",
            "19901211\n",
            "('name', '이희성')\n",
            "('phone', '01012345678')\n",
            "('birth', '19901211')\n"
          ],
          "name": "stdout"
        }
      ]
    },
    {
      "metadata": {
        "id": "DbEUhbhdCI33",
        "colab_type": "text"
      },
      "cell_type": "markdown",
      "source": [
        "객체를 리스트로 변환하려면 다음과 같이 하자."
      ]
    },
    {
      "metadata": {
        "id": "iPHjN_WiCI0v",
        "colab_type": "code",
        "colab": {
          "base_uri": "https://localhost:8080/",
          "height": 68
        },
        "outputId": "6b650e8b-7292-43f6-c7f0-2008d9c60a48"
      },
      "cell_type": "code",
      "source": [
        "dic01 = {'name':'이희성', 'phone':'01012345678', 'birth':'19901211'}\n",
        "\n",
        "print (list(dic01.keys()))\n",
        "print (list(dic01.values()))\n",
        "print (list(dic01.items()))"
      ],
      "execution_count": 44,
      "outputs": [
        {
          "output_type": "stream",
          "text": [
            "['name', 'phone', 'birth']\n",
            "['이희성', '01012345678', '19901211']\n",
            "[('name', '이희성'), ('phone', '01012345678'), ('birth', '19901211')]\n"
          ],
          "name": "stdout"
        }
      ]
    },
    {
      "metadata": {
        "id": "SS3O-jorB3Ly",
        "colab_type": "text"
      },
      "cell_type": "markdown",
      "source": [
        "## Key : Value 쌍 모두 지우기 (clear())\n",
        "\n",
        "딕셔너리 안의 모든 요소 삭제를 삭제한다.\n",
        "\n",
        "빈 리스트를 [ ], 빈 튜플을 ( )로 표현하듯 빈 딕셔너리도 { }로 표현한다."
      ]
    },
    {
      "metadata": {
        "id": "tjDUdDAqMkDu",
        "colab_type": "code",
        "colab": {
          "base_uri": "https://localhost:8080/",
          "height": 34
        },
        "outputId": "04035874-422e-48de-a2f6-ca74e812fe50"
      },
      "cell_type": "code",
      "source": [
        "dic01 = {'name':'이희성', 'phone':'01012345678', 'birth':'19901211'}\n",
        "\n",
        "dic01.clear()\n",
        "\n",
        "print (dic01)"
      ],
      "execution_count": 45,
      "outputs": [
        {
          "output_type": "stream",
          "text": [
            "{}\n"
          ],
          "name": "stdout"
        }
      ]
    },
    {
      "metadata": {
        "id": "p53b41oTMkKq",
        "colab_type": "text"
      },
      "cell_type": "markdown",
      "source": [
        "## Key로 Value값 얻기 (get())\n",
        "\n",
        "get(x) 함수는 x라는 Key에 대응되는 Value를 돌려준다.\n",
        "\n",
        "**dic.get(a) = dic(a)**\n",
        "\n",
        "다만, 딕셔너리에 없는 키로 값을 가져오려고 할 경우 dic['NoKey']는 Key값 오류를 발생시키고,\n",
        "\n",
        "dic.get('NoKey')는 None을 리턴하는 차이가 있다."
      ]
    },
    {
      "metadata": {
        "id": "QcHSVkdPMkZI",
        "colab_type": "code",
        "colab": {
          "base_uri": "https://localhost:8080/",
          "height": 51
        },
        "outputId": "af9be378-8d3b-487a-f3b4-1aeafd0d9d55"
      },
      "cell_type": "code",
      "source": [
        "dic01 = {'name':'이희성', 'phone':'01012345678', 'birth':'19901211'}\n",
        "\n",
        "print (dic01['name'])\n",
        "print (dic01.get('name'))"
      ],
      "execution_count": 46,
      "outputs": [
        {
          "output_type": "stream",
          "text": [
            "이희성\n",
            "이희성\n"
          ],
          "name": "stdout"
        }
      ]
    },
    {
      "metadata": {
        "id": "4YyUGcFTMkpR",
        "colab_type": "code",
        "colab": {
          "base_uri": "https://localhost:8080/",
          "height": 282
        },
        "outputId": "603b51c9-fec1-402f-8292-0331cf9ba281"
      },
      "cell_type": "code",
      "source": [
        "# Key값이 없을때1\n",
        "dic01 = {'name':'이희성', 'phone':'01012345678', 'birth':'19901211'}\n",
        "\n",
        "print (dic01['Nokey'])"
      ],
      "execution_count": 47,
      "outputs": [
        {
          "output_type": "error",
          "ename": "KeyError",
          "evalue": "ignored",
          "traceback": [
            "\u001b[0;31m---------------------------------------------------------------------------\u001b[0m",
            "\u001b[0;31mKeyError\u001b[0m                                  Traceback (most recent call last)",
            "\u001b[0;32m<ipython-input-47-a8a730c19a93>\u001b[0m in \u001b[0;36m<module>\u001b[0;34m()\u001b[0m\n\u001b[1;32m      1\u001b[0m \u001b[0mdic01\u001b[0m \u001b[0;34m=\u001b[0m \u001b[0;34m{\u001b[0m\u001b[0;34m'name'\u001b[0m\u001b[0;34m:\u001b[0m\u001b[0;34m'이희성'\u001b[0m\u001b[0;34m,\u001b[0m \u001b[0;34m'phone'\u001b[0m\u001b[0;34m:\u001b[0m\u001b[0;34m'01012345678'\u001b[0m\u001b[0;34m,\u001b[0m \u001b[0;34m'birth'\u001b[0m\u001b[0;34m:\u001b[0m\u001b[0;34m'19901211'\u001b[0m\u001b[0;34m}\u001b[0m\u001b[0;34m\u001b[0m\u001b[0m\n\u001b[1;32m      2\u001b[0m \u001b[0;34m\u001b[0m\u001b[0m\n\u001b[0;32m----> 3\u001b[0;31m \u001b[0mprint\u001b[0m \u001b[0;34m(\u001b[0m\u001b[0mdic01\u001b[0m\u001b[0;34m[\u001b[0m\u001b[0;34m'Nokey'\u001b[0m\u001b[0;34m]\u001b[0m\u001b[0;34m)\u001b[0m\u001b[0;34m\u001b[0m\u001b[0m\n\u001b[0m",
            "\u001b[0;31mKeyError\u001b[0m: 'Nokey'"
          ]
        }
      ]
    },
    {
      "metadata": {
        "id": "hpDILqYNMkl8",
        "colab_type": "code",
        "colab": {
          "base_uri": "https://localhost:8080/",
          "height": 34
        },
        "outputId": "c40874d2-4dc7-470b-acf5-56424216908e"
      },
      "cell_type": "code",
      "source": [
        "# Key값이 없을떄2\n",
        "dic01 = {'name':'이희성', 'phone':'01012345678', 'birth':'19901211'}\n",
        "\n",
        "print (dic01.get('NoKey'))"
      ],
      "execution_count": 48,
      "outputs": [
        {
          "output_type": "stream",
          "text": [
            "None\n"
          ],
          "name": "stdout"
        }
      ]
    },
    {
      "metadata": {
        "id": "h77HxR5fMki_",
        "colab_type": "text"
      },
      "cell_type": "markdown",
      "source": [
        "## 해당 Key값이 딕셔너리 안에 있는지 조사하기 ( in( ) )\n",
        "\n",
        "딕셔너리의 Key가 존재하느냐, 존재하지 않느냐에 따라 True, False를 리턴한다."
      ]
    },
    {
      "metadata": {
        "id": "DgCGUNAIMkf5",
        "colab_type": "code",
        "colab": {
          "base_uri": "https://localhost:8080/",
          "height": 51
        },
        "outputId": "6eb530d5-5a38-403b-ff40-b22007f74ef3"
      },
      "cell_type": "code",
      "source": [
        "dic01 = {'name':'이희성', 'phone':'01012345678', 'birth':'19901211'}\n",
        "\n",
        "T = 'name' in dic01\n",
        "print (T)\n",
        "\n",
        "F = 'Hell' in dic01\n",
        "print (F)"
      ],
      "execution_count": 50,
      "outputs": [
        {
          "output_type": "stream",
          "text": [
            "True\n",
            "False\n"
          ],
          "name": "stdout"
        }
      ]
    },
    {
      "metadata": {
        "id": "Tp7LNud6PEMZ",
        "colab_type": "code",
        "colab": {}
      },
      "cell_type": "code",
      "source": [
        ""
      ],
      "execution_count": 0,
      "outputs": []
    },
    {
      "metadata": {
        "id": "dJulmqkVMkVl",
        "colab_type": "code",
        "colab": {}
      },
      "cell_type": "code",
      "source": [
        ""
      ],
      "execution_count": 0,
      "outputs": []
    },
    {
      "metadata": {
        "id": "yX7tGANfMkRv",
        "colab_type": "code",
        "colab": {}
      },
      "cell_type": "code",
      "source": [
        ""
      ],
      "execution_count": 0,
      "outputs": []
    },
    {
      "metadata": {
        "id": "IPTpNK0W-HLF",
        "colab_type": "code",
        "colab": {}
      },
      "cell_type": "code",
      "source": [
        ""
      ],
      "execution_count": 0,
      "outputs": []
    }
  ]
}