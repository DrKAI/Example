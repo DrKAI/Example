{
  "nbformat": 4,
  "nbformat_minor": 0,
  "metadata": {
    "colab": {
      "name": "02-6 집합 자료형.ipynb",
      "version": "0.3.2",
      "provenance": [],
      "collapsed_sections": [],
      "include_colab_link": true
    },
    "kernelspec": {
      "name": "python3",
      "display_name": "Python 3"
    }
  },
  "cells": [
    {
      "cell_type": "markdown",
      "metadata": {
        "id": "view-in-github",
        "colab_type": "text"
      },
      "source": [
        "<a href=\"https://colab.research.google.com/github/DrKAI/Example/blob/master/02-6%20%EC%A7%91%ED%95%A9%20%EC%9E%90%EB%A3%8C%ED%98%95.ipynb\" target=\"_parent\"><img src=\"https://colab.research.google.com/assets/colab-badge.svg\" alt=\"Open In Colab\"/></a>"
      ]
    },
    {
      "metadata": {
        "id": "f4fGD8l8Wisn",
        "colab_type": "text"
      },
      "cell_type": "markdown",
      "source": [
        "# 집합 자료형은 어떻게 만들까?\n",
        "\n",
        "집합(set)은 파이썬 2.3부터 지원되기 시작한 자료형이다.\n",
        "\n",
        "집합에 관련된 것들을 쉽게 처리하기 위해 만들어진 자료형이고, set 키워드를 이용해 만들 수 있다."
      ]
    },
    {
      "metadata": {
        "id": "VX8JC4mjXCO6",
        "colab_type": "code",
        "colab": {
          "base_uri": "https://localhost:8080/",
          "height": 51
        },
        "outputId": "9dff538e-353c-4ee0-d0ed-f122725669eb"
      },
      "cell_type": "code",
      "source": [
        "s1 = set([1,2,3])\n",
        "s2 = set(\"Hell\")\n",
        "\n",
        "print (s1)\n",
        "print (s2)"
      ],
      "execution_count": 5,
      "outputs": [
        {
          "output_type": "stream",
          "text": [
            "{1, 2, 3}\n",
            "{'l', 'e', 'H'}\n"
          ],
          "name": "stdout"
        }
      ]
    },
    {
      "metadata": {
        "id": "gbIo5smQXCi6",
        "colab_type": "text"
      },
      "cell_type": "markdown",
      "source": [
        "위와 같이 **set() 괄호 안에 리스트를 입력하여 만들거나, 문자열을 입력하여 만든다.**"
      ]
    },
    {
      "metadata": {
        "id": "1uLaKDlcXCrd",
        "colab_type": "text"
      },
      "cell_type": "markdown",
      "source": [
        "# 집합 자료형의 특징\n",
        "\n",
        "**중복 허용 X**\n",
        "\n",
        "**순서 X (Unordered)**"
      ]
    },
    {
      "metadata": {
        "id": "Ipsp62rAXCzf",
        "colab_type": "text"
      },
      "cell_type": "markdown",
      "source": [
        "위의 set(\"Hell\") 결과가 좀 이상하지 않나?\n",
        "\n",
        "\"Hell\"이라는 문자열로 set 자료형을 만들었는데, 생성된 자료형에는 \"l\" 문자가 하나 빠져있고 순서도 제멋대로이다.\n",
        "\n",
        "리스트, 튜플은 순서가 있기 때문에(ordered) 인덱싱을 통해 자료형의 값을 얻을 수 있지만,\n",
        "\n",
        "set 자료형은 순서가 없기 때문에(unordered) 인덱싱을 통해 값을 얻을 수 없다.\n",
        "\n",
        "딕셔너리 역시 순서 없는 자료형이라 인덱싱을 지원하지 않는다.\n",
        "\n",
        "아무튼, set 자료형에 저장된 값을 인덱싱으로 접근하려면 리스트나 튜플로 변환 후에 해야 한다."
      ]
    },
    {
      "metadata": {
        "id": "cQXIr_9AXC75",
        "colab_type": "text"
      },
      "cell_type": "markdown",
      "source": [
        "**중복을 허용하지 않는 set의 특징은 자료형의 중복을 제거하기 위한 필터로도 종종 사용된다.**"
      ]
    },
    {
      "metadata": {
        "id": "nZ98hHdsXDDV",
        "colab_type": "code",
        "colab": {
          "base_uri": "https://localhost:8080/",
          "height": 102
        },
        "outputId": "d2d50d8f-3ee7-4dc5-e313-2e87749b4141"
      },
      "cell_type": "code",
      "source": [
        "s1 = set([1,2,3])\n",
        "print (s1)\n",
        "\n",
        "l1 = list(s1)\n",
        "print (l1)\n",
        "print (l1[0])\n",
        "\n",
        "l2 = tuple(s1)\n",
        "print (l2)\n",
        "print (l2[0])"
      ],
      "execution_count": 6,
      "outputs": [
        {
          "output_type": "stream",
          "text": [
            "{1, 2, 3}\n",
            "[1, 2, 3]\n",
            "1\n",
            "(1, 2, 3)\n",
            "1\n"
          ],
          "name": "stdout"
        }
      ]
    },
    {
      "metadata": {
        "id": "lpUPlv3uZrQg",
        "colab_type": "text"
      },
      "cell_type": "markdown",
      "source": [
        "# 집합 자료형 활용하는 방법\n",
        "\n",
        "## 교집합, 합집합, 차집합 구하기\n",
        "\n",
        "set 자료형이 유용하게 쓰일 때는 위의 3집합을 구할 때이다."
      ]
    },
    {
      "metadata": {
        "id": "pvg82sQ3ZroL",
        "colab_type": "text"
      },
      "cell_type": "markdown",
      "source": [
        "## 1. 교집합"
      ]
    },
    {
      "metadata": {
        "id": "Qd9kT4OyZrle",
        "colab_type": "code",
        "colab": {
          "base_uri": "https://localhost:8080/",
          "height": 85
        },
        "outputId": "dd92181a-5a04-4cba-d3b1-773b84ed2679"
      },
      "cell_type": "code",
      "source": [
        "s1 = set([1,2,3,4,5,6])\n",
        "s2 = set([4,5,6,7,8,9])\n",
        "\n",
        "print (s1&s2)\n",
        "print (s2&s1)\n",
        "\n",
        "print (s1.intersection(s2))\n",
        "print (s2.intersection(s1))"
      ],
      "execution_count": 7,
      "outputs": [
        {
          "output_type": "stream",
          "text": [
            "{4, 5, 6}\n",
            "{4, 5, 6}\n",
            "{4, 5, 6}\n",
            "{4, 5, 6}\n"
          ],
          "name": "stdout"
        }
      ]
    },
    {
      "metadata": {
        "id": "k_q0M3YDZrij",
        "colab_type": "text"
      },
      "cell_type": "markdown",
      "source": [
        "## 2. 합집합"
      ]
    },
    {
      "metadata": {
        "id": "v884ldJyZrf7",
        "colab_type": "code",
        "colab": {
          "base_uri": "https://localhost:8080/",
          "height": 85
        },
        "outputId": "a50b4733-237d-4faa-9735-6583eb5d3901"
      },
      "cell_type": "code",
      "source": [
        "s1 = set([1,2,3,4,5,6])\n",
        "s2 = set([4,5,6,7,8,9])\n",
        "\n",
        "print (s1|s2)\n",
        "print (s2|s1)\n",
        "\n",
        "print (s1.union(s2))\n",
        "print (s2.union(s1))"
      ],
      "execution_count": 8,
      "outputs": [
        {
          "output_type": "stream",
          "text": [
            "{1, 2, 3, 4, 5, 6, 7, 8, 9}\n",
            "{1, 2, 3, 4, 5, 6, 7, 8, 9}\n",
            "{1, 2, 3, 4, 5, 6, 7, 8, 9}\n",
            "{1, 2, 3, 4, 5, 6, 7, 8, 9}\n"
          ],
          "name": "stdout"
        }
      ]
    },
    {
      "metadata": {
        "id": "630oodigZrdG",
        "colab_type": "text"
      },
      "cell_type": "markdown",
      "source": [
        "## 3. 차집합"
      ]
    },
    {
      "metadata": {
        "id": "3ZKEehAFZrZ9",
        "colab_type": "code",
        "colab": {
          "base_uri": "https://localhost:8080/",
          "height": 85
        },
        "outputId": "7f37f2ea-28d1-4849-a32c-ee2afd5194a5"
      },
      "cell_type": "code",
      "source": [
        "s1 = set([1,2,3,4,5,6])\n",
        "s2 = set([4,5,6,7,8,9])\n",
        "\n",
        "print (s1-s2)\n",
        "print (s2-s1)\n",
        "\n",
        "print (s1.difference(s2))\n",
        "print (s2.difference(s1))"
      ],
      "execution_count": 9,
      "outputs": [
        {
          "output_type": "stream",
          "text": [
            "{1, 2, 3}\n",
            "{8, 9, 7}\n",
            "{1, 2, 3}\n",
            "{8, 9, 7}\n"
          ],
          "name": "stdout"
        }
      ]
    },
    {
      "metadata": {
        "id": "WpXsAjhBZrWs",
        "colab_type": "text"
      },
      "cell_type": "markdown",
      "source": [
        "# 집합 자료형 관련 함수"
      ]
    },
    {
      "metadata": {
        "id": "p0ddQvLkXDKq",
        "colab_type": "text"
      },
      "cell_type": "markdown",
      "source": [
        "## 값 1개 추가하기 ( add() )\n",
        "\n",
        "이미 만들어진 set 자료형에 값을 추가한다. 1개의 값만 추가할 때 사용한다."
      ]
    },
    {
      "metadata": {
        "id": "g7bt8yKfb4Ks",
        "colab_type": "code",
        "colab": {
          "base_uri": "https://localhost:8080/",
          "height": 51
        },
        "outputId": "33dd6958-16cb-49c1-eb3d-934833b54f72"
      },
      "cell_type": "code",
      "source": [
        "s1 = set([1,2,3,4,5,6])\n",
        "print (s1)\n",
        "\n",
        "s1.add(10)\n",
        "print (s1)"
      ],
      "execution_count": 10,
      "outputs": [
        {
          "output_type": "stream",
          "text": [
            "{1, 2, 3, 4, 5, 6}\n",
            "{1, 2, 3, 4, 5, 6, 10}\n"
          ],
          "name": "stdout"
        }
      ]
    },
    {
      "metadata": {
        "id": "8EXkjp4jb4Qo",
        "colab_type": "text"
      },
      "cell_type": "markdown",
      "source": [
        "## 값 여러 개 추가하기 ( update() )\n",
        "\n",
        "이미 만들어진 set 자료형에 여러 개의 값을 한꺼번에 추가할 때 사용한다."
      ]
    },
    {
      "metadata": {
        "id": "zx7hLqesb4dT",
        "colab_type": "code",
        "colab": {
          "base_uri": "https://localhost:8080/",
          "height": 51
        },
        "outputId": "46586e71-b9b4-4170-f420-c3ac7a5d5d4a"
      },
      "cell_type": "code",
      "source": [
        "s1 = set([1,2,3,4,5,6])\n",
        "print (s1)\n",
        "\n",
        "s1.update([7,9,8,10])\n",
        "print (s1)"
      ],
      "execution_count": 11,
      "outputs": [
        {
          "output_type": "stream",
          "text": [
            "{1, 2, 3, 4, 5, 6}\n",
            "{1, 2, 3, 4, 5, 6, 7, 8, 9, 10}\n"
          ],
          "name": "stdout"
        }
      ]
    },
    {
      "metadata": {
        "id": "FhF4IWoAb4uO",
        "colab_type": "text"
      },
      "cell_type": "markdown",
      "source": [
        "## 특정 값 제거하기 ( remove() )\n",
        "\n",
        "set 자료형 안의 특정 값을 제거하고 싶을 때 사용한다."
      ]
    },
    {
      "metadata": {
        "id": "4mXuvm-ncVEu",
        "colab_type": "code",
        "colab": {
          "base_uri": "https://localhost:8080/",
          "height": 51
        },
        "outputId": "53afdc2f-412b-4306-d186-9a0a54d7d894"
      },
      "cell_type": "code",
      "source": [
        "s1 = set([1,2,3,4,5,6])\n",
        "print (s1)\n",
        "\n",
        "s1.remove(3)\n",
        "print (s1)"
      ],
      "execution_count": 16,
      "outputs": [
        {
          "output_type": "stream",
          "text": [
            "{1, 2, 3, 4, 5, 6}\n",
            "{1, 2, 4, 5, 6}\n"
          ],
          "name": "stdout"
        }
      ]
    },
    {
      "metadata": {
        "id": "TMnSCmTzb4rp",
        "colab_type": "text"
      },
      "cell_type": "markdown",
      "source": [
        "그렇다면, 여러 개의 값을 제거하는 것은 가능할까?"
      ]
    },
    {
      "metadata": {
        "id": "-XhvOF7jb4pJ",
        "colab_type": "code",
        "colab": {
          "base_uri": "https://localhost:8080/",
          "height": 332
        },
        "outputId": "4ba55603-c125-442e-a8b1-4c07f868441e"
      },
      "cell_type": "code",
      "source": [
        "s1 = set([1,2,3,4,5,6])\n",
        "print (s1)\n",
        "\n",
        "s1.remove(2,3,4)\n",
        "print (s1)"
      ],
      "execution_count": 17,
      "outputs": [
        {
          "output_type": "stream",
          "text": [
            "{1, 2, 3, 4, 5, 6}\n"
          ],
          "name": "stdout"
        },
        {
          "output_type": "error",
          "ename": "TypeError",
          "evalue": "ignored",
          "traceback": [
            "\u001b[0;31m---------------------------------------------------------------------------\u001b[0m",
            "\u001b[0;31mTypeError\u001b[0m                                 Traceback (most recent call last)",
            "\u001b[0;32m<ipython-input-17-226c4df1641c>\u001b[0m in \u001b[0;36m<module>\u001b[0;34m()\u001b[0m\n\u001b[1;32m      2\u001b[0m \u001b[0mprint\u001b[0m \u001b[0;34m(\u001b[0m\u001b[0ms1\u001b[0m\u001b[0;34m)\u001b[0m\u001b[0;34m\u001b[0m\u001b[0m\n\u001b[1;32m      3\u001b[0m \u001b[0;34m\u001b[0m\u001b[0m\n\u001b[0;32m----> 4\u001b[0;31m \u001b[0ms1\u001b[0m\u001b[0;34m.\u001b[0m\u001b[0mremove\u001b[0m\u001b[0;34m(\u001b[0m\u001b[0;36m2\u001b[0m\u001b[0;34m,\u001b[0m\u001b[0;36m3\u001b[0m\u001b[0;34m,\u001b[0m\u001b[0;36m4\u001b[0m\u001b[0;34m)\u001b[0m\u001b[0;34m\u001b[0m\u001b[0m\n\u001b[0m\u001b[1;32m      5\u001b[0m \u001b[0mprint\u001b[0m \u001b[0;34m(\u001b[0m\u001b[0ms1\u001b[0m\u001b[0;34m)\u001b[0m\u001b[0;34m\u001b[0m\u001b[0m\n",
            "\u001b[0;31mTypeError\u001b[0m: remove() takes exactly one argument (3 given)"
          ]
        }
      ]
    },
    {
      "metadata": {
        "id": "2ULOqxsDb4mr",
        "colab_type": "text"
      },
      "cell_type": "markdown",
      "source": [
        "**문법 상 하나씩만 제거가 가능하다고 메세지가 출력된다**"
      ]
    },
    {
      "metadata": {
        "id": "q_F3HHOcb4a5",
        "colab_type": "text"
      },
      "cell_type": "markdown",
      "source": [
        "# 번외편. set 자료형 생성시 꼭 [ ]을 이용해야 할까?\n",
        "\n",
        "( )로는 불가한가 테스트 해보자."
      ]
    },
    {
      "metadata": {
        "id": "R5G0Bb8-b4XW",
        "colab_type": "code",
        "colab": {
          "base_uri": "https://localhost:8080/",
          "height": 34
        },
        "outputId": "2407a253-ed80-4893-826f-a4d1862d13f8"
      },
      "cell_type": "code",
      "source": [
        "s1 = set((1,2,3,4,5,6))\n",
        "print (s1)"
      ],
      "execution_count": 15,
      "outputs": [
        {
          "output_type": "stream",
          "text": [
            "{1, 2, 3, 4, 5, 6}\n"
          ],
          "name": "stdout"
        }
      ]
    },
    {
      "metadata": {
        "id": "ZUWCPirFdNPn",
        "colab_type": "text"
      },
      "cell_type": "markdown",
      "source": [
        "**된다!**"
      ]
    },
    {
      "metadata": {
        "id": "vT4gR_nAeDKc",
        "colab_type": "text"
      },
      "cell_type": "markdown",
      "source": [
        "# 연습문제"
      ]
    },
    {
      "metadata": {
        "id": "8dPPd3eweDcb",
        "colab_type": "text"
      },
      "cell_type": "markdown",
      "source": [
        "## Q1. 집합 만들기1\n",
        "\n",
        "['a', 'b', 'c', 'd'] 라는 리스트를 집합 자료형으로 만드시오."
      ]
    },
    {
      "metadata": {
        "id": "DoeM5ZhQeDwS",
        "colab_type": "code",
        "colab": {
          "base_uri": "https://localhost:8080/",
          "height": 34
        },
        "outputId": "c05dcbc2-0b80-490c-ab12-da8916b217a1"
      },
      "cell_type": "code",
      "source": [
        "s_test = set(['a', 'b', 'c', 'd'])\n",
        "\n",
        "print (s_test)"
      ],
      "execution_count": 20,
      "outputs": [
        {
          "output_type": "stream",
          "text": [
            "{'c', 'b', 'a', 'd'}\n"
          ],
          "name": "stdout"
        }
      ]
    },
    {
      "metadata": {
        "id": "MGg4Y9aneDtV",
        "colab_type": "text"
      },
      "cell_type": "markdown",
      "source": [
        "## Q2. 집합의 중복\n",
        "\n",
        "중복이 허용되지 않는 집합 자료형의 특징을 이용하여 아래의 리스트에서 중복된 숫자를 제거하라.\n",
        "\n",
        "list01 = [1,1,2,2,2,3,3,3,3,4,4,4,4,4,5,5,5,5,5,5]"
      ]
    },
    {
      "metadata": {
        "id": "GtFnVhfoeDqQ",
        "colab_type": "code",
        "colab": {
          "base_uri": "https://localhost:8080/",
          "height": 68
        },
        "outputId": "cbe0e907-ed5f-4db0-c57d-e614a49e369b"
      },
      "cell_type": "code",
      "source": [
        "list01 = [1,1,2,2,2,3,3,3,3,4,4,4,4,4,5,5,5,5,5,5]\n",
        "print (list01)\n",
        "\n",
        "print (set(list01))\n",
        "\n",
        "set01 = set(list01)\n",
        "print (set01)"
      ],
      "execution_count": 23,
      "outputs": [
        {
          "output_type": "stream",
          "text": [
            "[1, 1, 2, 2, 2, 3, 3, 3, 3, 4, 4, 4, 4, 4, 5, 5, 5, 5, 5, 5]\n",
            "{1, 2, 3, 4, 5}\n",
            "{1, 2, 3, 4, 5}\n"
          ],
          "name": "stdout"
        }
      ]
    },
    {
      "metadata": {
        "id": "HurKRYcueDmI",
        "colab_type": "text"
      },
      "cell_type": "markdown",
      "source": [
        "## Q3. 차집합\n",
        "\n",
        "s1 = set(['a', 'b', 'c', 'd', 'e', 'f'])\n",
        "\n",
        "s2 = set(['c', 'd', 'e', 'f', 'g', 'h'])\n",
        "\n",
        "s1의 집합에서 s2 집합에 포함된 요소를 제거하라."
      ]
    },
    {
      "metadata": {
        "id": "qjCtxGm8fVME",
        "colab_type": "code",
        "colab": {
          "base_uri": "https://localhost:8080/",
          "height": 85
        },
        "outputId": "4e50da3c-4b31-472e-d31f-c66aa10bf74f"
      },
      "cell_type": "code",
      "source": [
        "s1 = set(['a', 'b', 'c', 'd', 'e', 'f'])\n",
        "s2 = set(['c', 'd', 'e', 'f', 'g', 'h'])\n",
        "\n",
        "print (s1-s2)\n",
        "print (s1.difference(s2))\n",
        "\n",
        "s_fix01 = s1-s2\n",
        "s_fix02 = s1.difference(s2)\n",
        "\n",
        "print (s_fix01)\n",
        "print (s_fix02)"
      ],
      "execution_count": 26,
      "outputs": [
        {
          "output_type": "stream",
          "text": [
            "{'b', 'a'}\n",
            "{'b', 'a'}\n",
            "{'b', 'a'}\n",
            "{'b', 'a'}\n"
          ],
          "name": "stdout"
        }
      ]
    },
    {
      "metadata": {
        "id": "naSoaHxgfVId",
        "colab_type": "text"
      },
      "cell_type": "markdown",
      "source": [
        "## Q4. 집합 만들기2"
      ]
    },
    {
      "metadata": {
        "id": "BUTPlVp-fVFh",
        "colab_type": "code",
        "colab": {
          "base_uri": "https://localhost:8080/",
          "height": 119
        },
        "outputId": "ae3f19d8-db0f-4ec9-a96a-09fe754e4d13"
      },
      "cell_type": "code",
      "source": [
        "a = {'a','b','c'}\n",
        "print (a)\n",
        "print (type(a))\n",
        "\n",
        "b = ('a','b','c')\n",
        "print (b)\n",
        "print (type(b))\n",
        "\n",
        "c = ['a','b','c']\n",
        "print (c)\n",
        "print (type(c))"
      ],
      "execution_count": 28,
      "outputs": [
        {
          "output_type": "stream",
          "text": [
            "{'c', 'b', 'a'}\n",
            "<class 'set'>\n",
            "('a', 'b', 'c')\n",
            "<class 'tuple'>\n",
            "['a', 'b', 'c']\n",
            "<class 'list'>\n"
          ],
          "name": "stdout"
        }
      ]
    },
    {
      "metadata": {
        "id": "X4AImMyzfVBj",
        "colab_type": "text"
      },
      "cell_type": "markdown",
      "source": [
        "집합 자료형은 위의 예시 a와 같이도 만들 수 있다.\n",
        "\n",
        "그럼 값이 하나 없는 비어있는 집합 자료형을 만들면 어떻게 될까?"
      ]
    },
    {
      "metadata": {
        "id": "sUXJ9USpfU9i",
        "colab_type": "code",
        "colab": {
          "base_uri": "https://localhost:8080/",
          "height": 119
        },
        "outputId": "3ac7f74b-87a0-4ace-adcb-d3227222f5fa"
      },
      "cell_type": "code",
      "source": [
        "a = {}\n",
        "print (a)\n",
        "print (type(a))\n",
        "\n",
        "b = ()\n",
        "print (b)\n",
        "print (type(b))\n",
        "\n",
        "c = []\n",
        "print (c)\n",
        "print (type(c))"
      ],
      "execution_count": 30,
      "outputs": [
        {
          "output_type": "stream",
          "text": [
            "{}\n",
            "<class 'dict'>\n",
            "()\n",
            "<class 'tuple'>\n",
            "[]\n",
            "<class 'list'>\n"
          ],
          "name": "stdout"
        }
      ]
    },
    {
      "metadata": {
        "id": "Z8QNEl-HeDi6",
        "colab_type": "text"
      },
      "cell_type": "markdown",
      "source": [
        "위처럼 딕셔너리로 인식하게 된다. 값이 비어있는 집합 자료형은 어떻게해야 만들 수 있을까?"
      ]
    },
    {
      "metadata": {
        "id": "NzfP3mX1hlHN",
        "colab_type": "code",
        "colab": {
          "base_uri": "https://localhost:8080/",
          "height": 85
        },
        "outputId": "11eeada0-358a-4608-8d5c-7e6974cbfa7a"
      },
      "cell_type": "code",
      "source": [
        "list01 = []\n",
        "tuple01 = ()\n",
        "\n",
        "set01 = set(list01)\n",
        "set02 = set(tuple01)\n",
        "\n",
        "print (set01)\n",
        "print (set02)\n",
        "\n",
        "print (type(set01))\n",
        "print (type(set02))"
      ],
      "execution_count": 33,
      "outputs": [
        {
          "output_type": "stream",
          "text": [
            "set()\n",
            "set()\n",
            "<class 'set'>\n",
            "<class 'set'>\n"
          ],
          "name": "stdout"
        }
      ]
    },
    {
      "metadata": {
        "id": "9F3uIK1rhlWR",
        "colab_type": "text"
      },
      "cell_type": "markdown",
      "source": [
        "## Q5. 집합 추가\n",
        "\n",
        "집합 자료형 a = {'a', 'b', 'c'}가 있다. 이에 {'d', 'e', 'f'}를 추가하시오."
      ]
    },
    {
      "metadata": {
        "id": "4uPUhmoahlSb",
        "colab_type": "code",
        "colab": {
          "base_uri": "https://localhost:8080/",
          "height": 51
        },
        "outputId": "845e1164-8974-4a51-c19c-cc662df192f7"
      },
      "cell_type": "code",
      "source": [
        "a = {'a', 'b', 'c'}\n",
        "print (a)\n",
        "\n",
        "a.update('d','e','f')\n",
        "print (a)"
      ],
      "execution_count": 38,
      "outputs": [
        {
          "output_type": "stream",
          "text": [
            "{'c', 'b', 'a'}\n",
            "{'a', 'd', 'c', 'e', 'b', 'f'}\n"
          ],
          "name": "stdout"
        }
      ]
    },
    {
      "metadata": {
        "id": "po0boOrzhlOX",
        "colab_type": "code",
        "colab": {
          "base_uri": "https://localhost:8080/",
          "height": 332
        },
        "outputId": "e7d4ea2a-5401-4bb1-8079-492794623582"
      },
      "cell_type": "code",
      "source": [
        "# 당연하게도, 자료형과 숫자형을 혼용하는건 불가하다.\n",
        "a = {'a', 'b', 'c'}\n",
        "print (a)\n",
        "\n",
        "a.update(10,100,1000)\n",
        "print (a)"
      ],
      "execution_count": 45,
      "outputs": [
        {
          "output_type": "stream",
          "text": [
            "{'c', 'b', 'a'}\n"
          ],
          "name": "stdout"
        },
        {
          "output_type": "error",
          "ename": "TypeError",
          "evalue": "ignored",
          "traceback": [
            "\u001b[0;31m---------------------------------------------------------------------------\u001b[0m",
            "\u001b[0;31mTypeError\u001b[0m                                 Traceback (most recent call last)",
            "\u001b[0;32m<ipython-input-45-1736dde5ca42>\u001b[0m in \u001b[0;36m<module>\u001b[0;34m()\u001b[0m\n\u001b[1;32m      2\u001b[0m \u001b[0mprint\u001b[0m \u001b[0;34m(\u001b[0m\u001b[0ma\u001b[0m\u001b[0;34m)\u001b[0m\u001b[0;34m\u001b[0m\u001b[0m\n\u001b[1;32m      3\u001b[0m \u001b[0;34m\u001b[0m\u001b[0m\n\u001b[0;32m----> 4\u001b[0;31m \u001b[0ma\u001b[0m\u001b[0;34m.\u001b[0m\u001b[0mupdate\u001b[0m\u001b[0;34m(\u001b[0m\u001b[0;36m10\u001b[0m\u001b[0;34m,\u001b[0m\u001b[0;36m100\u001b[0m\u001b[0;34m,\u001b[0m\u001b[0;36m1000\u001b[0m\u001b[0;34m)\u001b[0m\u001b[0;34m\u001b[0m\u001b[0m\n\u001b[0m\u001b[1;32m      5\u001b[0m \u001b[0mprint\u001b[0m \u001b[0;34m(\u001b[0m\u001b[0ma\u001b[0m\u001b[0;34m)\u001b[0m\u001b[0;34m\u001b[0m\u001b[0m\n",
            "\u001b[0;31mTypeError\u001b[0m: 'int' object is not iterable"
          ]
        }
      ]
    }
  ]
}