{
  "nbformat": 4,
  "nbformat_minor": 0,
  "metadata": {
    "colab": {
      "name": "02-4 튜플 자료형.ipynb",
      "version": "0.3.2",
      "provenance": [],
      "collapsed_sections": [],
      "include_colab_link": true
    },
    "kernelspec": {
      "name": "python3",
      "display_name": "Python 3"
    }
  },
  "cells": [
    {
      "cell_type": "markdown",
      "metadata": {
        "id": "view-in-github",
        "colab_type": "text"
      },
      "source": [
        "<a href=\"https://colab.research.google.com/github/DrKAI/Example/blob/master/02-4.%ED%8A%9C%ED%94%8C%20%EC%9E%90%EB%A3%8C%ED%98%95.ipynb\" target=\"_parent\"><img src=\"https://colab.research.google.com/assets/colab-badge.svg\" alt=\"Open In Colab\"/></a>"
      ]
    },
    {
      "metadata": {
        "id": "MyKBcCzqzezC",
        "colab_type": "text"
      },
      "cell_type": "markdown",
      "source": [
        "#튜플은 어떻게 만들까?\n",
        "\n",
        " 튜플(turple)은 몇 가지 점을 제외하곤 리스트와 거의 비슷하며 리스트와 다른 점은 다음과 같다.\n",
        " \n",
        " 1. 리스트는 [ ]에 둘러쌓이지만 튜플은 ( )에 둘러쌓인다.\n",
        " 2. 리스트는 그 값의 생성, 삭제, 수정이 가능하지만 튜플은 그 값을 바꿀수 없다.\n",
        " \n",
        " 튜플의 모습은 다음과 같다."
      ]
    },
    {
      "metadata": {
        "id": "Hg-_MGZG4HNp",
        "colab_type": "code",
        "colab": {
          "base_uri": "https://localhost:8080/",
          "height": 102
        },
        "outputId": "839bc1f4-e8e9-46f0-ea6d-2b8570c1a0c8"
      },
      "cell_type": "code",
      "source": [
        "t1 = ()\n",
        "t2 = (1,)\n",
        "t3 = (1,2,3)\n",
        "t4 = 1,2,3\n",
        "t5 = ('a','b',('ab','cd'))\n",
        "\n",
        "print (t1)\n",
        "print (t2)\n",
        "print (t3)\n",
        "print (t4)\n",
        "print (t5)"
      ],
      "execution_count": 2,
      "outputs": [
        {
          "output_type": "stream",
          "text": [
            "()\n",
            "(1,)\n",
            "(1, 2, 3)\n",
            "(1, 2, 3)\n",
            "('a', 'b', ('ab', 'cd'))\n"
          ],
          "name": "stdout"
        }
      ]
    },
    {
      "metadata": {
        "id": "vY0Cntey4t1w",
        "colab_type": "text"
      },
      "cell_type": "markdown",
      "source": [
        "리스트와 모습은 거의 비슷하지만 튜플에서는 리스트와 다른 2가지 차이점을 찾아볼 수 있다.\n",
        "t2 = (1,) 처럼 단지 1개의 요소만을 가질 때는 요소 뒤에 (,)를 반드시 붙여야 한다는 점.\n",
        "t4 = 1,2,3 처럼 괄호 ( )를 생략해도 무방하다는 점."
      ]
    },
    {
      "metadata": {
        "id": "kUu2qtf45AqL",
        "colab_type": "text"
      },
      "cell_type": "markdown",
      "source": [
        "얼핏보면 튜플과 리스트는 비슷한 역할을 하지만, 튜플과 리스트는 구분해서 사용하는 것이 유리하다.\n",
        "\n",
        "튜플과 리스트의 가장 큰 차이는 값을 변화시킬 수 있는가 없는가이다.\n",
        "\n",
        "따라서 프로그램이 실행되는 동안 그 값이 항상 변하지 않기를 바란다거나 값이 바뀔까 걱정하고 싶지 않다면 튜플을 사용해야 한다.\n",
        "\n",
        "반대로 수시로 값을 변화시켜야 할 경우라면 리스트를 사용해야 한다.\n",
        "\n",
        "**실제 프로그래밍에서는 값이 변경되는 형태의 변수가 훨씬 많기 때문에 평균적으로 튜플보다는 리스트를 더 많이 사용하게 된다.**"
      ]
    },
    {
      "metadata": {
        "id": "bwa3GFXA5AvE",
        "colab_type": "text"
      },
      "cell_type": "markdown",
      "source": [
        "# 튜플의 요소값을 지우거나 변경하려고 하면 어떻게 될까?"
      ]
    },
    {
      "metadata": {
        "id": "o1g0BSeU5A2w",
        "colab_type": "text"
      },
      "cell_type": "markdown",
      "source": [
        "## 1. 튜플 요소값 삭제 시 오류"
      ]
    },
    {
      "metadata": {
        "id": "6mPjnu2D5BEp",
        "colab_type": "code",
        "colab": {
          "base_uri": "https://localhost:8080/",
          "height": 342
        },
        "outputId": "59487115-3d7c-4a74-d331-cdf6ebd6e1b9"
      },
      "cell_type": "code",
      "source": [
        "t1 = (1,2,'a','b')\n",
        "print (t1)\n",
        "\n",
        "del t1[0]\n",
        "print (t1)"
      ],
      "execution_count": 6,
      "outputs": [
        {
          "output_type": "stream",
          "text": [
            "(1, 2, 'a', 'b')\n"
          ],
          "name": "stdout"
        },
        {
          "output_type": "error",
          "ename": "TypeError",
          "evalue": "ignored",
          "traceback": [
            "\u001b[0;31m---------------------------------------------------------------------------\u001b[0m",
            "\u001b[0;31mTypeError\u001b[0m                                 Traceback (most recent call last)",
            "\u001b[0;32m<ipython-input-6-1e9b94d3e617>\u001b[0m in \u001b[0;36m<module>\u001b[0;34m()\u001b[0m\n\u001b[1;32m      2\u001b[0m \u001b[0mprint\u001b[0m \u001b[0;34m(\u001b[0m\u001b[0mt1\u001b[0m\u001b[0;34m)\u001b[0m\u001b[0;34m\u001b[0m\u001b[0m\n\u001b[1;32m      3\u001b[0m \u001b[0;34m\u001b[0m\u001b[0m\n\u001b[0;32m----> 4\u001b[0;31m \u001b[0;32mdel\u001b[0m \u001b[0mt1\u001b[0m\u001b[0;34m[\u001b[0m\u001b[0;36m0\u001b[0m\u001b[0;34m]\u001b[0m\u001b[0;34m\u001b[0m\u001b[0m\n\u001b[0m\u001b[1;32m      5\u001b[0m \u001b[0mprint\u001b[0m \u001b[0;34m(\u001b[0m\u001b[0mt1\u001b[0m\u001b[0;34m)\u001b[0m\u001b[0;34m\u001b[0m\u001b[0m\n",
            "\u001b[0;31mTypeError\u001b[0m: 'tuple' object doesn't support item deletion"
          ]
        }
      ]
    },
    {
      "metadata": {
        "id": "OYjRjlYN79Op",
        "colab_type": "text"
      },
      "cell_type": "markdown",
      "source": [
        " 튜플 요소를 리스트처럼 del 함수로 지우려고 한 예이다.\n",
        " \n",
        " 튜플은 요소를 지우는 행위가 지원되지 않는다는 메세지가 출력된다."
      ]
    },
    {
      "metadata": {
        "id": "gXDybhq35BXO",
        "colab_type": "text"
      },
      "cell_type": "markdown",
      "source": [
        "## 2. 튜플 요소값 변경 시 오류"
      ]
    },
    {
      "metadata": {
        "id": "BMVKjD185Bgi",
        "colab_type": "code",
        "colab": {
          "base_uri": "https://localhost:8080/",
          "height": 332
        },
        "outputId": "98ee9d98-c0f3-46c3-fd52-3a24284a35c6"
      },
      "cell_type": "code",
      "source": [
        "t1 = (1,2,'a','b')\n",
        "print (t1)\n",
        "\n",
        "t1[0] = 'c'\n",
        "print (t1)"
      ],
      "execution_count": 7,
      "outputs": [
        {
          "output_type": "stream",
          "text": [
            "(1, 2, 'a', 'b')\n"
          ],
          "name": "stdout"
        },
        {
          "output_type": "error",
          "ename": "TypeError",
          "evalue": "ignored",
          "traceback": [
            "\u001b[0;31m---------------------------------------------------------------------------\u001b[0m",
            "\u001b[0;31mTypeError\u001b[0m                                 Traceback (most recent call last)",
            "\u001b[0;32m<ipython-input-7-43ab84ff697d>\u001b[0m in \u001b[0;36m<module>\u001b[0;34m()\u001b[0m\n\u001b[1;32m      2\u001b[0m \u001b[0mprint\u001b[0m \u001b[0;34m(\u001b[0m\u001b[0mt1\u001b[0m\u001b[0;34m)\u001b[0m\u001b[0;34m\u001b[0m\u001b[0m\n\u001b[1;32m      3\u001b[0m \u001b[0;34m\u001b[0m\u001b[0m\n\u001b[0;32m----> 4\u001b[0;31m \u001b[0mt1\u001b[0m\u001b[0;34m[\u001b[0m\u001b[0;36m0\u001b[0m\u001b[0;34m]\u001b[0m \u001b[0;34m=\u001b[0m \u001b[0;34m'c'\u001b[0m\u001b[0;34m\u001b[0m\u001b[0m\n\u001b[0m\u001b[1;32m      5\u001b[0m \u001b[0mprint\u001b[0m \u001b[0;34m(\u001b[0m\u001b[0mt1\u001b[0m\u001b[0;34m)\u001b[0m\u001b[0;34m\u001b[0m\u001b[0m\n",
            "\u001b[0;31mTypeError\u001b[0m: 'tuple' object does not support item assignment"
          ]
        }
      ]
    },
    {
      "metadata": {
        "id": "5Vs_5X_T5FKf",
        "colab_type": "text"
      },
      "cell_type": "markdown",
      "source": [
        "튜플 요소값을 변경하려 해도 del 함수와 마찬가지로 오류가 발생한다."
      ]
    },
    {
      "metadata": {
        "id": "SpoWHvvm5BeW",
        "colab_type": "text"
      },
      "cell_type": "markdown",
      "source": [
        "# 튜플의 인덱싱, 슬라이싱, 덧셈(+), 곱셈(*)"
      ]
    },
    {
      "metadata": {
        "id": "7MMwynpN5BcI",
        "colab_type": "text"
      },
      "cell_type": "markdown",
      "source": [
        "튜플은 값을 변화시킬 수 없다는 점만 제외하면 리스트와 완전히 동일하다. "
      ]
    },
    {
      "metadata": {
        "id": "Ic-HK8N35BCo",
        "colab_type": "text"
      },
      "cell_type": "markdown",
      "source": [
        "## 1. 인덱싱하기"
      ]
    },
    {
      "metadata": {
        "id": "LfFbBEgp5BAb",
        "colab_type": "code",
        "colab": {
          "base_uri": "https://localhost:8080/",
          "height": 68
        },
        "outputId": "2b65cf14-d6e9-4b0b-e2b6-f012cb690eea"
      },
      "cell_type": "code",
      "source": [
        "t1 = (1,2,'a','b')\n",
        "\n",
        "print (t1)\n",
        "print (t1[0])\n",
        "print (t1[3])"
      ],
      "execution_count": 8,
      "outputs": [
        {
          "output_type": "stream",
          "text": [
            "(1, 2, 'a', 'b')\n",
            "1\n",
            "b\n"
          ],
          "name": "stdout"
        }
      ]
    },
    {
      "metadata": {
        "id": "iK1JhzWF5A97",
        "colab_type": "text"
      },
      "cell_type": "markdown",
      "source": [
        "## 2. 슬라이싱하기"
      ]
    },
    {
      "metadata": {
        "id": "sa41WPdW5A7r",
        "colab_type": "code",
        "colab": {
          "base_uri": "https://localhost:8080/",
          "height": 68
        },
        "outputId": "54798aca-18df-4b19-9512-0e5235587013"
      },
      "cell_type": "code",
      "source": [
        "t1 = (1,2,'a','b')\n",
        "\n",
        "print (t1)\n",
        "print (t1[1:])\n",
        "print (t1[2:4])"
      ],
      "execution_count": 12,
      "outputs": [
        {
          "output_type": "stream",
          "text": [
            "(1, 2, 'a', 'b')\n",
            "(2, 'a', 'b')\n",
            "('a', 'b')\n"
          ],
          "name": "stdout"
        }
      ]
    },
    {
      "metadata": {
        "id": "wLVsSPlq5A0g",
        "colab_type": "text"
      },
      "cell_type": "markdown",
      "source": [
        "## 중간문제. 별을 이쁘게 만들어보시오."
      ]
    },
    {
      "metadata": {
        "id": "4CqQZulcKZ5k",
        "colab_type": "code",
        "colab": {
          "base_uri": "https://localhost:8080/",
          "height": 289
        },
        "outputId": "d260abc7-7d4a-4825-bb29-9a71c59812b6"
      },
      "cell_type": "code",
      "source": [
        "empty = \" \"\n",
        "star = \"*\"\n",
        "\n",
        "a = 1\n",
        "b = 1\n",
        "\n",
        "while a < 5 :\n",
        "  print(star*b)\n",
        "  b = b+2\n",
        "  a = a+1\n",
        "\n",
        "b = 5\n",
        "  \n",
        "while a > 2 :\n",
        "  a -= 1\n",
        "  print(star*b)\n",
        "  b -= 2\n",
        "\n",
        "  \n",
        "a = 1\n",
        "\n",
        "while a < 10 :\n",
        "  print(star*a)\n",
        "  a += 2\n",
        "\n",
        "a -= 2\n",
        "\n",
        "while a > 2 :\n",
        "  a -= 2\n",
        "  print(star*a)\n"
      ],
      "execution_count": 43,
      "outputs": [
        {
          "output_type": "stream",
          "text": [
            "*\n",
            "***\n",
            "*****\n",
            "*******\n",
            "*****\n",
            "***\n",
            "*\n",
            "*\n",
            "***\n",
            "*****\n",
            "*******\n",
            "*********\n",
            "*******\n",
            "*****\n",
            "***\n",
            "*\n"
          ],
          "name": "stdout"
        }
      ]
    },
    {
      "metadata": {
        "id": "I-8b_XGHRA0C",
        "colab_type": "code",
        "colab": {
          "base_uri": "https://localhost:8080/",
          "height": 170
        },
        "outputId": "172381a8-9f94-499f-f71f-5a9a80d34f49"
      },
      "cell_type": "code",
      "source": [
        "star = \"*\"\n",
        "empty = \" \"\n",
        "\n",
        "a = 1\n",
        "b = 10\n",
        "\n",
        "\n",
        "while a < 10:\n",
        "  print(empty*b + star*a)\n",
        "  b -= 1\n",
        "  a += 2\n",
        "\n",
        "#print (a)\n",
        "#print (b)\n",
        "a -= 2\n",
        "b += 2\n",
        "#print (a)\n",
        "#print (b)\n",
        "\n",
        "while a > 2:\n",
        "  a -= 2\n",
        "  print(empty*b + star*a)\n",
        "  b += 1\n",
        "    \n",
        "#print (a)\n",
        "#print (b)"
      ],
      "execution_count": 44,
      "outputs": [
        {
          "output_type": "stream",
          "text": [
            "          *\n",
            "         ***\n",
            "        *****\n",
            "       *******\n",
            "      *********\n",
            "       *******\n",
            "        *****\n",
            "         ***\n",
            "          *\n"
          ],
          "name": "stdout"
        }
      ]
    },
    {
      "metadata": {
        "id": "qAffwZFr_cc7",
        "colab_type": "text"
      },
      "cell_type": "markdown",
      "source": [
        "## 3. 튜플 더하기"
      ]
    },
    {
      "metadata": {
        "id": "WyvfseJa_c6f",
        "colab_type": "code",
        "colab": {
          "base_uri": "https://localhost:8080/",
          "height": 34
        },
        "outputId": "0af7017a-7b3f-499f-a3a3-5d6e5ba346fa"
      },
      "cell_type": "code",
      "source": [
        "t1 = (1, 2, 'a', 'b')\n",
        "t2 = (3, 4)\n",
        "\n",
        "print (t1+t2)"
      ],
      "execution_count": 1,
      "outputs": [
        {
          "output_type": "stream",
          "text": [
            "(1, 2, 'a', 'b', 3, 4)\n"
          ],
          "name": "stdout"
        }
      ]
    },
    {
      "metadata": {
        "id": "TUcTue8n_dG1",
        "colab_type": "text"
      },
      "cell_type": "markdown",
      "source": [
        "## 4. 튜플 곱하기"
      ]
    },
    {
      "metadata": {
        "id": "R5MNz4P_Zymv",
        "colab_type": "code",
        "colab": {
          "base_uri": "https://localhost:8080/",
          "height": 51
        },
        "outputId": "93a8d2e2-1215-4504-e141-c9d73190fb35"
      },
      "cell_type": "code",
      "source": [
        "t1 = (1, 2, 'a', 'b')\n",
        "t2 = (3, 4)\n",
        "\n",
        "print (t1 * 3)\n",
        "print (t2 * 2)"
      ],
      "execution_count": 3,
      "outputs": [
        {
          "output_type": "stream",
          "text": [
            "(1, 2, 'a', 'b', 1, 2, 'a', 'b', 1, 2, 'a', 'b')\n",
            "(3, 4, 3, 4)\n"
          ],
          "name": "stdout"
        }
      ]
    },
    {
      "metadata": {
        "id": "tJTHdgOq_dNx",
        "colab_type": "code",
        "colab": {
          "base_uri": "https://localhost:8080/",
          "height": 164
        },
        "outputId": "a128dcad-00b0-4d74-86eb-2fddd3f8247e"
      },
      "cell_type": "code",
      "source": [
        "print (t1 * t2)"
      ],
      "execution_count": 4,
      "outputs": [
        {
          "output_type": "error",
          "ename": "TypeError",
          "evalue": "ignored",
          "traceback": [
            "\u001b[0;31m---------------------------------------------------------------------------\u001b[0m",
            "\u001b[0;31mTypeError\u001b[0m                                 Traceback (most recent call last)",
            "\u001b[0;32m<ipython-input-4-18105c5b8595>\u001b[0m in \u001b[0;36m<module>\u001b[0;34m()\u001b[0m\n\u001b[0;32m----> 1\u001b[0;31m \u001b[0mprint\u001b[0m \u001b[0;34m(\u001b[0m\u001b[0mt1\u001b[0m \u001b[0;34m*\u001b[0m \u001b[0mt2\u001b[0m\u001b[0;34m)\u001b[0m\u001b[0;34m\u001b[0m\u001b[0m\n\u001b[0m",
            "\u001b[0;31mTypeError\u001b[0m: can't multiply sequence by non-int of type 'tuple'"
          ]
        }
      ]
    },
    {
      "metadata": {
        "id": "u5JoIPd5_d4d",
        "colab_type": "text"
      },
      "cell_type": "markdown",
      "source": [
        "위의 경우처럼 튜플간의 곱셈은 불가능하다."
      ]
    },
    {
      "metadata": {
        "id": "DNnML7hma30a",
        "colab_type": "code",
        "colab": {}
      },
      "cell_type": "code",
      "source": [
        ""
      ],
      "execution_count": 0,
      "outputs": []
    },
    {
      "metadata": {
        "id": "wZ5mAYEqa4fC",
        "colab_type": "text"
      },
      "cell_type": "markdown",
      "source": [
        "# 연습문제"
      ]
    },
    {
      "metadata": {
        "id": "8XfHnspsa46v",
        "colab_type": "text"
      },
      "cell_type": "markdown",
      "source": [
        "## Q1. 튜플 작성\n",
        "\n",
        "숫자 3만을 요소값으로 가지는 튜플을 작성하라."
      ]
    },
    {
      "metadata": {
        "id": "tbvq-rsua5Hz",
        "colab_type": "code",
        "colab": {
          "base_uri": "https://localhost:8080/",
          "height": 34
        },
        "outputId": "b6f1df3d-a0d9-462a-ce19-b8d7f0c33795"
      },
      "cell_type": "code",
      "source": [
        "tuple = (3)\n",
        "\n",
        "print (tuple)"
      ],
      "execution_count": 8,
      "outputs": [
        {
          "output_type": "stream",
          "text": [
            "3\n"
          ],
          "name": "stdout"
        }
      ]
    },
    {
      "metadata": {
        "id": "CK8Z6zK7a5TW",
        "colab_type": "text"
      },
      "cell_type": "markdown",
      "source": [
        "## Q2. 튜플 변경\n",
        "\n",
        "튜플 (1, 2, 3)을 (1, 4, 3)으로 변경하려고 시도하면 오류가 발생한다. 어째서인가?"
      ]
    },
    {
      "metadata": {
        "id": "SUNp76wza5gF",
        "colab_type": "code",
        "colab": {
          "base_uri": "https://localhost:8080/",
          "height": 307
        },
        "outputId": "7ed9a29e-d6b2-4688-ccb7-69658f102549"
      },
      "cell_type": "code",
      "source": [
        "a = (1, 2, 3)\n",
        "a[1] = 4\n",
        "\n",
        "print (a)"
      ],
      "execution_count": 7,
      "outputs": [
        {
          "output_type": "error",
          "ename": "TypeError",
          "evalue": "ignored",
          "traceback": [
            "\u001b[0;31m---------------------------------------------------------------------------\u001b[0m",
            "\u001b[0;31mTypeError\u001b[0m                                 Traceback (most recent call last)",
            "\u001b[0;32m<ipython-input-7-d5105b0942d5>\u001b[0m in \u001b[0;36m<module>\u001b[0;34m()\u001b[0m\n\u001b[1;32m      1\u001b[0m \u001b[0ma\u001b[0m \u001b[0;34m=\u001b[0m \u001b[0;34m(\u001b[0m\u001b[0;36m1\u001b[0m\u001b[0;34m,\u001b[0m \u001b[0;36m2\u001b[0m\u001b[0;34m,\u001b[0m \u001b[0;36m3\u001b[0m\u001b[0;34m)\u001b[0m\u001b[0;34m\u001b[0m\u001b[0m\n\u001b[0;32m----> 2\u001b[0;31m \u001b[0ma\u001b[0m\u001b[0;34m[\u001b[0m\u001b[0;36m1\u001b[0m\u001b[0;34m]\u001b[0m \u001b[0;34m=\u001b[0m \u001b[0;36m4\u001b[0m\u001b[0;34m\u001b[0m\u001b[0m\n\u001b[0m\u001b[1;32m      3\u001b[0m \u001b[0;34m\u001b[0m\u001b[0m\n\u001b[1;32m      4\u001b[0m \u001b[0mprint\u001b[0m \u001b[0;34m(\u001b[0m\u001b[0ma\u001b[0m\u001b[0;34m)\u001b[0m\u001b[0;34m\u001b[0m\u001b[0m\n",
            "\u001b[0;31mTypeError\u001b[0m: 'tuple' object does not support item assignment"
          ]
        }
      ]
    },
    {
      "metadata": {
        "id": "wcZVj_cCa4HI",
        "colab_type": "text"
      },
      "cell_type": "markdown",
      "source": [
        "튜플은 리스트와는 다르게 요소값을 한번 지정하면 안의 요소값을 변경할 수 없다.\n",
        "\n",
        "변경하고 싶으면 리스트를 쓰세요."
      ]
    },
    {
      "metadata": {
        "id": "HShhLh8ffmMb",
        "colab_type": "text"
      },
      "cell_type": "markdown",
      "source": [
        "## Q3. 튜플 추가\n",
        "\n",
        "(1, 2, 3)이라는 튜플에 4라는 값을 추가하여 (1, 2, 3, 4)처럼 만들어 출력하시오."
      ]
    },
    {
      "metadata": {
        "id": "qbSJjzFsgBZR",
        "colab_type": "code",
        "colab": {
          "base_uri": "https://localhost:8080/",
          "height": 51
        },
        "outputId": "3dda2c84-bd3a-4de7-c386-715552a83135"
      },
      "cell_type": "code",
      "source": [
        "t1 = (1,2,3)\n",
        "print (t1)\n",
        "\n",
        "t2 = (4,)\n",
        "print (t1 + t2)"
      ],
      "execution_count": 18,
      "outputs": [
        {
          "output_type": "stream",
          "text": [
            "(1, 2, 3)\n",
            "(1, 2, 3, 4)\n"
          ],
          "name": "stdout"
        }
      ]
    },
    {
      "metadata": {
        "id": "XtBZx6V1gBzr",
        "colab_type": "text"
      },
      "cell_type": "markdown",
      "source": [
        "단일 요소를 가지는 튜플을 만들 때에는 요소 뒤에 **,** 를 붙여야 한다!"
      ]
    }
  ]
}