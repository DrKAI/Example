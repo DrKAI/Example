{
  "nbformat": 4,
  "nbformat_minor": 0,
  "metadata": {
    "colab": {
      "name": "04-2 사용자 입력과 출력.ipynb",
      "version": "0.3.2",
      "provenance": [],
      "collapsed_sections": [],
      "include_colab_link": true
    },
    "kernelspec": {
      "name": "python3",
      "display_name": "Python 3"
    }
  },
  "cells": [
    {
      "cell_type": "markdown",
      "metadata": {
        "id": "view-in-github",
        "colab_type": "text"
      },
      "source": [
        "<a href=\"https://colab.research.google.com/github/DrKAI/Python-Basic/blob/master/04-2%20%EC%82%AC%EC%9A%A9%EC%9E%90%20%EC%9E%85%EB%A0%A5%EA%B3%BC%20%EC%B6%9C%EB%A0%A5.ipynb\" target=\"_parent\"><img src=\"https://colab.research.google.com/assets/colab-badge.svg\" alt=\"Open In Colab\"/></a>"
      ]
    },
    {
      "metadata": {
        "id": "tVwvGds8t_-h",
        "colab_type": "text"
      },
      "cell_type": "markdown",
      "source": [
        "*사용자 입력 -> 처리(프로그램, 함수 등) -> 출력*\n",
        "\n",
        "게시판에 글을 작성한 후, \"확인\" 버튼을 눌러야만(입력) 작성한 글이 게시판에 올라간다(출력)\n",
        "\n",
        "이제는 좀 더 다양하게 사용자의 입력을 받는 방법과, 출력을 하는 방법을 알아보자."
      ]
    },
    {
      "metadata": {
        "id": "DO4JJlmGvt64",
        "colab_type": "text"
      },
      "cell_type": "markdown",
      "source": [
        "# 사용자 입력\n",
        "\n",
        "사용자가 입력한 값을 어떤 변수에 대입하고 싶을 때는 어떻게 해야 할까?"
      ]
    },
    {
      "metadata": {
        "id": "395ofkIUvuC_",
        "colab_type": "text"
      },
      "cell_type": "markdown",
      "source": [
        "## input의 사용\n",
        "\n",
        "input은 입력되는 모든 것을 문자열로 취급한다."
      ]
    },
    {
      "metadata": {
        "id": "u7b1Sp5vvuKv",
        "colab_type": "code",
        "colab": {
          "base_uri": "https://localhost:8080/",
          "height": 51
        },
        "outputId": "465772af-aff4-4486-aac6-3a64850bd91a"
      },
      "cell_type": "code",
      "source": [
        "a = input()\n",
        "\n",
        "a"
      ],
      "execution_count": 4,
      "outputs": [
        {
          "output_type": "stream",
          "text": [
            "Life is too short!\n"
          ],
          "name": "stdout"
        },
        {
          "output_type": "execute_result",
          "data": {
            "text/plain": [
              "'Life is too short!'"
            ]
          },
          "metadata": {
            "tags": []
          },
          "execution_count": 4
        }
      ]
    },
    {
      "metadata": {
        "id": "nXo6XOHYvucE",
        "colab_type": "text"
      },
      "cell_type": "markdown",
      "source": [
        "## 프롬프트를 띄워서 사용자 입력 받기\n",
        "\n",
        "\"숫자를 입력하세요\", \"이름을 입력하세요\" 등의 안내 문구, 질문이 나오게 하고 싶을 때가 있다.\n",
        "\n",
        "그럴 때는 input()의 괄호 안에 질문을 입력하여 프롬프트를 띄워주면 된다.\n",
        "\n",
        "**input(\"질문 내용\")**"
      ]
    },
    {
      "metadata": {
        "id": "W573xpDIvuZZ",
        "colab_type": "code",
        "colab": {
          "base_uri": "https://localhost:8080/",
          "height": 51
        },
        "outputId": "c82b8e5a-690e-4484-e02c-ca40badae7dc"
      },
      "cell_type": "code",
      "source": [
        "why_you_live = input(\"왜 사나요, 휴먼? \")\n",
        "\n",
        "print(why_you_live)"
      ],
      "execution_count": 10,
      "outputs": [
        {
          "output_type": "stream",
          "text": [
            "왜 사나요, 휴먼? 슬프게도 모르겠다\n",
            "슬프게도 모르겠다\n"
          ],
          "name": "stdout"
        }
      ]
    },
    {
      "metadata": {
        "id": "Hjz-xh-hvuVn",
        "colab_type": "text"
      },
      "cell_type": "markdown",
      "source": [
        "# print 자세히 알기\n",
        "\n",
        "지금껏 print문이 수행해온 일은 우리가 입력한 자료형을 출력하는 것이었다. 아래와 같이!"
      ]
    },
    {
      "metadata": {
        "id": "TZ6JRheWvuS4",
        "colab_type": "code",
        "colab": {
          "base_uri": "https://localhost:8080/",
          "height": 103
        },
        "outputId": "7e8c5af7-5507-42d8-daff-e19ffdfd165f"
      },
      "cell_type": "code",
      "source": [
        "a = 123\n",
        "print(a)\n",
        "\n",
        "b = 'Python'\n",
        "print(b)\n",
        "\n",
        "c = [1, 2, 3]\n",
        "print(c)\n",
        "\n",
        "d = (1, 2, 3)\n",
        "print(d)\n",
        "\n",
        "e = {'라면':1, '냉면':2, '쫄면':3}\n",
        "print(e)"
      ],
      "execution_count": 13,
      "outputs": [
        {
          "output_type": "stream",
          "text": [
            "123\n",
            "Python\n",
            "[1, 2, 3]\n",
            "(1, 2, 3)\n",
            "{'라면': 1, '냉면': 2, '쫄면': 3}\n"
          ],
          "name": "stdout"
        }
      ]
    },
    {
      "metadata": {
        "id": "yLZ1UZXIvuQb",
        "colab_type": "text"
      },
      "cell_type": "markdown",
      "source": [
        "이제 print문으로 할 수 있는 일에 대해서 좀 더 자세히 알아보자."
      ]
    },
    {
      "metadata": {
        "id": "Tgd8eFzG14n7",
        "colab_type": "text"
      },
      "cell_type": "markdown",
      "source": [
        "## 큰따옴표(\")로 둘러쌓인 문자열은 + 연산과 동일하다\n",
        "\n",
        "print(\"Life\" \"is\" \"too\" \"short\")\n",
        "\n",
        "print(\"Life\"+\"is\"+\"too\"+\"short\")\n",
        "\n",
        "위의 print문 두 개는 완전히 동일한 결과값을 출력한다.\n",
        "\n",
        "**즉, 따옴표로 둘러쌓인 문자열을 연속해서 쓰면 + 연산을 한 것과 같다**"
      ]
    },
    {
      "metadata": {
        "id": "zojZ2J0-vuIN",
        "colab_type": "code",
        "colab": {
          "base_uri": "https://localhost:8080/",
          "height": 68
        },
        "outputId": "9d734ea2-31a9-44e9-f85e-dbbf1b4b2ad6"
      },
      "cell_type": "code",
      "source": [
        "print(\"Life\"\"is\"\"too\"\"short\")\n",
        "print(\"Life\" \"is\" \"too\" \"short\")\n",
        "print(\"Life\"+\"is\"+\"too\"+\"short\")"
      ],
      "execution_count": 16,
      "outputs": [
        {
          "output_type": "stream",
          "text": [
            "Lifeistooshort\n",
            "Lifeistooshort\n",
            "Lifeistooshort\n"
          ],
          "name": "stdout"
        }
      ]
    },
    {
      "metadata": {
        "id": "TKaVo_g4vuAi",
        "colab_type": "text"
      },
      "cell_type": "markdown",
      "source": [
        "## 문자열 띄어쓰기는 콤마로 한다\n",
        "\n",
        "콤마(,)를 이용하면 문자열 간에 띄어쓰기를 할 수 있다."
      ]
    },
    {
      "metadata": {
        "id": "4-4qU0Ij3bKW",
        "colab_type": "code",
        "colab": {
          "base_uri": "https://localhost:8080/",
          "height": 51
        },
        "outputId": "f6dd2ca1-195d-4d6c-f7cb-ea0bd984c19f"
      },
      "cell_type": "code",
      "source": [
        "print(\"Life\",\"is\",\"too\",\"short\")\n",
        "print(\"Life\", \"is\", \"too\", \"short\")"
      ],
      "execution_count": 17,
      "outputs": [
        {
          "output_type": "stream",
          "text": [
            "Life is too short\n",
            "Life is too short\n"
          ],
          "name": "stdout"
        }
      ]
    },
    {
      "metadata": {
        "id": "D692lwUP3bfh",
        "colab_type": "text"
      },
      "cell_type": "markdown",
      "source": [
        "## 한 줄에 결과값 출력하기\n",
        "\n",
        "03-3절 for문에서 구구단 프로그램을 작성할 때를 기억하는가?\n",
        "\n",
        "한 줄에 결과값을 계속 이어서 출력하려면 입력 인수 end를 이용해 끝 문자를 지정해야 한다."
      ]
    },
    {
      "metadata": {
        "id": "pP5XRCzC3bwG",
        "colab_type": "code",
        "colab": {
          "base_uri": "https://localhost:8080/",
          "height": 34
        },
        "outputId": "2e21d6b6-eb4c-430a-c189-72f0f593d602"
      },
      "cell_type": "code",
      "source": [
        "for i in range(10):\n",
        "  print(i, end='  ')"
      ],
      "execution_count": 19,
      "outputs": [
        {
          "output_type": "stream",
          "text": [
            "0  1  2  3  4  5  6  7  8  9  "
          ],
          "name": "stdout"
        }
      ]
    },
    {
      "metadata": {
        "id": "wICDv91a3bs9",
        "colab_type": "text"
      },
      "cell_type": "markdown",
      "source": [
        "# 연습문제"
      ]
    },
    {
      "metadata": {
        "id": "kxlfPdFN3bpi",
        "colab_type": "text"
      },
      "cell_type": "markdown",
      "source": [
        "## Q1. 두 수의 합은?\n",
        "\n",
        "다음은 두 개의 숫자를 입력받아 더하여 리턴해주는 프로그램이다.\n",
        "\n",
        "input1 = input(\"첫번째 숫자를 입력하세요 : \")\n",
        "\n",
        "input2 = input(\"첫번째 숫자를 입력하세요 : \")\n",
        "\n",
        "total = input1 + input2\n",
        "\n",
        "print(\"두 수의 합은 %s다.\" % total)\n",
        "\n",
        "3과 6을 입력했을 때, 9가 아닌 36이라는 결과가 리턴될 것이다. 오류를 수정하라."
      ]
    },
    {
      "metadata": {
        "id": "4aM4rdr73bml",
        "colab_type": "code",
        "colab": {
          "base_uri": "https://localhost:8080/",
          "height": 68
        },
        "outputId": "88888d9a-a198-4044-ec7b-440f92090e54"
      },
      "cell_type": "code",
      "source": [
        "# base_error\n",
        "input1 = input(\"첫번째 숫자를 입력하세요 : \")\n",
        "input2 = input(\"첫번째 숫자를 입력하세요 : \")\n",
        "\n",
        "total = input1 + input2\n",
        "print(\"두 수의 합은 %s다.\" % total)"
      ],
      "execution_count": 20,
      "outputs": [
        {
          "output_type": "stream",
          "text": [
            "첫번째 숫자를 입력하세요 : 3\n",
            "첫번째 숫자를 입력하세요 : 6\n",
            "두 수의 합은 36다.\n"
          ],
          "name": "stdout"
        }
      ]
    },
    {
      "metadata": {
        "id": "DdwPT1fd3bcS",
        "colab_type": "code",
        "colab": {}
      },
      "cell_type": "code",
      "source": [
        ""
      ],
      "execution_count": 0,
      "outputs": []
    },
    {
      "metadata": {
        "id": "vysJ8y4k3bX_",
        "colab_type": "text"
      },
      "cell_type": "markdown",
      "source": [
        "## Q2. 숫자의 총합\n",
        "\n",
        "사용자로부터 다음과 같은 숫자들의 입력을 받아 입력받은 숫자들의 총합을 구하는 프로그램을 작성하라.\n",
        "\n",
        "(단, 숫자들은 콤마로 구분하여 입력한다.)\n",
        "\n",
        "65,45,2,3,45,8"
      ]
    },
    {
      "metadata": {
        "id": "LPHYYxBZ3bUQ",
        "colab_type": "code",
        "colab": {}
      },
      "cell_type": "code",
      "source": [
        ""
      ],
      "execution_count": 0,
      "outputs": []
    },
    {
      "metadata": {
        "id": "QD9TI44M6USd",
        "colab_type": "text"
      },
      "cell_type": "markdown",
      "source": [
        "## Q3. 문자열 출력\n",
        "\n",
        "다음 중 출력결과가 다른 것 하나를 고르라.\n",
        "\n",
        "1. print(\"you\" \"need\" \"python\")\n",
        "\n",
        "2. print(\"you\"+\"need\"+\"python\")\n",
        "\n",
        "3. print(\"you\", \"need\", \"python\")\n",
        "\n",
        "4. print(\"\".join([\"you\", \"need\", \"python\"]))"
      ]
    },
    {
      "metadata": {
        "id": "CekaCdRp6UcG",
        "colab_type": "code",
        "colab": {}
      },
      "cell_type": "code",
      "source": [
        ""
      ],
      "execution_count": 0,
      "outputs": []
    },
    {
      "metadata": {
        "id": "Jof78xXf6UZK",
        "colab_type": "text"
      },
      "cell_type": "markdown",
      "source": [
        "## Q4. 한 줄 구구단\n",
        "\n",
        "사용자로부터 2 ~ 9까지의 숫자 중 하나를 입력받아 해당 숫자의 구구단을 한 줄로 출력하는 프로그램을 작성하라.\n",
        "\n",
        "---\n",
        "\n",
        "구구단을 출력할 숫자를 입력하세요(2~9) : 2\n",
        "\n",
        "2 4 6 8 10 12 14 16 18"
      ]
    },
    {
      "metadata": {
        "id": "Mv_Oy5J43bQw",
        "colab_type": "code",
        "colab": {}
      },
      "cell_type": "code",
      "source": [
        ""
      ],
      "execution_count": 0,
      "outputs": []
    }
  ]
}