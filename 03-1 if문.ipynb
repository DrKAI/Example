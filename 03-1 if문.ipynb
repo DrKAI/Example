{
  "nbformat": 4,
  "nbformat_minor": 0,
  "metadata": {
    "colab": {
      "name": "03-1 if문.ipynb",
      "version": "0.3.2",
      "provenance": [],
      "collapsed_sections": [],
      "include_colab_link": true
    },
    "kernelspec": {
      "name": "python3",
      "display_name": "Python 3"
    }
  },
  "cells": [
    {
      "cell_type": "markdown",
      "metadata": {
        "id": "view-in-github",
        "colab_type": "text"
      },
      "source": [
        "<a href=\"https://colab.research.google.com/github/DrKAI/Example/blob/master/03-1%20if%EB%AC%B8.ipynb\" target=\"_parent\"><img src=\"https://colab.research.google.com/assets/colab-badge.svg\" alt=\"Open In Colab\"/></a>"
      ]
    },
    {
      "metadata": {
        "id": "4hUo1MpUhA5-",
        "colab_type": "text"
      },
      "cell_type": "markdown",
      "source": [
        "# if문은 왜 필요할까?\n",
        "\n",
        "\"돈이 있으면 대중교통을 이용하고, 돈이 없으면 걸어다닌다.\""
      ]
    },
    {
      "metadata": {
        "id": "WvijMdaJhUaA",
        "colab_type": "text"
      },
      "cell_type": "markdown",
      "source": [
        "사람은 살면서 상황에 따른 판단을 한다. 프로그래밍 역시 마찬가지다.\n",
        "\n",
        "위의 문장처럼 주어진 조건을 판단하여, 해당 조건에 맞는 상황을 수행하는 데 쓰이는 것이 조건문이고, if문이다."
      ]
    },
    {
      "metadata": {
        "id": "104qXu2MhUcz",
        "colab_type": "code",
        "colab": {
          "base_uri": "https://localhost:8080/",
          "height": 35
        },
        "outputId": "a2b97e12-e234-45d4-b47a-9485f71fe355"
      },
      "cell_type": "code",
      "source": [
        "money = 1\n",
        "\n",
        "if money:\n",
        "  print (\"대중교통 이용해라\")\n",
        "else:\n",
        "  print (\"걸어가 임마!\")"
      ],
      "execution_count": 2,
      "outputs": [
        {
          "output_type": "stream",
          "text": [
            "대중교통 이용해라\n"
          ],
          "name": "stdout"
        }
      ]
    },
    {
      "metadata": {
        "id": "eAAc9aAmiCL-",
        "colab_type": "text"
      },
      "cell_type": "markdown",
      "source": [
        "파이썬에서는 도입부에 들었던 예시를 위와 같이 표현한다.\n",
        "\n",
        "money에 입력된 1은 참이다. 그렇기에 \"대중교통 이용해라\"가 출력된다."
      ]
    },
    {
      "metadata": {
        "id": "VMem-F0shUfJ",
        "colab_type": "text"
      },
      "cell_type": "markdown",
      "source": [
        "# if문의 기본 구조\n",
        "\n",
        "**if 조건문:**\n",
        "\n",
        "    수행할 문장 1\n",
        "    \n",
        "    수행할 문장 2\n",
        "    \n",
        "**else:\n",
        "\n",
        "    수행할 문장 3\n",
        "    \n",
        "    수행할 문장 4"
      ]
    },
    {
      "metadata": {
        "id": "tSo-ODGihUho",
        "colab_type": "text"
      },
      "cell_type": "markdown",
      "source": [
        "조건문의 기본 구조는 위와 같다.\n",
        "\n",
        "조건문을 테스트 하여 참이면 if문 바로 다음의 문장을 수행하고, 조건문이 거짓이면 else 블록의 문장을 수행한다.\n",
        "\n",
        "고로, **else문은 if문 없이 독립적으로 사용할 수 없다.**"
      ]
    },
    {
      "metadata": {
        "id": "IARfS0t6jvtE",
        "colab_type": "text"
      },
      "cell_type": "markdown",
      "source": [
        "## 들여쓰기\n",
        "\n",
        "**if문을 만들 때는 if 조건문: 바로 아래 문장부터 if문에 속하는 모든 문장에 들여쓰기를 해야 한다.**"
      ]
    },
    {
      "metadata": {
        "id": "0xek7pKJhUkO",
        "colab_type": "code",
        "colab": {
          "base_uri": "https://localhost:8080/",
          "height": 71
        },
        "outputId": "d735e185-bd36-416e-c673-237f2973da8f"
      },
      "cell_type": "code",
      "source": [
        "A = 1\n",
        "\n",
        "if A:\n",
        "  print (\"A 최고!\")\n",
        "  print (\"A 짱짱맨!\")\n",
        "  print (\"하와와 A 멋진 것이에요\")"
      ],
      "execution_count": 7,
      "outputs": [
        {
          "output_type": "stream",
          "text": [
            "A 최고!\n",
            "A 짱짱맨!\n",
            "하와와 A 멋진 것이에요\n"
          ],
          "name": "stdout"
        }
      ]
    },
    {
      "metadata": {
        "id": "6ciE-TfmktZ5",
        "colab_type": "text"
      },
      "cell_type": "markdown",
      "source": [
        "**위의 예시가 올바르게 사용한 경우이고, 아래의 두 예시는 잘못 사용하여 에러가 발생하는 경우이다. 보자.**"
      ]
    },
    {
      "metadata": {
        "id": "IjuunCbthUmw",
        "colab_type": "code",
        "colab": {
          "base_uri": "https://localhost:8080/",
          "height": 136
        },
        "outputId": "ff7f017c-34c0-42db-9a8c-05ddd7a409b4"
      },
      "cell_type": "code",
      "source": [
        "A = 1\n",
        "\n",
        "if A:\n",
        "  print (\"A 최고!\")\n",
        "print (\"A 짱짱맨!\")\n",
        "  print (\"하와와 A 멋진 것이에요\")"
      ],
      "execution_count": 9,
      "outputs": [
        {
          "output_type": "error",
          "ename": "IndentationError",
          "evalue": "ignored",
          "traceback": [
            "\u001b[0;36m  File \u001b[0;32m\"<ipython-input-9-4a86cffb40e4>\"\u001b[0;36m, line \u001b[0;32m6\u001b[0m\n\u001b[0;31m    print (\"하와와 A 멋진 것이에요\")\u001b[0m\n\u001b[0m    ^\u001b[0m\n\u001b[0;31mIndentationError\u001b[0m\u001b[0;31m:\u001b[0m unexpected indent\n"
          ]
        }
      ]
    },
    {
      "metadata": {
        "id": "ZRZzANBbkj8I",
        "colab_type": "code",
        "colab": {
          "base_uri": "https://localhost:8080/",
          "height": 136
        },
        "outputId": "381cd9f9-c60b-4940-b05c-d784a35a68c7"
      },
      "cell_type": "code",
      "source": [
        "A = 1\n",
        "\n",
        "if A:\n",
        "  print (\"A 최고!\")\n",
        "  print (\"A 짱짱맨!\")\n",
        "    print (\"하와와 A 멋진 것이에요\")"
      ],
      "execution_count": 10,
      "outputs": [
        {
          "output_type": "error",
          "ename": "IndentationError",
          "evalue": "ignored",
          "traceback": [
            "\u001b[0;36m  File \u001b[0;32m\"<ipython-input-10-617749a513f2>\"\u001b[0;36m, line \u001b[0;32m6\u001b[0m\n\u001b[0;31m    print (\"하와와 A 멋진 것이에요\")\u001b[0m\n\u001b[0m    ^\u001b[0m\n\u001b[0;31mIndentationError\u001b[0m\u001b[0;31m:\u001b[0m unexpected indent\n"
          ]
        }
      ]
    },
    {
      "metadata": {
        "id": "LTdIyAV9hUpU",
        "colab_type": "text"
      },
      "cell_type": "markdown",
      "source": [
        "그런데, 들여쓰기는 스페이스바로 공백을 만드는 게 좋을까? 아니면 탭으로 만드는 게 좋을까?\n",
        "\n",
        "어느 쪽이건 **2가지 방식을 혼용해서 사용하지 말라! 에러의 원인이 될 수 있다!**\n",
        "\n",
        "*최근 파이썬 커뮤니티에서는 들여쓰기를 스페이스바 4번으로 권장한다고 한다. 카더라일수도 있지만.*"
      ]
    },
    {
      "metadata": {
        "id": "zYUwvFrFhUrk",
        "colab_type": "text"
      },
      "cell_type": "markdown",
      "source": [
        "추가로, **조건문 뒤에 콜론을 빼먹지 말자! while, for, class 등에도 다 사용된다.**\n",
        "\n",
        "타 언어에서는 if문을 { }로 감싸지만, 파이썬에서는 들여쓰기로 해결한다."
      ]
    },
    {
      "metadata": {
        "id": "B3FyErlClepA",
        "colab_type": "code",
        "colab": {}
      },
      "cell_type": "code",
      "source": [
        ""
      ],
      "execution_count": 0,
      "outputs": []
    },
    {
      "metadata": {
        "id": "7nbTipHchUt_",
        "colab_type": "code",
        "colab": {}
      },
      "cell_type": "code",
      "source": [
        ""
      ],
      "execution_count": 0,
      "outputs": []
    },
    {
      "metadata": {
        "id": "tsJBL_43hUwH",
        "colab_type": "code",
        "colab": {}
      },
      "cell_type": "code",
      "source": [
        ""
      ],
      "execution_count": 0,
      "outputs": []
    }
  ]
}