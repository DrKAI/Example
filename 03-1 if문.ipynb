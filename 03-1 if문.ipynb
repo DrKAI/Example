{
  "nbformat": 4,
  "nbformat_minor": 0,
  "metadata": {
    "colab": {
      "name": "03-1 if문.ipynb",
      "version": "0.3.2",
      "provenance": [],
      "collapsed_sections": [],
      "include_colab_link": true
    },
    "kernelspec": {
      "name": "python3",
      "display_name": "Python 3"
    }
  },
  "cells": [
    {
      "cell_type": "markdown",
      "metadata": {
        "id": "view-in-github",
        "colab_type": "text"
      },
      "source": [
        "<a href=\"https://colab.research.google.com/github/DrKAI/Example/blob/master/03-1%20if%EB%AC%B8.ipynb\" target=\"_parent\"><img src=\"https://colab.research.google.com/assets/colab-badge.svg\" alt=\"Open In Colab\"/></a>"
      ]
    },
    {
      "metadata": {
        "id": "4hUo1MpUhA5-",
        "colab_type": "text"
      },
      "cell_type": "markdown",
      "source": [
        "# if문은 왜 필요할까?\n",
        "\n",
        "\"돈이 있으면 대중교통을 이용하고, 돈이 없으면 걸어다닌다.\""
      ]
    },
    {
      "metadata": {
        "id": "WvijMdaJhUaA",
        "colab_type": "text"
      },
      "cell_type": "markdown",
      "source": [
        "사람은 살면서 상황에 따른 판단을 한다. 프로그래밍 역시 마찬가지다.\n",
        "\n",
        "위의 문장처럼 주어진 조건을 판단하여, 해당 조건에 맞는 상황을 수행하는 데 쓰이는 것이 조건문이고, if문이다."
      ]
    },
    {
      "metadata": {
        "id": "104qXu2MhUcz",
        "colab_type": "code",
        "outputId": "a2b97e12-e234-45d4-b47a-9485f71fe355",
        "colab": {
          "base_uri": "https://localhost:8080/",
          "height": 35
        }
      },
      "cell_type": "code",
      "source": [
        "money = 1\n",
        "\n",
        "if money:\n",
        "  print (\"대중교통 이용해라\")\n",
        "else:\n",
        "  print (\"걸어가 임마!\")"
      ],
      "execution_count": 0,
      "outputs": [
        {
          "output_type": "stream",
          "text": [
            "대중교통 이용해라\n"
          ],
          "name": "stdout"
        }
      ]
    },
    {
      "metadata": {
        "id": "eAAc9aAmiCL-",
        "colab_type": "text"
      },
      "cell_type": "markdown",
      "source": [
        "파이썬에서는 도입부에 들었던 예시를 위와 같이 표현한다.\n",
        "\n",
        "money에 입력된 1은 참이다. 그렇기에 \"대중교통 이용해라\"가 출력된다."
      ]
    },
    {
      "metadata": {
        "id": "VMem-F0shUfJ",
        "colab_type": "text"
      },
      "cell_type": "markdown",
      "source": [
        "# if문의 기본 구조\n",
        "\n",
        "**if 조건문:**\n",
        "\n",
        "    수행할 문장 1\n",
        "    \n",
        "    수행할 문장 2\n",
        "    \n",
        "**else:\n",
        "\n",
        "    수행할 문장 3\n",
        "    \n",
        "    수행할 문장 4"
      ]
    },
    {
      "metadata": {
        "id": "tSo-ODGihUho",
        "colab_type": "text"
      },
      "cell_type": "markdown",
      "source": [
        "조건문의 기본 구조는 위와 같다.\n",
        "\n",
        "조건문을 테스트 하여 참이면 if문 바로 다음의 문장을 수행하고, 조건문이 거짓이면 else 블록의 문장을 수행한다.\n",
        "\n",
        "고로, **else문은 if문 없이 독립적으로 사용할 수 없다.**"
      ]
    },
    {
      "metadata": {
        "id": "IARfS0t6jvtE",
        "colab_type": "text"
      },
      "cell_type": "markdown",
      "source": [
        "## 들여쓰기\n",
        "\n",
        "**if문을 만들 때는 if 조건문: 바로 아래 문장부터 if문에 속하는 모든 문장에 들여쓰기를 해야 한다.**"
      ]
    },
    {
      "metadata": {
        "id": "0xek7pKJhUkO",
        "colab_type": "code",
        "outputId": "d735e185-bd36-416e-c673-237f2973da8f",
        "colab": {
          "base_uri": "https://localhost:8080/",
          "height": 71
        }
      },
      "cell_type": "code",
      "source": [
        "A = 1\n",
        "\n",
        "if A:\n",
        "  print (\"A 최고!\")\n",
        "  print (\"A 짱짱맨!\")\n",
        "  print (\"하와와 A 멋진 것이에요\")"
      ],
      "execution_count": 0,
      "outputs": [
        {
          "output_type": "stream",
          "text": [
            "A 최고!\n",
            "A 짱짱맨!\n",
            "하와와 A 멋진 것이에요\n"
          ],
          "name": "stdout"
        }
      ]
    },
    {
      "metadata": {
        "id": "6ciE-TfmktZ5",
        "colab_type": "text"
      },
      "cell_type": "markdown",
      "source": [
        "**위의 예시가 올바르게 사용한 경우이고, 아래의 두 예시는 잘못 사용하여 에러가 발생하는 경우이다. 보자.**"
      ]
    },
    {
      "metadata": {
        "id": "IjuunCbthUmw",
        "colab_type": "code",
        "outputId": "ff7f017c-34c0-42db-9a8c-05ddd7a409b4",
        "colab": {
          "base_uri": "https://localhost:8080/",
          "height": 136
        }
      },
      "cell_type": "code",
      "source": [
        "A = 1\n",
        "\n",
        "if A:\n",
        "  print (\"A 최고!\")\n",
        "print (\"A 짱짱맨!\")\n",
        "  print (\"하와와 A 멋진 것이에요\")"
      ],
      "execution_count": 0,
      "outputs": [
        {
          "output_type": "error",
          "ename": "IndentationError",
          "evalue": "ignored",
          "traceback": [
            "\u001b[0;36m  File \u001b[0;32m\"<ipython-input-9-4a86cffb40e4>\"\u001b[0;36m, line \u001b[0;32m6\u001b[0m\n\u001b[0;31m    print (\"하와와 A 멋진 것이에요\")\u001b[0m\n\u001b[0m    ^\u001b[0m\n\u001b[0;31mIndentationError\u001b[0m\u001b[0;31m:\u001b[0m unexpected indent\n"
          ]
        }
      ]
    },
    {
      "metadata": {
        "id": "ZRZzANBbkj8I",
        "colab_type": "code",
        "outputId": "381cd9f9-c60b-4940-b05c-d784a35a68c7",
        "colab": {
          "base_uri": "https://localhost:8080/",
          "height": 136
        }
      },
      "cell_type": "code",
      "source": [
        "A = 1\n",
        "\n",
        "if A:\n",
        "  print (\"A 최고!\")\n",
        "  print (\"A 짱짱맨!\")\n",
        "    print (\"하와와 A 멋진 것이에요\")"
      ],
      "execution_count": 0,
      "outputs": [
        {
          "output_type": "error",
          "ename": "IndentationError",
          "evalue": "ignored",
          "traceback": [
            "\u001b[0;36m  File \u001b[0;32m\"<ipython-input-10-617749a513f2>\"\u001b[0;36m, line \u001b[0;32m6\u001b[0m\n\u001b[0;31m    print (\"하와와 A 멋진 것이에요\")\u001b[0m\n\u001b[0m    ^\u001b[0m\n\u001b[0;31mIndentationError\u001b[0m\u001b[0;31m:\u001b[0m unexpected indent\n"
          ]
        }
      ]
    },
    {
      "metadata": {
        "id": "LTdIyAV9hUpU",
        "colab_type": "text"
      },
      "cell_type": "markdown",
      "source": [
        "그런데, 들여쓰기는 스페이스바로 공백을 만드는 게 좋을까? 아니면 탭으로 만드는 게 좋을까?\n",
        "\n",
        "어느 쪽이건 **2가지 방식을 혼용해서 사용하지 말라! 에러의 원인이 될 수 있다!**\n",
        "\n",
        "*최근 파이썬 커뮤니티에서는 들여쓰기를 스페이스바 4번으로 권장한다고 한다. 카더라일수도 있지만.*"
      ]
    },
    {
      "metadata": {
        "id": "zYUwvFrFhUrk",
        "colab_type": "text"
      },
      "cell_type": "markdown",
      "source": [
        "추가로, **조건문 뒤에 콜론을 빼먹지 말자! while, for, class 등에도 다 사용된다.**\n",
        "\n",
        "타 언어에서는 if문을 { }로 감싸지만, 파이썬에서는 들여쓰기로 해결한다."
      ]
    },
    {
      "metadata": {
        "id": "B3FyErlClepA",
        "colab_type": "text"
      },
      "cell_type": "markdown",
      "source": [
        "# 조건문이란 무엇인가?\n",
        "\n",
        "참과 거짓을 판단하는 문장."
      ]
    },
    {
      "metadata": {
        "id": "7nbTipHchUt_",
        "colab_type": "text"
      },
      "cell_type": "markdown",
      "source": [
        "자료형 | 참 | 거짓\n",
        "\n",
        "숫자 | 0이 아닌 숫자 | 0\n",
        "\n",
        "문자열 | \"abc\" | \"\"\n",
        "\n",
        "리스트 | [1,2,3] | []\n",
        "\n",
        "튜플 | (1,2,3) | ()\n",
        "\n",
        "딕셔너리 | {\"a\" : \"b\"} | {}"
      ]
    },
    {
      "metadata": {
        "id": "6cnPk4yxrqej",
        "colab_type": "text"
      },
      "cell_type": "markdown",
      "source": [
        "## 비교 연산자\n",
        "\n",
        "x < y | x가 y보다 작다\n",
        "\n",
        "x > y | x가 y보다 크다\n",
        "\n",
        "x == y | x와 y가 같다\n",
        "\n",
        "x != y | x와 y가 같지 않다\n",
        "\n",
        "x >= y | x가 y보다 크거나 같다\n",
        "\n",
        "x <= y | x가 y보다 작거나 같다"
      ]
    },
    {
      "metadata": {
        "id": "TlZNz_59sfRN",
        "colab_type": "code",
        "outputId": "207f3002-9087-45dd-de95-9033bd329981",
        "colab": {
          "base_uri": "https://localhost:8080/",
          "height": 89
        }
      },
      "cell_type": "code",
      "source": [
        "x = 3\n",
        "y = 2\n",
        "\n",
        "print (x > y)\n",
        "print (x < y)\n",
        "print (x == y)\n",
        "print (x != y)"
      ],
      "execution_count": 0,
      "outputs": [
        {
          "output_type": "stream",
          "text": [
            "True\n",
            "False\n",
            "False\n",
            "True\n"
          ],
          "name": "stdout"
        }
      ]
    },
    {
      "metadata": {
        "id": "KkGYOk4SslSy",
        "colab_type": "text"
      },
      "cell_type": "markdown",
      "source": [
        "이전의 대중교통 예제를 아래처럼 바꾸려면 어떻게 해야 할까?\n",
        "\n",
        "*\"만약 3000원 이상의 돈을 가지고 있으면 대중교통을 이용하고, 그렇지 않으면 걸어가라\"*"
      ]
    },
    {
      "metadata": {
        "id": "c-ZZsFbss1fz",
        "colab_type": "code",
        "outputId": "89580b3b-d350-437b-db3d-50f8f4a1690d",
        "colab": {
          "base_uri": "https://localhost:8080/",
          "height": 35
        }
      },
      "cell_type": "code",
      "source": [
        "money = 2000;\n",
        "\n",
        "if money >= 3000:\n",
        "  print(\"대중교통 이용해라\")\n",
        "else:\n",
        "  print(\"걸어가 임마!\")"
      ],
      "execution_count": 0,
      "outputs": [
        {
          "output_type": "stream",
          "text": [
            "걸어가 임마!\n"
          ],
          "name": "stdout"
        }
      ]
    },
    {
      "metadata": {
        "id": "N8x1z42Bs1i4",
        "colab_type": "text"
      },
      "cell_type": "markdown",
      "source": [
        "money >= 3000 이라는 조건문이 거짓이 되기 때문에 else문의 문장을 수행한다."
      ]
    },
    {
      "metadata": {
        "id": "WpO15ir0s1lk",
        "colab_type": "text"
      },
      "cell_type": "markdown",
      "source": [
        "## and, or, not\n",
        "\n",
        "x or y | x와 y 둘 중에 하나만 참이면 참이다\n",
        "\n",
        "x and y | x와 y 모두 참이어야 참이다\n",
        "\n",
        "not x | x가 거짓이면 참이다"
      ]
    },
    {
      "metadata": {
        "id": "k4CcdWO4s1of",
        "colab_type": "text"
      },
      "cell_type": "markdown",
      "source": [
        "위의 예제에 카드를 추가해보자.\n",
        "\n",
        "*\"만약 3000원 이상의 돈이 있거나 카드가 있다면 대중교통을 이용하고, 그렇지 않으면 걸어가라\"*"
      ]
    },
    {
      "metadata": {
        "id": "GeQXzKMJs1rl",
        "colab_type": "code",
        "outputId": "d7a05b2b-ea32-4063-8c8c-f96f9c4bd9cf",
        "colab": {
          "base_uri": "https://localhost:8080/",
          "height": 35
        }
      },
      "cell_type": "code",
      "source": [
        "money = 2000;\n",
        "card = 1;\n",
        "\n",
        "if money >= 3000 or card:\n",
        "  print(\"대중교통 이용해라\")\n",
        "else:\n",
        "  print(\"걸어가 임마!\")"
      ],
      "execution_count": 0,
      "outputs": [
        {
          "output_type": "stream",
          "text": [
            "대중교통 이용해라\n"
          ],
          "name": "stdout"
        }
      ]
    },
    {
      "metadata": {
        "id": "Poe_2B5Rs1ua",
        "colab_type": "text"
      },
      "cell_type": "markdown",
      "source": [
        "money는 2000이지만 card가 1이기 때문에 money >= 3000 or card 라는 조건문이 참이 되어 수행된다."
      ]
    },
    {
      "metadata": {
        "id": "uNfELfQHs1xM",
        "colab_type": "text"
      },
      "cell_type": "markdown",
      "source": [
        "## x in s, x not in s : s 안에 x가 있는가?\n",
        "\n",
        "in | not in\n",
        "\n",
        "x in 리스트 | x not in 리스트\n",
        "\n",
        "x in 튜플 | x not in 튜플\n",
        "\n",
        "x in 문자열 | x not in 문자열"
      ]
    },
    {
      "metadata": {
        "id": "T3vWVF3us1z-",
        "colab_type": "code",
        "outputId": "7fd4a2ed-11e2-498d-9a41-0dc2c6a11150",
        "colab": {
          "base_uri": "https://localhost:8080/",
          "height": 53
        }
      },
      "cell_type": "code",
      "source": [
        "print (1 in [1, 2, 3])\n",
        "print (1 not in [1, 2, 3])"
      ],
      "execution_count": 0,
      "outputs": [
        {
          "output_type": "stream",
          "text": [
            "True\n",
            "False\n"
          ],
          "name": "stdout"
        }
      ]
    },
    {
      "metadata": {
        "id": "m9CILEn3s13V",
        "colab_type": "code",
        "outputId": "febc96d5-1c2d-422d-d0d0-cde8bc566f25",
        "colab": {
          "base_uri": "https://localhost:8080/",
          "height": 53
        }
      },
      "cell_type": "code",
      "source": [
        "print ('a' in ('a','b','c','d'))\n",
        "print ('h' not in 'hell')"
      ],
      "execution_count": 0,
      "outputs": [
        {
          "output_type": "stream",
          "text": [
            "True\n",
            "False\n"
          ],
          "name": "stdout"
        }
      ]
    },
    {
      "metadata": {
        "id": "pNBZJ3G3025p",
        "colab_type": "text"
      },
      "cell_type": "markdown",
      "source": [
        "우리가 계속 사용한 예제에 in을 적용해보자.\n",
        "\n",
        "*\"만약 주머니에 돈이 있으면 대중교통을 이용하고, 없으면 걸어가라.\"*"
      ]
    },
    {
      "metadata": {
        "id": "doajqdPo1G7c",
        "colab_type": "code",
        "outputId": "622e6c36-733a-4d3d-ab9b-d62716e28837",
        "colab": {
          "base_uri": "https://localhost:8080/",
          "height": 35
        }
      },
      "cell_type": "code",
      "source": [
        "pocket = ['paper','cellphone','money']\n",
        "\n",
        "if 'money' in pocket:\n",
        "  print(\"대중교통 이용해라\")\n",
        "else:\n",
        "  print(\"걸어가 임마!\")"
      ],
      "execution_count": 0,
      "outputs": [
        {
          "output_type": "stream",
          "text": [
            "대중교통 이용해라\n"
          ],
          "name": "stdout"
        }
      ]
    },
    {
      "metadata": {
        "id": "xYlJVA401HTp",
        "colab_type": "text"
      },
      "cell_type": "markdown",
      "source": [
        "# 조건문에서 아무 일도 하지 않게 설정하고 싶다면?\n",
        "\n",
        "*\"만약 주머니에 돈이 있으면 가만히 있고, 돈이 없으면 카드를 꺼내라\"*"
      ]
    },
    {
      "metadata": {
        "id": "lrPRpLz91HWm",
        "colab_type": "code",
        "colab": {}
      },
      "cell_type": "code",
      "source": [
        "pocket = ['paper','cellphone','money']\n",
        "\n",
        "if 'money' in pocket:\n",
        "  pass\n",
        "else:\n",
        "  print(\"걸어가 임마!\")"
      ],
      "execution_count": 0,
      "outputs": []
    },
    {
      "metadata": {
        "id": "61xnk24-1HZN",
        "colab_type": "text"
      },
      "cell_type": "markdown",
      "source": [
        "이럴 때는 위의 코드처럼 **pass**를 사용하면 된다. 위의 코드를 실행해도 아무런 결과값을 보여주지 않는다.\n",
        "\n",
        "아래처럼 좀 더 짧게 표현이 가능하다. 콜론(:) 바로 뒤에 수행 문장을 적는 방식이다."
      ]
    },
    {
      "metadata": {
        "id": "3AEoV7e43qwZ",
        "colab_type": "code",
        "colab": {}
      },
      "cell_type": "code",
      "source": [
        "pocket = ['paper','cellphone','money']\n",
        "\n",
        "if 'money' in pocket: pass\n",
        "else: print(\"걸어가 임마!\")"
      ],
      "execution_count": 0,
      "outputs": []
    },
    {
      "metadata": {
        "id": "8gNO4lgD1Hbv",
        "colab_type": "text"
      },
      "cell_type": "markdown",
      "source": [
        "# 다양한 조건을 판단하는 elif\n",
        "\n",
        "*\"주머니에 돈이 있으면 대중교통을 이용하고, 돈은 없지만 카드가 있으면 택시를 타고, 돈도 없고 카드도 없으면 걸어가라\"*"
      ]
    },
    {
      "metadata": {
        "id": "Fvw5wb5e1Hem",
        "colab_type": "text"
      },
      "cell_type": "markdown",
      "source": [
        "위의 예시를 if와 else만으로 표현하려면 아래와 같다."
      ]
    },
    {
      "metadata": {
        "id": "4rNsB0cR1HhX",
        "colab_type": "code",
        "outputId": "0d6ce58b-0b24-42ec-a6c7-64315a721f9f",
        "colab": {
          "base_uri": "https://localhost:8080/",
          "height": 35
        }
      },
      "cell_type": "code",
      "source": [
        "pocket = ['paper','cellphone']\n",
        "card = 1\n",
        "\n",
        "if 'money' in pocket:\n",
        "  print(\"대중교통을 이용해라\")\n",
        "\n",
        "else:\n",
        "  if card:\n",
        "    print(\"택시라도 타라\")\n",
        "  else:\n",
        "    print(\"걸어가 임마!\")"
      ],
      "execution_count": 0,
      "outputs": [
        {
          "output_type": "stream",
          "text": [
            "택시라도 타라\n"
          ],
          "name": "stdout"
        }
      ]
    },
    {
      "metadata": {
        "id": "U3CGQucA2Rp5",
        "colab_type": "text"
      },
      "cell_type": "markdown",
      "source": [
        "조금 산만해보이지 않나? 파이썬에서는 여러 조건을 한번에 판단 가능케하기 위해 elif라는 것을 사용한다.\n",
        "\n",
        "elif를 사용하여 위의 코드를 바꿔보자."
      ]
    },
    {
      "metadata": {
        "id": "fbO3UAeP224G",
        "colab_type": "code",
        "outputId": "c5107590-22f3-41d4-896b-52001bd162fb",
        "colab": {
          "base_uri": "https://localhost:8080/",
          "height": 35
        }
      },
      "cell_type": "code",
      "source": [
        "pocket = ['paper','cellphone']\n",
        "card = 1\n",
        "\n",
        "if 'money' in pocket:\n",
        "  print(\"대중교통을 이용해라\")\n",
        "elif card:\n",
        "  print(\"택시라도 타고가라\")\n",
        "else:\n",
        "  print(\"걸어가 임마!\")"
      ],
      "execution_count": 0,
      "outputs": [
        {
          "output_type": "stream",
          "text": [
            "택시라도 타고가라\n"
          ],
          "name": "stdout"
        }
      ]
    },
    {
      "metadata": {
        "id": "LWU7_Ypg2Rsz",
        "colab_type": "text"
      },
      "cell_type": "markdown",
      "source": [
        "**elif는 이전 조건문이 거짓일 때 수행된다!**\n",
        "\n",
        "if, elif, else를 모두 사용할 때의 구조를 보자. elif는 개수에 제한없이 사용할 수 있다."
      ]
    },
    {
      "metadata": {
        "id": "54vjExf82RvS",
        "colab_type": "code",
        "colab": {}
      },
      "cell_type": "code",
      "source": [
        "if <조건문1>:\n",
        "  <수행문장1>\n",
        "  <수행문장2>\n",
        "\n",
        "elif <조건문2>:\n",
        "  <수행문장3>\n",
        "  <수행문장4>\n",
        "\n",
        "elif <조건문3>:\n",
        "  <수행문장5>\n",
        "  <수행문장6>\n",
        "  \n",
        "else:\n",
        "  <수행문장7>\n",
        "  <수행문장8>"
      ],
      "execution_count": 0,
      "outputs": []
    },
    {
      "metadata": {
        "id": "Gch-JLd-3Kup",
        "colab_type": "text"
      },
      "cell_type": "markdown",
      "source": [
        "# 조건부 표현식\n",
        "\n",
        "**조건문이-참인-경우 if 조건문 else 조건문이-거짓인-경우**\n",
        "\n",
        "score가 60 이상일 경우 message에 \"성공\", 그렇지 않으면 \"실패\"를 대입하는 코드를 만들어보자."
      ]
    },
    {
      "metadata": {
        "id": "si5Y0TRH2R0i",
        "colab_type": "code",
        "outputId": "47961be5-13a5-4535-d4bc-04366366abc2",
        "colab": {
          "base_uri": "https://localhost:8080/",
          "height": 244
        }
      },
      "cell_type": "code",
      "source": [
        "if score >= 60:\n",
        "  message = \"성공\"\n",
        "  \n",
        "else:\n",
        "  message = \"실패\""
      ],
      "execution_count": 0,
      "outputs": [
        {
          "output_type": "error",
          "ename": "NameError",
          "evalue": "ignored",
          "traceback": [
            "\u001b[0;31m---------------------------------------------------------------------------\u001b[0m",
            "\u001b[0;31mNameError\u001b[0m                                 Traceback (most recent call last)",
            "\u001b[0;32m<ipython-input-1-94cb5f4b3430>\u001b[0m in \u001b[0;36m<module>\u001b[0;34m()\u001b[0m\n\u001b[0;32m----> 1\u001b[0;31m \u001b[0;32mif\u001b[0m \u001b[0mscore\u001b[0m \u001b[0;34m>=\u001b[0m \u001b[0;36m60\u001b[0m\u001b[0;34m:\u001b[0m\u001b[0;34m\u001b[0m\u001b[0m\n\u001b[0m\u001b[1;32m      2\u001b[0m   \u001b[0mmessage\u001b[0m \u001b[0;34m=\u001b[0m \u001b[0;34m\"성공\"\u001b[0m\u001b[0;34m\u001b[0m\u001b[0m\n\u001b[1;32m      3\u001b[0m \u001b[0;34m\u001b[0m\u001b[0m\n\u001b[1;32m      4\u001b[0m \u001b[0;32melse\u001b[0m\u001b[0;34m:\u001b[0m\u001b[0;34m\u001b[0m\u001b[0m\n\u001b[1;32m      5\u001b[0m   \u001b[0mmessage\u001b[0m \u001b[0;34m=\u001b[0m \u001b[0;34m\"실패\"\u001b[0m\u001b[0;34m\u001b[0m\u001b[0m\n",
            "\u001b[0;31mNameError\u001b[0m: name 'score' is not defined"
          ]
        }
      ]
    },
    {
      "metadata": {
        "id": "3M3v0gXz2R3N",
        "colab_type": "text"
      },
      "cell_type": "markdown",
      "source": [
        "위의 조건식을 다음과 같이 간단히 표현할 수 있다."
      ]
    },
    {
      "metadata": {
        "id": "BBGKT6yw2R5v",
        "colab_type": "code",
        "outputId": "4bc6149f-438c-4015-a396-c4bcc992e06a",
        "colab": {
          "base_uri": "https://localhost:8080/",
          "height": 172
        }
      },
      "cell_type": "code",
      "source": [
        "message = \"성공\" if score >= 60 else \"실패\""
      ],
      "execution_count": 0,
      "outputs": [
        {
          "output_type": "error",
          "ename": "NameError",
          "evalue": "ignored",
          "traceback": [
            "\u001b[0;31m---------------------------------------------------------------------------\u001b[0m",
            "\u001b[0;31mNameError\u001b[0m                                 Traceback (most recent call last)",
            "\u001b[0;32m<ipython-input-2-70abe4cc63e5>\u001b[0m in \u001b[0;36m<module>\u001b[0;34m()\u001b[0m\n\u001b[0;32m----> 1\u001b[0;31m \u001b[0mmessage\u001b[0m \u001b[0;34m=\u001b[0m \u001b[0;34m\"성공\"\u001b[0m \u001b[0;32mif\u001b[0m \u001b[0mscore\u001b[0m \u001b[0;34m>=\u001b[0m \u001b[0;36m60\u001b[0m \u001b[0;32melse\u001b[0m \u001b[0;34m\"실패\"\u001b[0m\u001b[0;34m\u001b[0m\u001b[0m\n\u001b[0m",
            "\u001b[0;31mNameError\u001b[0m: name 'score' is not defined"
          ]
        }
      ]
    },
    {
      "metadata": {
        "id": "vGvZsrFa2R8C",
        "colab_type": "text"
      },
      "cell_type": "markdown",
      "source": [
        "# 연습문제"
      ]
    },
    {
      "metadata": {
        "id": "ijiSzg8cXxeP",
        "colab_type": "text"
      },
      "cell_type": "markdown",
      "source": [
        "## Q1. 조건문1\n",
        "\n",
        "이희성은 10,000원의 돈을 가지고 있고 카드는 없다. 이를 아래와 같이 표현할 수 있다.\n",
        "\n",
        "money = 10000\n",
        "\n",
        "card = False\n",
        "\n",
        "택시를 타고 목적지에 가려고 하는데, 카드가 있거나 5,000원 이상의 돈을 가지고 있어야 한다.\n",
        "\n",
        "택시를 탈 수 있는지 판별하는 조건식을 작성하라."
      ]
    },
    {
      "metadata": {
        "id": "VaReKXddXx1i",
        "colab_type": "code",
        "outputId": "26a8dc94-8d0c-4c69-b2d2-50b0761d3941",
        "colab": {
          "base_uri": "https://localhost:8080/",
          "height": 35
        }
      },
      "cell_type": "code",
      "source": [
        "money = 10000\n",
        "card = False\n",
        "\n",
        "if money >= 5000 or card == True:\n",
        "  print (\"택시 타고 가라\")\n",
        "\n",
        "else:\n",
        "  print (\"택시는 무슨\")"
      ],
      "execution_count": 0,
      "outputs": [
        {
          "output_type": "stream",
          "text": [
            "택시 타고 가라\n"
          ],
          "name": "stdout"
        }
      ]
    },
    {
      "metadata": {
        "id": "Fx4TC7qtXx4h",
        "colab_type": "text"
      },
      "cell_type": "markdown",
      "source": [
        "## Q2. 조건문2\n",
        "\n",
        "이희성의 복권 번호는 37이라고 한다. 아래는 복권 당첨번호 리스트이다.\n",
        "\n",
        "lucky_list = [1,9,23,46]\n",
        "\n",
        "당첨되었다면, \"올레!\"라 문자열을 출력하는 조건식을 작성하라."
      ]
    },
    {
      "metadata": {
        "id": "pf0HFoTJXx7R",
        "colab_type": "code",
        "colab": {}
      },
      "cell_type": "code",
      "source": [
        "lucky_list = [1,9,23,46]\n",
        "\n",
        "if 37 in lucky_list:\n",
        "  print (\"올레에ㅔㅔㅔㅔㅔㅔㅔㅔㅔㅔ!\")\n",
        "  \n",
        "else:\n",
        "  #print (\"호에ㅔㅔㅔㅔㅔㅔㅔ에에에에엥\")\n",
        "  pass"
      ],
      "execution_count": 0,
      "outputs": []
    },
    {
      "metadata": {
        "id": "af6yyzSMXx93",
        "colab_type": "text"
      },
      "cell_type": "markdown",
      "source": [
        "## Q3. 홀수 짝수 판별\n",
        "\n",
        "주어진 수가 짝수인지 홀수인지 판별하는 조건식을 작성하라."
      ]
    },
    {
      "metadata": {
        "id": "5WnC_OY7XyAv",
        "colab_type": "code",
        "outputId": "49a67bb0-96ab-43f1-a28f-a166ae1ecc39",
        "colab": {
          "base_uri": "https://localhost:8080/",
          "height": 53
        }
      },
      "cell_type": "code",
      "source": [
        "number1 = 5\n",
        "number2 = 100\n",
        "\n",
        "if number1 % 2 == 0:\n",
        "  print (\"아헿헿 짝수\")\n",
        "else:\n",
        "  print (\"오홍홍 홀수\")\n",
        "  \n",
        "if number2 % 2 == 0:\n",
        "  print (\"아헿헿 짝수\")\n",
        "else:\n",
        "  print (\"오홍홍 홀수\")"
      ],
      "execution_count": 0,
      "outputs": [
        {
          "output_type": "stream",
          "text": [
            "오홍홍 홀수\n",
            "아헿헿 짝수\n"
          ],
          "name": "stdout"
        }
      ]
    },
    {
      "metadata": {
        "id": "O5KOwtuRXyDa",
        "colab_type": "text"
      },
      "cell_type": "markdown",
      "source": [
        "## Q4. 문자열 분석\n",
        "\n",
        "문자열을 분석하여 나이가 30 미만이고 키가 175 이상인 경우 YES를 출력하고, 그렇지 않은 경우 NO를 출력하는 조건식을 작성하라.\n",
        "\n",
        "나이 : 30, 키 : 180"
      ]
    },
    {
      "metadata": {
        "id": "X1Eex6K0b6Gv",
        "colab_type": "code",
        "outputId": "a6c6b702-3275-426c-d7ab-e466f9512140",
        "colab": {
          "base_uri": "https://localhost:8080/",
          "height": 68
        }
      },
      "cell_type": "code",
      "source": [
        "a = \"나이:30, 키:180\"\n",
        "print (a)\n",
        "\n",
        "temp1 = a.split(\":\")\n",
        "print(temp1)\n",
        "\n",
        "temp2 = a.split(\",\")\n",
        "print(temp2)\n",
        "\n",
        "# 안되네...\n",
        "#temp2_2 = temp2.split(\":\")\n",
        "#print(temp2_2)"
      ],
      "execution_count": 5,
      "outputs": [
        {
          "output_type": "stream",
          "text": [
            "나이:30, 키:180\n",
            "['나이', '30, 키', '180']\n",
            "['나이:30', ' 키:180']\n"
          ],
          "name": "stdout"
        }
      ]
    },
    {
      "metadata": {
        "id": "0-PRFvIDJzja",
        "colab_type": "code",
        "colab": {
          "base_uri": "https://localhost:8080/",
          "height": 119
        },
        "outputId": "c66acdd7-9b69-4dfe-d6e1-01d82d95ef28"
      },
      "cell_type": "code",
      "source": [
        "a = \"나이:30,키:180\"\n",
        "\n",
        "temp = a.split(\",\")\n",
        "print(temp)\n",
        "\n",
        "age = temp[0].split(\":\")[-1]\n",
        "print(age)\n",
        "\n",
        "key = temp[1].split(\":\")[-1]\n",
        "print(key)\n",
        "\n",
        "if int(age)<30 and int(key)>175:\n",
        "  print(\"예에에ㅔㅔㅔㅔ에ㅔㅔㅔㅔㅔㅔ에ㅔ쓰!!!!\")\n",
        "else:\n",
        "  print(\"노오오ㅗㅗㅗㅗ오오오오오오오오오오오오오\")\n",
        "  \n",
        "print(type(age))\n",
        "print(type(key))\n",
        "\n",
        "# 문자열을 쪼개고 쪼개 숫자만 남기더라도 그건 문자열 형태이다"
      ],
      "execution_count": 23,
      "outputs": [
        {
          "output_type": "stream",
          "text": [
            "['나이:30', '키:180']\n",
            "30\n",
            "180\n",
            "노오오ㅗㅗㅗㅗ오오오오오오오오오오오오오\n",
            "<class 'str'>\n",
            "<class 'str'>\n"
          ],
          "name": "stdout"
        }
      ]
    },
    {
      "metadata": {
        "id": "8dlx1HUNXyGP",
        "colab_type": "code",
        "outputId": "2f562735-108d-4d4a-f861-e0a473968d52",
        "colab": {
          "base_uri": "https://localhost:8080/",
          "height": 34
        }
      },
      "cell_type": "code",
      "source": [
        "# 문제 의도를 저-언혀 잘못 파악한 풀이\n",
        "\n",
        "age = 30\n",
        "key = 180\n",
        "\n",
        "if age < 30 and key >= 180:\n",
        "  print (\"YESSSSSSSSSSSSSSSS\")\n",
        "else:\n",
        "  print (\"NOOOOOOOOOOOOOOOOOO\")"
      ],
      "execution_count": 7,
      "outputs": [
        {
          "output_type": "stream",
          "text": [
            "NOOOOOOOOOOOOOOOOOO\n"
          ],
          "name": "stdout"
        }
      ]
    },
    {
      "metadata": {
        "id": "Psh1wVb4XyI4",
        "colab_type": "text"
      },
      "cell_type": "markdown",
      "source": [
        "## Q5. 조건문3\n",
        "\n",
        "아래 코드 결과값은 무엇일까?\n",
        "\n",
        "a = \"Life is too short, you need python\"\n",
        "\n",
        "if 'wife' in a:\n",
        "\n",
        "   print('wife')\n",
        "   \n",
        "elif 'python' in a and 'you' not in a:\n",
        "\n",
        "   print('python')\n",
        "   \n",
        "elif 'shirt' not in a:\n",
        "\n",
        "   print('shirt')\n",
        "   \n",
        "elif 'need' in a:\n",
        "\n",
        "   print('need')\n",
        "   \n",
        "else:\n",
        "\n",
        "   print('none')"
      ]
    },
    {
      "metadata": {
        "id": "JD8gfSN5cjk-",
        "colab_type": "text"
      },
      "cell_type": "markdown",
      "source": [
        "**A. none이 출력될 것이다.**"
      ]
    },
    {
      "metadata": {
        "id": "lixQSsnacCY2",
        "colab_type": "code",
        "outputId": "ee9e8138-d080-4223-c46f-2347d4a6fcff",
        "colab": {
          "base_uri": "https://localhost:8080/",
          "height": 35
        }
      },
      "cell_type": "code",
      "source": [
        "a = \"Life is too short, you need python\"\n",
        "\n",
        "if 'wife' in a:\n",
        "   print('wife')\n",
        "elif 'python' in a and 'you' not in a:\n",
        "   print('python')\n",
        "elif 'shirt' not in a:\n",
        "   print('shirt')\n",
        "elif 'need' in a:\n",
        "   print('need')\n",
        "else:\n",
        "   print('none')"
      ],
      "execution_count": 0,
      "outputs": [
        {
          "output_type": "stream",
          "text": [
            "shirt\n"
          ],
          "name": "stdout"
        }
      ]
    },
    {
      "metadata": {
        "id": "qLsbIVRTcx6r",
        "colab_type": "text"
      },
      "cell_type": "markdown",
      "source": [
        "**잘못봤다. short가 아니라, shirt였구나...**"
      ]
    }
  ]
}