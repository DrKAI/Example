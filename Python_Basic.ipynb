{
  "nbformat": 4,
  "nbformat_minor": 0,
  "metadata": {
    "colab": {
      "name": "Python Basic.ipynb",
      "version": "0.3.2",
      "provenance": [],
      "collapsed_sections": [],
      "include_colab_link": true
    },
    "kernelspec": {
      "name": "python3",
      "display_name": "Python 3"
    }
  },
  "cells": [
    {
      "cell_type": "markdown",
      "metadata": {
        "id": "view-in-github",
        "colab_type": "text"
      },
      "source": [
        "[View in Colaboratory](https://colab.research.google.com/github/DrKAI/Example/blob/master/Python_Basic.ipynb)"
      ]
    },
    {
      "metadata": {
        "id": "EVz9CxOjcD5D",
        "colab_type": "text"
      },
      "cell_type": "markdown",
      "source": [
        "**변수 선언 및 출력**"
      ]
    },
    {
      "metadata": {
        "id": "9jix5NHY256i",
        "colab_type": "code",
        "colab": {}
      },
      "cell_type": "code",
      "source": [
        "a = 245452775626"
      ],
      "execution_count": 0,
      "outputs": []
    },
    {
      "metadata": {
        "id": "JW7wrtA0dhsH",
        "colab_type": "code",
        "colab": {
          "base_uri": "https://localhost:8080/",
          "height": 34
        },
        "outputId": "468cfa84-690d-4d9c-8e81-8c2bfcebf29d"
      },
      "cell_type": "code",
      "source": [
        "print(a)"
      ],
      "execution_count": 0,
      "outputs": [
        {
          "output_type": "stream",
          "text": [
            "245452775626\n"
          ],
          "name": "stdout"
        }
      ]
    },
    {
      "metadata": {
        "id": "QgaPWNcjeIGu",
        "colab_type": "code",
        "colab": {
          "base_uri": "https://localhost:8080/",
          "height": 208
        },
        "outputId": "03dd9c0b-e314-40e5-92fe-a6d010fecdce"
      },
      "cell_type": "code",
      "source": [
        "b=45.4325736\n",
        "c=a/b\n",
        "print(c)\n"
      ],
      "execution_count": 1,
      "outputs": [
        {
          "output_type": "error",
          "ename": "NameError",
          "evalue": "ignored",
          "traceback": [
            "\u001b[0;31m---------------------------------------------------------------------------\u001b[0m",
            "\u001b[0;31mNameError\u001b[0m                                 Traceback (most recent call last)",
            "\u001b[0;32m<ipython-input-1-d71047f5633d>\u001b[0m in \u001b[0;36m<module>\u001b[0;34m()\u001b[0m\n\u001b[1;32m      1\u001b[0m \u001b[0mb\u001b[0m\u001b[0;34m=\u001b[0m\u001b[0;36m45.4325736\u001b[0m\u001b[0;34m\u001b[0m\u001b[0m\n\u001b[0;32m----> 2\u001b[0;31m \u001b[0mc\u001b[0m\u001b[0;34m=\u001b[0m\u001b[0ma\u001b[0m\u001b[0;34m/\u001b[0m\u001b[0mb\u001b[0m\u001b[0;34m\u001b[0m\u001b[0m\n\u001b[0m\u001b[1;32m      3\u001b[0m \u001b[0mprint\u001b[0m\u001b[0;34m(\u001b[0m\u001b[0mc\u001b[0m\u001b[0;34m)\u001b[0m\u001b[0;34m\u001b[0m\u001b[0m\n",
            "\u001b[0;31mNameError\u001b[0m: name 'a' is not defined"
          ]
        }
      ]
    },
    {
      "metadata": {
        "id": "RyKjio1tgBDR",
        "colab_type": "text"
      },
      "cell_type": "markdown",
      "source": [
        "print(a/b)는 실행 불가"
      ]
    },
    {
      "metadata": {
        "id": "2yjYkY54gsgH",
        "colab_type": "code",
        "colab": {
          "base_uri": "https://localhost:8080/",
          "height": 130
        },
        "outputId": "230877a3-87f1-46f5-f1bd-beb08f004d12"
      },
      "cell_type": "code",
      "source": [
        "print(a/b)"
      ],
      "execution_count": 0,
      "outputs": [
        {
          "output_type": "error",
          "ename": "SyntaxError",
          "evalue": "ignored",
          "traceback": [
            "\u001b[0;36m  File \u001b[0;32m\"<ipython-input-7-8de3328c9713>\"\u001b[0;36m, line \u001b[0;32m1\u001b[0m\n\u001b[0;31m    print(a/)\u001b[0m\n\u001b[0m            ^\u001b[0m\n\u001b[0;31mSyntaxError\u001b[0m\u001b[0;31m:\u001b[0m invalid syntax\n"
          ]
        }
      ]
    },
    {
      "metadata": {
        "id": "JseJ7OCKgZZK",
        "colab_type": "text"
      },
      "cell_type": "markdown",
      "source": [
        "Q1. 국어 80 영어 75 수학 55\n",
        "세 과목 평균 점수는?"
      ]
    },
    {
      "metadata": {
        "id": "yfqXAEiLhbh4",
        "colab_type": "code",
        "colab": {
          "base_uri": "https://localhost:8080/",
          "height": 34
        },
        "outputId": "d950592e-f39a-4a60-da84-3e84266e6e5f"
      },
      "cell_type": "code",
      "source": [
        "국어=80\n",
        "수학=55\n",
        "영어=75\n",
        "average = (국어+수학+영어)/3\n",
        "\n",
        "print(average)"
      ],
      "execution_count": 0,
      "outputs": [
        {
          "output_type": "stream",
          "text": [
            "70.0\n"
          ],
          "name": "stdout"
        }
      ]
    },
    {
      "metadata": {
        "id": "LG1B8ISpiAVl",
        "colab_type": "text"
      },
      "cell_type": "markdown",
      "source": [
        "Q2-3. 17 나누기 3의 몫과 나머지는?"
      ]
    },
    {
      "metadata": {
        "id": "XvlF6Zu1im2I",
        "colab_type": "code",
        "colab": {
          "base_uri": "https://localhost:8080/",
          "height": 51
        },
        "outputId": "ef55e3f5-f00c-408d-afe1-e088fe745372"
      },
      "cell_type": "code",
      "source": [
        "print(17/3)\n",
        "print(17%3)"
      ],
      "execution_count": 0,
      "outputs": [
        {
          "output_type": "stream",
          "text": [
            "5.666666666666667\n",
            "2\n"
          ],
          "name": "stdout"
        }
      ]
    },
    {
      "metadata": {
        "id": "4SOVdeQsi0IF",
        "colab_type": "text"
      },
      "cell_type": "markdown",
      "source": [
        "Q4. 자연수 홀짝 구분법은?\n",
        "\n",
        "2로 나눠서 나머지를 봅시다"
      ]
    },
    {
      "metadata": {
        "id": "fM-dZ_nrjuI6",
        "colab_type": "code",
        "colab": {
          "base_uri": "https://localhost:8080/",
          "height": 68
        },
        "outputId": "c37bf1ac-8974-4ae0-c7b3-969cf0b96297"
      },
      "cell_type": "code",
      "source": [
        "이희성 = \"바보\"\n",
        "바보 = \"이희성\"\n",
        "print(이희성+바보)\n",
        "바보이희성 = 바보+이희성\n",
        "print(바보이희성)\n",
        "print(바보이희성*2)\n",
        "#print(바보이희성**2) 안됨\n",
        "#print(바보이희성ˆ3) 상동"
      ],
      "execution_count": 0,
      "outputs": [
        {
          "output_type": "stream",
          "text": [
            "바보이희성\n",
            "이희성바보\n",
            "이희성바보이희성바보\n"
          ],
          "name": "stdout"
        }
      ]
    },
    {
      "metadata": {
        "id": "bYfuzGGxkvQy",
        "colab_type": "code",
        "colab": {}
      },
      "cell_type": "code",
      "source": [
        "# 문자열 포매팅 안됨 \n",
        "#print('\"리희성은 %d\\% 바보다\" % 100')\n",
        "#babo = \"이희성은 %d% 바보다\" %100\n",
        "\n",
        "# 잘됨 내가 멍청한거\n",
        "# 숫자 바로 대입\n",
        "print(\"리희성은 %d%% 한국남자다\" % 100)\n",
        "babo = \"이희성은 %d%% 일본남자다\" % 100\n",
        "print(babo)\n",
        "\n",
        "# 문자열 바로 대입\n",
        "print(\"이희성은 %s%% 꺼츠가 클것이다\" % \"오백만\")\n",
        "print(\"리희성은 %s 작을 것이다\"%\"백%s\"%\"오십%\")\n",
        "\n",
        "# 문자열 뒤 % 유무의 차이\n",
        "cc = \"이희성은 %skg만큼 몸무게가 늘었다\"\n",
        "dd = \"이희성은 %skg만큼 몸무게가 늘엇다\" %\"500\"\n",
        "print(cc)\n",
        "print(dd)\n",
        "\n",
        "# 문자값을 나타내는 변수로 대입\n",
        "ee = \"%s\"\n",
        "ff = \"%s\" %\"마더퍼커\"\n",
        "print(\"한남 %s%s\" % (ee, ff))\n",
        "print(\"한남 %s %s\" % (ee %\"죽어\", ff))\n",
        "print(\"한남 %s %s\" % (ff, ee))\n",
        "# print(\"한남 %s %d\" % (ee, ff)) 형식 불일치로 실행X\n",
        "# ee와 ff를 바꾸면 ee가 뒤에 %를 사용 안해서 실행X\n",
        "\n",
        "# 실행 불가\n",
        "# print(\"%s %s %s\" % (ee, ff))\n",
        "# print(\"%s %s\" % (ee, ff, ff))"
      ],
      "execution_count": 0,
      "outputs": []
    },
    {
      "metadata": {
        "id": "Ik3kjqBsceC9",
        "colab_type": "code",
        "colab": {}
      },
      "cell_type": "code",
      "source": [
        "pri"
      ],
      "execution_count": 0,
      "outputs": []
    },
    {
      "metadata": {
        "id": "5M4BGgM2qgdX",
        "colab_type": "code",
        "colab": {}
      },
      "cell_type": "code",
      "source": [
        "# Q1. \"쩜프투 파이썬\" 문자열 출력해봐라\n",
        "# Q2. 두줄짜리 문자열 만들어봐라\n",
        "# Q3. \"python\" 문자열 앞에 공백 24자리를 추가해라\n",
        "# Q4. 주민번호 앞자리와 뒷자리를 나누어 출력하라\n",
        "# Q5. 주민번호에서 성별 알려주는 숫자를 인덱싱 표기하라\n",
        "# Q6. 1980M1120 문자열을 M19801120으로 변경하라\n",
        "# Q7. Q3을 포맷코드로 해봐라\n",
        "# Q8. life is short 에서 short가 시작되는 인덱스를 구하라\n",
        "# Q9. a:b:c:d를 a#b#c#d 로 고쳐라 replace로\n",
        "# Q10. Q9를 split과 join으로 고쳐라\n",
        "\n",
        "print('\"점프투 파이선\" 문제를 풀어보자')\n",
        "\n",
        "# print(\"\"\"이희성\n",
        "# 바보\"\"\")\n",
        "baboo = \"\"\"이희성\n",
        "바보\"\"\"\n",
        "print(baboo)\n",
        "print(\"리희성\\n 바보\")\n",
        "\n",
        "print(\"%spython\" % \"                        \")\n",
        "space = \"                        \"\n",
        "print(\"%spython\"%space)\n",
        "\n",
        "jumin = \"900819-1234567\"\n",
        "# juminf = jumin[:5]\n",
        "juminf = jumin[:6]\n",
        "juminb = jumin[7:]\n",
        "print(jumin, juminf, juminb)\n",
        "# 문자열 줄내림말고 변수별로 내리는건 없을까\n",
        "\n",
        "# 문자열 전체문자수를 알려주는건 없나\n",
        "print(jumin[7])\n",
        "\n",
        "a = \"1980M1120\"\n",
        "print(a)\n",
        "b = a[5:]\n",
        "print(\"M1980\" + b)\n",
        "# print(\"%s\"+b % \"M1980\")\n",
        "print(\"%s\"%\"M1980\"+b)\n",
        "\n",
        "##"
      ],
      "execution_count": 0,
      "outputs": []
    },
    {
      "metadata": {
        "id": "ioLIrAPN_K9O",
        "colab_type": "text"
      },
      "cell_type": "markdown",
      "source": [
        "### 연습문제\n",
        "\n",
        "Q01. \"쩜프투 파이썬\" 문자열 출력해봐라\n",
        "\n",
        "Q02. 두줄짜리 문자열 만들어봐라\n",
        "\n",
        "Q03. \"python\" 문자열 앞에 공백 24자리를 추가해라\n",
        "\n",
        "Q04. 주민번호 앞자리와 뒷자리를 나누어 출력하라\n",
        "\n",
        "Q05. 주민번호에서 성별 알려주는 숫자를 인덱싱 표기하라\n",
        "\n",
        "Q06. 1980M1120 문자열을 M19801120으로 변경하라\n",
        "\n",
        "Q07. Q3을 포맷코드로 해봐라\n",
        "\n",
        "Q08. life is short 에서 short가 시작되는 인덱스를 구하라\n",
        "\n",
        "Q09. a:b:c:d를 a#b#c#d 로 고쳐라 replace로\n",
        "\n",
        "Q10. Q9를 split과 join으로 고쳐라"
      ]
    },
    {
      "metadata": {
        "id": "3c9hsjk-_PSk",
        "colab_type": "code",
        "colab": {}
      },
      "cell_type": "code",
      "source": [
        "# Q01\n",
        "print(\"쩜프투 파이썬\")\n",
        "\n",
        "print('점프투 파이선')\n",
        "\n",
        "a = \"쩜프투 파이썬\"\n",
        "print(a)"
      ],
      "execution_count": 0,
      "outputs": []
    },
    {
      "metadata": {
        "id": "YcpK7TUI_Wnc",
        "colab_type": "code",
        "colab": {}
      },
      "cell_type": "code",
      "source": [
        "# Q02\n",
        "print(\"\"\"쩜프투 \n",
        "파이썬\"\"\")"
      ],
      "execution_count": 0,
      "outputs": []
    },
    {
      "metadata": {
        "id": "y8sGcBTF_XW4",
        "colab_type": "code",
        "colab": {
          "base_uri": "https://localhost:8080/",
          "height": 35
        },
        "outputId": "9b88f76c-4bb4-44f1-88e8-d8649c8590ca"
      },
      "cell_type": "code",
      "source": [
        "# Q03\n",
        "print(\"                        python\")\n",
        "\n"
      ],
      "execution_count": 8,
      "outputs": [
        {
          "output_type": "stream",
          "text": [
            "                        python\n"
          ],
          "name": "stdout"
        }
      ]
    },
    {
      "metadata": {
        "id": "vePEso5KDma8",
        "colab_type": "code",
        "colab": {}
      },
      "cell_type": "code",
      "source": [
        "# Q04\n",
        "\n"
      ],
      "execution_count": 0,
      "outputs": []
    },
    {
      "metadata": {
        "id": "gtdD57nfD8Up",
        "colab_type": "code",
        "colab": {}
      },
      "cell_type": "code",
      "source": [
        ""
      ],
      "execution_count": 0,
      "outputs": []
    },
    {
      "metadata": {
        "id": "VFR5PvsP_L6C",
        "colab_type": "code",
        "colab": {}
      },
      "cell_type": "code",
      "source": [
        ""
      ],
      "execution_count": 0,
      "outputs": []
    },
    {
      "metadata": {
        "id": "ZRx5VKqW_MCc",
        "colab_type": "code",
        "colab": {}
      },
      "cell_type": "code",
      "source": [
        ""
      ],
      "execution_count": 0,
      "outputs": []
    },
    {
      "metadata": {
        "id": "xg6Hv_Wp_MHe",
        "colab_type": "code",
        "colab": {}
      },
      "cell_type": "code",
      "source": [
        ""
      ],
      "execution_count": 0,
      "outputs": []
    },
    {
      "metadata": {
        "id": "g0ujvH16_MKY",
        "colab_type": "code",
        "colab": {}
      },
      "cell_type": "code",
      "source": [
        ""
      ],
      "execution_count": 0,
      "outputs": []
    },
    {
      "metadata": {
        "id": "J4ChOclp_MUD",
        "colab_type": "code",
        "colab": {}
      },
      "cell_type": "code",
      "source": [
        ""
      ],
      "execution_count": 0,
      "outputs": []
    },
    {
      "metadata": {
        "id": "5wUEopxg_MXH",
        "colab_type": "code",
        "colab": {}
      },
      "cell_type": "code",
      "source": [
        ""
      ],
      "execution_count": 0,
      "outputs": []
    },
    {
      "metadata": {
        "id": "yAGP6A-t_MZp",
        "colab_type": "code",
        "colab": {}
      },
      "cell_type": "code",
      "source": [
        ""
      ],
      "execution_count": 0,
      "outputs": []
    },
    {
      "metadata": {
        "id": "2uhj3K_2_McE",
        "colab_type": "text"
      },
      "cell_type": "markdown",
      "source": [
        "# **리스트 자료형**"
      ]
    },
    {
      "metadata": {
        "id": "qWxVONWjEVtX",
        "colab_type": "code",
        "colab": {
          "base_uri": "https://localhost:8080/",
          "height": 107
        },
        "outputId": "26aedae7-ad3c-495b-a031-acc280ee803e"
      },
      "cell_type": "code",
      "source": [
        "# 리스트명 = [요소1, 요소2, ...]\n",
        "\n",
        "list01 = [1, 2, 3]\n",
        "list02 = ['f', 'u', 'c', 'k']\n",
        "list03 = [1, 2, 3, 'f', 'k']\n",
        "list04 = [1, 2, ['f', 'c', 'k']]\n",
        "\n",
        "# 빈 리스트 생성\n",
        "list05 = list()\n",
        "\n",
        "print(list01)\n",
        "print(list02)\n",
        "print(list03)\n",
        "print(list04)\n",
        "print(list05)"
      ],
      "execution_count": 3,
      "outputs": [
        {
          "output_type": "stream",
          "text": [
            "[1, 2, 3]\n",
            "['f', 'u', 'c', 'k']\n",
            "[1, 2, 3, 'f', 'k']\n",
            "[1, 2, ['f', 'c', 'k']]\n",
            "[]\n"
          ],
          "name": "stdout"
        }
      ]
    },
    {
      "metadata": {
        "id": "pwiDslaVFJnx",
        "colab_type": "text"
      },
      "cell_type": "markdown",
      "source": [
        "# **리스트 인덱싱**"
      ]
    },
    {
      "metadata": {
        "id": "FRqTIk3_FJ3A",
        "colab_type": "code",
        "colab": {
          "base_uri": "https://localhost:8080/",
          "height": 53
        },
        "outputId": "c53aa3ee-2cd4-4e4b-8854-205d110d0cf4"
      },
      "cell_type": "code",
      "source": [
        "list06 = [1, 2, 3]\n",
        "\n",
        "# list06의 2번째 요소와 3번째 요소 더하기\n",
        "a = list06[1] + list06[2]\n",
        "print(a)\n",
        "\n",
        "# 그냥 출력단에서 바로 연산도 가능함\n",
        "print(list06[0] + list06[2])\n",
        "\n"
      ],
      "execution_count": 4,
      "outputs": [
        {
          "output_type": "stream",
          "text": [
            "5\n",
            "4\n"
          ],
          "name": "stdout"
        }
      ]
    },
    {
      "metadata": {
        "id": "SxhjP_7mFJ5q",
        "colab_type": "code",
        "colab": {
          "base_uri": "https://localhost:8080/",
          "height": 53
        },
        "outputId": "3b6379bf-a261-419f-9abb-8decb44b7a23"
      },
      "cell_type": "code",
      "source": [
        "list07 = [1, 2, ['F','U','C','K']]\n",
        "\n",
        "# [-1]과 [2]를 비교해보자\n",
        "print(list07[-1])\n",
        "print(list07[2])"
      ],
      "execution_count": 4,
      "outputs": [
        {
          "output_type": "stream",
          "text": [
            "['F', 'U', 'C', 'K']\n",
            "['F', 'U', 'C', 'K']\n"
          ],
          "name": "stdout"
        }
      ]
    },
    {
      "metadata": {
        "id": "KVjoMO4tFJ8O",
        "colab_type": "code",
        "colab": {
          "base_uri": "https://localhost:8080/",
          "height": 89
        },
        "outputId": "e9c8c2cf-34a4-4e48-bfe9-4e477309be3a"
      },
      "cell_type": "code",
      "source": [
        "# 리스트 안의 리스트에서 인덱싱을 해보자\n",
        "\n",
        "print(list07[2][0])\n",
        "print(list07[2][1])\n",
        "print(list07[2][2])\n",
        "print(list07[2][3])"
      ],
      "execution_count": 7,
      "outputs": [
        {
          "output_type": "stream",
          "text": [
            "F\n",
            "U\n",
            "C\n",
            "K\n"
          ],
          "name": "stdout"
        }
      ]
    },
    {
      "metadata": {
        "id": "CEJDtI-hGv7P",
        "colab_type": "code",
        "colab": {
          "base_uri": "https://localhost:8080/",
          "height": 107
        },
        "outputId": "d5f95a0e-b978-48ca-c850-64ecb3e8cba8"
      },
      "cell_type": "code",
      "source": [
        "# 리스트 안의 리스트 인덱싱 다른 시도를 해보자.\n",
        "print(list07[2][-1])\n",
        "print(list07[2][-2])\n",
        "print(list07[2][-3])\n",
        "print(list07[2][-4])\n",
        "# 음수값은 리스트 우측에서부터 출력된다는 걸 확인할 수 있다.\n",
        "\n",
        "\n",
        "# P.S [2][-0]을 하면 뭐가 나올까?\n",
        "print(list07[2][-0])\n",
        "# [-0]은 [0] 취급을 하는 듯하다. 이러지 말자."
      ],
      "execution_count": 22,
      "outputs": [
        {
          "output_type": "stream",
          "text": [
            "K\n",
            "C\n",
            "U\n",
            "F\n",
            "F\n"
          ],
          "name": "stdout"
        }
      ]
    },
    {
      "metadata": {
        "id": "EGvmmAGJGwBv",
        "colab_type": "code",
        "colab": {
          "base_uri": "https://localhost:8080/",
          "height": 172
        },
        "outputId": "160f7ae0-e01c-44fb-ea5a-667e154a6e95"
      },
      "cell_type": "code",
      "source": [
        "# 리스트 안의 리스트 인덱싱 다른 시도를 해보자. Two.\n",
        "print(list07[1][0])\n",
        "# 에러가 뜰 것이다. list07 = [1]이 가리키는 값은 2이다."
      ],
      "execution_count": 19,
      "outputs": [
        {
          "output_type": "error",
          "ename": "TypeError",
          "evalue": "ignored",
          "traceback": [
            "\u001b[0;31m---------------------------------------------------------------------------\u001b[0m",
            "\u001b[0;31mTypeError\u001b[0m                                 Traceback (most recent call last)",
            "\u001b[0;32m<ipython-input-19-124d966ad31f>\u001b[0m in \u001b[0;36m<module>\u001b[0;34m()\u001b[0m\n\u001b[0;32m----> 1\u001b[0;31m \u001b[0mprint\u001b[0m\u001b[0;34m(\u001b[0m\u001b[0mlist07\u001b[0m\u001b[0;34m[\u001b[0m\u001b[0;36m1\u001b[0m\u001b[0;34m]\u001b[0m\u001b[0;34m[\u001b[0m\u001b[0;36m0\u001b[0m\u001b[0;34m]\u001b[0m\u001b[0;34m)\u001b[0m\u001b[0;34m\u001b[0m\u001b[0m\n\u001b[0m",
            "\u001b[0;31mTypeError\u001b[0m: 'int' object is not subscriptable"
          ]
        }
      ]
    },
    {
      "metadata": {
        "id": "Ho3SKodsGwE3",
        "colab_type": "code",
        "colab": {
          "base_uri": "https://localhost:8080/",
          "height": 35
        },
        "outputId": "d5137663-1fc1-4249-94d6-f7d2b90e3628"
      },
      "cell_type": "code",
      "source": [
        "# 삼중 리스트도 가능할까?\n",
        "list08 = [10, 50, ['H','i', ['F','U','C','K']]]\n",
        "print(list08[2][2][3])\n",
        "\n",
        "# 삼중까지 사용하면 혼란스럽기 때문에 우선 가능하단 것만 알아두자."
      ],
      "execution_count": 24,
      "outputs": [
        {
          "output_type": "stream",
          "text": [
            "K\n"
          ],
          "name": "stdout"
        }
      ]
    },
    {
      "metadata": {
        "id": "Iux02QVAGwHg",
        "colab_type": "text"
      },
      "cell_type": "markdown",
      "source": [
        "# **리스트 슬라이싱**"
      ]
    },
    {
      "metadata": {
        "id": "6ve_JqPPGwKM",
        "colab_type": "code",
        "colab": {
          "base_uri": "https://localhost:8080/",
          "height": 89
        },
        "outputId": "5015acdc-6ab6-4441-ecfa-7615c8cfb205"
      },
      "cell_type": "code",
      "source": [
        "# 문자열에서 사용했던 슬라이싱과 동일하다.\n",
        "\n",
        "list09 = [1, 2, 3, 4, 5]\n",
        "print(list09[0:3])\n",
        "\n",
        "# [a:b]이면 a <= 슬라이싱 구간 < b이다. 한 마디로 b값은 포함 안 함!\n",
        "\n",
        "print(list09[0:])\n",
        "print(list09[2:4])\n",
        "print(list09[:5])"
      ],
      "execution_count": 31,
      "outputs": [
        {
          "output_type": "stream",
          "text": [
            "[1, 2, 3]\n",
            "[1, 2, 3, 4, 5]\n",
            "[3, 4]\n",
            "[1, 2, 3, 4, 5]\n"
          ],
          "name": "stdout"
        }
      ]
    },
    {
      "metadata": {
        "id": "LNVYhXWAGwM4",
        "colab_type": "code",
        "colab": {
          "base_uri": "https://localhost:8080/",
          "height": 89
        },
        "outputId": "3a5112e7-93c1-4110-eb60-65506de6d530"
      },
      "cell_type": "code",
      "source": [
        "# 아까 사용했던 list07 = [1, 2, ['F','U','C','K']] 빌려와서 중첩 리스트 슬라이싱을 해보자\n",
        "\n",
        "print(list07[2][0:3])\n",
        "print(list07[2][1:4])"
      ],
      "execution_count": 40,
      "outputs": [
        {
          "output_type": "stream",
          "text": [
            "['F', 'U', 'C']\n",
            "['U', 'C', 'K']\n",
            "['F', 'U', 'C', 'K']\n",
            "['F', 'U', 'C', 'K']\n"
          ],
          "name": "stdout"
        }
      ]
    },
    {
      "metadata": {
        "id": "ig5Dh9EhJoaR",
        "colab_type": "code",
        "colab": {
          "base_uri": "https://localhost:8080/",
          "height": 53
        },
        "outputId": "c7a73ba6-d086-4ee2-c44e-a160af1f4e8d"
      },
      "cell_type": "code",
      "source": [
        "# 이런 것도 허용은 된다. 허용은! 이러지 말자.\n",
        "\n",
        "print(list07[2][:100])\n",
        "print(list07[2][-100:])"
      ],
      "execution_count": 42,
      "outputs": [
        {
          "output_type": "stream",
          "text": [
            "['F', 'U', 'C', 'K']\n",
            "['F', 'U', 'C', 'K']\n"
          ],
          "name": "stdout"
        }
      ]
    },
    {
      "metadata": {
        "id": "hYKYyTBMNAQR",
        "colab_type": "text"
      },
      "cell_type": "markdown",
      "source": [
        ""
      ]
    },
    {
      "metadata": {
        "id": "OMRq7NrKLjTZ",
        "colab_type": "text"
      },
      "cell_type": "markdown",
      "source": [
        "# **리스트 연산자**"
      ]
    },
    {
      "metadata": {
        "id": "N8Ubo68NLkti",
        "colab_type": "text"
      },
      "cell_type": "markdown",
      "source": [
        "리스트는 덧셈이 가능하다. 사칙연산의 개념이 아닌, 리스트 간의 결합이다.\n",
        "\n",
        "\n"
      ]
    },
    {
      "metadata": {
        "id": "7TI_ZWNQM46L",
        "colab_type": "code",
        "colab": {
          "base_uri": "https://localhost:8080/",
          "height": 35
        },
        "outputId": "4bba9f93-8818-467a-cf11-f3e02f749a5b"
      },
      "cell_type": "code",
      "source": [
        "print(list07 + list08)"
      ],
      "execution_count": 55,
      "outputs": [
        {
          "output_type": "stream",
          "text": [
            "[1, 2, ['F', 'U', 'C', 'K'], 10, 50, ['H', 'i', ['F', 'U', 'C', 'K']]]\n"
          ],
          "name": "stdout"
        }
      ]
    },
    {
      "metadata": {
        "id": "rBLvWVTjM5Fn",
        "colab_type": "text"
      },
      "cell_type": "markdown",
      "source": [
        "리스트는 곱셈도 가능하다. 역시 사칙연산 개념이 아닌, 리스트 요소의 반복이다."
      ]
    },
    {
      "metadata": {
        "id": "Y7fFMj-EM5Kd",
        "colab_type": "code",
        "colab": {
          "base_uri": "https://localhost:8080/",
          "height": 35
        },
        "outputId": "44acf9af-c895-4ac3-8f82-dcd07d970986"
      },
      "cell_type": "code",
      "source": [
        "print(list07 * 3)"
      ],
      "execution_count": 53,
      "outputs": [
        {
          "output_type": "stream",
          "text": [
            "[1, 2, ['F', 'U', 'C', 'K'], 1, 2, ['F', 'U', 'C', 'K'], 1, 2, ['F', 'U', 'C', 'K']]\n"
          ],
          "name": "stdout"
        }
      ]
    },
    {
      "metadata": {
        "id": "e3VlWuWYLk2Y",
        "colab_type": "text"
      },
      "cell_type": "markdown",
      "source": [
        "그럼 이런 것도 가능할까? 확인해보라."
      ]
    },
    {
      "metadata": {
        "id": "Io3GsixVNTkI",
        "colab_type": "code",
        "colab": {
          "base_uri": "https://localhost:8080/",
          "height": 55
        },
        "outputId": "ea92bb1d-ebe4-4c59-8145-5e4f68d7914f"
      },
      "cell_type": "code",
      "source": [
        "print(list07 * 3 + list08 * 2)"
      ],
      "execution_count": 54,
      "outputs": [
        {
          "output_type": "stream",
          "text": [
            "[1, 2, ['F', 'U', 'C', 'K'], 1, 2, ['F', 'U', 'C', 'K'], 1, 2, ['F', 'U', 'C', 'K'], 10, 50, ['H', 'i', ['F', 'U', 'C', 'K']], 10, 50, ['H', 'i', ['F', 'U', 'C', 'K']]]\n"
          ],
          "name": "stdout"
        }
      ]
    },
    {
      "metadata": {
        "id": "AxGCZzmMLk88",
        "colab_type": "text"
      },
      "cell_type": "markdown",
      "source": [
        "**가능하다!**"
      ]
    },
    {
      "metadata": {
        "id": "2_NALWcENZSF",
        "colab_type": "text"
      },
      "cell_type": "markdown",
      "source": [
        "**리스트 연산에 주의할 점이 있다.** 아래의 코드를 실행시켜보자.\n",
        "\n"
      ]
    },
    {
      "metadata": {
        "id": "GuIGNtvMLk_i",
        "colab_type": "code",
        "colab": {
          "base_uri": "https://localhost:8080/",
          "height": 172
        },
        "outputId": "f79608fb-726b-4d67-a3fd-58b6e339df9a"
      },
      "cell_type": "code",
      "source": [
        "print(list07[2] + \"hi\")"
      ],
      "execution_count": 3,
      "outputs": [
        {
          "output_type": "error",
          "ename": "NameError",
          "evalue": "ignored",
          "traceback": [
            "\u001b[0;31m---------------------------------------------------------------------------\u001b[0m",
            "\u001b[0;31mNameError\u001b[0m                                 Traceback (most recent call last)",
            "\u001b[0;32m<ipython-input-3-bd6fb3bb2e15>\u001b[0m in \u001b[0;36m<module>\u001b[0;34m()\u001b[0m\n\u001b[0;32m----> 1\u001b[0;31m \u001b[0mprint\u001b[0m\u001b[0;34m(\u001b[0m\u001b[0mlist07\u001b[0m\u001b[0;34m[\u001b[0m\u001b[0;36m2\u001b[0m\u001b[0;34m]\u001b[0m \u001b[0;34m+\u001b[0m \u001b[0;34m\"hi\"\u001b[0m\u001b[0;34m)\u001b[0m\u001b[0;34m\u001b[0m\u001b[0m\n\u001b[0m",
            "\u001b[0;31mNameError\u001b[0m: name 'list07' is not defined"
          ]
        }
      ]
    },
    {
      "metadata": {
        "id": "NwA0OVprLlCB",
        "colab_type": "text"
      },
      "cell_type": "markdown",
      "source": [
        "오류가 발생할 것이다. 당연하게도, 정수와 문자열은 서로 더하는 것이 불가능하다. 형식을 변환해야 한다."
      ]
    },
    {
      "metadata": {
        "id": "kxFDt0nuLlEz",
        "colab_type": "code",
        "colab": {
          "base_uri": "https://localhost:8080/",
          "height": 71
        },
        "outputId": "ea49ae54-bfc4-4308-8082-4312a8b03948"
      },
      "cell_type": "code",
      "source": [
        "print(str(list07[1]) + \"Fuck\")\n",
        "print(str(list07[2]) + \"hi\")\n",
        "print(str(list07[:3]) + \"   FFUCK\")"
      ],
      "execution_count": 5,
      "outputs": [
        {
          "output_type": "stream",
          "text": [
            "2Fuck\n",
            "['F', 'U', 'C', 'K']hi\n",
            "[1, 2, ['F', 'U', 'C', 'K']]   FFUCK\n"
          ],
          "name": "stdout"
        }
      ]
    },
    {
      "metadata": {
        "id": "Ug4fFPTmPVSH",
        "colab_type": "text"
      },
      "cell_type": "markdown",
      "source": [
        "# **리스트 수정 및 삭제**"
      ]
    },
    {
      "metadata": {
        "id": "HpCt9JhTPV0W",
        "colab_type": "text"
      },
      "cell_type": "markdown",
      "source": [
        "**리스트 요소 하나의 값을 수정해보자**"
      ]
    },
    {
      "metadata": {
        "id": "k7CacNRQPV26",
        "colab_type": "code",
        "colab": {
          "base_uri": "https://localhost:8080/",
          "height": 53
        },
        "outputId": "3d7f8023-6c78-438a-e217-0ad8fdd33c25"
      },
      "cell_type": "code",
      "source": [
        "list10 = [1, 2, 3, 4, 5]\n",
        "print(list10)\n",
        "\n",
        "list10[3] = 100\n",
        "print(list10)"
      ],
      "execution_count": 27,
      "outputs": [
        {
          "output_type": "stream",
          "text": [
            "[1, 2, 3, 4, 5]\n",
            "[1, 2, 3, 100, 5]\n"
          ],
          "name": "stdout"
        }
      ]
    },
    {
      "metadata": {
        "id": "5UvzyAP5PV5T",
        "colab_type": "text"
      },
      "cell_type": "markdown",
      "source": [
        "**리스트 연속된 범위의 값을 수정해보자**"
      ]
    },
    {
      "metadata": {
        "id": "zGXIvEGSPV7W",
        "colab_type": "code",
        "colab": {
          "base_uri": "https://localhost:8080/",
          "height": 89
        },
        "outputId": "a3c76869-ae63-467e-9b65-6c4bd78db774"
      },
      "cell_type": "code",
      "source": [
        "print(list10[1:3])\n",
        "\n",
        "# 두 글자에 맞춰 범위는 2개로\n",
        "list10 = [1, 2, 3, 4, 5]\n",
        "list10[1:3] = ['h','i']\n",
        "print(list10)\n",
        "\n",
        "# 범위 3개로 테스트\n",
        "list10 = [1, 2, 3, 4, 5]\n",
        "list10[1:4] = ['h','i']\n",
        "print(list10)\n",
        "\n",
        "# 범위 4개로 테스트\n",
        "list10 = [1, 2, 3, 4, 5]\n",
        "list10[1:5] = ['h','i']\n",
        "print(list10)"
      ],
      "execution_count": 29,
      "outputs": [
        {
          "output_type": "stream",
          "text": [
            "['h', 'i']\n",
            "[1, 'h', 'i', 4, 5]\n",
            "[1, 'h', 'i', 5]\n",
            "[1, 'h', 'i']\n"
          ],
          "name": "stdout"
        }
      ]
    },
    {
      "metadata": {
        "id": "Rb9bMAkIPV9g",
        "colab_type": "text"
      },
      "cell_type": "markdown",
      "source": [
        "글자 수를 넘는 범위를 지정하면 그냥 공란 처리가 되는 듯하다.  \n",
        "단일 값과 연속된 범위의 값을 바꾸는 건 서로 다르니 주의하자."
      ]
    },
    {
      "metadata": {
        "id": "YKzsIuwaPV_n",
        "colab_type": "text"
      },
      "cell_type": "markdown",
      "source": [
        "이번에는 리스트를 삭제해보자.  \n",
        "**1. [ ]를 사용해서 리스트 요소를 삭제한다.**"
      ]
    },
    {
      "metadata": {
        "id": "E0p9Fn5HPWBv",
        "colab_type": "code",
        "colab": {
          "base_uri": "https://localhost:8080/",
          "height": 53
        },
        "outputId": "f08f5db4-883f-466f-b01e-ca077831f6d9"
      },
      "cell_type": "code",
      "source": [
        "list10 = [1, 2, 3, 4, 5]\n",
        "list10[1:4] = []\n",
        "print(list10)\n",
        "\n",
        "# 단일 요소 삭제는 불가\n",
        "list10 = [1, 2, 3, 4, 5]\n",
        "list10[2] = [ ]\n",
        "print(list10)"
      ],
      "execution_count": 35,
      "outputs": [
        {
          "output_type": "stream",
          "text": [
            "[1, 5]\n",
            "[1, 2, [], 4, 5]\n"
          ],
          "name": "stdout"
        }
      ]
    },
    {
      "metadata": {
        "id": "gBXoKwsqPWFs",
        "colab_type": "text"
      },
      "cell_type": "markdown",
      "source": [
        "**2. del 함수를 사용해서 리스트 요소를 삭제한다.**"
      ]
    },
    {
      "metadata": {
        "id": "AyY-mrCJkZ4R",
        "colab_type": "code",
        "colab": {
          "base_uri": "https://localhost:8080/",
          "height": 53
        },
        "outputId": "f042a2ad-a2ba-4b03-df57-c5c0963db0b8"
      },
      "cell_type": "code",
      "source": [
        "# 단일 요소 삭제\n",
        "list10 = [1, 2, 3, 4, 5]\n",
        "del list10[3]\n",
        "print(list10)\n",
        "\n",
        "# 범위 삭제\n",
        "list10 = [1, 2, 3, 4, 5]\n",
        "del list10[1:4]\n",
        "print(list10)\n"
      ],
      "execution_count": 32,
      "outputs": [
        {
          "output_type": "stream",
          "text": [
            "[1, 2, 3, 5]\n",
            "[1, 5]\n"
          ],
          "name": "stdout"
        }
      ]
    },
    {
      "metadata": {
        "id": "s2Ff99Ccq0uw",
        "colab_type": "code",
        "colab": {}
      },
      "cell_type": "code",
      "source": [
        ""
      ],
      "execution_count": 0,
      "outputs": []
    },
    {
      "metadata": {
        "id": "Z7rds92AkZ65",
        "colab_type": "text"
      },
      "cell_type": "markdown",
      "source": [
        "# **리스트 관련 함수들**"
      ]
    },
    {
      "metadata": {
        "id": "IO7LYFdqkZ_c",
        "colab_type": "text"
      },
      "cell_type": "markdown",
      "source": [
        "## 리스트에 요소 추가 (append)"
      ]
    },
    {
      "metadata": {
        "id": "5jGhhOf0qrCY",
        "colab_type": "text"
      },
      "cell_type": "markdown",
      "source": [
        "append(X)는 리스트 맨 마지막에 X를 추가시키는 함수이다."
      ]
    },
    {
      "metadata": {
        "id": "KY7CQRcnkaCg",
        "colab_type": "code",
        "colab": {
          "base_uri": "https://localhost:8080/",
          "height": 35
        },
        "outputId": "bc852743-0d7c-443e-9cc3-1a93629afa4d"
      },
      "cell_type": "code",
      "source": [
        "list10 = [1, 2, 3, 4, 5]\n",
        "list10.append(666)\n",
        "print(list10)"
      ],
      "execution_count": 36,
      "outputs": [
        {
          "output_type": "stream",
          "text": [
            "[1, 2, 3, 4, 5, 666]\n"
          ],
          "name": "stdout"
        }
      ]
    },
    {
      "metadata": {
        "id": "WkhyHPlYkaFA",
        "colab_type": "text"
      },
      "cell_type": "markdown",
      "source": [
        "## 리스트 정렬 (sort)"
      ]
    },
    {
      "metadata": {
        "id": "mmHtCs8rkaHr",
        "colab_type": "text"
      },
      "cell_type": "markdown",
      "source": [
        "sort 함수는 리스트 요소를 순서대로 정렬해준다.  "
      ]
    },
    {
      "metadata": {
        "id": "s0gddeF_qIud",
        "colab_type": "code",
        "colab": {
          "base_uri": "https://localhost:8080/",
          "height": 53
        },
        "outputId": "cd6630af-f3a5-4bf9-ec06-01ffd8c4b132"
      },
      "cell_type": "code",
      "source": [
        "list10 = [5, 6, 9, 1, 4, 3, 2, 8, 7]\n",
        "list10.sort()\n",
        "print(list10)\n",
        "\n",
        "list10 = [666666, 20785, -120, 0, 560]\n",
        "list10.sort()\n",
        "print(list10)"
      ],
      "execution_count": 40,
      "outputs": [
        {
          "output_type": "stream",
          "text": [
            "[1, 2, 3, 4, 5, 6, 7, 8, 9]\n",
            "[-120, 0, 560, 20785, 666666]\n"
          ],
          "name": "stdout"
        }
      ]
    },
    {
      "metadata": {
        "id": "G88ZLVkUqIwi",
        "colab_type": "text"
      },
      "cell_type": "markdown",
      "source": [
        "문자 역시 알파벳 순서로 정렬 가능하다."
      ]
    },
    {
      "metadata": {
        "id": "9MB9SJPPqIyp",
        "colab_type": "code",
        "colab": {
          "base_uri": "https://localhost:8080/",
          "height": 71
        },
        "outputId": "9118d054-f59b-4ca2-e221-2e9860dfe83b"
      },
      "cell_type": "code",
      "source": [
        "a = ['a', 'c', 'e', 'h', 'g', 'b', 'd', 'f']\n",
        "a.sort()\n",
        "print(a)"
      ],
      "execution_count": 43,
      "outputs": [
        {
          "output_type": "stream",
          "text": [
            "['a', 'b', 'c', 'd', 'e', 'f', 'g', 'h']\n",
            "['1', '10', '666', 'a', 'c', 'e', 'h']\n",
            "['500', 'a', 'hell', \"i'm\", 'you']\n"
          ],
          "name": "stdout"
        }
      ]
    },
    {
      "metadata": {
        "id": "L0PST4tdqI0i",
        "colab_type": "text"
      },
      "cell_type": "markdown",
      "source": [
        "문자열화 된 숫자와 문자가 섞이면 숫자가 우선시된다."
      ]
    },
    {
      "metadata": {
        "id": "IF8EtXweqI2h",
        "colab_type": "code",
        "colab": {
          "base_uri": "https://localhost:8080/",
          "height": 34
        },
        "outputId": "0b19d94b-9ea6-4f91-ce8d-a27293781120"
      },
      "cell_type": "code",
      "source": [
        "b = ['a', 'c', 'e', 'h', '1', '666', '10']\n",
        "b.sort()\n",
        "print(b)"
      ],
      "execution_count": 5,
      "outputs": [
        {
          "output_type": "stream",
          "text": [
            "['1', '10', '666', 'a', 'c', 'e', 'h']\n"
          ],
          "name": "stdout"
        }
      ]
    },
    {
      "metadata": {
        "id": "G0_FEW14qI4a",
        "colab_type": "text"
      },
      "cell_type": "markdown",
      "source": [
        "**다만, 아래처럼 진짜 수와 문자가 섞이면 정렬이 불가하다.**"
      ]
    },
    {
      "metadata": {
        "id": "WIbmhfhrqI6K",
        "colab_type": "code",
        "colab": {
          "base_uri": "https://localhost:8080/",
          "height": 208
        },
        "outputId": "80135079-bfb5-4965-bb63-d96f9c903433"
      },
      "cell_type": "code",
      "source": [
        "c = ['hell', 'i\\'m', 'you', 500, 18, 'a']\n",
        "c.sort()\n",
        "print(c)"
      ],
      "execution_count": 47,
      "outputs": [
        {
          "output_type": "error",
          "ename": "TypeError",
          "evalue": "ignored",
          "traceback": [
            "\u001b[0;31m---------------------------------------------------------------------------\u001b[0m",
            "\u001b[0;31mTypeError\u001b[0m                                 Traceback (most recent call last)",
            "\u001b[0;32m<ipython-input-47-7a480362f004>\u001b[0m in \u001b[0;36m<module>\u001b[0;34m()\u001b[0m\n\u001b[1;32m      1\u001b[0m \u001b[0mc\u001b[0m \u001b[0;34m=\u001b[0m \u001b[0;34m[\u001b[0m\u001b[0;34m'hell'\u001b[0m\u001b[0;34m,\u001b[0m \u001b[0;34m'i\\'m'\u001b[0m\u001b[0;34m,\u001b[0m \u001b[0;34m'you'\u001b[0m\u001b[0;34m,\u001b[0m \u001b[0;36m500\u001b[0m\u001b[0;34m,\u001b[0m \u001b[0;36m18\u001b[0m\u001b[0;34m,\u001b[0m \u001b[0;34m'a'\u001b[0m\u001b[0;34m]\u001b[0m\u001b[0;34m\u001b[0m\u001b[0m\n\u001b[0;32m----> 2\u001b[0;31m \u001b[0mc\u001b[0m\u001b[0;34m.\u001b[0m\u001b[0msort\u001b[0m\u001b[0;34m(\u001b[0m\u001b[0;34m)\u001b[0m\u001b[0;34m\u001b[0m\u001b[0m\n\u001b[0m\u001b[1;32m      3\u001b[0m \u001b[0mprint\u001b[0m\u001b[0;34m(\u001b[0m\u001b[0mc\u001b[0m\u001b[0;34m)\u001b[0m\u001b[0;34m\u001b[0m\u001b[0m\n",
            "\u001b[0;31mTypeError\u001b[0m: '<' not supported between instances of 'int' and 'str'"
          ]
        }
      ]
    },
    {
      "metadata": {
        "id": "17V27HSIssaP",
        "colab_type": "text"
      },
      "cell_type": "markdown",
      "source": [
        "## 리스트 뒤집기 (reverse)"
      ]
    },
    {
      "metadata": {
        "id": "NOx3uHI_s8fP",
        "colab_type": "text"
      },
      "cell_type": "markdown",
      "source": [
        "리스트를 역순으로 뒤집어준다.  \n",
        "**이 때, 리스트를 순서대로 정렬 후 역순으로 정렬하는 것이 아니라 현재 리스트를 그대로 거꾸로 뒤집는다.**"
      ]
    },
    {
      "metadata": {
        "id": "OJFFoY0Ks8hx",
        "colab_type": "code",
        "colab": {
          "base_uri": "https://localhost:8080/",
          "height": 35
        },
        "outputId": "ef914210-e4b9-42f2-ec68-c37061db4612"
      },
      "cell_type": "code",
      "source": [
        "b = ['a', 'c', 'e', 'h', '1', '666', '10']\n",
        "b.reverse()\n",
        "print(b)"
      ],
      "execution_count": 48,
      "outputs": [
        {
          "output_type": "stream",
          "text": [
            "['10', '666', '1', 'h', 'e', 'c', 'a']\n"
          ],
          "name": "stdout"
        }
      ]
    },
    {
      "metadata": {
        "id": "-U1aAIUPs8kF",
        "colab_type": "text"
      },
      "cell_type": "markdown",
      "source": [
        "비교를 위해 동일 리스트에 sort 함수 적용 후, reverse 함수를 사용해보자"
      ]
    },
    {
      "metadata": {
        "id": "puas0RMXs8lu",
        "colab_type": "code",
        "colab": {
          "base_uri": "https://localhost:8080/",
          "height": 35
        },
        "outputId": "951dadec-5323-4035-abdd-221ada1e8759"
      },
      "cell_type": "code",
      "source": [
        "b = ['a', 'c', 'e', 'h', '1', '666', '10']\n",
        "b.sort()\n",
        "b.reverse()\n",
        "print(b)"
      ],
      "execution_count": 49,
      "outputs": [
        {
          "output_type": "stream",
          "text": [
            "['h', 'e', 'c', 'a', '666', '10', '1']\n"
          ],
          "name": "stdout"
        }
      ]
    },
    {
      "metadata": {
        "id": "grVTU0tvs8nQ",
        "colab_type": "text"
      },
      "cell_type": "markdown",
      "source": [
        "숫자형과 문자열을 스까놓은 리스트에서도 reverse 함수가 적용이 될까?"
      ]
    },
    {
      "metadata": {
        "id": "lI5P_UhBs8pJ",
        "colab_type": "code",
        "colab": {
          "base_uri": "https://localhost:8080/",
          "height": 35
        },
        "outputId": "c495e141-c4e1-49ee-cf69-ad7cddeb4e79"
      },
      "cell_type": "code",
      "source": [
        "c = ['hell', 'i\\'m', 'you', 500, 18, 'a']\n",
        "c.reverse()\n",
        "print(c)"
      ],
      "execution_count": 50,
      "outputs": [
        {
          "output_type": "stream",
          "text": [
            "['a', 18, 500, 'you', \"i'm\", 'hell']\n"
          ],
          "name": "stdout"
        }
      ]
    },
    {
      "metadata": {
        "id": "Fo1xRlWis8qd",
        "colab_type": "text"
      },
      "cell_type": "markdown",
      "source": [
        "**된다!**  \n",
        "**정렬과는 관계 없이 말 그대로 현재 리스트를 역순으로 바꾸기에 가능해보인다**"
      ]
    },
    {
      "metadata": {
        "id": "F1m0UnLus8r0",
        "colab_type": "text"
      },
      "cell_type": "markdown",
      "source": [
        "## 위치 반환 (index)"
      ]
    },
    {
      "metadata": {
        "id": "JV0O66ias8tL",
        "colab_type": "text"
      },
      "cell_type": "markdown",
      "source": [
        "index(X) 함수는 리스트에 X 값이 있을 경우, X의 위치값을 반환한다."
      ]
    },
    {
      "metadata": {
        "id": "8w9UZlNPs8um",
        "colab_type": "code",
        "colab": {
          "base_uri": "https://localhost:8080/",
          "height": 35
        },
        "outputId": "9a90de1f-dc6d-45b4-ddfd-8448d99ebf7a"
      },
      "cell_type": "code",
      "source": [
        "c = ['hell', 'i\\'m', 'you', 500, 18, 'a']\n",
        "print(c.index('a'))"
      ],
      "execution_count": 56,
      "outputs": [
        {
          "output_type": "stream",
          "text": [
            "5\n"
          ],
          "name": "stdout"
        }
      ]
    },
    {
      "metadata": {
        "id": "FZ_HbRsqs8wY",
        "colab_type": "text"
      },
      "cell_type": "markdown",
      "source": [
        "리스트에 해당 요소가 없으면 당연히 오류나겠졍?"
      ]
    },
    {
      "metadata": {
        "id": "SSUw4i64s8x3",
        "colab_type": "code",
        "colab": {
          "base_uri": "https://localhost:8080/",
          "height": 313
        },
        "outputId": "cb79f6cb-b871-4f55-b96c-de494cb10a0f"
      },
      "cell_type": "code",
      "source": [
        "c = ['hell', 'i\\'m', 'you', 500, 18, 'a']\n",
        "print(c.index('Hi?'))"
      ],
      "execution_count": 4,
      "outputs": [
        {
          "output_type": "error",
          "ename": "ValueError",
          "evalue": "ignored",
          "traceback": [
            "\u001b[0;31m---------------------------------------------------------------------------\u001b[0m",
            "\u001b[0;31mValueError\u001b[0m                                Traceback (most recent call last)",
            "\u001b[0;32m<ipython-input-4-10afe3e20516>\u001b[0m in \u001b[0;36m<module>\u001b[0;34m()\u001b[0m\n\u001b[1;32m      1\u001b[0m \u001b[0mc\u001b[0m \u001b[0;34m=\u001b[0m \u001b[0;34m[\u001b[0m\u001b[0;34m'hell'\u001b[0m\u001b[0;34m,\u001b[0m \u001b[0;34m'i\\'m'\u001b[0m\u001b[0;34m,\u001b[0m \u001b[0;34m'you'\u001b[0m\u001b[0;34m,\u001b[0m \u001b[0;36m500\u001b[0m\u001b[0;34m,\u001b[0m \u001b[0;36m18\u001b[0m\u001b[0;34m,\u001b[0m \u001b[0;34m'a'\u001b[0m\u001b[0;34m]\u001b[0m\u001b[0;34m\u001b[0m\u001b[0m\n\u001b[0;32m----> 2\u001b[0;31m \u001b[0mprint\u001b[0m\u001b[0;34m(\u001b[0m\u001b[0mc\u001b[0m\u001b[0;34m.\u001b[0m\u001b[0mindex\u001b[0m\u001b[0;34m(\u001b[0m\u001b[0;34m'Hi?'\u001b[0m\u001b[0;34m)\u001b[0m\u001b[0;34m)\u001b[0m\u001b[0;34m\u001b[0m\u001b[0m\n\u001b[0m",
            "\u001b[0;31mValueError\u001b[0m: 'Hi?' is not in list"
          ]
        }
      ]
    },
    {
      "metadata": {
        "id": "xIu_aOj2sscz",
        "colab_type": "text"
      },
      "cell_type": "markdown",
      "source": [
        "## 리스트에 요소 삽입 (insert)"
      ]
    },
    {
      "metadata": {
        "id": "cOkZwgqHwjtx",
        "colab_type": "text"
      },
      "cell_type": "markdown",
      "source": [
        "insert(a, b) 함수는 리스트 a번째의 위치에 b를 삽입한다.  \n",
        "**파이썬에서는 숫자를 0부터 센다는 것을 잊지말자**"
      ]
    },
    {
      "metadata": {
        "id": "g76PhdVUwjwA",
        "colab_type": "code",
        "colab": {
          "base_uri": "https://localhost:8080/",
          "height": 35
        },
        "outputId": "e6eabce1-7be7-41a4-b3b8-e068eb8bebed"
      },
      "cell_type": "code",
      "source": [
        "a = [1, 2, 3, 4, 5, 6, 7, 8, 9]\n",
        "a.insert(8, 666)\n",
        "print(a)"
      ],
      "execution_count": 58,
      "outputs": [
        {
          "output_type": "stream",
          "text": [
            "[1, 2, 3, 4, 5, 6, 7, 8, 666, 9]\n"
          ],
          "name": "stdout"
        }
      ]
    },
    {
      "metadata": {
        "id": "pVWhB1jywjyF",
        "colab_type": "text"
      },
      "cell_type": "markdown",
      "source": [
        "변환이 아니라 삽입이다 보니, 해당 위치에 있던 요소가 뒤로 밀려난 것을 볼 수 있다.  \n",
        "이번엔 설정된 리스트 범위를 벗어나게 만들어서 실행해보자."
      ]
    },
    {
      "metadata": {
        "id": "cEVgTqHpwj0F",
        "colab_type": "code",
        "colab": {
          "base_uri": "https://localhost:8080/",
          "height": 34
        },
        "outputId": "fd7c8101-2398-4e76-b64b-84734517ef0a"
      },
      "cell_type": "code",
      "source": [
        "a = [1, 2, 3, 4, 5, 6, 7, 8, 9]\n",
        "a.insert(20, 'a')\n",
        "print(a)"
      ],
      "execution_count": 3,
      "outputs": [
        {
          "output_type": "stream",
          "text": [
            "[1, 2, 3, 4, 5, 6, 7, 8, 9, 'a']\n"
          ],
          "name": "stdout"
        }
      ]
    },
    {
      "metadata": {
        "id": "XQS0OE_5ssfK",
        "colab_type": "text"
      },
      "cell_type": "markdown",
      "source": [
        "리스트 맨 뒤로 간 사실을 알 수 있다.  \n",
        "이번엔 리스트 범위를 음수로 지정해보자."
      ]
    },
    {
      "metadata": {
        "id": "XAajnoPxsshQ",
        "colab_type": "code",
        "colab": {
          "base_uri": "https://localhost:8080/",
          "height": 35
        },
        "outputId": "bcefeb0a-8d25-4d03-857e-2becfc2b2f7a"
      },
      "cell_type": "code",
      "source": [
        "a = [1, 2, 3, 4, 5, 6, 7, 8, 9]\n",
        "a.insert(-2, 'a')\n",
        "print(a)"
      ],
      "execution_count": 64,
      "outputs": [
        {
          "output_type": "stream",
          "text": [
            "[1, 2, 3, 4, 5, 6, 7, 'a', 8, 9]\n"
          ],
          "name": "stdout"
        }
      ]
    },
    {
      "metadata": {
        "id": "9OH6fdXbyI4A",
        "colab_type": "code",
        "colab": {
          "base_uri": "https://localhost:8080/",
          "height": 34
        },
        "outputId": "45f05209-2a60-4bc7-e27c-42a3efab1588"
      },
      "cell_type": "code",
      "source": [
        "b = [1, 2, 3, 4, 5, 6, 7, 8, 9]\n",
        "b.insert(-20, 'b')\n",
        "print(b)"
      ],
      "execution_count": 2,
      "outputs": [
        {
          "output_type": "stream",
          "text": [
            "['b', 1, 2, 3, 4, 5, 6, 7, 8, 9]\n"
          ],
          "name": "stdout"
        }
      ]
    },
    {
      "metadata": {
        "id": "WT184j0AyI6a",
        "colab_type": "text"
      },
      "cell_type": "markdown",
      "source": [
        " 리스트 음수는 역으로 삽입한다는 걸 볼 수 있다.  \n",
        " 그리고, 리스트 음수 범위가 과하면 맨 앞에 삽입한다는 걸 알 수 있다."
      ]
    },
    {
      "metadata": {
        "id": "asFF7lsvNBrS",
        "colab_type": "text"
      },
      "cell_type": "markdown",
      "source": [
        "**파이썬 2버전대에서 테스트 해보자**"
      ]
    },
    {
      "metadata": {
        "id": "t4SNPiQaOaxX",
        "colab_type": "text"
      },
      "cell_type": "markdown",
      "source": [
        "## 리스트 요소 제거 (remove)"
      ]
    },
    {
      "metadata": {
        "id": "Iqf-TbTqO9sX",
        "colab_type": "text"
      },
      "cell_type": "markdown",
      "source": [
        "remove(x) 함수는 리스트에서 처음 나오는 x를 삭제한다."
      ]
    },
    {
      "metadata": {
        "id": "Sa5IBNkAyQki",
        "colab_type": "code",
        "colab": {
          "base_uri": "https://localhost:8080/",
          "height": 34
        },
        "outputId": "456dce67-39a8-4b04-a391-c99c2f1e647d"
      },
      "cell_type": "code",
      "source": [
        "a = [1, 2, 3, 'h','e','l','l']\n",
        "a.remove('l')\n",
        "print(a)"
      ],
      "execution_count": 8,
      "outputs": [
        {
          "output_type": "stream",
          "text": [
            "[1, 2, 3, 'h', 'e', 'l']\n"
          ],
          "name": "stdout"
        }
      ]
    },
    {
      "metadata": {
        "id": "rITEwUPCS457",
        "colab_type": "text"
      },
      "cell_type": "markdown",
      "source": [
        "완전 다른 문자들로 테스트를 해보자."
      ]
    },
    {
      "metadata": {
        "id": "MeTg8cLcOpwz",
        "colab_type": "code",
        "colab": {
          "base_uri": "https://localhost:8080/",
          "height": 34
        },
        "outputId": "48964ce3-5ad9-4163-9666-6b049c0d0fd9"
      },
      "cell_type": "code",
      "source": [
        "b = ['a','b','c','d']\n",
        "b.remove('c')\n",
        "print(b)"
      ],
      "execution_count": 9,
      "outputs": [
        {
          "output_type": "stream",
          "text": [
            "\n"
          ],
          "name": "stdout"
        }
      ]
    },
    {
      "metadata": {
        "id": "VpQ-BiVDOn6p",
        "colab_type": "text"
      },
      "cell_type": "markdown",
      "source": [
        "## 리스트 요소 끄집어내기 (pop)"
      ]
    },
    {
      "metadata": {
        "id": "n_fsQGBXWT-x",
        "colab_type": "text"
      },
      "cell_type": "markdown",
      "source": [
        "pop()은 리스트의  맨  마지막 요소를 반환하고 그 요소는 삭제하는 함수이다.\n",
        "\n",
        "pop(x)는 리스트의 x번째 요소를 반환하고 그 요소를 삭제한다."
      ]
    },
    {
      "metadata": {
        "id": "9QSC688SyQnI",
        "colab_type": "code",
        "colab": {
          "base_uri": "https://localhost:8080/",
          "height": 51
        },
        "outputId": "5e71dcd8-e047-41a9-808f-07e472e05cb0"
      },
      "cell_type": "code",
      "source": [
        "a = [1,3,4,5,6]\n",
        "a.pop()\n",
        "print(a)\n",
        "\n",
        "b = ['b','a','b','o']\n",
        "b.pop(2)\n",
        "print(b)"
      ],
      "execution_count": 13,
      "outputs": [
        {
          "output_type": "stream",
          "text": [
            "[1, 3, 4, 5]\n",
            "['b', 'a', 'o']\n"
          ],
          "name": "stdout"
        }
      ]
    },
    {
      "metadata": {
        "id": "cuLZNC_zaEfu",
        "colab_type": "text"
      },
      "cell_type": "markdown",
      "source": [
        "문자열 리스트에서 해당 문자를 반환하기 위해 인덱스가 아니라 해당 문자를 넣으면 어떻게 될까?"
      ]
    },
    {
      "metadata": {
        "id": "SbOPLRwhyQpk",
        "colab_type": "code",
        "colab": {
          "base_uri": "https://localhost:8080/",
          "height": 346
        },
        "outputId": "5dddcedc-f9d2-44a5-d154-3d0158446c8b"
      },
      "cell_type": "code",
      "source": [
        "b = ['b','a','b','o']\n",
        "b.pop('o')\n",
        "print(b)"
      ],
      "execution_count": 14,
      "outputs": [
        {
          "output_type": "error",
          "ename": "TypeError",
          "evalue": "ignored",
          "traceback": [
            "\u001b[0;31m---------------------------------------------------------------------------\u001b[0m",
            "\u001b[0;31mTypeError\u001b[0m                                 Traceback (most recent call last)",
            "\u001b[0;32m<ipython-input-14-722f2816a2e0>\u001b[0m in \u001b[0;36m<module>\u001b[0;34m()\u001b[0m\n\u001b[1;32m      1\u001b[0m \u001b[0mb\u001b[0m \u001b[0;34m=\u001b[0m \u001b[0;34m[\u001b[0m\u001b[0;34m'b'\u001b[0m\u001b[0;34m,\u001b[0m\u001b[0;34m'a'\u001b[0m\u001b[0;34m,\u001b[0m\u001b[0;34m'b'\u001b[0m\u001b[0;34m,\u001b[0m\u001b[0;34m'o'\u001b[0m\u001b[0;34m]\u001b[0m\u001b[0;34m\u001b[0m\u001b[0m\n\u001b[0;32m----> 2\u001b[0;31m \u001b[0mb\u001b[0m\u001b[0;34m.\u001b[0m\u001b[0mpop\u001b[0m\u001b[0;34m(\u001b[0m\u001b[0;34m''\u001b[0m\u001b[0;34m)\u001b[0m\u001b[0;34m\u001b[0m\u001b[0m\n\u001b[0m\u001b[1;32m      3\u001b[0m \u001b[0mprint\u001b[0m\u001b[0;34m(\u001b[0m\u001b[0mb\u001b[0m\u001b[0;34m)\u001b[0m\u001b[0;34m\u001b[0m\u001b[0m\n",
            "\u001b[0;31mTypeError\u001b[0m: 'str' object cannot be interpreted as an integer"
          ]
        }
      ]
    },
    {
      "metadata": {
        "id": "NCq8w3Dvaqd9",
        "colab_type": "text"
      },
      "cell_type": "markdown",
      "source": [
        "**당연하게도 오류가 발생한다.**"
      ]
    },
    {
      "metadata": {
        "id": "fyx2fm0EbPnx",
        "colab_type": "text"
      },
      "cell_type": "markdown",
      "source": [
        "## 리스트에 포함된 요소 x의 개수 세기 (count)"
      ]
    },
    {
      "metadata": {
        "id": "YO1_41gyeUyS",
        "colab_type": "text"
      },
      "cell_type": "markdown",
      "source": [
        "count(x)는 리스트 내의 x가 몇 개 있는지 그 개수를 반환하는 함수이다."
      ]
    },
    {
      "metadata": {
        "id": "KdAR3ObLyQrf",
        "colab_type": "code",
        "colab": {
          "base_uri": "https://localhost:8080/",
          "height": 34
        },
        "outputId": "f5f12822-7d55-4c43-bce6-5f4b59ab5d87"
      },
      "cell_type": "code",
      "source": [
        "number = [1,3,4,5,3,2,5]\n",
        "a = number.count(3)\n",
        "print(a)"
      ],
      "execution_count": 17,
      "outputs": [
        {
          "output_type": "stream",
          "text": [
            "2\n"
          ],
          "name": "stdout"
        }
      ]
    },
    {
      "metadata": {
        "id": "A-adtSxMyI8w",
        "colab_type": "text"
      },
      "cell_type": "markdown",
      "source": [
        "문자열로도 테스트 해봅시다."
      ]
    },
    {
      "metadata": {
        "id": "5BtZ1rBpeauk",
        "colab_type": "code",
        "colab": {
          "base_uri": "https://localhost:8080/",
          "height": 34
        },
        "outputId": "6258ac2c-ec6c-4da2-efab-572a5c37cb09"
      },
      "cell_type": "code",
      "source": [
        "text = ['h','e','l','l']\n",
        "b = text.count('l')\n",
        "print(b)"
      ],
      "execution_count": 19,
      "outputs": [
        {
          "output_type": "stream",
          "text": [
            "2\n"
          ],
          "name": "stdout"
        }
      ]
    },
    {
      "metadata": {
        "id": "kwbNZrZPebX-",
        "colab_type": "text"
      },
      "cell_type": "markdown",
      "source": [
        "# **정리: 리스트 요소를 제거하는 3가지 방법**"
      ]
    },
    {
      "metadata": {
        "id": "wBG8ydvheb1r",
        "colab_type": "text"
      },
      "cell_type": "markdown",
      "source": [
        "1. 리스트의 remove 함수 : 리스트의 요소값을 지정해야 한다."
      ]
    },
    {
      "metadata": {
        "id": "qaGJa2zdl8nk",
        "colab_type": "code",
        "colab": {
          "base_uri": "https://localhost:8080/",
          "height": 34
        },
        "outputId": "7a7a68b0-7ea4-4b92-c125-2c9ab5718386"
      },
      "cell_type": "code",
      "source": [
        "a = ['a','b','c',1,2,3]\n",
        "a.remove('b')\n",
        "print(a)"
      ],
      "execution_count": 20,
      "outputs": [
        {
          "output_type": "stream",
          "text": [
            "['a', 'c', 1, 2, 3]\n"
          ],
          "name": "stdout"
        }
      ]
    },
    {
      "metadata": {
        "id": "8TvolZrul-zG",
        "colab_type": "code",
        "colab": {
          "base_uri": "https://localhost:8080/",
          "height": 346
        },
        "outputId": "69db5d7d-9786-4fcb-b10f-d7d3fff9d036"
      },
      "cell_type": "code",
      "source": [
        "# 인덱스로 실행불가\n",
        "a = ['a','b','c',1,2,3]\n",
        "a.remove(0)\n",
        "print(a)"
      ],
      "execution_count": 22,
      "outputs": [
        {
          "output_type": "error",
          "ename": "ValueError",
          "evalue": "ignored",
          "traceback": [
            "\u001b[0;31m---------------------------------------------------------------------------\u001b[0m",
            "\u001b[0;31mValueError\u001b[0m                                Traceback (most recent call last)",
            "\u001b[0;32m<ipython-input-22-ef9ea000b747>\u001b[0m in \u001b[0;36m<module>\u001b[0;34m()\u001b[0m\n\u001b[1;32m      1\u001b[0m \u001b[0ma\u001b[0m \u001b[0;34m=\u001b[0m \u001b[0;34m[\u001b[0m\u001b[0;34m'a'\u001b[0m\u001b[0;34m,\u001b[0m\u001b[0;34m'b'\u001b[0m\u001b[0;34m,\u001b[0m\u001b[0;34m'c'\u001b[0m\u001b[0;34m,\u001b[0m\u001b[0;36m1\u001b[0m\u001b[0;34m,\u001b[0m\u001b[0;36m2\u001b[0m\u001b[0;34m,\u001b[0m\u001b[0;36m3\u001b[0m\u001b[0;34m]\u001b[0m\u001b[0;34m\u001b[0m\u001b[0m\n\u001b[0;32m----> 2\u001b[0;31m \u001b[0ma\u001b[0m\u001b[0;34m.\u001b[0m\u001b[0mremove\u001b[0m\u001b[0;34m(\u001b[0m\u001b[0;36m0\u001b[0m\u001b[0;34m)\u001b[0m\u001b[0;34m\u001b[0m\u001b[0m\n\u001b[0m\u001b[1;32m      3\u001b[0m \u001b[0mprint\u001b[0m\u001b[0;34m(\u001b[0m\u001b[0ma\u001b[0m\u001b[0;34m)\u001b[0m\u001b[0;34m\u001b[0m\u001b[0m\n",
            "\u001b[0;31mValueError\u001b[0m: list.remove(x): x not in list"
          ]
        }
      ]
    },
    {
      "metadata": {
        "id": "YueD8AS3m7PC",
        "colab_type": "text"
      },
      "cell_type": "markdown",
      "source": [
        "2. 리스트의 pop 함수 : 리스트의 인덱스를 지정해야 한다."
      ]
    },
    {
      "metadata": {
        "id": "Mfd-1pBWoHn1",
        "colab_type": "code",
        "colab": {
          "base_uri": "https://localhost:8080/",
          "height": 34
        },
        "outputId": "dba9063b-491a-4fe8-ac31-34a8b56a00cd"
      },
      "cell_type": "code",
      "source": [
        "a = ['a','b','c',1,2,3]\n",
        "a.pop(2)\n",
        "print(a)"
      ],
      "execution_count": 29,
      "outputs": [
        {
          "output_type": "stream",
          "text": [
            "['a', 'b', 1, 2, 3]\n"
          ],
          "name": "stdout"
        }
      ]
    },
    {
      "metadata": {
        "id": "vGqlQMR4m7oc",
        "colab_type": "code",
        "colab": {
          "base_uri": "https://localhost:8080/",
          "height": 346
        },
        "outputId": "aa0d43b7-105e-4bda-cec7-fbda5c80706b"
      },
      "cell_type": "code",
      "source": [
        "# 요소값으로 실행불가\n",
        "a = ['a','b','c',1,2,3]\n",
        "a.pop('c')\n",
        "print(a)"
      ],
      "execution_count": 30,
      "outputs": [
        {
          "output_type": "error",
          "ename": "TypeError",
          "evalue": "ignored",
          "traceback": [
            "\u001b[0;31m---------------------------------------------------------------------------\u001b[0m",
            "\u001b[0;31mTypeError\u001b[0m                                 Traceback (most recent call last)",
            "\u001b[0;32m<ipython-input-30-527162d3bca1>\u001b[0m in \u001b[0;36m<module>\u001b[0;34m()\u001b[0m\n\u001b[1;32m      1\u001b[0m \u001b[0ma\u001b[0m \u001b[0;34m=\u001b[0m \u001b[0;34m[\u001b[0m\u001b[0;34m'a'\u001b[0m\u001b[0;34m,\u001b[0m\u001b[0;34m'b'\u001b[0m\u001b[0;34m,\u001b[0m\u001b[0;34m'c'\u001b[0m\u001b[0;34m,\u001b[0m\u001b[0;36m1\u001b[0m\u001b[0;34m,\u001b[0m\u001b[0;36m2\u001b[0m\u001b[0;34m,\u001b[0m\u001b[0;36m3\u001b[0m\u001b[0;34m]\u001b[0m\u001b[0;34m\u001b[0m\u001b[0m\n\u001b[0;32m----> 2\u001b[0;31m \u001b[0ma\u001b[0m\u001b[0;34m.\u001b[0m\u001b[0mpop\u001b[0m\u001b[0;34m(\u001b[0m\u001b[0;34m'c'\u001b[0m\u001b[0;34m)\u001b[0m\u001b[0;34m\u001b[0m\u001b[0m\n\u001b[0m\u001b[1;32m      3\u001b[0m \u001b[0mprint\u001b[0m\u001b[0;34m(\u001b[0m\u001b[0ma\u001b[0m\u001b[0;34m)\u001b[0m\u001b[0;34m\u001b[0m\u001b[0m\n",
            "\u001b[0;31mTypeError\u001b[0m: 'str' object cannot be interpreted as an integer"
          ]
        }
      ]
    },
    {
      "metadata": {
        "id": "CVOiUNhbm73j",
        "colab_type": "text"
      },
      "cell_type": "markdown",
      "source": [
        "3. del 함수 : 리스트의 인덱스를 지정해야 한다. 범위 지정 가능."
      ]
    },
    {
      "metadata": {
        "id": "CW2gtjtDm8Kg",
        "colab_type": "code",
        "colab": {
          "base_uri": "https://localhost:8080/",
          "height": 51
        },
        "outputId": "365617cd-f62c-4f94-9bcc-b110b5b7ea71"
      },
      "cell_type": "code",
      "source": [
        "a = ['a','b','c',1,2,3]\n",
        "del a[0]\n",
        "print(a)\n",
        "\n",
        "a = ['a','b','c',1,2,3]\n",
        "del a[0:3]\n",
        "print(a)"
      ],
      "execution_count": 24,
      "outputs": [
        {
          "output_type": "stream",
          "text": [
            "['b', 'c', 1, 2, 3]\n",
            "[1, 2, 3]\n"
          ],
          "name": "stdout"
        }
      ]
    },
    {
      "metadata": {
        "id": "6zESJ_3qqxuH",
        "colab_type": "code",
        "colab": {
          "base_uri": "https://localhost:8080/",
          "height": 346
        },
        "outputId": "fd2d6867-9a69-48d1-802d-75d875a7b438"
      },
      "cell_type": "code",
      "source": [
        "# 요소값으로 실행불가1\n",
        "a = ['a','b','c',1,2,3]\n",
        "del a['b']\n",
        "print(a)"
      ],
      "execution_count": 25,
      "outputs": [
        {
          "output_type": "error",
          "ename": "TypeError",
          "evalue": "ignored",
          "traceback": [
            "\u001b[0;31m---------------------------------------------------------------------------\u001b[0m",
            "\u001b[0;31mTypeError\u001b[0m                                 Traceback (most recent call last)",
            "\u001b[0;32m<ipython-input-25-154be8ac4635>\u001b[0m in \u001b[0;36m<module>\u001b[0;34m()\u001b[0m\n\u001b[1;32m      1\u001b[0m \u001b[0ma\u001b[0m \u001b[0;34m=\u001b[0m \u001b[0;34m[\u001b[0m\u001b[0;34m'a'\u001b[0m\u001b[0;34m,\u001b[0m\u001b[0;34m'b'\u001b[0m\u001b[0;34m,\u001b[0m\u001b[0;34m'c'\u001b[0m\u001b[0;34m,\u001b[0m\u001b[0;36m1\u001b[0m\u001b[0;34m,\u001b[0m\u001b[0;36m2\u001b[0m\u001b[0;34m,\u001b[0m\u001b[0;36m3\u001b[0m\u001b[0;34m]\u001b[0m\u001b[0;34m\u001b[0m\u001b[0m\n\u001b[0;32m----> 2\u001b[0;31m \u001b[0;32mdel\u001b[0m \u001b[0ma\u001b[0m\u001b[0;34m[\u001b[0m\u001b[0;34m'b'\u001b[0m\u001b[0;34m]\u001b[0m\u001b[0;34m\u001b[0m\u001b[0m\n\u001b[0m\u001b[1;32m      3\u001b[0m \u001b[0mprint\u001b[0m\u001b[0;34m(\u001b[0m\u001b[0ma\u001b[0m\u001b[0;34m)\u001b[0m\u001b[0;34m\u001b[0m\u001b[0m\n",
            "\u001b[0;31mTypeError\u001b[0m: list indices must be integers or slices, not str"
          ]
        }
      ]
    },
    {
      "metadata": {
        "id": "xmVdOrKjm8fw",
        "colab_type": "code",
        "colab": {
          "base_uri": "https://localhost:8080/",
          "height": 130
        },
        "outputId": "a08f5971-6bc4-4dce-9667-ca17995c7326"
      },
      "cell_type": "code",
      "source": [
        "# 요소값으로 실행불가2\n",
        "a = ['a','b','c',1,2,3]\n",
        "del a('b')\n",
        "print(a)"
      ],
      "execution_count": 26,
      "outputs": [
        {
          "output_type": "error",
          "ename": "SyntaxError",
          "evalue": "ignored",
          "traceback": [
            "\u001b[0;36m  File \u001b[0;32m\"<ipython-input-26-a255bfeabe7a>\"\u001b[0;36m, line \u001b[0;32m2\u001b[0m\n\u001b[0;31m    del a('b')\u001b[0m\n\u001b[0m       ^\u001b[0m\n\u001b[0;31mSyntaxError\u001b[0m\u001b[0;31m:\u001b[0m can't delete function call\n"
          ]
        }
      ]
    },
    {
      "metadata": {
        "id": "88dfpPzYeciw",
        "colab_type": "text"
      },
      "cell_type": "markdown",
      "source": [
        "# **연습 문제**"
      ]
    },
    {
      "metadata": {
        "id": "Dk_wE9UpsZoi",
        "colab_type": "code",
        "colab": {}
      },
      "cell_type": "code",
      "source": [
        ""
      ],
      "execution_count": 0,
      "outputs": []
    },
    {
      "metadata": {
        "id": "GukfCyS7saqh",
        "colab_type": "code",
        "colab": {}
      },
      "cell_type": "code",
      "source": [
        ""
      ],
      "execution_count": 0,
      "outputs": []
    },
    {
      "metadata": {
        "id": "Mxx-8s4Vsa5k",
        "colab_type": "code",
        "colab": {}
      },
      "cell_type": "code",
      "source": [
        ""
      ],
      "execution_count": 0,
      "outputs": []
    },
    {
      "metadata": {
        "id": "BrvezjMlsbEu",
        "colab_type": "code",
        "colab": {}
      },
      "cell_type": "code",
      "source": [
        ""
      ],
      "execution_count": 0,
      "outputs": []
    },
    {
      "metadata": {
        "id": "55rGWnaLsa0J",
        "colab_type": "code",
        "colab": {}
      },
      "cell_type": "code",
      "source": [
        ""
      ],
      "execution_count": 0,
      "outputs": []
    }
  ]
}