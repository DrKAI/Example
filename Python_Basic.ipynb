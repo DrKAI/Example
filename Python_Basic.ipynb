{
  "nbformat": 4,
  "nbformat_minor": 0,
  "metadata": {
    "colab": {
      "name": "Python Basic.ipynb",
      "version": "0.3.2",
      "provenance": [],
      "collapsed_sections": [],
      "include_colab_link": true
    },
    "kernelspec": {
      "name": "python3",
      "display_name": "Python 3"
    }
  },
  "cells": [
    {
      "cell_type": "markdown",
      "metadata": {
        "id": "view-in-github",
        "colab_type": "text"
      },
      "source": [
        "[View in Colaboratory](https://colab.research.google.com/github/DrKAI/Example/blob/master/Python_Basic.ipynb)"
      ]
    },
    {
      "metadata": {
        "id": "EVz9CxOjcD5D",
        "colab_type": "text"
      },
      "cell_type": "markdown",
      "source": [
        "**변수 선언 및 출력**"
      ]
    },
    {
      "metadata": {
        "id": "9jix5NHY256i",
        "colab_type": "code",
        "colab": {}
      },
      "cell_type": "code",
      "source": [
        "a = 245452775626"
      ],
      "execution_count": 0,
      "outputs": []
    },
    {
      "metadata": {
        "id": "JW7wrtA0dhsH",
        "colab_type": "code",
        "colab": {
          "base_uri": "https://localhost:8080/",
          "height": 34
        },
        "outputId": "468cfa84-690d-4d9c-8e81-8c2bfcebf29d"
      },
      "cell_type": "code",
      "source": [
        "print(a)"
      ],
      "execution_count": 0,
      "outputs": [
        {
          "output_type": "stream",
          "text": [
            "245452775626\n"
          ],
          "name": "stdout"
        }
      ]
    },
    {
      "metadata": {
        "id": "QgaPWNcjeIGu",
        "colab_type": "code",
        "colab": {
          "base_uri": "https://localhost:8080/",
          "height": 208
        },
        "outputId": "03dd9c0b-e314-40e5-92fe-a6d010fecdce"
      },
      "cell_type": "code",
      "source": [
        "b=45.4325736\n",
        "c=a/b\n",
        "print(c)\n"
      ],
      "execution_count": 1,
      "outputs": [
        {
          "output_type": "error",
          "ename": "NameError",
          "evalue": "ignored",
          "traceback": [
            "\u001b[0;31m---------------------------------------------------------------------------\u001b[0m",
            "\u001b[0;31mNameError\u001b[0m                                 Traceback (most recent call last)",
            "\u001b[0;32m<ipython-input-1-d71047f5633d>\u001b[0m in \u001b[0;36m<module>\u001b[0;34m()\u001b[0m\n\u001b[1;32m      1\u001b[0m \u001b[0mb\u001b[0m\u001b[0;34m=\u001b[0m\u001b[0;36m45.4325736\u001b[0m\u001b[0;34m\u001b[0m\u001b[0m\n\u001b[0;32m----> 2\u001b[0;31m \u001b[0mc\u001b[0m\u001b[0;34m=\u001b[0m\u001b[0ma\u001b[0m\u001b[0;34m/\u001b[0m\u001b[0mb\u001b[0m\u001b[0;34m\u001b[0m\u001b[0m\n\u001b[0m\u001b[1;32m      3\u001b[0m \u001b[0mprint\u001b[0m\u001b[0;34m(\u001b[0m\u001b[0mc\u001b[0m\u001b[0;34m)\u001b[0m\u001b[0;34m\u001b[0m\u001b[0m\n",
            "\u001b[0;31mNameError\u001b[0m: name 'a' is not defined"
          ]
        }
      ]
    },
    {
      "metadata": {
        "id": "RyKjio1tgBDR",
        "colab_type": "text"
      },
      "cell_type": "markdown",
      "source": [
        "print(a/b)는 실행 불가"
      ]
    },
    {
      "metadata": {
        "id": "2yjYkY54gsgH",
        "colab_type": "code",
        "colab": {
          "base_uri": "https://localhost:8080/",
          "height": 130
        },
        "outputId": "230877a3-87f1-46f5-f1bd-beb08f004d12"
      },
      "cell_type": "code",
      "source": [
        "print(a/b)"
      ],
      "execution_count": 0,
      "outputs": [
        {
          "output_type": "error",
          "ename": "SyntaxError",
          "evalue": "ignored",
          "traceback": [
            "\u001b[0;36m  File \u001b[0;32m\"<ipython-input-7-8de3328c9713>\"\u001b[0;36m, line \u001b[0;32m1\u001b[0m\n\u001b[0;31m    print(a/)\u001b[0m\n\u001b[0m            ^\u001b[0m\n\u001b[0;31mSyntaxError\u001b[0m\u001b[0;31m:\u001b[0m invalid syntax\n"
          ]
        }
      ]
    },
    {
      "metadata": {
        "id": "JseJ7OCKgZZK",
        "colab_type": "text"
      },
      "cell_type": "markdown",
      "source": [
        "Q1. 국어 80 영어 75 수학 55\n",
        "세 과목 평균 점수는?"
      ]
    },
    {
      "metadata": {
        "id": "yfqXAEiLhbh4",
        "colab_type": "code",
        "colab": {
          "base_uri": "https://localhost:8080/",
          "height": 34
        },
        "outputId": "d950592e-f39a-4a60-da84-3e84266e6e5f"
      },
      "cell_type": "code",
      "source": [
        "국어=80\n",
        "수학=55\n",
        "영어=75\n",
        "average = (국어+수학+영어)/3\n",
        "\n",
        "print(average)"
      ],
      "execution_count": 0,
      "outputs": [
        {
          "output_type": "stream",
          "text": [
            "70.0\n"
          ],
          "name": "stdout"
        }
      ]
    },
    {
      "metadata": {
        "id": "LG1B8ISpiAVl",
        "colab_type": "text"
      },
      "cell_type": "markdown",
      "source": [
        "Q2-3. 17 나누기 3의 몫과 나머지는?"
      ]
    },
    {
      "metadata": {
        "id": "XvlF6Zu1im2I",
        "colab_type": "code",
        "colab": {
          "base_uri": "https://localhost:8080/",
          "height": 51
        },
        "outputId": "ef55e3f5-f00c-408d-afe1-e088fe745372"
      },
      "cell_type": "code",
      "source": [
        "print(17/3)\n",
        "print(17%3)"
      ],
      "execution_count": 0,
      "outputs": [
        {
          "output_type": "stream",
          "text": [
            "5.666666666666667\n",
            "2\n"
          ],
          "name": "stdout"
        }
      ]
    },
    {
      "metadata": {
        "id": "4SOVdeQsi0IF",
        "colab_type": "text"
      },
      "cell_type": "markdown",
      "source": [
        "Q4. 자연수 홀짝 구분법은?\n",
        "\n",
        "2로 나눠서 나머지를 봅시다"
      ]
    },
    {
      "metadata": {
        "id": "fM-dZ_nrjuI6",
        "colab_type": "code",
        "colab": {
          "base_uri": "https://localhost:8080/",
          "height": 68
        },
        "outputId": "c37bf1ac-8974-4ae0-c7b3-969cf0b96297"
      },
      "cell_type": "code",
      "source": [
        "이희성 = \"바보\"\n",
        "바보 = \"이희성\"\n",
        "print(이희성+바보)\n",
        "바보이희성 = 바보+이희성\n",
        "print(바보이희성)\n",
        "print(바보이희성*2)\n",
        "#print(바보이희성**2) 안됨\n",
        "#print(바보이희성ˆ3) 상동"
      ],
      "execution_count": 0,
      "outputs": [
        {
          "output_type": "stream",
          "text": [
            "바보이희성\n",
            "이희성바보\n",
            "이희성바보이희성바보\n"
          ],
          "name": "stdout"
        }
      ]
    },
    {
      "metadata": {
        "id": "bYfuzGGxkvQy",
        "colab_type": "code",
        "colab": {}
      },
      "cell_type": "code",
      "source": [
        "# 문자열 포매팅 안됨 \n",
        "#print('\"리희성은 %d\\% 바보다\" % 100')\n",
        "#babo = \"이희성은 %d% 바보다\" %100\n",
        "\n",
        "# 잘됨 내가 멍청한거\n",
        "# 숫자 바로 대입\n",
        "print(\"리희성은 %d%% 한국남자다\" % 100)\n",
        "babo = \"이희성은 %d%% 일본남자다\" % 100\n",
        "print(babo)\n",
        "\n",
        "# 문자열 바로 대입\n",
        "print(\"이희성은 %s%% 꺼츠가 클것이다\" % \"오백만\")\n",
        "print(\"리희성은 %s 작을 것이다\"%\"백%s\"%\"오십%\")\n",
        "\n",
        "# 문자열 뒤 % 유무의 차이\n",
        "cc = \"이희성은 %skg만큼 몸무게가 늘었다\"\n",
        "dd = \"이희성은 %skg만큼 몸무게가 늘엇다\" %\"500\"\n",
        "print(cc)\n",
        "print(dd)\n",
        "\n",
        "# 문자값을 나타내는 변수로 대입\n",
        "ee = \"%s\"\n",
        "ff = \"%s\" %\"마더퍼커\"\n",
        "print(\"한남 %s%s\" % (ee, ff))\n",
        "print(\"한남 %s %s\" % (ee %\"죽어\", ff))\n",
        "print(\"한남 %s %s\" % (ff, ee))\n",
        "# print(\"한남 %s %d\" % (ee, ff)) 형식 불일치로 실행X\n",
        "# ee와 ff를 바꾸면 ee가 뒤에 %를 사용 안해서 실행X\n",
        "\n",
        "# 실행 불가\n",
        "# print(\"%s %s %s\" % (ee, ff))\n",
        "# print(\"%s %s\" % (ee, ff, ff))"
      ],
      "execution_count": 0,
      "outputs": []
    },
    {
      "metadata": {
        "id": "Ik3kjqBsceC9",
        "colab_type": "code",
        "colab": {}
      },
      "cell_type": "code",
      "source": [
        "pri"
      ],
      "execution_count": 0,
      "outputs": []
    },
    {
      "metadata": {
        "id": "5M4BGgM2qgdX",
        "colab_type": "code",
        "colab": {}
      },
      "cell_type": "code",
      "source": [
        "# Q1. \"쩜프투 파이썬\" 문자열 출력해봐라\n",
        "# Q2. 두줄짜리 문자열 만들어봐라\n",
        "# Q3. \"python\" 문자열 앞에 공백 24자리를 추가해라\n",
        "# Q4. 주민번호 앞자리와 뒷자리를 나누어 출력하라\n",
        "# Q5. 주민번호에서 성별 알려주는 숫자를 인덱싱 표기하라\n",
        "# Q6. 1980M1120 문자열을 M19801120으로 변경하라\n",
        "# Q7. Q3을 포맷코드로 해봐라\n",
        "# Q8. life is short 에서 short가 시작되는 인덱스를 구하라\n",
        "# Q9. a:b:c:d를 a#b#c#d 로 고쳐라 replace로\n",
        "# Q10. Q9를 split과 join으로 고쳐라\n",
        "\n",
        "print('\"점프투 파이선\" 문제를 풀어보자')\n",
        "\n",
        "# print(\"\"\"이희성\n",
        "# 바보\"\"\")\n",
        "baboo = \"\"\"이희성\n",
        "바보\"\"\"\n",
        "print(baboo)\n",
        "print(\"리희성\\n 바보\")\n",
        "\n",
        "print(\"%spython\" % \"                        \")\n",
        "space = \"                        \"\n",
        "print(\"%spython\"%space)\n",
        "\n",
        "jumin = \"900819-1234567\"\n",
        "# juminf = jumin[:5]\n",
        "juminf = jumin[:6]\n",
        "juminb = jumin[7:]\n",
        "print(jumin, juminf, juminb)\n",
        "# 문자열 줄내림말고 변수별로 내리는건 없을까\n",
        "\n",
        "# 문자열 전체문자수를 알려주는건 없나\n",
        "print(jumin[7])\n",
        "\n",
        "a = \"1980M1120\"\n",
        "print(a)\n",
        "b = a[5:]\n",
        "print(\"M1980\" + b)\n",
        "# print(\"%s\"+b % \"M1980\")\n",
        "print(\"%s\"%\"M1980\"+b)\n",
        "\n",
        "##"
      ],
      "execution_count": 0,
      "outputs": []
    },
    {
      "metadata": {
        "id": "ioLIrAPN_K9O",
        "colab_type": "text"
      },
      "cell_type": "markdown",
      "source": [
        "### 연습문제\n",
        "\n",
        "Q01. \"쩜프투 파이썬\" 문자열 출력해봐라\n",
        "\n",
        "Q02. 두줄짜리 문자열 만들어봐라\n",
        "\n",
        "Q03. \"python\" 문자열 앞에 공백 24자리를 추가해라\n",
        "\n",
        "Q04. 주민번호 앞자리와 뒷자리를 나누어 출력하라\n",
        "\n",
        "Q05. 주민번호에서 성별 알려주는 숫자를 인덱싱 표기하라\n",
        "\n",
        "Q06. 1980M1120 문자열을 M19801120으로 변경하라\n",
        "\n",
        "Q07. Q3을 포맷코드로 해봐라\n",
        "\n",
        "Q08. life is short 에서 short가 시작되는 인덱스를 구하라\n",
        "\n",
        "Q09. a:b:c:d를 a#b#c#d 로 고쳐라 replace로\n",
        "\n",
        "Q10. Q9를 split과 join으로 고쳐라"
      ]
    },
    {
      "metadata": {
        "id": "3c9hsjk-_PSk",
        "colab_type": "code",
        "colab": {}
      },
      "cell_type": "code",
      "source": [
        "# Q01\n",
        "print(\"쩜프투 파이썬\")\n",
        "\n",
        "print('점프투 파이선')\n",
        "\n",
        "a = \"쩜프투 파이썬\"\n",
        "print(a)"
      ],
      "execution_count": 0,
      "outputs": []
    },
    {
      "metadata": {
        "id": "YcpK7TUI_Wnc",
        "colab_type": "code",
        "colab": {}
      },
      "cell_type": "code",
      "source": [
        "# Q02\n",
        "print(\"\"\"쩜프투 \n",
        "파이썬\"\"\")"
      ],
      "execution_count": 0,
      "outputs": []
    },
    {
      "metadata": {
        "id": "y8sGcBTF_XW4",
        "colab_type": "code",
        "colab": {
          "base_uri": "https://localhost:8080/",
          "height": 35
        },
        "outputId": "9b88f76c-4bb4-44f1-88e8-d8649c8590ca"
      },
      "cell_type": "code",
      "source": [
        "# Q03\n",
        "print(\"                        python\")\n",
        "\n"
      ],
      "execution_count": 8,
      "outputs": [
        {
          "output_type": "stream",
          "text": [
            "                        python\n"
          ],
          "name": "stdout"
        }
      ]
    },
    {
      "metadata": {
        "id": "vePEso5KDma8",
        "colab_type": "code",
        "colab": {}
      },
      "cell_type": "code",
      "source": [
        "# Q04\n",
        "\n"
      ],
      "execution_count": 0,
      "outputs": []
    },
    {
      "metadata": {
        "id": "gtdD57nfD8Up",
        "colab_type": "code",
        "colab": {}
      },
      "cell_type": "code",
      "source": [
        ""
      ],
      "execution_count": 0,
      "outputs": []
    },
    {
      "metadata": {
        "id": "VFR5PvsP_L6C",
        "colab_type": "code",
        "colab": {}
      },
      "cell_type": "code",
      "source": [
        ""
      ],
      "execution_count": 0,
      "outputs": []
    },
    {
      "metadata": {
        "id": "ZRx5VKqW_MCc",
        "colab_type": "code",
        "colab": {}
      },
      "cell_type": "code",
      "source": [
        ""
      ],
      "execution_count": 0,
      "outputs": []
    },
    {
      "metadata": {
        "id": "xg6Hv_Wp_MHe",
        "colab_type": "code",
        "colab": {}
      },
      "cell_type": "code",
      "source": [
        ""
      ],
      "execution_count": 0,
      "outputs": []
    },
    {
      "metadata": {
        "id": "g0ujvH16_MKY",
        "colab_type": "code",
        "colab": {}
      },
      "cell_type": "code",
      "source": [
        ""
      ],
      "execution_count": 0,
      "outputs": []
    },
    {
      "metadata": {
        "id": "J4ChOclp_MUD",
        "colab_type": "code",
        "colab": {}
      },
      "cell_type": "code",
      "source": [
        ""
      ],
      "execution_count": 0,
      "outputs": []
    },
    {
      "metadata": {
        "id": "5wUEopxg_MXH",
        "colab_type": "code",
        "colab": {}
      },
      "cell_type": "code",
      "source": [
        ""
      ],
      "execution_count": 0,
      "outputs": []
    },
    {
      "metadata": {
        "id": "yAGP6A-t_MZp",
        "colab_type": "code",
        "colab": {}
      },
      "cell_type": "code",
      "source": [
        ""
      ],
      "execution_count": 0,
      "outputs": []
    },
    {
      "metadata": {
        "id": "2uhj3K_2_McE",
        "colab_type": "text"
      },
      "cell_type": "markdown",
      "source": [
        "# **리스트 자료형**"
      ]
    },
    {
      "metadata": {
        "id": "qWxVONWjEVtX",
        "colab_type": "code",
        "colab": {
          "base_uri": "https://localhost:8080/",
          "height": 107
        },
        "outputId": "26aedae7-ad3c-495b-a031-acc280ee803e"
      },
      "cell_type": "code",
      "source": [
        "# 리스트명 = [요소1, 요소2, ...]\n",
        "\n",
        "list01 = [1, 2, 3]\n",
        "list02 = ['f', 'u', 'c', 'k']\n",
        "list03 = [1, 2, 3, 'f', 'k']\n",
        "list04 = [1, 2, ['f', 'c', 'k']]\n",
        "\n",
        "# 빈 리스트 생성\n",
        "list05 = list()\n",
        "\n",
        "print(list01)\n",
        "print(list02)\n",
        "print(list03)\n",
        "print(list04)\n",
        "print(list05)"
      ],
      "execution_count": 3,
      "outputs": [
        {
          "output_type": "stream",
          "text": [
            "[1, 2, 3]\n",
            "['f', 'u', 'c', 'k']\n",
            "[1, 2, 3, 'f', 'k']\n",
            "[1, 2, ['f', 'c', 'k']]\n",
            "[]\n"
          ],
          "name": "stdout"
        }
      ]
    },
    {
      "metadata": {
        "id": "pwiDslaVFJnx",
        "colab_type": "text"
      },
      "cell_type": "markdown",
      "source": [
        "# **리스트 인덱싱**"
      ]
    },
    {
      "metadata": {
        "id": "FRqTIk3_FJ3A",
        "colab_type": "code",
        "colab": {
          "base_uri": "https://localhost:8080/",
          "height": 53
        },
        "outputId": "c53aa3ee-2cd4-4e4b-8854-205d110d0cf4"
      },
      "cell_type": "code",
      "source": [
        "list06 = [1, 2, 3]\n",
        "\n",
        "# list06의 2번째 요소와 3번째 요소 더하기\n",
        "a = list06[1] + list06[2]\n",
        "print(a)\n",
        "\n",
        "# 그냥 출력단에서 바로 연산도 가능함\n",
        "print(list06[0] + list06[2])\n",
        "\n"
      ],
      "execution_count": 4,
      "outputs": [
        {
          "output_type": "stream",
          "text": [
            "5\n",
            "4\n"
          ],
          "name": "stdout"
        }
      ]
    },
    {
      "metadata": {
        "id": "SxhjP_7mFJ5q",
        "colab_type": "code",
        "colab": {
          "base_uri": "https://localhost:8080/",
          "height": 53
        },
        "outputId": "d28e53a6-5779-476c-923d-41aefd87db1f"
      },
      "cell_type": "code",
      "source": [
        "list07 = [1, 2, ['F','U','C','K']]\n",
        "\n",
        "# [-1]과 [2]를 비교해보자\n",
        "print(list07[-1])\n",
        "print(list07[2])"
      ],
      "execution_count": 5,
      "outputs": [
        {
          "output_type": "stream",
          "text": [
            "['F', 'U', 'C', 'K']\n",
            "['F', 'U', 'C', 'K']\n"
          ],
          "name": "stdout"
        }
      ]
    },
    {
      "metadata": {
        "id": "KVjoMO4tFJ8O",
        "colab_type": "code",
        "colab": {
          "base_uri": "https://localhost:8080/",
          "height": 89
        },
        "outputId": "e9c8c2cf-34a4-4e48-bfe9-4e477309be3a"
      },
      "cell_type": "code",
      "source": [
        "# 리스트 안의 리스트에서 인덱싱을 해보자\n",
        "\n",
        "print(list07[2][0])\n",
        "print(list07[2][1])\n",
        "print(list07[2][2])\n",
        "print(list07[2][3])"
      ],
      "execution_count": 7,
      "outputs": [
        {
          "output_type": "stream",
          "text": [
            "F\n",
            "U\n",
            "C\n",
            "K\n"
          ],
          "name": "stdout"
        }
      ]
    },
    {
      "metadata": {
        "id": "CEJDtI-hGv7P",
        "colab_type": "code",
        "colab": {
          "base_uri": "https://localhost:8080/",
          "height": 107
        },
        "outputId": "d5f95a0e-b978-48ca-c850-64ecb3e8cba8"
      },
      "cell_type": "code",
      "source": [
        "# 리스트 안의 리스트 인덱싱 다른 시도를 해보자.\n",
        "print(list07[2][-1])\n",
        "print(list07[2][-2])\n",
        "print(list07[2][-3])\n",
        "print(list07[2][-4])\n",
        "# 음수값은 리스트 우측에서부터 출력된다는 걸 확인할 수 있다.\n",
        "\n",
        "\n",
        "# P.S [2][-0]을 하면 뭐가 나올까?\n",
        "print(list07[2][-0])\n",
        "# [-0]은 [0] 취급을 하는 듯하다. 이러지 말자."
      ],
      "execution_count": 22,
      "outputs": [
        {
          "output_type": "stream",
          "text": [
            "K\n",
            "C\n",
            "U\n",
            "F\n",
            "F\n"
          ],
          "name": "stdout"
        }
      ]
    },
    {
      "metadata": {
        "id": "EGvmmAGJGwBv",
        "colab_type": "code",
        "colab": {
          "base_uri": "https://localhost:8080/",
          "height": 172
        },
        "outputId": "160f7ae0-e01c-44fb-ea5a-667e154a6e95"
      },
      "cell_type": "code",
      "source": [
        "# 리스트 안의 리스트 인덱싱 다른 시도를 해보자. Two.\n",
        "print(list07[1][0])\n",
        "# 에러가 뜰 것이다. list07 = [1]이 가리키는 값은 2이다."
      ],
      "execution_count": 19,
      "outputs": [
        {
          "output_type": "error",
          "ename": "TypeError",
          "evalue": "ignored",
          "traceback": [
            "\u001b[0;31m---------------------------------------------------------------------------\u001b[0m",
            "\u001b[0;31mTypeError\u001b[0m                                 Traceback (most recent call last)",
            "\u001b[0;32m<ipython-input-19-124d966ad31f>\u001b[0m in \u001b[0;36m<module>\u001b[0;34m()\u001b[0m\n\u001b[0;32m----> 1\u001b[0;31m \u001b[0mprint\u001b[0m\u001b[0;34m(\u001b[0m\u001b[0mlist07\u001b[0m\u001b[0;34m[\u001b[0m\u001b[0;36m1\u001b[0m\u001b[0;34m]\u001b[0m\u001b[0;34m[\u001b[0m\u001b[0;36m0\u001b[0m\u001b[0;34m]\u001b[0m\u001b[0;34m)\u001b[0m\u001b[0;34m\u001b[0m\u001b[0m\n\u001b[0m",
            "\u001b[0;31mTypeError\u001b[0m: 'int' object is not subscriptable"
          ]
        }
      ]
    },
    {
      "metadata": {
        "id": "Ho3SKodsGwE3",
        "colab_type": "code",
        "colab": {
          "base_uri": "https://localhost:8080/",
          "height": 35
        },
        "outputId": "d5137663-1fc1-4249-94d6-f7d2b90e3628"
      },
      "cell_type": "code",
      "source": [
        "# 삼중 리스트도 가능할까?\n",
        "list08 = [10, 50, ['H','i', ['F','U','C','K']]]\n",
        "print(list08[2][2][3])\n",
        "\n",
        "# 삼중까지 사용하면 혼란스럽기 때문에 우선 가능하단 것만 알아두자."
      ],
      "execution_count": 24,
      "outputs": [
        {
          "output_type": "stream",
          "text": [
            "K\n"
          ],
          "name": "stdout"
        }
      ]
    },
    {
      "metadata": {
        "id": "Iux02QVAGwHg",
        "colab_type": "text"
      },
      "cell_type": "markdown",
      "source": [
        "# **리스트 슬라이싱**"
      ]
    },
    {
      "metadata": {
        "id": "6ve_JqPPGwKM",
        "colab_type": "code",
        "colab": {
          "base_uri": "https://localhost:8080/",
          "height": 89
        },
        "outputId": "5015acdc-6ab6-4441-ecfa-7615c8cfb205"
      },
      "cell_type": "code",
      "source": [
        "# 문자열에서 사용했던 슬라이싱과 동일하다.\n",
        "\n",
        "list09 = [1, 2, 3, 4, 5]\n",
        "print(list09[0:3])\n",
        "\n",
        "# [a:b]이면 a <= 슬라이싱 구간 < b이다. 한 마디로 b값은 포함 안 함!\n",
        "\n",
        "print(list09[0:])\n",
        "print(list09[2:4])\n",
        "print(list09[:5])"
      ],
      "execution_count": 31,
      "outputs": [
        {
          "output_type": "stream",
          "text": [
            "[1, 2, 3]\n",
            "[1, 2, 3, 4, 5]\n",
            "[3, 4]\n",
            "[1, 2, 3, 4, 5]\n"
          ],
          "name": "stdout"
        }
      ]
    },
    {
      "metadata": {
        "id": "LNVYhXWAGwM4",
        "colab_type": "code",
        "colab": {
          "base_uri": "https://localhost:8080/",
          "height": 89
        },
        "outputId": "3a5112e7-93c1-4110-eb60-65506de6d530"
      },
      "cell_type": "code",
      "source": [
        "# 아까 사용했던 list07 = [1, 2, ['F','U','C','K']] 빌려와서 중첩 리스트 슬라이싱을 해보자\n",
        "\n",
        "print(list07[2][0:3])\n",
        "print(list07[2][1:4])"
      ],
      "execution_count": 40,
      "outputs": [
        {
          "output_type": "stream",
          "text": [
            "['F', 'U', 'C']\n",
            "['U', 'C', 'K']\n",
            "['F', 'U', 'C', 'K']\n",
            "['F', 'U', 'C', 'K']\n"
          ],
          "name": "stdout"
        }
      ]
    },
    {
      "metadata": {
        "id": "ig5Dh9EhJoaR",
        "colab_type": "code",
        "colab": {
          "base_uri": "https://localhost:8080/",
          "height": 53
        },
        "outputId": "c7a73ba6-d086-4ee2-c44e-a160af1f4e8d"
      },
      "cell_type": "code",
      "source": [
        "# 이런 것도 허용은 된다. 허용은! 이러지 말자.\n",
        "\n",
        "print(list07[2][:100])\n",
        "print(list07[2][-100:])"
      ],
      "execution_count": 42,
      "outputs": [
        {
          "output_type": "stream",
          "text": [
            "['F', 'U', 'C', 'K']\n",
            "['F', 'U', 'C', 'K']\n"
          ],
          "name": "stdout"
        }
      ]
    },
    {
      "metadata": {
        "id": "hYKYyTBMNAQR",
        "colab_type": "text"
      },
      "cell_type": "markdown",
      "source": [
        ""
      ]
    },
    {
      "metadata": {
        "id": "OMRq7NrKLjTZ",
        "colab_type": "text"
      },
      "cell_type": "markdown",
      "source": [
        "# **리스트 연산자**"
      ]
    },
    {
      "metadata": {
        "id": "N8Ubo68NLkti",
        "colab_type": "text"
      },
      "cell_type": "markdown",
      "source": [
        "리스트는 덧셈이 가능하다. 사칙연산의 개념이 아닌, 리스트 간의 결합이다.\n",
        "\n",
        "\n"
      ]
    },
    {
      "metadata": {
        "id": "7TI_ZWNQM46L",
        "colab_type": "code",
        "colab": {
          "base_uri": "https://localhost:8080/",
          "height": 35
        },
        "outputId": "4bba9f93-8818-467a-cf11-f3e02f749a5b"
      },
      "cell_type": "code",
      "source": [
        "print(list07 + list08)"
      ],
      "execution_count": 55,
      "outputs": [
        {
          "output_type": "stream",
          "text": [
            "[1, 2, ['F', 'U', 'C', 'K'], 10, 50, ['H', 'i', ['F', 'U', 'C', 'K']]]\n"
          ],
          "name": "stdout"
        }
      ]
    },
    {
      "metadata": {
        "id": "rBLvWVTjM5Fn",
        "colab_type": "text"
      },
      "cell_type": "markdown",
      "source": [
        "리스트는 곱셈도 가능하다. 역시 사칙연산 개념이 아닌, 리스트 요소의 반복이다."
      ]
    },
    {
      "metadata": {
        "id": "Y7fFMj-EM5Kd",
        "colab_type": "code",
        "colab": {
          "base_uri": "https://localhost:8080/",
          "height": 35
        },
        "outputId": "44acf9af-c895-4ac3-8f82-dcd07d970986"
      },
      "cell_type": "code",
      "source": [
        "print(list07 * 3)"
      ],
      "execution_count": 53,
      "outputs": [
        {
          "output_type": "stream",
          "text": [
            "[1, 2, ['F', 'U', 'C', 'K'], 1, 2, ['F', 'U', 'C', 'K'], 1, 2, ['F', 'U', 'C', 'K']]\n"
          ],
          "name": "stdout"
        }
      ]
    },
    {
      "metadata": {
        "id": "e3VlWuWYLk2Y",
        "colab_type": "text"
      },
      "cell_type": "markdown",
      "source": [
        "그럼 이런 것도 가능할까? 확인해보라."
      ]
    },
    {
      "metadata": {
        "id": "Io3GsixVNTkI",
        "colab_type": "code",
        "colab": {
          "base_uri": "https://localhost:8080/",
          "height": 55
        },
        "outputId": "ea92bb1d-ebe4-4c59-8145-5e4f68d7914f"
      },
      "cell_type": "code",
      "source": [
        "print(list07 * 3 + list08 * 2)"
      ],
      "execution_count": 54,
      "outputs": [
        {
          "output_type": "stream",
          "text": [
            "[1, 2, ['F', 'U', 'C', 'K'], 1, 2, ['F', 'U', 'C', 'K'], 1, 2, ['F', 'U', 'C', 'K'], 10, 50, ['H', 'i', ['F', 'U', 'C', 'K']], 10, 50, ['H', 'i', ['F', 'U', 'C', 'K']]]\n"
          ],
          "name": "stdout"
        }
      ]
    },
    {
      "metadata": {
        "id": "AxGCZzmMLk88",
        "colab_type": "text"
      },
      "cell_type": "markdown",
      "source": [
        "**가능하다!**"
      ]
    },
    {
      "metadata": {
        "id": "2_NALWcENZSF",
        "colab_type": "text"
      },
      "cell_type": "markdown",
      "source": [
        "**리스트 연산에 주의할 점이 있다.** 아래의 코드를 실행시켜보자.\n",
        "\n"
      ]
    },
    {
      "metadata": {
        "id": "GuIGNtvMLk_i",
        "colab_type": "code",
        "colab": {
          "base_uri": "https://localhost:8080/",
          "height": 172
        },
        "outputId": "1d8c6553-ec83-406b-8e46-2402726db22b"
      },
      "cell_type": "code",
      "source": [
        "print(list07[2] + \"hi\")"
      ],
      "execution_count": 57,
      "outputs": [
        {
          "output_type": "error",
          "ename": "TypeError",
          "evalue": "ignored",
          "traceback": [
            "\u001b[0;31m---------------------------------------------------------------------------\u001b[0m",
            "\u001b[0;31mTypeError\u001b[0m                                 Traceback (most recent call last)",
            "\u001b[0;32m<ipython-input-57-bd6fb3bb2e15>\u001b[0m in \u001b[0;36m<module>\u001b[0;34m()\u001b[0m\n\u001b[0;32m----> 1\u001b[0;31m \u001b[0mprint\u001b[0m\u001b[0;34m(\u001b[0m\u001b[0mlist07\u001b[0m\u001b[0;34m[\u001b[0m\u001b[0;36m2\u001b[0m\u001b[0;34m]\u001b[0m \u001b[0;34m+\u001b[0m \u001b[0;34m\"hi\"\u001b[0m\u001b[0;34m)\u001b[0m\u001b[0;34m\u001b[0m\u001b[0m\n\u001b[0m",
            "\u001b[0;31mTypeError\u001b[0m: can only concatenate list (not \"str\") to list"
          ]
        }
      ]
    },
    {
      "metadata": {
        "id": "NwA0OVprLlCB",
        "colab_type": "text"
      },
      "cell_type": "markdown",
      "source": [
        "오류가 발생할 것이다. 당연하게도, 정수와 문자열은 서로 더하는 것이 불가능하다. 형식을 변환해야 한다."
      ]
    },
    {
      "metadata": {
        "id": "kxFDt0nuLlEz",
        "colab_type": "code",
        "colab": {
          "base_uri": "https://localhost:8080/",
          "height": 71
        },
        "outputId": "4e33c612-4756-4f70-ad8e-00bd62d612da"
      },
      "cell_type": "code",
      "source": [
        "print(str(list07[1]) + \"Fuck\")\n",
        "print(str(list07[2]) + \"hi\")\n",
        "print(str(list07[:3]) + \"   FFUCK\")"
      ],
      "execution_count": 67,
      "outputs": [
        {
          "output_type": "stream",
          "text": [
            "2Fuck\n",
            "['F', 'U', 'C', 'K']hi\n",
            "[1, 2, ['F', 'U', 'C', 'K']]   FFUCK\n"
          ],
          "name": "stdout"
        }
      ]
    },
    {
      "metadata": {
        "id": "Ug4fFPTmPVSH",
        "colab_type": "text"
      },
      "cell_type": "markdown",
      "source": [
        "# **리스트 수정 및 삭제**"
      ]
    },
    {
      "metadata": {
        "id": "HpCt9JhTPV0W",
        "colab_type": "code",
        "colab": {}
      },
      "cell_type": "code",
      "source": [
        ""
      ],
      "execution_count": 0,
      "outputs": []
    },
    {
      "metadata": {
        "id": "k7CacNRQPV26",
        "colab_type": "code",
        "colab": {}
      },
      "cell_type": "code",
      "source": [
        ""
      ],
      "execution_count": 0,
      "outputs": []
    },
    {
      "metadata": {
        "id": "5UvzyAP5PV5T",
        "colab_type": "code",
        "colab": {}
      },
      "cell_type": "code",
      "source": [
        ""
      ],
      "execution_count": 0,
      "outputs": []
    },
    {
      "metadata": {
        "id": "zGXIvEGSPV7W",
        "colab_type": "code",
        "colab": {}
      },
      "cell_type": "code",
      "source": [
        ""
      ],
      "execution_count": 0,
      "outputs": []
    },
    {
      "metadata": {
        "id": "Rb9bMAkIPV9g",
        "colab_type": "code",
        "colab": {}
      },
      "cell_type": "code",
      "source": [
        ""
      ],
      "execution_count": 0,
      "outputs": []
    },
    {
      "metadata": {
        "id": "YKzsIuwaPV_n",
        "colab_type": "code",
        "colab": {}
      },
      "cell_type": "code",
      "source": [
        ""
      ],
      "execution_count": 0,
      "outputs": []
    },
    {
      "metadata": {
        "id": "E0p9Fn5HPWBv",
        "colab_type": "code",
        "colab": {}
      },
      "cell_type": "code",
      "source": [
        ""
      ],
      "execution_count": 0,
      "outputs": []
    },
    {
      "metadata": {
        "id": "gBXoKwsqPWFs",
        "colab_type": "code",
        "colab": {}
      },
      "cell_type": "code",
      "source": [
        ""
      ],
      "execution_count": 0,
      "outputs": []
    }
  ]
}