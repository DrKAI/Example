{
  "nbformat": 4,
  "nbformat_minor": 0,
  "metadata": {
    "colab": {
      "name": "Python Basic.ipynb",
      "version": "0.3.2",
      "provenance": [],
      "collapsed_sections": [],
      "include_colab_link": true
    },
    "kernelspec": {
      "name": "python3",
      "display_name": "Python 3"
    }
  },
  "cells": [
    {
      "cell_type": "markdown",
      "metadata": {
        "id": "view-in-github",
        "colab_type": "text"
      },
      "source": [
        "[View in Colaboratory](https://colab.research.google.com/github/DrKAI/Example/blob/master/Python_Basic.ipynb)"
      ]
    },
    {
      "metadata": {
        "id": "EVz9CxOjcD5D",
        "colab_type": "text"
      },
      "cell_type": "markdown",
      "source": [
        "**변수 선언 및 출력**"
      ]
    },
    {
      "metadata": {
        "id": "9jix5NHY256i",
        "colab_type": "code",
        "colab": {}
      },
      "cell_type": "code",
      "source": [
        "a = 245452775626"
      ],
      "execution_count": 0,
      "outputs": []
    },
    {
      "metadata": {
        "id": "JW7wrtA0dhsH",
        "colab_type": "code",
        "colab": {
          "base_uri": "https://localhost:8080/",
          "height": 34
        },
        "outputId": "468cfa84-690d-4d9c-8e81-8c2bfcebf29d"
      },
      "cell_type": "code",
      "source": [
        "print(a)"
      ],
      "execution_count": 0,
      "outputs": [
        {
          "output_type": "stream",
          "text": [
            "245452775626\n"
          ],
          "name": "stdout"
        }
      ]
    },
    {
      "metadata": {
        "id": "QgaPWNcjeIGu",
        "colab_type": "code",
        "colab": {}
      },
      "cell_type": "code",
      "source": [
        "b=45.4325736\n",
        "c=a/b\n",
        "print(c)\n"
      ],
      "execution_count": 0,
      "outputs": []
    },
    {
      "metadata": {
        "id": "RyKjio1tgBDR",
        "colab_type": "text"
      },
      "cell_type": "markdown",
      "source": [
        "print(a/b)는 실행 불가"
      ]
    },
    {
      "metadata": {
        "id": "2yjYkY54gsgH",
        "colab_type": "code",
        "colab": {
          "base_uri": "https://localhost:8080/",
          "height": 130
        },
        "outputId": "230877a3-87f1-46f5-f1bd-beb08f004d12"
      },
      "cell_type": "code",
      "source": [
        "print(a/b)"
      ],
      "execution_count": 0,
      "outputs": [
        {
          "output_type": "error",
          "ename": "SyntaxError",
          "evalue": "ignored",
          "traceback": [
            "\u001b[0;36m  File \u001b[0;32m\"<ipython-input-7-8de3328c9713>\"\u001b[0;36m, line \u001b[0;32m1\u001b[0m\n\u001b[0;31m    print(a/)\u001b[0m\n\u001b[0m            ^\u001b[0m\n\u001b[0;31mSyntaxError\u001b[0m\u001b[0;31m:\u001b[0m invalid syntax\n"
          ]
        }
      ]
    },
    {
      "metadata": {
        "id": "JseJ7OCKgZZK",
        "colab_type": "text"
      },
      "cell_type": "markdown",
      "source": [
        "Q1. 국어 80 영어 75 수학 55\n",
        "세 과목 평균 점수는?"
      ]
    },
    {
      "metadata": {
        "id": "yfqXAEiLhbh4",
        "colab_type": "code",
        "colab": {
          "base_uri": "https://localhost:8080/",
          "height": 34
        },
        "outputId": "d950592e-f39a-4a60-da84-3e84266e6e5f"
      },
      "cell_type": "code",
      "source": [
        "국어=80\n",
        "수학=55\n",
        "영어=75\n",
        "average = (국어+수학+영어)/3\n",
        "\n",
        "print(average)"
      ],
      "execution_count": 0,
      "outputs": [
        {
          "output_type": "stream",
          "text": [
            "70.0\n"
          ],
          "name": "stdout"
        }
      ]
    },
    {
      "metadata": {
        "id": "LG1B8ISpiAVl",
        "colab_type": "text"
      },
      "cell_type": "markdown",
      "source": [
        "Q2-3. 17 나누기 3의 몫과 나머지는?"
      ]
    },
    {
      "metadata": {
        "id": "XvlF6Zu1im2I",
        "colab_type": "code",
        "colab": {
          "base_uri": "https://localhost:8080/",
          "height": 51
        },
        "outputId": "ef55e3f5-f00c-408d-afe1-e088fe745372"
      },
      "cell_type": "code",
      "source": [
        "print(17/3)\n",
        "print(17%3)"
      ],
      "execution_count": 0,
      "outputs": [
        {
          "output_type": "stream",
          "text": [
            "5.666666666666667\n",
            "2\n"
          ],
          "name": "stdout"
        }
      ]
    },
    {
      "metadata": {
        "id": "4SOVdeQsi0IF",
        "colab_type": "text"
      },
      "cell_type": "markdown",
      "source": [
        "Q4. 자연수 홀짝 구분법은?\n",
        "\n",
        "2로 나눠서 나머지를 봅시다"
      ]
    },
    {
      "metadata": {
        "id": "fM-dZ_nrjuI6",
        "colab_type": "code",
        "colab": {
          "base_uri": "https://localhost:8080/",
          "height": 68
        },
        "outputId": "c37bf1ac-8974-4ae0-c7b3-969cf0b96297"
      },
      "cell_type": "code",
      "source": [
        "이희성 = \"바보\"\n",
        "바보 = \"이희성\"\n",
        "print(이희성+바보)\n",
        "바보이희성 = 바보+이희성\n",
        "print(바보이희성)\n",
        "print(바보이희성*2)\n",
        "#print(바보이희성**2) 안됨\n",
        "#print(바보이희성ˆ3) 상동"
      ],
      "execution_count": 0,
      "outputs": [
        {
          "output_type": "stream",
          "text": [
            "바보이희성\n",
            "이희성바보\n",
            "이희성바보이희성바보\n"
          ],
          "name": "stdout"
        }
      ]
    },
    {
      "metadata": {
        "id": "bYfuzGGxkvQy",
        "colab_type": "code",
        "colab": {}
      },
      "cell_type": "code",
      "source": [
        "# 문자열 포매팅 안됨 \n",
        "#print('\"리희성은 %d\\% 바보다\" % 100')\n",
        "#babo = \"이희성은 %d% 바보다\" %100\n",
        "\n",
        "# 잘됨 내가 멍청한거\n",
        "# 숫자 바로 대입\n",
        "print(\"리희성은 %d%% 한국남자다\" % 100)\n",
        "babo = \"이희성은 %d%% 일본남자다\" % 100\n",
        "print(babo)\n",
        "\n",
        "# 문자열 바로 대입\n",
        "print(\"이희성은 %s%% 꺼츠가 클것이다\" % \"오백만\")\n",
        "print(\"리희성은 %s 작을 것이다\"%\"백%s\"%\"오십%\")\n",
        "\n",
        "# 문자열 뒤 % 유무의 차이\n",
        "cc = \"이희성은 %skg만큼 몸무게가 늘었다\"\n",
        "dd = \"이희성은 %skg만큼 몸무게가 늘엇다\" %\"500\"\n",
        "print(cc)\n",
        "print(dd)\n",
        "\n",
        "# 문자값을 나타내는 변수로 대입\n",
        "ee = \"%s\"\n",
        "ff = \"%s\" %\"마더퍼커\"\n",
        "print(\"한남 %s%s\" % (ee, ff))\n",
        "print(\"한남 %s %s\" % (ee %\"죽어\", ff))\n",
        "print(\"한남 %s %s\" % (ff, ee))\n",
        "# print(\"한남 %s %d\" % (ee, ff)) 형식 불일치로 실행X\n",
        "# ee와 ff를 바꾸면 ee가 뒤에 %를 사용 안해서 실행X\n",
        "\n",
        "# 실행 불가\n",
        "# print(\"%s %s %s\" % (ee, ff))\n",
        "# print(\"%s %s\" % (ee, ff, ff))"
      ],
      "execution_count": 0,
      "outputs": []
    },
    {
      "metadata": {
        "id": "Ik3kjqBsceC9",
        "colab_type": "code",
        "colab": {}
      },
      "cell_type": "code",
      "source": [
        "pri"
      ],
      "execution_count": 0,
      "outputs": []
    },
    {
      "metadata": {
        "id": "5M4BGgM2qgdX",
        "colab_type": "code",
        "colab": {}
      },
      "cell_type": "code",
      "source": [
        "# Q1. \"쩜프투 파이썬\" 문자열 출력해봐라\n",
        "# Q2. 두줄짜리 문자열 만들어봐라\n",
        "# Q3. \"python\" 문자열 앞에 공백 24자리를 추가해라\n",
        "# Q4. 주민번호 앞자리와 뒷자리를 나누어 출력하라\n",
        "# Q5. 주민번호에서 성별 알려주는 숫자를 인덱싱 표기하라\n",
        "# Q6. 1980M1120 문자열을 M19801120으로 변경하라\n",
        "# Q7. Q3을 포맷코드로 해봐라\n",
        "# Q8. life is short 에서 short가 시작되는 인덱스를 구하라\n",
        "# Q9. a:b:c:d를 a#b#c#d 로 고쳐라 replace로\n",
        "# Q10. Q9를 split과 join으로 고쳐라\n",
        "\n",
        "print('\"점프투 파이선\" 문제를 풀어보자')\n",
        "\n",
        "# print(\"\"\"이희성\n",
        "# 바보\"\"\")\n",
        "baboo = \"\"\"이희성\n",
        "바보\"\"\"\n",
        "print(baboo)\n",
        "print(\"리희성\\n 바보\")\n",
        "\n",
        "print(\"%spython\" % \"                        \")\n",
        "space = \"                        \"\n",
        "print(\"%spython\"%space)\n",
        "\n",
        "jumin = \"900819-1234567\"\n",
        "# juminf = jumin[:5]\n",
        "juminf = jumin[:6]\n",
        "juminb = jumin[7:]\n",
        "print(jumin, juminf, juminb)\n",
        "# 문자열 줄내림말고 변수별로 내리는건 없을까\n",
        "\n",
        "# 문자열 전체문자수를 알려주는건 없나\n",
        "print(jumin[7])\n",
        "\n",
        "a = \"1980M1120\"\n",
        "print(a)\n",
        "b = a[5:]\n",
        "print(\"M1980\" + b)\n",
        "# print(\"%s\"+b % \"M1980\")\n",
        "print(\"%s\"%\"M1980\"+b)\n",
        "\n",
        "##"
      ],
      "execution_count": 0,
      "outputs": []
    },
    {
      "metadata": {
        "id": "ioLIrAPN_K9O",
        "colab_type": "text"
      },
      "cell_type": "markdown",
      "source": [
        "### 연습문제\n",
        "\n",
        "Q01. \"쩜프투 파이썬\" 문자열 출력해봐라\n",
        "\n",
        "Q02. 두줄짜리 문자열 만들어봐라\n",
        "\n",
        "Q03. \"python\" 문자열 앞에 공백 24자리를 추가해라\n",
        "\n",
        "Q04. 주민번호 앞자리와 뒷자리를 나누어 출력하라\n",
        "\n",
        "Q05. 주민번호에서 성별 알려주는 숫자를 인덱싱 표기하라\n",
        "\n",
        "Q06. 1980M1120 문자열을 M19801120으로 변경하라\n",
        "\n",
        "Q07. Q3을 포맷코드로 해봐라\n",
        "\n",
        "Q08. life is short 에서 short가 시작되는 인덱스를 구하라\n",
        "\n",
        "Q09. a:b:c:d를 a#b#c#d 로 고쳐라 replace로\n",
        "\n",
        "Q10. Q9를 split과 join으로 고쳐라"
      ]
    },
    {
      "metadata": {
        "id": "3c9hsjk-_PSk",
        "colab_type": "code",
        "colab": {}
      },
      "cell_type": "code",
      "source": [
        "# Q01\n",
        "print(\"쩜프투 파이썬\")\n",
        "\n",
        "print('점프투 파이선')\n",
        "\n",
        "a = \"쩜프투 파이썬\"\n",
        "print(a)"
      ],
      "execution_count": 0,
      "outputs": []
    },
    {
      "metadata": {
        "id": "YcpK7TUI_Wnc",
        "colab_type": "code",
        "colab": {}
      },
      "cell_type": "code",
      "source": [
        "# Q02\n",
        "print(\"\"\"쩜프투 \n",
        "파이썬\"\"\")"
      ],
      "execution_count": 0,
      "outputs": []
    },
    {
      "metadata": {
        "id": "y8sGcBTF_XW4",
        "colab_type": "code",
        "colab": {
          "base_uri": "https://localhost:8080/",
          "height": 35
        },
        "outputId": "9b88f76c-4bb4-44f1-88e8-d8649c8590ca"
      },
      "cell_type": "code",
      "source": [
        "# Q03\n",
        "print(\"                        python\")\n",
        "\n"
      ],
      "execution_count": 8,
      "outputs": [
        {
          "output_type": "stream",
          "text": [
            "                        python\n"
          ],
          "name": "stdout"
        }
      ]
    },
    {
      "metadata": {
        "id": "vePEso5KDma8",
        "colab_type": "code",
        "colab": {}
      },
      "cell_type": "code",
      "source": [
        ""
      ],
      "execution_count": 0,
      "outputs": []
    },
    {
      "metadata": {
        "id": "VFR5PvsP_L6C",
        "colab_type": "code",
        "colab": {}
      },
      "cell_type": "code",
      "source": [
        ""
      ],
      "execution_count": 0,
      "outputs": []
    },
    {
      "metadata": {
        "id": "ZRx5VKqW_MCc",
        "colab_type": "code",
        "colab": {}
      },
      "cell_type": "code",
      "source": [
        ""
      ],
      "execution_count": 0,
      "outputs": []
    },
    {
      "metadata": {
        "id": "xg6Hv_Wp_MHe",
        "colab_type": "code",
        "colab": {}
      },
      "cell_type": "code",
      "source": [
        ""
      ],
      "execution_count": 0,
      "outputs": []
    },
    {
      "metadata": {
        "id": "g0ujvH16_MKY",
        "colab_type": "code",
        "colab": {}
      },
      "cell_type": "code",
      "source": [
        ""
      ],
      "execution_count": 0,
      "outputs": []
    },
    {
      "metadata": {
        "id": "J4ChOclp_MUD",
        "colab_type": "code",
        "colab": {}
      },
      "cell_type": "code",
      "source": [
        ""
      ],
      "execution_count": 0,
      "outputs": []
    },
    {
      "metadata": {
        "id": "5wUEopxg_MXH",
        "colab_type": "code",
        "colab": {}
      },
      "cell_type": "code",
      "source": [
        ""
      ],
      "execution_count": 0,
      "outputs": []
    },
    {
      "metadata": {
        "id": "yAGP6A-t_MZp",
        "colab_type": "code",
        "colab": {}
      },
      "cell_type": "code",
      "source": [
        ""
      ],
      "execution_count": 0,
      "outputs": []
    },
    {
      "metadata": {
        "id": "2uhj3K_2_McE",
        "colab_type": "code",
        "colab": {}
      },
      "cell_type": "code",
      "source": [
        ""
      ],
      "execution_count": 0,
      "outputs": []
    }
  ]
}