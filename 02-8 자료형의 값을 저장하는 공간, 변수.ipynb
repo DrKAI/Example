{
  "nbformat": 4,
  "nbformat_minor": 0,
  "metadata": {
    "colab": {
      "name": "02-8 자료형의 값을 저장하는 공간, 변수.ipynb",
      "version": "0.3.2",
      "provenance": [],
      "collapsed_sections": [],
      "include_colab_link": true
    },
    "kernelspec": {
      "name": "python3",
      "display_name": "Python 3"
    }
  },
  "cells": [
    {
      "cell_type": "markdown",
      "metadata": {
        "id": "view-in-github",
        "colab_type": "text"
      },
      "source": [
        "<a href=\"https://colab.research.google.com/github/DrKAI/Example/blob/master/02-8%20%EC%9E%90%EB%A3%8C%ED%98%95%EC%9D%98%20%EA%B0%92%EC%9D%84%20%EC%A0%80%EC%9E%A5%ED%95%98%EB%8A%94%20%EA%B3%B5%EA%B0%84,%20%EB%B3%80%EC%88%98.ipynb\" target=\"_parent\"><img src=\"https://colab.research.google.com/assets/colab-badge.svg\" alt=\"Open In Colab\"/></a>"
      ]
    },
    {
      "metadata": {
        "id": "b34FBc-PMWTN",
        "colab_type": "text"
      },
      "cell_type": "markdown",
      "source": [
        "# 변수는 어떻게 만들까?"
      ]
    },
    {
      "metadata": {
        "id": "rQ7Ynx2eMgg7",
        "colab_type": "code",
        "colab": {}
      },
      "cell_type": "code",
      "source": [
        "a = 1\n",
        "b = \"python\"\n",
        "c = [1, 2, 3]"
      ],
      "execution_count": 0,
      "outputs": []
    },
    {
      "metadata": {
        "id": "_Td9TW4JMgjl",
        "colab_type": "text"
      },
      "cell_type": "markdown",
      "source": [
        "우리는 이미 앞에서부터 변수를 사용해왔다. 위의 a, b, c를 변수라 한다.\n",
        "\n",
        "변수를 만들 때, **= (assignment)** 기호를 사용한다. C나 Java처럼 변수의 자료형까지 함께 쓸 필요는 없다. 파이썬은 스스로 판단한다.\n",
        "\n",
        "**변수명 = 변수에 저장할 값**"
      ]
    },
    {
      "metadata": {
        "id": "iljpv7lGMgl9",
        "colab_type": "text"
      },
      "cell_type": "markdown",
      "source": [
        "# 변수란?\n",
        "\n",
        "파이썬에서 하용하는 변수는 객체를 가리키는 것이라고도 할 수 있다. 객체란 우리가 지금껏 보아왔던 자료형과 같은 것을 의미한다.\n",
        "\n",
        "클래스 챕터에서 자세하게 공부합시다."
      ]
    },
    {
      "metadata": {
        "id": "zepesWG8Mgod",
        "colab_type": "code",
        "colab": {}
      },
      "cell_type": "code",
      "source": [
        "a = [1, 2, 3]"
      ],
      "execution_count": 0,
      "outputs": []
    },
    {
      "metadata": {
        "id": "-0IM4NnKMgq8",
        "colab_type": "text"
      },
      "cell_type": "markdown",
      "source": [
        "[1, 2, 3]이라는 값을 가지는 리스트 자료형(객체)이 자동으로 메모리에 생성되고, 변수 a는 [1, 2, 3] 리스트가 저장된 메모리의 주소를 가리키게 된다.\n",
        "\n",
        "a 변수가 가리키는 메모리의 주소는 아래의 예시를 보라."
      ]
    },
    {
      "metadata": {
        "id": "5kz2el3-MgtZ",
        "colab_type": "code",
        "colab": {
          "base_uri": "https://localhost:8080/",
          "height": 35
        },
        "outputId": "06c713b1-3f49-4c5e-a2e2-c6e7d6dcb354"
      },
      "cell_type": "code",
      "source": [
        "a = [1, 2, 3]\n",
        "\n",
        "id(a)"
      ],
      "execution_count": 2,
      "outputs": [
        {
          "output_type": "execute_result",
          "data": {
            "text/plain": [
              "140668482739080"
            ]
          },
          "metadata": {
            "tags": []
          },
          "execution_count": 2
        }
      ]
    },
    {
      "metadata": {
        "id": "E9n0wgPIMgv_",
        "colab_type": "text"
      },
      "cell_type": "markdown",
      "source": [
        "id 함수는 변수가 가리키고 있는 객체의 주소를 리턴해주는 파이썬 내장함수이다.\n",
        "\n",
        "변수 a가 가리키는 [1, 2, 3] 리스트의 주소는 140668482739080이다."
      ]
    },
    {
      "metadata": {
        "id": "srC65mdqMgyY",
        "colab_type": "text"
      },
      "cell_type": "markdown",
      "source": [
        "# 리스트를 변수에 넣고 복사하고자 할 때\n",
        "\n",
        "\"복사\"는 혼동하기 쉽다!"
      ]
    },
    {
      "metadata": {
        "id": "8U1NKyi9Mg03",
        "colab_type": "code",
        "colab": {
          "base_uri": "https://localhost:8080/",
          "height": 53
        },
        "outputId": "eefa53f4-ed2a-4bbf-dfae-c9d03917d1eb"
      },
      "cell_type": "code",
      "source": [
        "a = [1, 2, 3]\n",
        "b = a\n",
        "\n",
        "print(id(a))\n",
        "print(id(b))"
      ],
      "execution_count": 3,
      "outputs": [
        {
          "output_type": "stream",
          "text": [
            "140668482739464\n",
            "140668482739464\n"
          ],
          "name": "stdout"
        }
      ]
    },
    {
      "metadata": {
        "id": "T70KLa29Mg3Y",
        "colab_type": "text"
      },
      "cell_type": "markdown",
      "source": [
        "변수 b에 변수 a를 대입해하였고, a와 b의 주소를 확인했다.\n",
        "\n",
        "보다시피, a와 b는 완전히 동일하다. [1, 2, 3] 리스트를 참조하는 변수의 갯수가 a와 b, 2개가 되었을 뿐이다.\n",
        "\n",
        "동일한 객체를 가리키는지 판별하는 파이썬 명령어 **is**를 사용해보자. True를 리턴할 것이다."
      ]
    },
    {
      "metadata": {
        "id": "IC1pr219Mg52",
        "colab_type": "code",
        "colab": {
          "base_uri": "https://localhost:8080/",
          "height": 35
        },
        "outputId": "7015166a-ed18-4506-8571-dc6b8cc1bcdd"
      },
      "cell_type": "code",
      "source": [
        "a = [1, 2, 3]\n",
        "b = a\n",
        "\n",
        "print(a is b)"
      ],
      "execution_count": 5,
      "outputs": [
        {
          "output_type": "stream",
          "text": [
            "True\n"
          ],
          "name": "stdout"
        }
      ]
    },
    {
      "metadata": {
        "id": "nDfZ9mcFMg8Y",
        "colab_type": "code",
        "colab": {
          "base_uri": "https://localhost:8080/",
          "height": 53
        },
        "outputId": "c7bbdcd5-dbc1-42a1-b53f-911a5a4b9bb9"
      },
      "cell_type": "code",
      "source": [
        "a = [1, 2, 3, 4, 5]\n",
        "b = a\n",
        "\n",
        "a[2] = 100\n",
        "\n",
        "print(a)\n",
        "print(b)"
      ],
      "execution_count": 6,
      "outputs": [
        {
          "output_type": "stream",
          "text": [
            "[1, 2, 100, 4, 5]\n",
            "[1, 2, 100, 4, 5]\n"
          ],
          "name": "stdout"
        }
      ]
    },
    {
      "metadata": {
        "id": "1TP-ut_OMg_E",
        "colab_type": "text"
      },
      "cell_type": "markdown",
      "source": [
        "a 리스트의 두번째 요소를 100으로 바꾸었더니 b 리스트 역시 바뀌었다. 상술하였듯, a와 b는 모두 동일한 리스트를 가리키고 있기 때문이다.\n",
        "\n",
        "**그렇다면 변수 b를 생성할 때 변수 a와 같은 값을 가지도록 복사하면서 a가 가리키는 리스트와는 다른 리스트를 가리키게 할 방법은 뭐가 있을까?**"
      ]
    },
    {
      "metadata": {
        "id": "bKwXiojfP-sf",
        "colab_type": "text"
      },
      "cell_type": "markdown",
      "source": [
        "## 1. [:]\n",
        "\n",
        "리스트 전체를 가리키는 [:]를 이용하여 복사한다."
      ]
    },
    {
      "metadata": {
        "id": "n4_Kj-oWMhBh",
        "colab_type": "code",
        "colab": {
          "base_uri": "https://localhost:8080/",
          "height": 143
        },
        "outputId": "e1180b8a-c357-4af9-80c5-8cd5a87312c1"
      },
      "cell_type": "code",
      "source": [
        "a = [1, 2, 3, 4, 5]\n",
        "b = a[:]\n",
        "print(a)\n",
        "print(b)\n",
        "\n",
        "a[2] = 100\n",
        "print(a)\n",
        "print(b)\n",
        "\n",
        "# 당연하게도 주소값도 달라진다!\n",
        "print(id(a))\n",
        "print(id(b))\n",
        "print(a is b)"
      ],
      "execution_count": 10,
      "outputs": [
        {
          "output_type": "stream",
          "text": [
            "[1, 2, 3, 4, 5]\n",
            "[1, 2, 3, 4, 5]\n",
            "[1, 2, 100, 4, 5]\n",
            "[1, 2, 3, 4, 5]\n",
            "140668482738248\n",
            "140668482739784\n",
            "False\n"
          ],
          "name": "stdout"
        }
      ]
    },
    {
      "metadata": {
        "id": "1zdpeC3QMhEH",
        "colab_type": "text"
      },
      "cell_type": "markdown",
      "source": [
        "## 2. copy 모듈 이용\n",
        "\n",
        "상세한 설명은 파이썬 모듈 파트에서 하겠다. **아래의 예 b = copy(a)는 b = a[:]과 같다!**"
      ]
    },
    {
      "metadata": {
        "id": "D0DVhT1XMhGp",
        "colab_type": "code",
        "colab": {
          "base_uri": "https://localhost:8080/",
          "height": 143
        },
        "outputId": "97a07b14-ed11-4280-db80-7280aa9f8fd9"
      },
      "cell_type": "code",
      "source": [
        "from copy import copy\n",
        "\n",
        "a = [1, 2, 3, 4, 5]\n",
        "b = copy(a)\n",
        "print(a)\n",
        "print(b)\n",
        "\n",
        "a[2] = 65535\n",
        "print(a)\n",
        "print(b)\n",
        "\n",
        "\n",
        "print(id(a))\n",
        "print(id(b))\n",
        "print(b is a)"
      ],
      "execution_count": 12,
      "outputs": [
        {
          "output_type": "stream",
          "text": [
            "[1, 2, 3, 4, 5]\n",
            "[1, 2, 3, 4, 5]\n",
            "[1, 2, 65535, 4, 5]\n",
            "[1, 2, 3, 4, 5]\n",
            "140668479928456\n",
            "140668482738248\n",
            "False\n"
          ],
          "name": "stdout"
        }
      ]
    },
    {
      "metadata": {
        "id": "Z315nGGmMhJJ",
        "colab_type": "text"
      },
      "cell_type": "markdown",
      "source": [
        "# 변수를 만드는 여러가지 방법"
      ]
    },
    {
      "metadata": {
        "id": "jiYBh5vDMhLq",
        "colab_type": "code",
        "colab": {
          "base_uri": "https://localhost:8080/",
          "height": 35
        },
        "outputId": "3b9fee58-8a44-4087-87fb-7c52b0487485"
      },
      "cell_type": "code",
      "source": [
        "a, b = ('python', 'life')\n",
        "\n",
        "print (a, b)"
      ],
      "execution_count": 5,
      "outputs": [
        {
          "output_type": "stream",
          "text": [
            "python life\n"
          ],
          "name": "stdout"
        }
      ]
    },
    {
      "metadata": {
        "id": "Qh_RgFSlVEZt",
        "colab_type": "code",
        "colab": {
          "base_uri": "https://localhost:8080/",
          "height": 35
        },
        "outputId": "8ad63b42-e965-4f5c-ae8e-158bcc6d9ac0"
      },
      "cell_type": "code",
      "source": [
        "(a, b) = 'Life is', 'unbeautiful'\n",
        "\n",
        "print (a, b)"
      ],
      "execution_count": 8,
      "outputs": [
        {
          "output_type": "stream",
          "text": [
            "Life is unbeautiful\n"
          ],
          "name": "stdout"
        }
      ]
    },
    {
      "metadata": {
        "id": "xoK7KgnuVEcc",
        "colab_type": "text"
      },
      "cell_type": "markdown",
      "source": [
        "위의 두 예문은 완전히 동일한 방법이다. **튜플은 괄호를 생략해도 됩니다!**\n",
        "\n",
        "아래처럼 리스트로도 변수를 만들 수 있다."
      ]
    },
    {
      "metadata": {
        "id": "y7wEXtoPVEe5",
        "colab_type": "code",
        "colab": {
          "base_uri": "https://localhost:8080/",
          "height": 53
        },
        "outputId": "a3ae8ecc-d7a2-45ab-f331-83ebe7be884c"
      },
      "cell_type": "code",
      "source": [
        "[a, b] = ['파이썬', '인생']\n",
        "\n",
        "print (a, b)"
      ],
      "execution_count": 15,
      "outputs": [
        {
          "output_type": "stream",
          "text": [
            "파이썬 인생\n",
            "<class 'str'>\n"
          ],
          "name": "stdout"
        }
      ]
    },
    {
      "metadata": {
        "id": "n0IQkSbcVEhT",
        "colab_type": "text"
      },
      "cell_type": "markdown",
      "source": [
        "여러 개의 변수에 같은 값을 대입할 수도 있다."
      ]
    },
    {
      "metadata": {
        "id": "YYv1BMDZVEj6",
        "colab_type": "code",
        "colab": {
          "base_uri": "https://localhost:8080/",
          "height": 35
        },
        "outputId": "8966ab44-d5ae-408f-d54a-201c872138b9"
      },
      "cell_type": "code",
      "source": [
        "a = b = 'Hell'\n",
        "\n",
        "print (a, b)"
      ],
      "execution_count": 16,
      "outputs": [
        {
          "output_type": "stream",
          "text": [
            "Hell Hell\n"
          ],
          "name": "stdout"
        }
      ]
    },
    {
      "metadata": {
        "id": "oliJicIIVEmh",
        "colab_type": "text"
      },
      "cell_type": "markdown",
      "source": [
        "두 변수의 값을 아래처럼 서로 간단하게 바꿀 수도 있다."
      ]
    },
    {
      "metadata": {
        "id": "1PKZ3-9mVEor",
        "colab_type": "code",
        "colab": {
          "base_uri": "https://localhost:8080/",
          "height": 89
        },
        "outputId": "4e550788-bb72-46cd-c9f4-61b2b17ad135"
      },
      "cell_type": "code",
      "source": [
        "a = \"Heaven\"\n",
        "b = \"Hell\"\n",
        "\n",
        "print (a)\n",
        "print (b)\n",
        "\n",
        "a, b = b, a\n",
        "\n",
        "print (a)\n",
        "print (b)"
      ],
      "execution_count": 17,
      "outputs": [
        {
          "output_type": "stream",
          "text": [
            "Heaven\n",
            "Hell\n",
            "Hell\n",
            "Heaven\n"
          ],
          "name": "stdout"
        }
      ]
    },
    {
      "metadata": {
        "id": "eVW-xMKgWuHF",
        "colab_type": "text"
      },
      "cell_type": "markdown",
      "source": [
        "# 연습문제"
      ]
    },
    {
      "metadata": {
        "id": "etEJHpJJW0aT",
        "colab_type": "text"
      },
      "cell_type": "markdown",
      "source": [
        "## Q1. 변수와 객체1\n",
        "\n",
        "아래 예제를 실행하고 그 결과를 설명하라.\n",
        "\n",
        "**a = [1. 2. 3]**\n",
        "\n",
        "**b = [1. 2. 3]**\n",
        "\n",
        "**a is b**"
      ]
    },
    {
      "metadata": {
        "id": "aHB3K10JW0fn",
        "colab_type": "code",
        "colab": {
          "base_uri": "https://localhost:8080/",
          "height": 35
        },
        "outputId": "24c1c8d2-73da-4213-ef14-9d3701510a14"
      },
      "cell_type": "code",
      "source": [
        "# 리스트 a와 b가 동일한 지 생각해보라는 거 같은데, 같은 리스트가 아닐 것이다.\n",
        "\n",
        "a = [1, 2, 3]\n",
        "b = [1, 2, 3]\n",
        "print (a is b)"
      ],
      "execution_count": 21,
      "outputs": [
        {
          "output_type": "stream",
          "text": [
            "False\n"
          ],
          "name": "stdout"
        }
      ]
    },
    {
      "metadata": {
        "id": "NDJWyi3kW0iF",
        "colab_type": "text"
      },
      "cell_type": "markdown",
      "source": [
        "## Q2. 변수와 객체 2\n",
        "\n",
        "아래 예제를 실행하고 그 결과를 설명하라.\n",
        "\n",
        "**a = [1, 2, 3]**\n",
        "\n",
        "**b = a**\n",
        "\n",
        "**print (a is b)**"
      ]
    },
    {
      "metadata": {
        "id": "gN80ykIZW0kk",
        "colab_type": "code",
        "colab": {
          "base_uri": "https://localhost:8080/",
          "height": 35
        },
        "outputId": "b20edc88-109f-477e-82a1-9355050392b1"
      },
      "cell_type": "code",
      "source": [
        "# 리스트 a와 b를 완전하게(주소값마저) 같게 만들려면 = 를 사용해야 한다.\n",
        "\n",
        "a = [1, 2, 3]\n",
        "b = a\n",
        "print (a is b)"
      ],
      "execution_count": 20,
      "outputs": [
        {
          "output_type": "stream",
          "text": [
            "True\n"
          ],
          "name": "stdout"
        }
      ]
    },
    {
      "metadata": {
        "id": "fzZxsvaJW0mu",
        "colab_type": "text"
      },
      "cell_type": "markdown",
      "source": [
        "## Q3. 객체의 변경\n",
        "\n",
        "파이썬은 동일한 값에 여러 개의 변수를 선언할 수 있다.\n",
        "\n",
        "아래와 같이 a, b 변수를 선언한 후 a의 첫 번째 요소값을 변경하면 b의 값은 어떻게 될까?\n",
        "\n",
        "그리고 그 이유를 설명해보라.\n",
        "\n",
        "**a = b = [1, 2, 3]**\n",
        "\n",
        "**a[1] = 100**\n",
        "\n",
        "**print (b)**"
      ]
    },
    {
      "metadata": {
        "id": "Hh9T100yYAai",
        "colab_type": "code",
        "colab": {
          "base_uri": "https://localhost:8080/",
          "height": 35
        },
        "outputId": "a6ceecaf-2ebd-4d65-bb58-4ac86592a2a3"
      },
      "cell_type": "code",
      "source": [
        "# 리스트 b의 두 번째 요소값도 100으로 변할 것이다. 변수 a와 b는 같은 리스트를 지목하고 있으니.\n",
        "\n",
        "a = b = [1, 2, 3]\n",
        "a[1] = 100\n",
        "print (b)"
      ],
      "execution_count": 23,
      "outputs": [
        {
          "output_type": "stream",
          "text": [
            "[1, 100, 3]\n"
          ],
          "name": "stdout"
        }
      ]
    },
    {
      "metadata": {
        "id": "fHukVoVyYAdn",
        "colab_type": "text"
      },
      "cell_type": "markdown",
      "source": [
        "## Q4. 리스트 복사1\n",
        "\n",
        "아래 예제를 실행하고 그 결과를 설명하라.\n",
        "\n",
        "**a = [1, 2, 3]**\n",
        "\n",
        "**b = a[:]**\n",
        "\n",
        "**a is b**"
      ]
    },
    {
      "metadata": {
        "id": "Cqhs8V-MYAf5",
        "colab_type": "code",
        "colab": {
          "base_uri": "https://localhost:8080/",
          "height": 35
        },
        "outputId": "43c70ed0-6992-4636-c4b9-c76a7f1f04e1"
      },
      "cell_type": "code",
      "source": [
        "# 이건 서로 다르게 나올 것이다. 복사는 주소가 서로 다른 곳에 내용물만 같게 만드는 것이다.\n",
        "\n",
        "a = [1, 2, 3]\n",
        "b = a[:]\n",
        "print (a is b)"
      ],
      "execution_count": 24,
      "outputs": [
        {
          "output_type": "stream",
          "text": [
            "False\n"
          ],
          "name": "stdout"
        }
      ]
    },
    {
      "metadata": {
        "id": "-9iZ9vrvZAdh",
        "colab_type": "text"
      },
      "cell_type": "markdown",
      "source": [
        "## Q5. 리스트 복사2\n",
        "\n",
        "리스트 b는 리스트 a를 copy하여 다음과 같이 생성하였다.\n",
        "\n",
        "**a = [1, 2, 3]**\n",
        "\n",
        "**b = a[:]**\n",
        "\n",
        "그리고 다음과 같이 리스트 a의 두 번째 요소값을 2에서 10000으로 바꾸었다.\n",
        "\n",
        "**a[1] = 10000**\n",
        "\n",
        "**a**\n",
        "\n",
        "**print (b)**\n",
        "\n",
        "이제 리스트 b를 출력하면 어떤 값이 나올까? 그리고 그 결과값이 나오는 이유를 설명하라."
      ]
    },
    {
      "metadata": {
        "id": "34Q23_ZDZAgX",
        "colab_type": "code",
        "colab": {
          "base_uri": "https://localhost:8080/",
          "height": 53
        },
        "outputId": "6fcc971d-183d-43d4-85da-f1e23414d2c2"
      },
      "cell_type": "code",
      "source": [
        "# 이전 문제에서 상술하였듯, 주소값이 아예 달라진다. 리스트 b의 두 번째 요소값은 여전히 2일 것이다.\n",
        "# 그렇기에 변수 a와 b는 내용물은 같지만, 완전히 다른 리스트를 지목하고 있다.\n",
        "\n",
        "a = [1, 2, 3]\n",
        "b = a[:]\n",
        "a[1] = 10000\n",
        "\n",
        "print (a)\n",
        "print (b)"
      ],
      "execution_count": 25,
      "outputs": [
        {
          "output_type": "stream",
          "text": [
            "[1, 10000, 3]\n",
            "[1, 2, 3]\n"
          ],
          "name": "stdout"
        }
      ]
    },
    {
      "metadata": {
        "id": "8uDC4FphaFmC",
        "colab_type": "text"
      },
      "cell_type": "markdown",
      "source": [
        "## Q6. 리스트의 더하기와 extend\n",
        "\n",
        "+ 기호를 이용하여 더한 것과 extend한 것의 차이점이 있을까?"
      ]
    },
    {
      "metadata": {
        "id": "0uuD0qNUaFoZ",
        "colab_type": "code",
        "colab": {
          "base_uri": "https://localhost:8080/",
          "height": 35
        },
        "outputId": "96fbfd99-30b1-467b-cda5-19924f9a22cc"
      },
      "cell_type": "code",
      "source": [
        "a = [1, 2, 3]\n",
        "a = a + [10, 100, 10000]\n",
        "\n",
        "print (a)"
      ],
      "execution_count": 26,
      "outputs": [
        {
          "output_type": "stream",
          "text": [
            "[1, 2, 3, 10, 100, 10000]\n"
          ],
          "name": "stdout"
        }
      ]
    },
    {
      "metadata": {
        "id": "YbdIKRegaF2U",
        "colab_type": "code",
        "colab": {
          "base_uri": "https://localhost:8080/",
          "height": 35
        },
        "outputId": "52a9351a-f338-4c6e-b06d-888004c2b0a9"
      },
      "cell_type": "code",
      "source": [
        "a = [1, 2, 3]\n",
        "a.extend([10, 100, 10000])\n",
        "\n",
        "print (a)"
      ],
      "execution_count": 27,
      "outputs": [
        {
          "output_type": "stream",
          "text": [
            "[1, 2, 3, 10, 100, 10000]\n"
          ],
          "name": "stdout"
        }
      ]
    },
    {
      "metadata": {
        "id": "VnTtUx_KaF5I",
        "colab_type": "code",
        "colab": {
          "base_uri": "https://localhost:8080/",
          "height": 107
        },
        "outputId": "263562a1-6a00-4af9-a292-46fd1bab7028"
      },
      "cell_type": "code",
      "source": [
        "# 덧셈 기호(+) 테스트 : 잘못된 테스트. 변수를 새로 받아하는 방식은 잘못 됨\n",
        "\n",
        "a = [1, 2, 3]\n",
        "b = a\n",
        "print (a)\n",
        "print (b)\n",
        "\n",
        "a = a + [10, 100, 10000]\n",
        "print (a)\n",
        "print (b)\n",
        "\n",
        "print (a is b)"
      ],
      "execution_count": 42,
      "outputs": [
        {
          "output_type": "stream",
          "text": [
            "[1, 2, 3]\n",
            "[1, 2, 3]\n",
            "[1, 2, 3, 10, 100, 10000]\n",
            "[1, 2, 3]\n",
            "False\n"
          ],
          "name": "stdout"
        }
      ]
    },
    {
      "metadata": {
        "id": "rLOhZHkhaF7h",
        "colab_type": "code",
        "colab": {
          "base_uri": "https://localhost:8080/",
          "height": 107
        },
        "outputId": "cb57d608-7f51-4da1-97ab-8ef6578930b8"
      },
      "cell_type": "code",
      "source": [
        "# extend 테스트 : 잘못된 테스트. 변수를 새로 받아하는 방식은 잘못 됨\n",
        "\n",
        "a = [1, 2, 3]\n",
        "b = a\n",
        "print (a)\n",
        "print (b)\n",
        "\n",
        "a.extend([10, 100, 10000])\n",
        "print (a)\n",
        "print (b)\n",
        "\n",
        "print (a is b)"
      ],
      "execution_count": 43,
      "outputs": [
        {
          "output_type": "stream",
          "text": [
            "[1, 2, 3]\n",
            "[1, 2, 3]\n",
            "[1, 2, 3, 10, 100, 10000]\n",
            "[1, 2, 3, 10, 100, 10000]\n",
            "True\n"
          ],
          "name": "stdout"
        }
      ]
    },
    {
      "metadata": {
        "id": "HRZlpGLrZAi5",
        "colab_type": "code",
        "colab": {
          "base_uri": "https://localhost:8080/",
          "height": 89
        },
        "outputId": "2b62c7c4-0cc8-4d50-9c71-71b1aafe827f"
      },
      "cell_type": "code",
      "source": [
        "# 주소값 비교 : 덧셈 기호 (+)\n",
        "\n",
        "a = [1, 2, 3]\n",
        "print (a)\n",
        "print (id(a))\n",
        "\n",
        "a = a + [10, 100, 10000]\n",
        "print (a)\n",
        "print (id(a))"
      ],
      "execution_count": 47,
      "outputs": [
        {
          "output_type": "stream",
          "text": [
            "[1, 2, 3]\n",
            "140716647300104\n",
            "[1, 2, 3, 10, 100, 10000]\n",
            "140716647421512\n"
          ],
          "name": "stdout"
        }
      ]
    },
    {
      "metadata": {
        "id": "WUaf5o9JcOKQ",
        "colab_type": "code",
        "colab": {
          "base_uri": "https://localhost:8080/",
          "height": 89
        },
        "outputId": "295bc352-09ec-41ca-8736-5829564c3526"
      },
      "cell_type": "code",
      "source": [
        "# 주소값 비교 : extend\n",
        "\n",
        "a = [1, 2, 3]\n",
        "print (a)\n",
        "print (id(a))\n",
        "\n",
        "a.extend([10, 100, 10000])\n",
        "print (a)\n",
        "print (id(a))"
      ],
      "execution_count": 46,
      "outputs": [
        {
          "output_type": "stream",
          "text": [
            "[1, 2, 3]\n",
            "140716647423560\n",
            "[1, 2, 3, 10, 100, 10000]\n",
            "140716647423560\n"
          ],
          "name": "stdout"
        }
      ]
    },
    {
      "metadata": {
        "id": "MdOn9vkfck4i",
        "colab_type": "text"
      },
      "cell_type": "markdown",
      "source": [
        "**덧셈 기호(+)를 통해 리스트 추가 시 주소값이 달라진다!**\n",
        "\n",
        "**extend는 주소값이 유지된다!**"
      ]
    },
    {
      "metadata": {
        "id": "FxwMM7Bccx0K",
        "colab_type": "text"
      },
      "cell_type": "markdown",
      "source": [
        "## Q7. 리스트 복사3\n",
        "\n",
        "**a = [1, [2, 3], 4]**\n",
        "\n",
        "**b = a[:]**\n",
        "\n",
        "**a = [1][0] = 10000**\n",
        "\n",
        "**print (b)**\n",
        "\n",
        "리스트 b는 어떻게 될까? 그 이유도 설명하라."
      ]
    },
    {
      "metadata": {
        "id": "GJ16vJmzczgs",
        "colab_type": "code",
        "colab": {
          "base_uri": "https://localhost:8080/",
          "height": 107
        },
        "outputId": "c0e70a47-0cb3-40de-b088-bfe69737abd9"
      },
      "cell_type": "code",
      "source": [
        "# 아무래도 리스트 b 역시 요소값이 변경할 것 같다.\n",
        "# a[1][0]의 의미는 리스트 a의 두번째 요소값에 해당하는 리스트의 첫번째 요소값을 변경한다는 의미이다.\n",
        "\n",
        "a = [1, [2, 3], 4]\n",
        "b = a[:]\n",
        "print (a)\n",
        "print (b)\n",
        "\n",
        "a[1][0] = 10000\n",
        "print (a)\n",
        "print (b)\n",
        "\n",
        "print (a is b)"
      ],
      "execution_count": 54,
      "outputs": [
        {
          "output_type": "stream",
          "text": [
            "[1, [2, 3], 4]\n",
            "[1, [2, 3], 4]\n",
            "[1, [10000, 3], 4]\n",
            "[1, [10000, 3], 4]\n",
            "False\n"
          ],
          "name": "stdout"
        }
      ]
    },
    {
      "metadata": {
        "id": "8fDih6oYczj1",
        "colab_type": "text"
      },
      "cell_type": "markdown",
      "source": [
        "**그렇지만 주소값마저 복사하는 것은 아니기에 변수 a와 b는 주소값이 서로 다르다.**\n",
        "\n",
        "**from import로 deep copy를 하면, 리스트 a의 주소값 자체를 복사하기에 리스트 b는 변경 이전 a 리스트의 형태를 했을 것이다.**"
      ]
    }
  ]
}