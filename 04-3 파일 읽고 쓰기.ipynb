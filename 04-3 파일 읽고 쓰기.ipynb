{
  "nbformat": 4,
  "nbformat_minor": 0,
  "metadata": {
    "colab": {
      "name": "04-3 파일 읽고 쓰기.ipynb",
      "version": "0.3.2",
      "provenance": [],
      "collapsed_sections": [],
      "include_colab_link": true
    },
    "kernelspec": {
      "name": "python3",
      "display_name": "Python 3"
    }
  },
  "cells": [
    {
      "cell_type": "markdown",
      "metadata": {
        "id": "view-in-github",
        "colab_type": "text"
      },
      "source": [
        "<a href=\"https://colab.research.google.com/github/DrKAI/Python-Basic/blob/master/04-3%20%ED%8C%8C%EC%9D%BC%20%EC%9D%BD%EA%B3%A0%20%EC%93%B0%EA%B8%B0.ipynb\" target=\"_parent\"><img src=\"https://colab.research.google.com/assets/colab-badge.svg\" alt=\"Open In Colab\"/></a>"
      ]
    },
    {
      "metadata": {
        "id": "65sk0f1G8936",
        "colab_type": "text"
      },
      "cell_type": "markdown",
      "source": [
        "이제까지 \"입력\"을 받을 때는 사용자가 직접 입력하는 방식을 사용했고, \"출력\"할 때는 모니터 화면에 결과값을 출력하는 방식으로 프로그래밍 해왔다.\n",
        "\n",
        "하지만 입출력 방식이 이것만 있는 것은 아니다. 이번에는 파일을 통한 입출력 방법을 알아보자.\n",
        "\n",
        "**먼저 파일을 새로 만든 다음,**\n",
        "\n",
        "**프로그램에 의해서 만들어진 결과값을 새 파일에 적어보고,**\n",
        "\n",
        "**파일에 적은 내용을 읽어보는 프로그램을 만드는 것으로 시작하자**"
      ]
    },
    {
      "metadata": {
        "id": "j0W5B93A9Ft0",
        "colab_type": "text"
      },
      "cell_type": "markdown",
      "source": [
        "# 파일 생성하기\n",
        "\n",
        "다음 소스 코드를 에디터로 작성해서 저장한 후 실행해보자.\n",
        "\n",
        "프로그램을 실행한 디렉터리에 새로운 파일 하나가 생성된 것을 확인할 수 있을 것이다.\n",
        "\n",
        "---\n",
        "\n",
        "**f = open(\"New File.txt\", 'w')**\n",
        "\n",
        "**f.close()**"
      ]
    },
    {
      "metadata": {
        "id": "E4bWOw4_9FrH",
        "colab_type": "text"
      },
      "cell_type": "markdown",
      "source": [
        "파일을 생성하기 위해 우리는 open이라는 파이썬 내장 함수를 사용했다.\n",
        "\n",
        "open 함수는 다음과 같이 \"파일 이름\"과 \"파일 열기 모드\"를 입력값으로 받고 결과값으로 파일 객체를 돌려준다.\n",
        "\n",
        "---\n",
        "\n",
        "**파일 객체 = open(파일 이름, 파일 열기 모드)**"
      ]
    },
    {
      "metadata": {
        "id": "ITZMEPK69Fob",
        "colab_type": "text"
      },
      "cell_type": "markdown",
      "source": [
        "파일 열기 모드에는 다음과 같은 것들이 있다.\n",
        "\n",
        "---\n",
        "\n",
        "r : 읽기 모드. 파일을 읽기만 할 때 사용\n",
        "\n",
        "w : 쓰기 모드. 파일에 내용을 쓸 때 사용\n",
        "\n",
        "a : 추가 모드. 파일의 마지막에 새로운 내용을 추가시킬 때 사용"
      ]
    },
    {
      "metadata": {
        "id": "6fbcPblj9Fl5",
        "colab_type": "text"
      },
      "cell_type": "markdown",
      "source": [
        "파일을 쓰기 모드로 열게 되면 해당 파일이 이미 존재할 경우 원래 있던 내용이 모두 사라지고, 해당 파일이 존재하지 않으면 새로운 파일이 생성된다.\n",
        "\n",
        "위의 예에서는 디렉터리에 파일이 없는 상태에서 New File.txt를 쓰기 모드인 'w'로 열었기 때문에 New File.txt라는 이름의 새로운 파일이 현재 디렉터리에 생성되는 것이다."
      ]
    },
    {
      "metadata": {
        "id": "o2uW0qQo9FjD",
        "colab_type": "text"
      },
      "cell_type": "markdown",
      "source": [
        "만약 New File.txt 파일을 *C:/doit*이라는 디렉터리에 생성하고 싶다면 다음과 같이 작성해야 된다.\n",
        "\n",
        "---\n",
        "\n",
        "f = open(\"C:/doit/New File.txt\", 'w')\n",
        "\n",
        "f.close()"
      ]
    },
    {
      "metadata": {
        "id": "NBO3IL-N9Fed",
        "colab_type": "text"
      },
      "cell_type": "markdown",
      "source": [
        "위의 예에서 f.close()는 열려있는 파일 객체를 닫아주는 역할을 한다. 사실 이 문장은 생략해도 된다.\n",
        "\n",
        "프로그램을 종료할 때 파이썬 프로그램이 열려있는 파일의 객체를 자동으로 닫아주기 때문이다.\n",
        "\n",
        "하지만 close()를 사용해서 열려있는 파일을 직접 닫아주는 것이 좋다.\n",
        "\n",
        "**쓰기 모드로 열었던 파일을 닫지 않고 다시 사용하려고 하면 오류가 발생하기 때문이다.**"
      ]
    },
    {
      "metadata": {
        "id": "o9vbo7GP9Fbt",
        "colab_type": "text"
      },
      "cell_type": "markdown",
      "source": [
        "# Colab Notebooks에서 New File.txt 생성하기"
      ]
    },
    {
      "metadata": {
        "id": "g-odaqoW9FY2",
        "colab_type": "code",
        "colab": {}
      },
      "cell_type": "code",
      "source": [
        "import os\n",
        "os.getcwd()\n",
        "\n",
        "f = open(os.getcwd() + '/New File.txt', 'w')\n",
        "f.close()"
      ],
      "execution_count": 0,
      "outputs": []
    },
    {
      "metadata": {
        "id": "tt1W35U29FWe",
        "colab_type": "text"
      },
      "cell_type": "markdown",
      "source": [
        "# 파일을 쓰기 모드로 열어 출력값 적기\n",
        "\n",
        "위의 예에서는 파일을 쓰기 모드로 열기만 했지 정작 아무것도 쓰지는 않았다.\n",
        "\n",
        "이번에는 에디터를 열고 프로그램의 출력값을 파일에 직접 써보자.\n"
      ]
    },
    {
      "metadata": {
        "id": "aL6F5RgZ9FTo",
        "colab_type": "code",
        "colab": {}
      },
      "cell_type": "code",
      "source": [
        "# whitedata.py\n",
        "# import os 처음에 한번 실행하면 된다.\n",
        "\n",
        "f = open(os.getcwd() + '/New File.txt', 'w')\n",
        "\n",
        "for i in range(1, 10):\n",
        "  data = \"%d번째 줄이다.\\n\" % i\n",
        "  f.write(data)\n",
        "  \n",
        "f.close()"
      ],
      "execution_count": 0,
      "outputs": []
    },
    {
      "metadata": {
        "id": "mrmCAEUV9FQ7",
        "colab_type": "text"
      },
      "cell_type": "markdown",
      "source": [
        "기존의 예제에서는 print문을 사용하였기 때문에 출력값 확인이 가능했지만, 이번 예제는 f의 write 함수를 이용하였기에 확인할 수 없다.\n",
        "\n",
        "이제 예제에서 작성한 파이를 실행해보자."
      ]
    },
    {
      "metadata": {
        "id": "79Ey0XxW9FOS",
        "colab_type": "code",
        "outputId": "86d4a8cc-d068-4592-d081-32c5c18fb497",
        "colab": {
          "base_uri": "https://localhost:8080/",
          "height": 34
        }
      },
      "cell_type": "code",
      "source": [
        "#이건 파일의 형식을 읽어오는 것 같다.\n",
        "\n",
        "f = open(os.getcwd() + '/New File.txt', 'r')\n",
        "print(f)"
      ],
      "execution_count": 0,
      "outputs": [
        {
          "output_type": "stream",
          "text": [
            "<_io.TextIOWrapper name='/content/New File.txt' mode='r' encoding='UTF-8'>\n"
          ],
          "name": "stdout"
        }
      ]
    },
    {
      "metadata": {
        "id": "XZcJ8GfX9FMB",
        "colab_type": "code",
        "colab": {}
      },
      "cell_type": "code",
      "source": [
        "# 콜랍에서 생성된 파일 확인법 기재 필요"
      ],
      "execution_count": 0,
      "outputs": []
    },
    {
      "metadata": {
        "id": "A7i5q4NM9FJF",
        "colab_type": "text"
      },
      "cell_type": "markdown",
      "source": [
        "# 프로그램의 외부에 저장된 파일을 읽는 여러가지 방법"
      ]
    },
    {
      "metadata": {
        "id": "DNfyDqXNFVfw",
        "colab_type": "text"
      },
      "cell_type": "markdown",
      "source": [
        "## readline() 함수 이용"
      ]
    },
    {
      "metadata": {
        "id": "QItJfGq1FVbr",
        "colab_type": "code",
        "outputId": "dbae0081-9809-4808-d04f-da0dd0babca7",
        "colab": {
          "base_uri": "https://localhost:8080/",
          "height": 51
        }
      },
      "cell_type": "code",
      "source": [
        "# readline.py\n",
        "\n",
        "f = open(os.getcwd() + \"/New File.txt\", 'r')\n",
        "\n",
        "line = f.readline()\n",
        "print(line)\n",
        "\n",
        "f.close()"
      ],
      "execution_count": 0,
      "outputs": [
        {
          "output_type": "stream",
          "text": [
            "1번째 줄이다.\n",
            "\n"
          ],
          "name": "stdout"
        }
      ]
    },
    {
      "metadata": {
        "id": "DorUnM0wFVYZ",
        "colab_type": "text"
      },
      "cell_type": "markdown",
      "source": [
        "위의 예제는 f.open(\"New File.txt\", \"r\")로 파일을 읽기 모드로 연 후, readline()을 이용해서 파일의 첫번째 줄을 읽어 출력한다.\n",
        " \n",
        "이전에 만들었던 New File.txt를 수정하거나 지우지 않았다면 위 프로그램을 실행시켰을 때, New File.txt의 첫 번째 줄이 화면에 출력될 것이다.\n",
        " \n",
        "**만약 모든 라인을 읽어서 화면에 출력하고 싶다면?**"
      ]
    },
    {
      "metadata": {
        "id": "0Xs2FCPMFVUt",
        "colab_type": "code",
        "outputId": "6dd2d9e4-9708-41f7-ea47-7f2df7970257",
        "colab": {
          "base_uri": "https://localhost:8080/",
          "height": 326
        }
      },
      "cell_type": "code",
      "source": [
        "# readline_all.py\n",
        "\n",
        "f = open(os.getcwd() + \"/New File.txt\", 'r')\n",
        "\n",
        "while True:\n",
        "  line = f.readline()\n",
        "  if not line: break\n",
        "  print(line)\n",
        "  \n",
        "f.close()"
      ],
      "execution_count": 0,
      "outputs": [
        {
          "output_type": "stream",
          "text": [
            "1번째 줄이다.\n",
            "\n",
            "2번째 줄이다.\n",
            "\n",
            "3번째 줄이다.\n",
            "\n",
            "4번째 줄이다.\n",
            "\n",
            "5번째 줄이다.\n",
            "\n",
            "6번째 줄이다.\n",
            "\n",
            "7번째 줄이다.\n",
            "\n",
            "8번째 줄이다.\n",
            "\n",
            "9번째 줄이다.\n",
            "\n"
          ],
          "name": "stdout"
        }
      ]
    },
    {
      "metadata": {
        "id": "Qi5PtzMuFVRP",
        "colab_type": "text"
      },
      "cell_type": "markdown",
      "source": [
        "while True: 라는 무한루프 안에서 f.readline()을 이용해 파일을 계속해서 한 줄씩 읽어들이도록 한다.\n",
        "\n",
        "더 읽을 라인이 없으면 break를 수행한다. (readline()은 더 이상 읽을 라인이 없을 경우 None을 출력한다)"
      ]
    },
    {
      "metadata": {
        "id": "YAN3XcXQFVOB",
        "colab_type": "code",
        "outputId": "5e972224-6bdb-448b-a618-d717efd148a9",
        "colab": {
          "base_uri": "https://localhost:8080/",
          "height": 68
        }
      },
      "cell_type": "code",
      "source": [
        "while 1:\n",
        "  data = input()\n",
        "  if not data: break\n",
        "  print(data)"
      ],
      "execution_count": 0,
      "outputs": [
        {
          "output_type": "stream",
          "text": [
            "afadfklj\n",
            "afadfklj\n",
            "\n"
          ],
          "name": "stdout"
        }
      ]
    },
    {
      "metadata": {
        "id": "H5PqQq7cFVK_",
        "colab_type": "text"
      },
      "cell_type": "markdown",
      "source": [
        "위의 예는 사용자의 입력을 받아서 그 내용을 출력하는 경우다. 입력을 받는 방식만 다르다는 것을 금방 알 수 있을 것이다.\n",
        "\n",
        "방금의 예제는 키보드를 이용한 입력 방법이고, 첫 번째 예제는 파일을 이용한 입력 방법이다."
      ]
    },
    {
      "metadata": {
        "id": "OZZpjKz4FVH4",
        "colab_type": "text"
      },
      "cell_type": "markdown",
      "source": [
        "## readlines() 함수 이용\n",
        "\n",
        "readlines() 함수는 파일의 모든 라인을 읽어서 각각의 줄을 요소로 갖는 리스트로 리턴한다."
      ]
    },
    {
      "metadata": {
        "id": "MwwTljFDFVEz",
        "colab_type": "code",
        "outputId": "39c84519-2f0a-4be4-aa1a-31478b3faf22",
        "colab": {
          "base_uri": "https://localhost:8080/",
          "height": 326
        }
      },
      "cell_type": "code",
      "source": [
        "f = open(os.getcwd() + \"/New File.txt\", 'r')\n",
        "\n",
        "lines = f.readlines()\n",
        "\n",
        "for line in lines:\n",
        "  print(line)\n",
        "  \n",
        "f.close()"
      ],
      "execution_count": 0,
      "outputs": [
        {
          "output_type": "stream",
          "text": [
            "1번째 줄이다.\n",
            "\n",
            "2번째 줄이다.\n",
            "\n",
            "3번째 줄이다.\n",
            "\n",
            "4번째 줄이다.\n",
            "\n",
            "5번째 줄이다.\n",
            "\n",
            "6번째 줄이다.\n",
            "\n",
            "7번째 줄이다.\n",
            "\n",
            "8번째 줄이다.\n",
            "\n",
            "9번째 줄이다.\n",
            "\n"
          ],
          "name": "stdout"
        }
      ]
    },
    {
      "metadata": {
        "id": "TLgWlEI_I79y",
        "colab_type": "text"
      },
      "cell_type": "markdown",
      "source": [
        "[\"1번째 줄이다.\\n\",\"2번째 줄이다.\\n\",...,\"9번째 줄이다.\\n\"] 라는 리스트인 것이다.\n",
        "\n",
        "함수에 s가 하나 더 붙어있음에 유의하자."
      ]
    },
    {
      "metadata": {
        "id": "ZgmO_9ZUI76L",
        "colab_type": "text"
      },
      "cell_type": "markdown",
      "source": [
        "## read() 함수 이용"
      ]
    },
    {
      "metadata": {
        "id": "awGGDDi5I73B",
        "colab_type": "code",
        "outputId": "ef1925f0-4a5a-4f0f-8698-edaa0140984c",
        "colab": {
          "base_uri": "https://localhost:8080/",
          "height": 188
        }
      },
      "cell_type": "code",
      "source": [
        "f = open(os.getcwd() + '/New File.txt', 'r')\n",
        "\n",
        "data = f.read()\n",
        "print(data)\n",
        "\n",
        "f.close()"
      ],
      "execution_count": 0,
      "outputs": [
        {
          "output_type": "stream",
          "text": [
            "1번째 줄이다.\n",
            "2번째 줄이다.\n",
            "3번째 줄이다.\n",
            "4번째 줄이다.\n",
            "5번째 줄이다.\n",
            "6번째 줄이다.\n",
            "7번째 줄이다.\n",
            "8번째 줄이다.\n",
            "9번째 줄이다.\n",
            "\n"
          ],
          "name": "stdout"
        }
      ]
    },
    {
      "metadata": {
        "id": "LVqrZt3xI7z7",
        "colab_type": "text"
      },
      "cell_type": "markdown",
      "source": [
        "**f.read()는 파일의 내용 전체를 문자열로 리턴한다.** 따라서 위 예의 data는 파일의 전체 내용이다."
      ]
    },
    {
      "metadata": {
        "id": "l4itb805I7wz",
        "colab_type": "text"
      },
      "cell_type": "markdown",
      "source": [
        "# 파일에 새로운 내용 추가하기\n",
        "\n",
        "쓰기 모드('w')로 파일을 열 때 이미 존재하는 파일을 열 경우, 그 파일의 내용이 모두 사라지게 된다고 했다.\n",
        "\n",
        "원래 있던 값을 유지하면서, 새로운 값만 추가하고 싶을 때는 어떻게 할까? 이럴 때 추가 모드('a')를 사용한다."
      ]
    },
    {
      "metadata": {
        "id": "ZYNTyQ6AI7tW",
        "colab_type": "code",
        "colab": {}
      },
      "cell_type": "code",
      "source": [
        "# adddata.py\n",
        "\n",
        "f = open(os.getcwd() + '/New File.txt', 'a')\n",
        "\n",
        "for a in range(10, 21):\n",
        "  data = \"%d번째 줄입니다.\\n\" % a\n",
        "  f.write(data)\n",
        "  \n",
        "f.close()"
      ],
      "execution_count": 0,
      "outputs": []
    },
    {
      "metadata": {
        "id": "UyLJvkMzK36C",
        "colab_type": "text"
      },
      "cell_type": "markdown",
      "source": [
        "위 예는 New File.txt 파일을 추가 모드('a')로 열고 write를 이용해서 결과값을 기존 파일에 추가해 적는 예이다.\n",
        "\n",
        "여기서 추가 모드로 파일을 열었기 때문에 New File.txt 파일의 원래 내용 바로 다음부터 결과값을 적는다. 확인해보자."
      ]
    },
    {
      "metadata": {
        "id": "5AZwzASpK4I0",
        "colab_type": "code",
        "outputId": "803bbebc-5377-4881-bdec-00dbcf54b6c7",
        "colab": {
          "base_uri": "https://localhost:8080/",
          "height": 377
        }
      },
      "cell_type": "code",
      "source": [
        "f = open(os.getcwd() + '/New File.txt', 'r')\n",
        "\n",
        "data = f.read()\n",
        "print(data)\n",
        "\n",
        "f.close()"
      ],
      "execution_count": 0,
      "outputs": [
        {
          "output_type": "stream",
          "text": [
            "1번째 줄이다.\n",
            "2번째 줄이다.\n",
            "3번째 줄이다.\n",
            "4번째 줄이다.\n",
            "5번째 줄이다.\n",
            "6번째 줄이다.\n",
            "7번째 줄이다.\n",
            "8번째 줄이다.\n",
            "9번째 줄이다.\n",
            "10번째 줄입니다.\n",
            "11번째 줄입니다.\n",
            "12번째 줄입니다.\n",
            "13번째 줄입니다.\n",
            "14번째 줄입니다.\n",
            "15번째 줄입니다.\n",
            "16번째 줄입니다.\n",
            "17번째 줄입니다.\n",
            "18번째 줄입니다.\n",
            "19번째 줄입니다.\n",
            "20번째 줄입니다.\n",
            "\n"
          ],
          "name": "stdout"
        }
      ]
    },
    {
      "metadata": {
        "id": "9lhlgKnCK4D-",
        "colab_type": "text"
      },
      "cell_type": "markdown",
      "source": [
        "# with문과 함께 사용하기 (Python 2.5부터 지원)\n",
        "\n",
        "파일을 열고난 이후 close 해주는 것이 좋다. 그렇지만 좀 귀찮은데, 자동으로 처리하면 편리하지 않을까?\n",
        "\n",
        "파이썬의 with문이 바로 이럴 때 필요하다."
      ]
    },
    {
      "metadata": {
        "id": "XcelJ8MQK4Av",
        "colab_type": "code",
        "colab": {}
      },
      "cell_type": "code",
      "source": [
        "with open(os.getcwd() + \"/foo.txt\", 'w') as f:\n",
        "  f.write(\"Life is too short, YOU NEED MONEY\")"
      ],
      "execution_count": 0,
      "outputs": []
    },
    {
      "metadata": {
        "id": "vxL5Kh3hI7pj",
        "colab_type": "text"
      },
      "cell_type": "markdown",
      "source": [
        "위의 예제처럼 with문을 이용하면 with 블록을 벗어나는 순간, 열린 파일 객체 f가 자동으로 close 된다!"
      ]
    },
    {
      "metadata": {
        "id": "LsVVBb7GFVBi",
        "colab_type": "text"
      },
      "cell_type": "markdown",
      "source": [
        "# sys 모듈로 입력 인수 주기\n",
        "\n",
        "추가 예정"
      ]
    },
    {
      "metadata": {
        "id": "QkyBrmhkN72-",
        "colab_type": "text"
      },
      "cell_type": "markdown",
      "source": [
        "# 연습문제"
      ]
    },
    {
      "metadata": {
        "id": "XhQN424cjDLJ",
        "colab_type": "text"
      },
      "cell_type": "markdown",
      "source": [
        "## Q1. 파일 읽고 출력하기\n",
        "\n",
        "다음은 \"test.txt\"라는 파일에 \"Life is too short\"라는 문자열을 저장한 후, 다시 그 파일을 읽어서 출력하는 프로그램이다.\n",
        "\n",
        "---\n",
        "\n",
        "f1 = open(\"test.txt\", 'w')\n",
        "\n",
        "f1. write(\"Life is too short\")\n",
        "\n",
        "f2 = opne(\"test.txt\", 'r')\n",
        "\n",
        "print(f2.read())\n",
        "\n",
        "---\n",
        "\n",
        "이 프로그램은 \"Life is too short\" 문장을 출력하지 않는다. 수정하라."
      ]
    },
    {
      "metadata": {
        "id": "Bq-TWptwjDOI",
        "colab_type": "code",
        "colab": {}
      },
      "cell_type": "code",
      "source": [
        ""
      ],
      "execution_count": 0,
      "outputs": []
    },
    {
      "metadata": {
        "id": "Y0f8yaASjDQ3",
        "colab_type": "text"
      },
      "cell_type": "markdown",
      "source": [
        "## Q2. 파일 저장\n",
        "\n",
        "사용자의 입력을 파일(test.txt)에 저장하는 프로그램을 작성하라. (단, 프로그램을 다시 실행하더라도 기존 작성한 내용을 유지하고 새로 입력한 내용이 추가되어야 한다.)\n",
        "\n",
        "---\n",
        "\n",
        "**저장할 내용을 입력하세요 : **\n",
        "\n",
        "---\n",
        "\n",
        "위는 실행 예제이다. 사용자가 입력한 내용이 test.txt에 추가되어야 한다."
      ]
    },
    {
      "metadata": {
        "id": "jamkS58sjDTj",
        "colab_type": "code",
        "colab": {}
      },
      "cell_type": "code",
      "source": [
        ""
      ],
      "execution_count": 0,
      "outputs": []
    },
    {
      "metadata": {
        "id": "zRETPiYXjDWj",
        "colab_type": "text"
      },
      "cell_type": "markdown",
      "source": [
        "## Q3. 역순 저장\n",
        "\n",
        "aaa\n",
        "\n",
        "bbb\n",
        "\n",
        "ccc\n",
        "\n",
        "ddd\n",
        "\n",
        "eee\n",
        "\n",
        "순서의 abc.txt가 있다. 이 파일의 내용을 역순으로 바꾸어 저장하라."
      ]
    },
    {
      "metadata": {
        "id": "zIyxwQExj__p",
        "colab_type": "code",
        "colab": {}
      },
      "cell_type": "code",
      "source": [
        ""
      ],
      "execution_count": 0,
      "outputs": []
    },
    {
      "metadata": {
        "id": "ul4amkI-kQ0r",
        "colab_type": "text"
      },
      "cell_type": "markdown",
      "source": [
        "## Q4. 파일 수정\n",
        "\n",
        "Life is too short\n",
        "\n",
        "you need java\n",
        "\n",
        "라는 텍스트 파일이 있다. 이 파일의 내용 중 java를 python으로 바꾸어 저장하라."
      ]
    },
    {
      "metadata": {
        "id": "-zYVHzG9kQ4P",
        "colab_type": "code",
        "colab": {}
      },
      "cell_type": "code",
      "source": [
        ""
      ],
      "execution_count": 0,
      "outputs": []
    },
    {
      "metadata": {
        "id": "SuObxp5Qkda-",
        "colab_type": "text"
      },
      "cell_type": "markdown",
      "source": [
        "## Q5. 평균값 구하기\n",
        "\n",
        "sample.txt 파일이 있다. 파일의 숫자값을 모두 읽어 총합과 평균값을 구한 후, 평균값을 result.txt라는 파일에 쓰는 프로그램을 작성하라.\n",
        "\n",
        "70\n",
        "\n",
        "60\n",
        "\n",
        "55\n",
        "\n",
        "75\n",
        "\n",
        "95\n",
        "\n",
        "90\n",
        "\n",
        "80\n",
        "\n",
        "80\n",
        "\n",
        "85\n",
        "\n",
        "100"
      ]
    },
    {
      "metadata": {
        "id": "9VUkXgeAkQ7Q",
        "colab_type": "code",
        "colab": {}
      },
      "cell_type": "code",
      "source": [
        ""
      ],
      "execution_count": 0,
      "outputs": []
    }
  ]
}